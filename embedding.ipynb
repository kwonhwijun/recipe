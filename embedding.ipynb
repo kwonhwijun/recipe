{
 "cells": [
  {
   "cell_type": "markdown",
   "metadata": {},
   "source": [
    "### Data Loading\n"
   ]
  },
  {
   "cell_type": "markdown",
   "metadata": {},
   "source": [
    "- 오라클에서 가져오는 방법 추가"
   ]
  },
  {
   "cell_type": "code",
   "execution_count": 66,
   "metadata": {},
   "outputs": [],
   "source": [
    "import pandas as pd\n",
    "data = pd.read_csv(r'data/RecipeData.csv')"
   ]
  },
  {
   "cell_type": "markdown",
   "metadata": {},
   "source": [
    "### Doc2Vec으로 임베딩하기\n",
    "\n",
    "- 전처리 없이 샘플 10000개 임베딩\n",
    "- 1. recipe_step을 형태소 분석기로 전처리\n",
    "- 2. gensim doc2vec으로 유사도 분석"
   ]
  },
  {
   "cell_type": "code",
   "execution_count": 46,
   "metadata": {},
   "outputs": [],
   "source": [
    "toy = data[[\"recipe_title\", \"recipe_ingredients\"]].sample(10000)"
   ]
  },
  {
   "cell_type": "code",
   "execution_count": 60,
   "metadata": {},
   "outputs": [
    {
     "data": {
      "text/html": [
       "<div>\n",
       "<style scoped>\n",
       "    .dataframe tbody tr th:only-of-type {\n",
       "        vertical-align: middle;\n",
       "    }\n",
       "\n",
       "    .dataframe tbody tr th {\n",
       "        vertical-align: top;\n",
       "    }\n",
       "\n",
       "    .dataframe thead th {\n",
       "        text-align: right;\n",
       "    }\n",
       "</style>\n",
       "<table border=\"1\" class=\"dataframe\">\n",
       "  <thead>\n",
       "    <tr style=\"text-align: right;\">\n",
       "      <th></th>\n",
       "      <th>recipe_title</th>\n",
       "      <th>recipe_ingredients</th>\n",
       "    </tr>\n",
       "  </thead>\n",
       "  <tbody>\n",
       "    <tr>\n",
       "      <th>107774</th>\n",
       "      <td>닭백숙 끓이는법 면역력을 높여라</td>\n",
       "      <td>{'재료': ['영계닭1마리', '찹쌀180g', '대추1줌', '통마늘9알정도',...</td>\n",
       "    </tr>\n",
       "    <tr>\n",
       "      <th>153011</th>\n",
       "      <td>엄마표 간식 초코꽃쿠키 만들기</td>\n",
       "      <td>{'재료': ['박력분90g', '슈가파우더55g', '코코아파우더15g', '버터...</td>\n",
       "    </tr>\n",
       "    <tr>\n",
       "      <th>137584</th>\n",
       "      <td>상큼하게 즐기는 스팸 야채 무쌈말이</td>\n",
       "      <td>{'재료': ['스팸', '쌈용무', '팽이버섯', '파프리카', '무순'], '양...</td>\n",
       "    </tr>\n",
       "    <tr>\n",
       "      <th>83478</th>\n",
       "      <td>홈메이드 맛술 만들기...생강 활용팁!!</td>\n",
       "      <td>{'재료': ['생강1컵', '매실액1/2컵', '찹쌀밥2/3컵', '청주1병']}</td>\n",
       "    </tr>\n",
       "    <tr>\n",
       "      <th>29760</th>\n",
       "      <td>두반장으로 만드는 마파두부</td>\n",
       "      <td>{'재료': ['돼지고기250g', '두부1모', '양파1개', '청양고추3개', ...</td>\n",
       "    </tr>\n",
       "    <tr>\n",
       "      <th>...</th>\n",
       "      <td>...</td>\n",
       "      <td>...</td>\n",
       "    </tr>\n",
       "    <tr>\n",
       "      <th>124398</th>\n",
       "      <td>#초스피드 다이어트음식 해초샐러드만들기 #각종 채소들을 추가해서 만드는 상큼하고 바...</td>\n",
       "      <td>{'재료': ['해초샐러드1팩', '빨간파프리카1/2개', '노랑파프리카1/2개',...</td>\n",
       "    </tr>\n",
       "    <tr>\n",
       "      <th>112108</th>\n",
       "      <td>태국식 커리 스파게티</td>\n",
       "      <td>{'재료': ['페튜치네100g', '닭안심70g', '바질20g', '마늘슬라이스...</td>\n",
       "    </tr>\n",
       "    <tr>\n",
       "      <th>39690</th>\n",
       "      <td>돼지목살 양념구이</td>\n",
       "      <td>{'재료': ['돼지목살600g', '대파1줄', '배1/4개', '양파1/4개',...</td>\n",
       "    </tr>\n",
       "    <tr>\n",
       "      <th>152244</th>\n",
       "      <td>허니레몬은 사랑의 맛!! 크림 치즈 머핀</td>\n",
       "      <td>{'재료': ['레몬1개', '꿀2Ts', '버터80g', '설탕80g', '달걀1...</td>\n",
       "    </tr>\n",
       "    <tr>\n",
       "      <th>101323</th>\n",
       "      <td>소세지볶음밥~*</td>\n",
       "      <td>{'재료': ['소세지', '양파적당량', '당근적당량', '애호박적당량'], '양...</td>\n",
       "    </tr>\n",
       "  </tbody>\n",
       "</table>\n",
       "<p>10000 rows × 2 columns</p>\n",
       "</div>"
      ],
      "text/plain": [
       "                                             recipe_title  \\\n",
       "107774                                  닭백숙 끓이는법 면역력을 높여라   \n",
       "153011                                   엄마표 간식 초코꽃쿠키 만들기   \n",
       "137584                                상큼하게 즐기는 스팸 야채 무쌈말이   \n",
       "83478                              홈메이드 맛술 만들기...생강 활용팁!!   \n",
       "29760                                      두반장으로 만드는 마파두부   \n",
       "...                                                   ...   \n",
       "124398  #초스피드 다이어트음식 해초샐러드만들기 #각종 채소들을 추가해서 만드는 상큼하고 바...   \n",
       "112108                                        태국식 커리 스파게티   \n",
       "39690                                           돼지목살 양념구이   \n",
       "152244                             허니레몬은 사랑의 맛!! 크림 치즈 머핀   \n",
       "101323                                           소세지볶음밥~*   \n",
       "\n",
       "                                       recipe_ingredients  \n",
       "107774  {'재료': ['영계닭1마리', '찹쌀180g', '대추1줌', '통마늘9알정도',...  \n",
       "153011  {'재료': ['박력분90g', '슈가파우더55g', '코코아파우더15g', '버터...  \n",
       "137584  {'재료': ['스팸', '쌈용무', '팽이버섯', '파프리카', '무순'], '양...  \n",
       "83478      {'재료': ['생강1컵', '매실액1/2컵', '찹쌀밥2/3컵', '청주1병']}  \n",
       "29760   {'재료': ['돼지고기250g', '두부1모', '양파1개', '청양고추3개', ...  \n",
       "...                                                   ...  \n",
       "124398  {'재료': ['해초샐러드1팩', '빨간파프리카1/2개', '노랑파프리카1/2개',...  \n",
       "112108  {'재료': ['페튜치네100g', '닭안심70g', '바질20g', '마늘슬라이스...  \n",
       "39690   {'재료': ['돼지목살600g', '대파1줄', '배1/4개', '양파1/4개',...  \n",
       "152244  {'재료': ['레몬1개', '꿀2Ts', '버터80g', '설탕80g', '달걀1...  \n",
       "101323  {'재료': ['소세지', '양파적당량', '당근적당량', '애호박적당량'], '양...  \n",
       "\n",
       "[10000 rows x 2 columns]"
      ]
     },
     "execution_count": 60,
     "metadata": {},
     "output_type": "execute_result"
    }
   ],
   "source": [
    "toy"
   ]
  },
  {
   "cell_type": "code",
   "execution_count": 37,
   "metadata": {},
   "outputs": [],
   "source": [
    "from konlpy.tag import Kkma, Komoran, Okt, Hannanum #Mecab은 윈도우에서 작동 불가능\n",
    "from gensim.models.doc2vec import TaggedDocument\n",
    "from tqdm import tqdm\n",
    "\n",
    "okt = Okt()\n",
    "kkma = Kkma()\n",
    "komoran = Komoran()\n",
    "hannanum = Hannanum()"
   ]
  },
  {
   "cell_type": "code",
   "execution_count": 48,
   "metadata": {},
   "outputs": [
    {
     "name": "stderr",
     "output_type": "stream",
     "text": [
      "100%|██████████| 10000/10000 [00:41<00:00, 240.76it/s]\n"
     ]
    }
   ],
   "source": [
    "tagged_corpus_list = []\n",
    "\n",
    "for index, row in tqdm(toy.iterrows(), total=len(toy)):\n",
    "  text = row['recipe_ingredients']\n",
    "  tag = row['recipe_title']\n",
    "  tagged_corpus_list.append(TaggedDocument(tags=[tag], words=okt.morphs(text)))"
   ]
  },
  {
   "cell_type": "code",
   "execution_count": 49,
   "metadata": {},
   "outputs": [
    {
     "data": {
      "text/plain": [
       "TaggedDocument(words=[\"{'\", '재료', \"':\", \"['\", '목살', \"',\", \"'\", '고', '체형', '카레', \"',\", \"'\", '양파', \"',\", \"'\", '당근', \"',\", \"'\", '감자', \"',\", \"'\", '호박', \"',\", \"'\", '파프리카', \"',\", \"'\", '후추', \"',\", \"'\", '소금', \"']}\"], tags=['집밥 백선생 목살카레스테이크'])"
      ]
     },
     "execution_count": 49,
     "metadata": {},
     "output_type": "execute_result"
    }
   ],
   "source": [
    "tagged_corpus_list[10]"
   ]
  },
  {
   "cell_type": "code",
   "execution_count": 39,
   "metadata": {},
   "outputs": [],
   "source": [
    "from gensim.models import doc2vec"
   ]
  },
  {
   "cell_type": "code",
   "execution_count": 50,
   "metadata": {},
   "outputs": [
    {
     "name": "stdout",
     "output_type": "stream",
     "text": [
      "Tag Size: 9906 / "
     ]
    }
   ],
   "source": [
    "model = doc2vec.Doc2Vec(vector_size=300, alpha=0.025, min_alpha=0.025, workers=8, window=8)\n",
    "\n",
    "# Vocabulary 빌드\n",
    "model.build_vocab(tagged_corpus_list)\n",
    "\n",
    "# 수정된 부분: doctags 대신 key_to_index 사용\n",
    "print(f\"Tag Size: {len(model.dv.key_to_index)}\", end=' / ')\n",
    "\n",
    "# Doc2Vec 학습\n",
    "model.train(tagged_corpus_list, total_examples=model.corpus_count, epochs=10)\n",
    "\n",
    "# 모델 저장\n",
    "model.save('recipe.doc2vec')\n"
   ]
  },
  {
   "cell_type": "code",
   "execution_count": 61,
   "metadata": {},
   "outputs": [
    {
     "name": "stdout",
     "output_type": "stream",
     "text": [
      "[('삼계탕 맛있게 만들기~!', 0.8520060777664185), ('오골계 아니닭', 0.8211135864257812), ('한방삼계탕 보양식 삼계탕 만드는법', 0.8210607767105103), ('맑은 순두부 떡만두국', 0.8117913007736206), ('한방삼계탕 여름보양식 녹두/전복/인삼 털어넣어!', 0.8084213137626648), ('비 오는 날이면 더욱 생각나는 부침개', 0.8065982460975647), ('술안주 추천 :]오징어부추부침개 로 술술 넘어가요', 0.804054319858551), ('눈개승마튀김/삼나물튀김', 0.8016625046730042), ('♥[신혼 디저트] 호두아몬드 쿠키', 0.8011251091957092), ('[비건채식] 두부전과 두부버거', 0.7969818711280823)]\n"
     ]
    },
    {
     "name": "stderr",
     "output_type": "stream",
     "text": [
      "C:\\Users\\HwijunKwon\\AppData\\Local\\Temp\\ipykernel_9512\\3197389760.py:1: DeprecationWarning: Call to deprecated `docvecs` (The `docvecs` property has been renamed `dv`.).\n",
      "  similar_doc = model.docvecs.most_similar('닭백숙 끓이는법 면역력을 높여라')\n"
     ]
    }
   ],
   "source": [
    "similar_doc = model.docvecs.most_similar('닭백숙 끓이는법 면역력을 높여라')\n",
    "print(similar_doc)"
   ]
  },
  {
   "cell_type": "code",
   "execution_count": 65,
   "metadata": {},
   "outputs": [
    {
     "name": "stdout",
     "output_type": "stream",
     "text": [
      "[('백설 쿠키 만들기', 0.8908436298370361), ('크림치즈타르트 만들기', 0.8726410269737244), ('조기찌개 - 딸에게# / 조기찌개만드는법', 0.8725787401199341), ('[나만의요리 - 무쇠가마솥] 완두콩밥', 0.8717539310455322), ('황금레시피 쑥전만들어 먹기', 0.8714804649353027), ('찹살을이용한꽂만들기(떡케익)', 0.8710826635360718), ('오징어 고추장찌개 - 딸에게#', 0.8694823980331421), ('물향기식 김치만두.떡만두국', 0.8694505095481873), ('계란톡! 두부 풍덩~ 두부전 레시피', 0.8686668872833252), ('생도라지 손질법 제일 쉬운방법으로 깔끔하게', 0.8679294586181641)]\n"
     ]
    },
    {
     "name": "stderr",
     "output_type": "stream",
     "text": [
      "C:\\Users\\HwijunKwon\\AppData\\Local\\Temp\\ipykernel_9512\\1959178993.py:1: DeprecationWarning: Call to deprecated `docvecs` (The `docvecs` property has been renamed `dv`.).\n",
      "  similar_doc_2 = model.docvecs.most_similar('엄마표 간식 초코꽃쿠키 만들기')\n"
     ]
    }
   ],
   "source": [
    "similar_doc_2 = model.docvecs.most_similar('엄마표 간식 초코꽃쿠키 만들기')\n",
    "print(similar_doc_2)"
   ]
  },
  {
   "cell_type": "markdown",
   "metadata": {},
   "source": [
    "### 해결해야할 과제\n",
    "\n",
    "\n",
    "1. 레시피에서 하는 요리에 대한 정의가 필요함\n",
    "  - 레시피 타이틀 전처리\n",
    "  - 레시피 태그 전처리 \n",
    "2. 레시피에 따라서 2인분, 3인분, 4인분 다양함"
   ]
  },
  {
   "cell_type": "code",
   "execution_count": 67,
   "metadata": {},
   "outputs": [
    {
     "data": {
      "text/plain": [
       "2인분       57219\n",
       "4인분       31408\n",
       "1인분       25937\n",
       "3인분       19687\n",
       "6인분 이상    16377\n",
       "5인분        3670\n",
       "Name: recipe_summary1, dtype: int64"
      ]
     },
     "execution_count": 67,
     "metadata": {},
     "output_type": "execute_result"
    }
   ],
   "source": [
    "data[\"recipe_summary1\"].value_counts()"
   ]
  }
 ],
 "metadata": {
  "kernelspec": {
   "display_name": "Python 3",
   "language": "python",
   "name": "python3"
  },
  "language_info": {
   "codemirror_mode": {
    "name": "ipython",
    "version": 3
   },
   "file_extension": ".py",
   "mimetype": "text/x-python",
   "name": "python",
   "nbconvert_exporter": "python",
   "pygments_lexer": "ipython3",
   "version": "3.11.1"
  }
 },
 "nbformat": 4,
 "nbformat_minor": 2
}
