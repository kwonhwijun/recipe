{
 "cells": [
  {
   "cell_type": "code",
   "execution_count": 2,
   "metadata": {},
   "outputs": [],
   "source": [
    "import pandas as pd"
   ]
  },
  {
   "cell_type": "code",
   "execution_count": 9,
   "metadata": {},
   "outputs": [],
   "source": [
    "data = pd.read_csv(r'C:\\Users\\HwijunKwon\\Downloads\\RecipeData.csv')\n",
    "toy = pd.read_csv(r'C:\\Users\\HwijunKwon\\inisw\\recipe\\models\\data\\toy.csv')"
   ]
  },
  {
   "cell_type": "code",
   "execution_count": 47,
   "metadata": {},
   "outputs": [
    {
     "data": {
      "text/html": [
       "<div>\n",
       "<style scoped>\n",
       "    .dataframe tbody tr th:only-of-type {\n",
       "        vertical-align: middle;\n",
       "    }\n",
       "\n",
       "    .dataframe tbody tr th {\n",
       "        vertical-align: top;\n",
       "    }\n",
       "\n",
       "    .dataframe thead th {\n",
       "        text-align: right;\n",
       "    }\n",
       "</style>\n",
       "<table border=\"1\" class=\"dataframe\">\n",
       "  <thead>\n",
       "    <tr style=\"text-align: right;\">\n",
       "      <th></th>\n",
       "      <th>recipe_title</th>\n",
       "      <th>recipe_ingredients</th>\n",
       "      <th>ingredient1</th>\n",
       "      <th>quantity1</th>\n",
       "      <th>unit1</th>\n",
       "      <th>ingredient2</th>\n",
       "      <th>quantity2</th>\n",
       "      <th>unit2</th>\n",
       "      <th>ingredient3</th>\n",
       "      <th>quantity3</th>\n",
       "      <th>...</th>\n",
       "      <th>unit17</th>\n",
       "      <th>ingredient18</th>\n",
       "      <th>quantity18</th>\n",
       "      <th>unit18</th>\n",
       "      <th>ingredient19</th>\n",
       "      <th>quantity19</th>\n",
       "      <th>unit19</th>\n",
       "      <th>ingredient20</th>\n",
       "      <th>quantity20</th>\n",
       "      <th>unit20</th>\n",
       "    </tr>\n",
       "  </thead>\n",
       "  <tbody>\n",
       "    <tr>\n",
       "      <th>0</th>\n",
       "      <td>비빔밥재료 애호박나물 애호박볶음 아삭거리게 볶는 방법</td>\n",
       "      <td>{'재료': ['애호박1개', '다진마늘0.5큰술', '소금0.5큰술', '참기름1...</td>\n",
       "      <td>애호박</td>\n",
       "      <td>1</td>\n",
       "      <td>개</td>\n",
       "      <td>다진마늘</td>\n",
       "      <td>0.5</td>\n",
       "      <td>큰술</td>\n",
       "      <td>소금</td>\n",
       "      <td>0.5</td>\n",
       "      <td>...</td>\n",
       "      <td>NaN</td>\n",
       "      <td>NaN</td>\n",
       "      <td>NaN</td>\n",
       "      <td>NaN</td>\n",
       "      <td>NaN</td>\n",
       "      <td>NaN</td>\n",
       "      <td>NaN</td>\n",
       "      <td>NaN</td>\n",
       "      <td>NaN</td>\n",
       "      <td>NaN</td>\n",
       "    </tr>\n",
       "    <tr>\n",
       "      <th>1</th>\n",
       "      <td>[마늘종볶음]단짠단짠 자꾸만 손이가요~</td>\n",
       "      <td>{'재료': ['건새우50g', '물1/4컵', '마늘종300g', '소금1/3큰술...</td>\n",
       "      <td>건새우</td>\n",
       "      <td>50</td>\n",
       "      <td>g</td>\n",
       "      <td>물</td>\n",
       "      <td>1/4</td>\n",
       "      <td>컵</td>\n",
       "      <td>마늘종</td>\n",
       "      <td>300</td>\n",
       "      <td>...</td>\n",
       "      <td>NaN</td>\n",
       "      <td>NaN</td>\n",
       "      <td>NaN</td>\n",
       "      <td>NaN</td>\n",
       "      <td>NaN</td>\n",
       "      <td>NaN</td>\n",
       "      <td>NaN</td>\n",
       "      <td>NaN</td>\n",
       "      <td>NaN</td>\n",
       "      <td>NaN</td>\n",
       "    </tr>\n",
       "    <tr>\n",
       "      <th>2</th>\n",
       "      <td>백종원의 부추 달걀 볶음</td>\n",
       "      <td>{'재료': ['부추1줌', '달걀4개', '식용유2큰술', '밥2공기'], '양념...</td>\n",
       "      <td>부추</td>\n",
       "      <td>1</td>\n",
       "      <td>줌</td>\n",
       "      <td>달걀</td>\n",
       "      <td>4</td>\n",
       "      <td>개</td>\n",
       "      <td>식용유</td>\n",
       "      <td>2</td>\n",
       "      <td>...</td>\n",
       "      <td>NaN</td>\n",
       "      <td>NaN</td>\n",
       "      <td>NaN</td>\n",
       "      <td>NaN</td>\n",
       "      <td>NaN</td>\n",
       "      <td>NaN</td>\n",
       "      <td>NaN</td>\n",
       "      <td>NaN</td>\n",
       "      <td>NaN</td>\n",
       "      <td>NaN</td>\n",
       "    </tr>\n",
       "    <tr>\n",
       "      <th>3</th>\n",
       "      <td>간단하게 맛난 반찬 만들기 '베이컨 버섯볶음'</td>\n",
       "      <td>{'재료': ['베이컨5~6줄', '양파1/2개', '미니새송이버섯7개', '다진마...</td>\n",
       "      <td>베이컨</td>\n",
       "      <td>5~6</td>\n",
       "      <td>줄</td>\n",
       "      <td>양파</td>\n",
       "      <td>1/2</td>\n",
       "      <td>개</td>\n",
       "      <td>미니새송이버섯</td>\n",
       "      <td>7</td>\n",
       "      <td>...</td>\n",
       "      <td>NaN</td>\n",
       "      <td>NaN</td>\n",
       "      <td>NaN</td>\n",
       "      <td>NaN</td>\n",
       "      <td>NaN</td>\n",
       "      <td>NaN</td>\n",
       "      <td>NaN</td>\n",
       "      <td>NaN</td>\n",
       "      <td>NaN</td>\n",
       "      <td>NaN</td>\n",
       "    </tr>\n",
       "    <tr>\n",
       "      <th>4</th>\n",
       "      <td>고소하고 향긋한 깻잎들깨볶음</td>\n",
       "      <td>{'재료': ['깻잎', '대파', '다진마늘1T', '국간장1T', '참기름1T'...</td>\n",
       "      <td>깻잎</td>\n",
       "      <td>NaN</td>\n",
       "      <td>NaN</td>\n",
       "      <td>대파</td>\n",
       "      <td>NaN</td>\n",
       "      <td>NaN</td>\n",
       "      <td>다진마늘</td>\n",
       "      <td>1</td>\n",
       "      <td>...</td>\n",
       "      <td>NaN</td>\n",
       "      <td>NaN</td>\n",
       "      <td>NaN</td>\n",
       "      <td>NaN</td>\n",
       "      <td>NaN</td>\n",
       "      <td>NaN</td>\n",
       "      <td>NaN</td>\n",
       "      <td>NaN</td>\n",
       "      <td>NaN</td>\n",
       "      <td>NaN</td>\n",
       "    </tr>\n",
       "    <tr>\n",
       "      <th>...</th>\n",
       "      <td>...</td>\n",
       "      <td>...</td>\n",
       "      <td>...</td>\n",
       "      <td>...</td>\n",
       "      <td>...</td>\n",
       "      <td>...</td>\n",
       "      <td>...</td>\n",
       "      <td>...</td>\n",
       "      <td>...</td>\n",
       "      <td>...</td>\n",
       "      <td>...</td>\n",
       "      <td>...</td>\n",
       "      <td>...</td>\n",
       "      <td>...</td>\n",
       "      <td>...</td>\n",
       "      <td>...</td>\n",
       "      <td>...</td>\n",
       "      <td>...</td>\n",
       "      <td>...</td>\n",
       "      <td>...</td>\n",
       "      <td>...</td>\n",
       "    </tr>\n",
       "    <tr>\n",
       "      <th>995</th>\n",
       "      <td>밑반찬으로 딱이야~견과류멸치볶음!</td>\n",
       "      <td>{'재료': ['잔멸치200g', '호두50g', '호박씨30g', '슬라이드아몬드...</td>\n",
       "      <td>잔멸치</td>\n",
       "      <td>200</td>\n",
       "      <td>g</td>\n",
       "      <td>호두</td>\n",
       "      <td>50</td>\n",
       "      <td>g</td>\n",
       "      <td>호박씨</td>\n",
       "      <td>30</td>\n",
       "      <td>...</td>\n",
       "      <td>NaN</td>\n",
       "      <td>NaN</td>\n",
       "      <td>NaN</td>\n",
       "      <td>NaN</td>\n",
       "      <td>NaN</td>\n",
       "      <td>NaN</td>\n",
       "      <td>NaN</td>\n",
       "      <td>NaN</td>\n",
       "      <td>NaN</td>\n",
       "      <td>NaN</td>\n",
       "    </tr>\n",
       "    <tr>\n",
       "      <th>996</th>\n",
       "      <td>마늘쫑볶음, 간장조림으로 간이 쏙배고 맛있는 최애반찬</td>\n",
       "      <td>{'재료': ['마늘쫑1단', '간장60ml', '조청4T', '황설탕1T', '현...</td>\n",
       "      <td>마늘쫑</td>\n",
       "      <td>1</td>\n",
       "      <td>단</td>\n",
       "      <td>간장</td>\n",
       "      <td>60</td>\n",
       "      <td>ml</td>\n",
       "      <td>조청</td>\n",
       "      <td>4</td>\n",
       "      <td>...</td>\n",
       "      <td>NaN</td>\n",
       "      <td>NaN</td>\n",
       "      <td>NaN</td>\n",
       "      <td>NaN</td>\n",
       "      <td>NaN</td>\n",
       "      <td>NaN</td>\n",
       "      <td>NaN</td>\n",
       "      <td>NaN</td>\n",
       "      <td>NaN</td>\n",
       "      <td>NaN</td>\n",
       "    </tr>\n",
       "    <tr>\n",
       "      <th>997</th>\n",
       "      <td>밥도둑 새우호박볶음</td>\n",
       "      <td>{'재료': ['호박1개', '양파1개', '새우살1줌', '마늘3알'], '양념'...</td>\n",
       "      <td>호박</td>\n",
       "      <td>1</td>\n",
       "      <td>개</td>\n",
       "      <td>양파</td>\n",
       "      <td>1</td>\n",
       "      <td>개</td>\n",
       "      <td>새우살</td>\n",
       "      <td>1</td>\n",
       "      <td>...</td>\n",
       "      <td>NaN</td>\n",
       "      <td>NaN</td>\n",
       "      <td>NaN</td>\n",
       "      <td>NaN</td>\n",
       "      <td>NaN</td>\n",
       "      <td>NaN</td>\n",
       "      <td>NaN</td>\n",
       "      <td>NaN</td>\n",
       "      <td>NaN</td>\n",
       "      <td>NaN</td>\n",
       "    </tr>\n",
       "    <tr>\n",
       "      <th>998</th>\n",
       "      <td>멸치마늘볶음</td>\n",
       "      <td>{'재료': ['중멸치100g', '마늘15쪽'], '양념': ['양조간장1작은술'...</td>\n",
       "      <td>중멸치</td>\n",
       "      <td>100</td>\n",
       "      <td>g</td>\n",
       "      <td>마늘</td>\n",
       "      <td>15</td>\n",
       "      <td>쪽</td>\n",
       "      <td>양조간장</td>\n",
       "      <td>1</td>\n",
       "      <td>...</td>\n",
       "      <td>NaN</td>\n",
       "      <td>NaN</td>\n",
       "      <td>NaN</td>\n",
       "      <td>NaN</td>\n",
       "      <td>NaN</td>\n",
       "      <td>NaN</td>\n",
       "      <td>NaN</td>\n",
       "      <td>NaN</td>\n",
       "      <td>NaN</td>\n",
       "      <td>NaN</td>\n",
       "    </tr>\n",
       "    <tr>\n",
       "      <th>999</th>\n",
       "      <td>성장기 어린이들에게 특히 좋은 '아몬드멸치볶음'</td>\n",
       "      <td>{'재료': ['아몬드슬라이스50g', '지리멸치50g', '설탕1큰술', '다진마...</td>\n",
       "      <td>아몬드슬라이스</td>\n",
       "      <td>50</td>\n",
       "      <td>g</td>\n",
       "      <td>지리멸치</td>\n",
       "      <td>50</td>\n",
       "      <td>g</td>\n",
       "      <td>설탕</td>\n",
       "      <td>1</td>\n",
       "      <td>...</td>\n",
       "      <td>NaN</td>\n",
       "      <td>NaN</td>\n",
       "      <td>NaN</td>\n",
       "      <td>NaN</td>\n",
       "      <td>NaN</td>\n",
       "      <td>NaN</td>\n",
       "      <td>NaN</td>\n",
       "      <td>NaN</td>\n",
       "      <td>NaN</td>\n",
       "      <td>NaN</td>\n",
       "    </tr>\n",
       "  </tbody>\n",
       "</table>\n",
       "<p>1000 rows × 62 columns</p>\n",
       "</div>"
      ],
      "text/plain": [
       "                      recipe_title  \\\n",
       "0    비빔밥재료 애호박나물 애호박볶음 아삭거리게 볶는 방법   \n",
       "1            [마늘종볶음]단짠단짠 자꾸만 손이가요~   \n",
       "2                    백종원의 부추 달걀 볶음   \n",
       "3        간단하게 맛난 반찬 만들기 '베이컨 버섯볶음'   \n",
       "4                  고소하고 향긋한 깻잎들깨볶음   \n",
       "..                             ...   \n",
       "995             밑반찬으로 딱이야~견과류멸치볶음!   \n",
       "996  마늘쫑볶음, 간장조림으로 간이 쏙배고 맛있는 최애반찬   \n",
       "997                     밥도둑 새우호박볶음   \n",
       "998                         멸치마늘볶음   \n",
       "999     성장기 어린이들에게 특히 좋은 '아몬드멸치볶음'   \n",
       "\n",
       "                                    recipe_ingredients ingredient1 quantity1  \\\n",
       "0    {'재료': ['애호박1개', '다진마늘0.5큰술', '소금0.5큰술', '참기름1...         애호박         1   \n",
       "1    {'재료': ['건새우50g', '물1/4컵', '마늘종300g', '소금1/3큰술...         건새우        50   \n",
       "2    {'재료': ['부추1줌', '달걀4개', '식용유2큰술', '밥2공기'], '양념...          부추         1   \n",
       "3    {'재료': ['베이컨5~6줄', '양파1/2개', '미니새송이버섯7개', '다진마...         베이컨       5~6   \n",
       "4    {'재료': ['깻잎', '대파', '다진마늘1T', '국간장1T', '참기름1T'...          깻잎       NaN   \n",
       "..                                                 ...         ...       ...   \n",
       "995  {'재료': ['잔멸치200g', '호두50g', '호박씨30g', '슬라이드아몬드...         잔멸치       200   \n",
       "996  {'재료': ['마늘쫑1단', '간장60ml', '조청4T', '황설탕1T', '현...         마늘쫑         1   \n",
       "997  {'재료': ['호박1개', '양파1개', '새우살1줌', '마늘3알'], '양념'...          호박         1   \n",
       "998  {'재료': ['중멸치100g', '마늘15쪽'], '양념': ['양조간장1작은술'...         중멸치       100   \n",
       "999  {'재료': ['아몬드슬라이스50g', '지리멸치50g', '설탕1큰술', '다진마...     아몬드슬라이스        50   \n",
       "\n",
       "    unit1 ingredient2 quantity2 unit2 ingredient3 quantity3  ... unit17  \\\n",
       "0       개        다진마늘       0.5    큰술          소금       0.5  ...    NaN   \n",
       "1       g           물       1/4     컵         마늘종       300  ...    NaN   \n",
       "2       줌          달걀         4     개         식용유         2  ...    NaN   \n",
       "3       줄          양파       1/2     개     미니새송이버섯         7  ...    NaN   \n",
       "4     NaN          대파       NaN   NaN        다진마늘         1  ...    NaN   \n",
       "..    ...         ...       ...   ...         ...       ...  ...    ...   \n",
       "995     g          호두        50     g         호박씨        30  ...    NaN   \n",
       "996     단          간장        60    ml          조청         4  ...    NaN   \n",
       "997     개          양파         1     개         새우살         1  ...    NaN   \n",
       "998     g          마늘        15     쪽        양조간장         1  ...    NaN   \n",
       "999     g        지리멸치        50     g          설탕         1  ...    NaN   \n",
       "\n",
       "    ingredient18 quantity18 unit18 ingredient19 quantity19 unit19  \\\n",
       "0            NaN        NaN    NaN          NaN        NaN    NaN   \n",
       "1            NaN        NaN    NaN          NaN        NaN    NaN   \n",
       "2            NaN        NaN    NaN          NaN        NaN    NaN   \n",
       "3            NaN        NaN    NaN          NaN        NaN    NaN   \n",
       "4            NaN        NaN    NaN          NaN        NaN    NaN   \n",
       "..           ...        ...    ...          ...        ...    ...   \n",
       "995          NaN        NaN    NaN          NaN        NaN    NaN   \n",
       "996          NaN        NaN    NaN          NaN        NaN    NaN   \n",
       "997          NaN        NaN    NaN          NaN        NaN    NaN   \n",
       "998          NaN        NaN    NaN          NaN        NaN    NaN   \n",
       "999          NaN        NaN    NaN          NaN        NaN    NaN   \n",
       "\n",
       "    ingredient20 quantity20 unit20  \n",
       "0            NaN        NaN    NaN  \n",
       "1            NaN        NaN    NaN  \n",
       "2            NaN        NaN    NaN  \n",
       "3            NaN        NaN    NaN  \n",
       "4            NaN        NaN    NaN  \n",
       "..           ...        ...    ...  \n",
       "995          NaN        NaN    NaN  \n",
       "996          NaN        NaN    NaN  \n",
       "997          NaN        NaN    NaN  \n",
       "998          NaN        NaN    NaN  \n",
       "999          NaN        NaN    NaN  \n",
       "\n",
       "[1000 rows x 62 columns]"
      ]
     },
     "execution_count": 47,
     "metadata": {},
     "output_type": "execute_result"
    }
   ],
   "source": [
    "toy"
   ]
  },
  {
   "cell_type": "code",
   "execution_count": 19,
   "metadata": {},
   "outputs": [
    {
     "data": {
      "text/plain": [
       "864"
      ]
     },
     "execution_count": 19,
     "metadata": {},
     "output_type": "execute_result"
    }
   ],
   "source": [
    "ingredient_columns = toy.filter(like='ingredient').drop(columns=['recipe_ingredients']) # 'ingredient'가 포함된 모든 열 선택\n",
    "all_ingredients = [item for sublist in ingredient_columns.values for item in sublist if pd.notna(item)] # 각 행의 ingredient 값을 하나의 리스트로 결합\n",
    "\n",
    "len(set(all_ingredients)) #864개의 식재료\n"
   ]
  },
  {
   "cell_type": "code",
   "execution_count": 48,
   "metadata": {},
   "outputs": [],
   "source": [
    "all_ingredients = set()\n",
    "for i in range(1, 21):  \n",
    "    all_ingredients.update(x[f'ingredient{i}'].dropna().unique())\n",
    "\n",
    "recipe_ingredients_df = pd.DataFrame(columns=list(all_ingredients))"
   ]
  },
  {
   "cell_type": "code",
   "execution_count": 55,
   "metadata": {},
   "outputs": [],
   "source": [
    "from fractions import Fraction\n",
    "\n",
    "def convert_fraction_to_float(quantity):\n",
    "    try:\n",
    "        return float(Fraction(quantity))\n",
    "    except ValueError:\n",
    "        return None "
   ]
  },
  {
   "cell_type": "code",
   "execution_count": 53,
   "metadata": {},
   "outputs": [],
   "source": [
    "def convert_unit_to_number(unit):\n",
    "    unit_conversion = {\n",
    "        'g': 1,\n",
    "        '개': 100,\n",
    "    }\n",
    "    return unit_conversion.get(unit, 1)"
   ]
  },
  {
   "cell_type": "code",
   "execution_count": 56,
   "metadata": {},
   "outputs": [
    {
     "name": "stdout",
     "output_type": "stream",
     "text": [
      "   스리라차소스   무청    양파  게맛살   미향  사각어묵   어묵  소세지  청양초  콩나물  ...   당근  손질한가지  \\\n",
      "0     0.0  0.0   0.0  0.0  0.0   0.0  0.0  0.0  0.0  0.0  ...  0.0    0.0   \n",
      "1     0.0  0.0   0.0  0.0  0.0   0.0  0.0  0.0  0.0  0.0  ...  0.0    0.0   \n",
      "2     0.0  0.0   0.0  0.0  0.0   0.0  0.0  0.0  0.0  0.0  ...  0.0    0.0   \n",
      "3     0.0  0.0  50.0  0.0  0.0   0.0  0.0  0.0  0.0  0.0  ...  0.0    0.0   \n",
      "4     0.0  0.0   0.0  0.0  0.0   0.0  0.0  0.0  0.0  0.0  ...  0.0    0.0   \n",
      "\n",
      "   다진대파약간  당근조금  돼지고기목살슬라이스  흑후추조금  고운소금  매실액약간   소주  해바라기씨적당량  \n",
      "0     0.0   0.0         0.0    0.0   0.0    0.0  0.0       0.0  \n",
      "1     0.0   0.0         0.0    0.0   0.0    0.0  0.0       0.0  \n",
      "2     0.0   0.0         0.0    0.0   0.0    0.0  0.0       0.0  \n",
      "3     0.0   0.0         0.0    0.0   0.0    0.0  0.0       0.0  \n",
      "4     0.0   0.0         0.0    0.0   0.0    0.0  0.0       0.0  \n",
      "\n",
      "[5 rows x 864 columns]\n"
     ]
    }
   ],
   "source": [
    "recipe_rows = []\n",
    "for idx, row in toy.iterrows():\n",
    "    recipe_data = {ingredient: 0.0 for ingredient in all_ingredients}  # 모든 식재료를 None으로 초기화\n",
    "    for i in range(1, 21):  \n",
    "        ingredient = row[f'ingredient{i}']\n",
    "        quantity = row[f'quantity{i}']\n",
    "        unit = row[f'unit{i}']\n",
    "        if pd.notna(ingredient) and pd.notna(quantity):\n",
    "            quantity_float = convert_fraction_to_float(quantity)\n",
    "            if quantity_float is not None:\n",
    "                unit_number = convert_unit_to_number(unit) if pd.notna(unit) else 1\n",
    "                recipe_data[ingredient] = quantity_float * unit_number\n",
    "    recipe_rows.append(recipe_data)\n",
    "\n",
    "# 새로운 데이터프레임 생성 (모든 식재료를 열로 가짐)\n",
    "recipe_ingredients_df = pd.concat([pd.DataFrame([row]) for row in recipe_rows], ignore_index=True)\n",
    "\n",
    "# 결과 확인\n",
    "print(recipe_ingredients_df.head())"
   ]
  },
  {
   "cell_type": "code",
   "execution_count": 67,
   "metadata": {},
   "outputs": [],
   "source": [
    "data = recipe_ingredients_df.astype('float64')"
   ]
  },
  {
   "cell_type": "code",
   "execution_count": 69,
   "metadata": {},
   "outputs": [],
   "source": [
    "import numpy as np\n",
    "\n",
    "a, b, c= np.linalg.svd(data, full_matrices= True)"
   ]
  },
  {
   "cell_type": "code",
   "execution_count": 74,
   "metadata": {},
   "outputs": [
    {
     "data": {
      "text/plain": [
       "array([[-2.01518518e-05,  6.85356187e-06, -1.37578750e-05, ...,\n",
       "         2.11353775e-05, -7.17906235e-05,  9.39470843e-06],\n",
       "       [-1.72592288e-06,  1.17551077e-06, -4.52267835e-06, ...,\n",
       "        -5.62688852e-05, -8.62606585e-05, -1.86886694e-04],\n",
       "       [-8.14886983e-07,  3.90787778e-07, -2.67610094e-06, ...,\n",
       "         3.01047307e-05,  1.61227942e-04, -1.25441327e-05],\n",
       "       ...,\n",
       "       [-3.21350457e-04,  5.44830606e-04, -5.93557964e-04, ...,\n",
       "         1.86470476e-05,  2.40851053e-04, -2.17493083e-05],\n",
       "       [-1.07366898e-04,  6.52368577e-05, -1.26752401e-03, ...,\n",
       "         4.17094862e-04,  9.00154041e-06,  4.08920115e-05],\n",
       "       [-6.39112868e-07,  2.92483979e-06, -5.15072393e-05, ...,\n",
       "         9.23576423e-04,  1.72957567e-04,  2.42643729e-04]])"
      ]
     },
     "execution_count": 74,
     "metadata": {},
     "output_type": "execute_result"
    }
   ],
   "source": []
  },
  {
   "cell_type": "code",
   "execution_count": 76,
   "metadata": {},
   "outputs": [],
   "source": [
    "result = a[:, :100].dot(np.diag(b[:100]))"
   ]
  },
  {
   "cell_type": "code",
   "execution_count": 82,
   "metadata": {},
   "outputs": [
    {
     "name": "stderr",
     "output_type": "stream",
     "text": [
      "C:\\Users\\HwijunKwon\\AppData\\Local\\Temp\\ipykernel_10564\\928630014.py:1: RuntimeWarning: invalid value encountered in divide\n",
      "  result2 = result.dot(result.T)/(np.linalg.norm(result, axis =1)*np.linalg.norm(result.T, axis = 0)) # 정규화 해줘야 함\n"
     ]
    }
   ],
   "source": [
    "result2 = result.dot(result.T)/(np.linalg.norm(result, axis =1)*np.linalg.norm(result.T, axis = 0)) # 정규화 해줘야 함\n",
    "\n"
   ]
  },
  {
   "cell_type": "code",
   "execution_count": 86,
   "metadata": {},
   "outputs": [
    {
     "data": {
      "text/plain": [
       "recipe_title                                              백종원의 부추 달걀 볶음\n",
       "recipe_ingredients    {'재료': ['부추1줌', '달걀4개', '식용유2큰술', '밥2공기'], '양념...\n",
       "ingredient1                                                          부추\n",
       "quantity1                                                             1\n",
       "unit1                                                                 줌\n",
       "                                            ...                        \n",
       "quantity19                                                          NaN\n",
       "unit19                                                              NaN\n",
       "ingredient20                                                        NaN\n",
       "quantity20                                                          NaN\n",
       "unit20                                                              NaN\n",
       "Name: 2, Length: 62, dtype: object"
      ]
     },
     "execution_count": 86,
     "metadata": {},
     "output_type": "execute_result"
    }
   ],
   "source": [
    "toy.iloc[2, :]"
   ]
  },
  {
   "cell_type": "code",
   "execution_count": 85,
   "metadata": {},
   "outputs": [
    {
     "data": {
      "text/plain": [
       "recipe_title                                                 애호박 새우젓 볶음\n",
       "recipe_ingredients    {'재료': ['애호박', '마늘', '양파', '대파'], '양념': ['고춧가루...\n",
       "ingredient1                                                         애호박\n",
       "quantity1                                                           NaN\n",
       "unit1                                                               NaN\n",
       "                                            ...                        \n",
       "quantity19                                                          NaN\n",
       "unit19                                                              NaN\n",
       "ingredient20                                                        NaN\n",
       "quantity20                                                          NaN\n",
       "unit20                                                              NaN\n",
       "Name: 233, Length: 62, dtype: object"
      ]
     },
     "execution_count": 85,
     "metadata": {},
     "output_type": "execute_result"
    }
   ],
   "source": [
    "toy.iloc[233, :]"
   ]
  },
  {
   "cell_type": "code",
   "execution_count": 83,
   "metadata": {},
   "outputs": [
    {
     "data": {
      "text/plain": [
       "array([233, 385,  28, 137, 130, 112, 566, 228, 683, 631, 804, 304, 889,\n",
       "       852, 144, 860, 892, 520, 858, 887, 240, 786, 744, 328, 134, 258,\n",
       "       788, 914, 277,  10, 402, 913, 446, 256, 225, 754,  51, 981, 807,\n",
       "       907, 506, 284, 460, 820,  85, 996, 692, 320, 826,  23, 293, 493,\n",
       "       418, 567,  29,  34,  99, 174, 432, 526, 548, 337, 166, 640, 919,\n",
       "        36, 296, 800, 298, 601, 661, 515, 672, 979, 403, 865, 307, 406,\n",
       "       674, 736, 483, 606,  27, 591, 218, 603, 910, 143, 669, 954, 639,\n",
       "       876, 957, 861,  86, 482, 810, 908, 480, 975, 552, 388, 339, 254,\n",
       "       410, 458, 325, 821, 670, 395,  50,  73, 967, 972,  91, 109, 165,\n",
       "        56, 762, 646, 537, 152, 380, 585, 624, 682, 763,  37, 286, 349,\n",
       "       790, 445, 665, 974, 774, 127, 401, 594, 252,  54, 579, 309, 502,\n",
       "       888, 161, 189, 297, 776, 326, 799, 313, 997, 117, 733, 138, 352,\n",
       "       455, 950, 287, 456, 756, 362,  26, 615,  13, 961, 463, 191, 368,\n",
       "       121,  30, 350,  84, 568, 833, 946, 983, 634, 731, 745, 342, 498,\n",
       "       224, 715, 170, 872, 918, 221, 984, 857, 742, 346, 387, 462, 153,\n",
       "       484,  49, 948, 209, 627, 960, 768, 719, 275, 404, 486, 235, 743,\n",
       "       497,  35, 633, 739, 925, 294, 626, 766, 436, 222, 619, 599, 894,\n",
       "       668, 873, 874, 288, 896, 746, 847, 361, 188,  60, 909, 358, 643,\n",
       "       970, 695, 625, 536, 453, 666, 586, 106, 193, 391, 332, 521, 470,\n",
       "       558, 125, 353,  88, 825, 443, 830,  41, 131, 343, 701, 814, 689,\n",
       "        25, 623, 611,  63, 835,  52, 964, 676, 243, 649, 801, 314, 832,\n",
       "       573, 185, 693, 115, 630, 118, 793, 886, 560, 749, 572, 376, 389,\n",
       "       274, 509,  96, 419, 602, 635, 677, 499, 263,  93, 871, 915, 426,\n",
       "       397, 181, 657, 923, 477, 465, 965, 855, 173, 283, 608, 949, 182,\n",
       "       327,  39,  62, 753, 303, 842, 217, 114,  17,  16, 510, 531, 710,\n",
       "       834, 151, 704, 518, 610, 492, 322, 315,  65, 532, 364, 903, 269,\n",
       "       312, 187, 505, 262, 305, 791, 815, 527,  59, 794, 882, 396, 988,\n",
       "       500, 375, 831, 103, 563, 411, 716, 653, 686, 372, 650, 370, 870,\n",
       "       514,  55, 123, 641, 985, 556, 703, 120, 990, 449,  80, 875, 522,\n",
       "       618, 464,  61, 934, 454, 529, 823, 367, 183, 702, 922,   3, 479,\n",
       "       244, 467, 933, 212, 331, 133, 154, 317, 239, 938, 359, 461, 905,\n",
       "       319, 202,  72, 785, 717, 849, 867, 598, 803,  18, 155, 140, 565,\n",
       "       503, 105, 110, 237, 671, 781,  97, 613, 245, 797, 775, 487, 884,\n",
       "         5,  21, 299, 219, 543, 644, 993, 638, 215, 713, 992, 508, 725,\n",
       "       570, 708, 577, 932, 706, 354, 848, 647, 439, 546, 940, 590, 555,\n",
       "       279,  68, 765, 447, 226, 234, 210, 300, 538, 440, 101, 167, 260,\n",
       "       578, 360, 192, 869,  33, 956, 271, 813, 534,  75, 806,  47, 878,\n",
       "       707, 539, 417, 976, 588, 490, 735, 420, 472, 504, 727, 697, 220,\n",
       "       562, 178, 517, 760,  89,  71, 824, 866, 816, 681, 399, 595, 184,\n",
       "       535, 278, 906, 291, 818, 734, 523, 792,  32, 351, 942, 937, 507,\n",
       "        24,   8, 575, 764, 902, 699, 620, 841, 953, 656, 581, 559, 272,\n",
       "       691, 747, 541, 247, 384, 478, 987, 162, 771,  48, 569, 900, 142,\n",
       "       335, 248, 469, 726, 945,  98, 880, 169, 550, 877, 231, 994, 784,\n",
       "       124, 513, 921, 545, 381, 232, 995, 146, 722, 879, 767, 553,  76,\n",
       "       680, 471, 920, 750,   1, 659, 516, 407, 175,  79, 382, 530, 916,\n",
       "       357, 600, 147, 156, 584,  44, 947, 400, 819, 236, 494, 805, 738,\n",
       "        12, 444, 208, 629, 787, 139, 323, 827, 126, 488, 714, 430, 289,\n",
       "       978,  92, 729, 264, 959, 862, 840, 485, 890, 249, 935, 207, 433,\n",
       "         7, 205, 292, 687, 159, 637, 811, 321, 770,  57, 345, 363, 340,\n",
       "       664, 549, 489, 457, 311, 587, 901, 795, 881, 632, 969, 720, 216,\n",
       "       257, 524, 544, 250,   6, 533, 163, 612, 198, 777, 238, 267, 338,\n",
       "       868, 688, 128, 798, 195, 690, 160, 982, 822,  70, 495, 281, 377,\n",
       "       369, 962, 261,  77, 951, 679, 424, 844, 864, 172, 645,  43, 757,\n",
       "       917, 724, 911, 468, 836,  22, 213, 341, 846, 416, 678, 673, 557,\n",
       "        38, 378, 561, 157, 259, 334, 973, 883, 176, 652, 751, 241, 574,\n",
       "       255, 390, 891, 408, 393, 779, 648, 308,   0, 893,  58, 895, 628,\n",
       "       450, 952, 773, 621, 740, 448, 150, 414, 583,  66, 441, 582,  90,\n",
       "       759, 660, 428, 365, 696, 435, 204, 958, 966, 617, 944, 642, 148,\n",
       "       721, 589, 132, 285, 177, 270, 609, 344, 266, 551, 999, 580, 675,\n",
       "       723, 737,  31, 394, 431, 924, 122, 451, 194, 425, 991,  64, 186,\n",
       "       998, 442, 927, 107, 474, 761, 214, 374, 423, 939, 651, 203, 511,\n",
       "       415,  11, 705, 528,  53, 466, 302, 655, 955, 329, 141, 230, 197,\n",
       "       936, 413, 728, 616, 265, 783, 180, 330, 769, 698, 700, 149, 859,\n",
       "       242,  78, 817, 318, 386, 111, 501, 772, 179, 654, 853, 347, 476,\n",
       "       422, 576, 227, 119, 366,   9, 473, 371, 355, 780, 843,  19, 741,\n",
       "       596, 290, 301, 931, 108, 748,  20, 540, 276, 547, 941, 164, 196,\n",
       "       986, 732, 980, 758, 851,  45, 190, 554, 802, 398, 838, 730,  94,\n",
       "       845, 519,  46, 481, 306, 251, 789, 336, 496,  15, 854, 926, 100,\n",
       "       718,   2, 709, 373, 229, 542, 607, 295, 694, 684, 379, 211, 412,\n",
       "        14, 168, 405, 324, 273, 434, 636, 622, 525, 943, 201, 158, 977,\n",
       "       171, 863, 392, 782, 223,  82,  42, 136, 421, 145, 928, 752,  69,\n",
       "       897, 593, 104,  67, 113, 310, 778, 429,  40, 282, 512, 755, 246,\n",
       "       604, 356, 597, 898, 459, 206, 828, 989, 929, 663, 571, 796, 268,\n",
       "       409, 614, 129, 200, 662, 667,   4, 135,  83, 475, 452,  81, 712,\n",
       "       899, 968, 280,  95,  87, 116,  74, 102, 199, 856, 829, 348, 437,\n",
       "       850, 333, 605, 427, 438, 839, 316, 383, 809, 812, 253, 685, 808,\n",
       "       904, 971, 491, 711, 592, 963, 912, 658, 930, 564, 885, 837],\n",
       "      dtype=int64)"
      ]
     },
     "execution_count": 83,
     "metadata": {},
     "output_type": "execute_result"
    }
   ],
   "source": [
    "result2[2].argsort()"
   ]
  },
  {
   "cell_type": "code",
   "execution_count": 88,
   "metadata": {},
   "outputs": [],
   "source": [
    "result = np.diag(b[:100]).dot(c[:100]).T"
   ]
  },
  {
   "cell_type": "code",
   "execution_count": 89,
   "metadata": {},
   "outputs": [
    {
     "name": "stderr",
     "output_type": "stream",
     "text": [
      "C:\\Users\\HwijunKwon\\AppData\\Local\\Temp\\ipykernel_10564\\226570040.py:1: RuntimeWarning: invalid value encountered in divide\n",
      "  result_c = result.dot(result.T)/(np.linalg.norm(result, axis =1)*np.linalg.norm(result.T, axis = 0))\n"
     ]
    }
   ],
   "source": [
    "result_c = result.dot(result.T)/(np.linalg.norm(result, axis =1)*np.linalg.norm(result.T, axis = 0))"
   ]
  },
  {
   "cell_type": "code",
   "execution_count": 95,
   "metadata": {},
   "outputs": [
    {
     "data": {
      "text/plain": [
       "'양파'"
      ]
     },
     "execution_count": 95,
     "metadata": {},
     "output_type": "execute_result"
    }
   ],
   "source": [
    "list(recipe_ingredients_df.columns)[2]"
   ]
  },
  {
   "cell_type": "code",
   "execution_count": 107,
   "metadata": {},
   "outputs": [
    {
     "data": {
      "text/plain": [
       "'깨조금'"
      ]
     },
     "execution_count": 107,
     "metadata": {},
     "output_type": "execute_result"
    }
   ],
   "source": [
    "list(recipe_ingredients_df.columns)[217]"
   ]
  },
  {
   "cell_type": "code",
   "execution_count": 90,
   "metadata": {},
   "outputs": [
    {
     "data": {
      "text/plain": [
       "array([227, 226, 217,  29,  10,  27, 196, 207,  83,  47,  49, 138,  20,\n",
       "       177, 137,  60,  57,  89, 126,  93, 103,  70, 116, 119, 114,  95,\n",
       "       136, 164,  42, 185, 147, 153, 179, 150, 162, 198, 788, 161, 528,\n",
       "       121, 186,  73,  59,  30, 488, 519, 639, 486, 225, 284, 587, 411,\n",
       "       776, 799, 608, 598, 109, 679, 281, 634,  68,  38, 365, 526,  74,\n",
       "       117, 310, 588, 182, 462, 490,  46, 401, 826, 276, 237, 274, 653,\n",
       "       684,  18, 102, 134, 286, 730, 106, 430, 853, 533, 278, 705, 443,\n",
       "        96, 320, 792, 701,  22, 796, 575, 249, 341, 668, 724, 368, 381,\n",
       "       447, 130, 262, 318, 518, 571, 184, 839, 247,  79, 770, 364, 584,\n",
       "       408, 562, 579, 442, 793, 852,  86, 149, 350, 667, 638, 714, 560,\n",
       "       230, 475, 473, 718, 459, 550, 811, 585, 708, 206, 497, 741, 152,\n",
       "       204, 292, 374, 557, 496, 516, 189, 795, 637, 200, 603, 747, 455,\n",
       "       858, 821,  76, 521,  21, 244, 141, 337,  43, 651, 845, 202, 656,\n",
       "       831, 732, 686, 183,  97, 748, 702,  67, 536, 440, 168, 735, 745,\n",
       "       827, 604, 454, 425, 158, 304, 689, 316, 664, 716, 485, 506, 412,\n",
       "       492, 383,   9, 413, 199, 644, 834, 698, 803,   7, 523, 427, 360,\n",
       "       823, 836,  34, 145, 685, 775, 695, 474, 495, 387, 472, 599, 620,\n",
       "       797, 737, 703,  94, 694, 351,   8, 524, 169, 463, 323, 862, 354,\n",
       "       774, 623, 287, 493, 715, 329, 798, 491, 406, 167, 790,   6, 197,\n",
       "       259, 419,  28, 757, 662, 563, 617, 704, 234, 611, 105, 696, 296,\n",
       "       482, 754, 469, 477, 666, 458, 214, 216,   5, 437, 163, 157, 421,\n",
       "       231, 501, 794, 663,  91, 850, 645,  56, 370, 333,  77, 576,  58,\n",
       "       266, 144, 809, 478, 699,  82, 841, 282, 855, 781, 410, 674, 606,\n",
       "       470, 787,   2, 277, 123, 854, 677, 597,  92, 300, 253, 272, 549,\n",
       "       452, 672, 769,  71, 232, 573, 804, 782, 593, 363, 112, 428, 373,\n",
       "       399, 385, 580, 678, 631, 192, 241, 245, 297, 568, 768, 751, 303,\n",
       "       314, 325, 545, 313, 848, 224, 248, 294, 160, 763, 832, 291, 369,\n",
       "       590, 551, 409, 367, 772, 371, 591, 860, 254, 650, 512, 476,  41,\n",
       "       359,  50, 209,  37, 508, 464,  66, 661, 505, 321, 131, 380, 766,\n",
       "       135, 432, 345, 238, 338, 170, 801, 107, 607, 687, 422, 181, 742,\n",
       "       275, 546, 720, 273,  16, 194, 434, 824, 673, 270, 233, 302,  44,\n",
       "        85,  80, 520, 527,  78, 480, 211, 326, 175, 395,  90, 736, 843,\n",
       "       511, 236, 390, 407, 120, 739, 726, 564, 375, 342, 239, 621, 451,\n",
       "       250, 531, 324, 789, 819, 222, 612, 346, 581, 269, 561, 208, 426,\n",
       "       619,   0, 394, 210, 139, 802, 555, 176, 761, 271, 849, 510, 709,\n",
       "       212, 415, 744, 529, 583, 517, 155, 553, 220, 810,  25, 778, 820,\n",
       "       728, 605, 260,  31, 336, 773, 140, 503, 541, 676, 108, 445,  36,\n",
       "       749, 420, 311, 449, 755, 833, 127, 100, 379, 444,  24, 305, 574,\n",
       "       692, 439, 357, 721, 655, 629, 301, 815, 113,  35, 641, 648, 828,\n",
       "       332, 221, 441, 404, 251, 688, 750,  87, 340, 734,  63, 586,  15,\n",
       "       187, 807, 665,  13, 733, 647, 267, 539, 343, 349, 729,   3, 504,\n",
       "       847, 740, 115, 218, 752, 124,  84, 279, 652, 814, 165, 657, 690,\n",
       "       173,  61, 174, 201, 128, 646, 537,  40, 391,  19,   4, 193, 762,\n",
       "       487, 569, 767, 559, 628, 317, 308, 601, 738, 643, 356, 624, 460,\n",
       "       595, 658, 805,   1, 299, 448,  72, 509,  88, 156, 759, 713, 392,\n",
       "       746, 725, 315, 431, 765, 727, 242,  45, 195, 513, 203, 146,  69,\n",
       "       494, 190, 565, 339, 635, 613, 764,  26, 743,  52, 252, 816, 133,\n",
       "       118, 423, 615, 418, 592, 188, 110, 205, 618, 813, 697, 327, 846,\n",
       "       681,  54, 722, 461, 535, 143, 154, 159, 180,  75, 148, 172, 166,\n",
       "       171, 178, 151,  99, 191, 132, 125,  23, 111,  53, 142, 104,  98,\n",
       "       101,  62, 122,  81,  32,  48,  39,  64,  33,  55,  17, 129,  65,\n",
       "        11,  51,  12,  14, 213, 215, 223, 219, 228, 229, 246, 235, 240,\n",
       "       243, 256, 760, 312, 257, 758, 295, 265, 756, 264, 268, 298, 306,\n",
       "       307, 280, 293, 258, 283, 288, 289, 753, 290, 309, 263, 261, 285,\n",
       "       589, 800, 771, 861, 859, 857, 856, 851, 844, 842, 840, 838, 837,\n",
       "       835, 830, 829, 255, 825, 818, 817, 812, 808, 806, 791, 786, 785,\n",
       "       784, 783, 780, 779, 777, 822, 319, 335, 328, 525, 522, 630, 515,\n",
       "       632, 633, 514, 636, 507, 502, 640, 500, 642, 627, 499, 489, 484,\n",
       "       483, 649, 481, 479, 471, 468, 654, 467, 466, 465, 659, 498, 660,\n",
       "       626, 530, 578, 577, 572, 594, 570, 596, 567, 566, 600, 558, 602,\n",
       "       556, 554, 625, 552, 547, 544, 609, 610, 543, 542, 614, 616, 540,\n",
       "       538, 534, 622, 532, 548, 457, 456, 453, 382, 378, 377, 376, 372,\n",
       "       706, 707, 366, 362, 710, 711, 712, 361, 700, 358, 353, 717, 352,\n",
       "       719, 348, 347, 723, 344, 582, 334, 331, 330, 731, 355, 384, 386,\n",
       "       388, 450, 446, 438, 436, 435, 669, 670, 671, 433, 429, 424, 675,\n",
       "       417, 416, 680, 682, 683, 414, 405, 403, 402, 400, 398, 397, 691,\n",
       "       396, 693, 393, 389, 322, 863], dtype=int64)"
      ]
     },
     "execution_count": 90,
     "metadata": {},
     "output_type": "execute_result"
    }
   ],
   "source": [
    "result_c[2].argsort()"
   ]
  },
  {
   "cell_type": "code",
   "execution_count": 99,
   "metadata": {},
   "outputs": [],
   "source": [
    "result = a[:, :2].dot(np.diag(b[:2]))"
   ]
  },
  {
   "cell_type": "code",
   "execution_count": 103,
   "metadata": {},
   "outputs": [
    {
     "data": {
      "text/plain": [
       "array([[-1.12281872e-01,  2.77870316e-02],\n",
       "       [-9.61647860e-03,  4.76598236e-03],\n",
       "       [-4.54037855e-03,  1.58440713e-03],\n",
       "       ...,\n",
       "       [-1.79049703e+00,  2.20895726e+00],\n",
       "       [-5.98225730e-01,  2.64495843e-01],\n",
       "       [-3.56100223e-03,  1.18584492e-02]])"
      ]
     },
     "execution_count": 103,
     "metadata": {},
     "output_type": "execute_result"
    }
   ],
   "source": [
    "result "
   ]
  },
  {
   "cell_type": "code",
   "execution_count": 106,
   "metadata": {},
   "outputs": [
    {
     "data": {
      "text/plain": [
       "array([[-1.12281872e-01,  2.77870316e-02],\n",
       "       [-9.61647860e-03,  4.76598236e-03],\n",
       "       [-4.54037855e-03,  1.58440713e-03],\n",
       "       ...,\n",
       "       [-1.79049703e+00,  2.20895726e+00],\n",
       "       [-5.98225730e-01,  2.64495843e-01],\n",
       "       [-3.56100223e-03,  1.18584492e-02]])"
      ]
     },
     "execution_count": 106,
     "metadata": {},
     "output_type": "execute_result"
    }
   ],
   "source": [
    "result"
   ]
  },
  {
   "cell_type": "code",
   "execution_count": 105,
   "metadata": {},
   "outputs": [
    {
     "name": "stderr",
     "output_type": "stream",
     "text": [
      "C:\\Users\\HwijunKwon\\AppData\\Local\\Temp\\ipykernel_10564\\1422094236.py:3: RuntimeWarning: divide by zero encountered in log\n",
      "  plt.scatter(np.log(result[:, 0]), np.log(result[:, 1]))\n",
      "C:\\Users\\HwijunKwon\\AppData\\Local\\Temp\\ipykernel_10564\\1422094236.py:3: RuntimeWarning: invalid value encountered in log\n",
      "  plt.scatter(np.log(result[:, 0]), np.log(result[:, 1]))\n"
     ]
    },
    {
     "data": {
      "text/plain": [
       "<matplotlib.collections.PathCollection at 0x1739e6dcf90>"
      ]
     },
     "execution_count": 105,
     "metadata": {},
     "output_type": "execute_result"
    },
    {
     "data": {
      "image/png": "[encoded data removed]",
      "text/plain": [
       "<Figure size 640x480 with 1 Axes>"
      ]
     },
     "metadata": {},
     "output_type": "display_data"
    }
   ],
   "source": [
    "import matplotlib.pyplot as plt\n",
    "\n",
    "plt.scatter(np.log(result[:, 0]), np.log(result[:, 1]))\n",
    "\n",
    "#싸이킷런, 정규화, "
   ]
  }
 ],
 "metadata": {
  "kernelspec": {
   "display_name": "Python 3",
   "language": "python",
   "name": "python3"
  },
  "language_info": {
   "codemirror_mode": {
    "name": "ipython",
    "version": 3
   },
   "file_extension": ".py",
   "mimetype": "text/x-python",
   "name": "python",
   "nbconvert_exporter": "python",
   "pygments_lexer": "ipython3",
   "version": "3.11.1"
  }
 },
 "nbformat": 4,
 "nbformat_minor": 2
}
