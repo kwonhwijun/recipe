{
 "cells": [
  {
   "cell_type": "code",
   "execution_count": 1,
   "metadata": {},
   "outputs": [
    {
     "ename": "ModuleNotFoundError",
     "evalue": "No module named 'oracle'",
     "output_type": "error",
     "traceback": [
      "\u001b[1;31m---------------------------------------------------------------------------\u001b[0m",
      "\u001b[1;31mModuleNotFoundError\u001b[0m                       Traceback (most recent call last)",
      "Cell \u001b[1;32mIn[1], line 2\u001b[0m\n\u001b[0;32m      1\u001b[0m \u001b[38;5;28;01mimport\u001b[39;00m \u001b[38;5;21;01mpandas\u001b[39;00m \u001b[38;5;28;01mas\u001b[39;00m \u001b[38;5;21;01mpd\u001b[39;00m\n\u001b[1;32m----> 2\u001b[0m \u001b[38;5;28;01mfrom\u001b[39;00m \u001b[38;5;21;01moracle\u001b[39;00m \u001b[38;5;28;01mimport\u001b[39;00m oracleTopd\n\u001b[0;32m      4\u001b[0m data \u001b[38;5;241m=\u001b[39m oracleTopd(\u001b[38;5;124m'\u001b[39m\u001b[38;5;124mselect * from recipe_data_table where rownum <= 1000\u001b[39m\u001b[38;5;124m'\u001b[39m) \u001b[38;5;66;03m# 데이터 불러오기 (1000개, 15초)\u001b[39;00m\n",
      "\u001b[1;31mModuleNotFoundError\u001b[0m: No module named 'oracle'"
     ]
    }
   ],
   "source": [
    "import pandas as pd\n",
    "from oracle import oracleTopd\n",
    "\n",
    "data = oracleTopd('select * from recipe_data_table where rownum <= 1000') # 데이터 불러오기 (1000개, 15초)"
   ]
  },
  {
   "cell_type": "code",
   "execution_count": 69,
   "metadata": {},
   "outputs": [
    {
     "data": {
      "text/html": [
       "<div>\n",
       "<style scoped>\n",
       "    .dataframe tbody tr th:only-of-type {\n",
       "        vertical-align: middle;\n",
       "    }\n",
       "\n",
       "    .dataframe tbody tr th {\n",
       "        vertical-align: top;\n",
       "    }\n",
       "\n",
       "    .dataframe thead th {\n",
       "        text-align: right;\n",
       "    }\n",
       "</style>\n",
       "<table border=\"1\" class=\"dataframe\">\n",
       "  <thead>\n",
       "    <tr style=\"text-align: right;\">\n",
       "      <th></th>\n",
       "      <th>recipe_title</th>\n",
       "      <th>recipe_step</th>\n",
       "      <th>recipe_ingredients</th>\n",
       "    </tr>\n",
       "  </thead>\n",
       "  <tbody>\n",
       "    <tr>\n",
       "      <th>0</th>\n",
       "      <td>전복 탕수육 만들기</td>\n",
       "      <td>['#1 먼저, 전복 8마리를 준비해줍니다. 양이 모자랄까 걱정했는데, 두 명이 밥...</td>\n",
       "      <td>{'재료': ['전복8마리', '튀김가루2큰술', '물6큰술', '오이1/4개', ...</td>\n",
       "    </tr>\n",
       "    <tr>\n",
       "      <th>1</th>\n",
       "      <td>대패삼겹살튀김 독특한 요리</td>\n",
       "      <td>['#1 당근은 가늘게 채썰어 주세요', '#2 버섯도 얇게 편 썰어주세요', '#...</td>\n",
       "      <td>{'재료': ['대패삼겹살150g', '당근1/2개', '콩송이버섯1줌', '계란1...</td>\n",
       "    </tr>\n",
       "    <tr>\n",
       "      <th>2</th>\n",
       "      <td>팬더 익스프레스의 오렌지 치킨 만들기</td>\n",
       "      <td>['#1 오렌지 소스의 물, 간장, 설탕, 식초, 미림, 전분을 섞어둔다.', '#...</td>\n",
       "      <td>{'재료': ['닭고기300g', '소금1/4t', '후추약간', '올리브오일1t'...</td>\n",
       "    </tr>\n",
       "    <tr>\n",
       "      <th>3</th>\n",
       "      <td>추석요리, 탱탱하고 쫄깃한 식감의 새우튀김 &amp; 쥐포튀김</td>\n",
       "      <td>['#1 재료를 준비합니다.쥐포는 물에 5분정도 담가두세요.새우는 해동시켜 맛술 1...</td>\n",
       "      <td>{'재료': ['쥐포2장', '새우5미', '밀가루1컵', '빵가루1컵', '물1컵...</td>\n",
       "    </tr>\n",
       "    <tr>\n",
       "      <th>4</th>\n",
       "      <td>요알못도 할 수 있는 크리스피 오겹살 레시피</td>\n",
       "      <td>['#1 오겹살을 준비합니다.삼겹과 오겹의 차이는 껍질 유무입니다.우리는 껍질을 튀...</td>\n",
       "      <td>{'재료': ['돼지고기800g', '소금1소끔씩', '올리브오일5-8스푼']}</td>\n",
       "    </tr>\n",
       "  </tbody>\n",
       "</table>\n",
       "</div>"
      ],
      "text/plain": [
       "                     recipe_title  \\\n",
       "0                      전복 탕수육 만들기   \n",
       "1                  대패삼겹살튀김 독특한 요리   \n",
       "2            팬더 익스프레스의 오렌지 치킨 만들기   \n",
       "3  추석요리, 탱탱하고 쫄깃한 식감의 새우튀김 & 쥐포튀김   \n",
       "4        요알못도 할 수 있는 크리스피 오겹살 레시피   \n",
       "\n",
       "                                         recipe_step  \\\n",
       "0  ['#1 먼저, 전복 8마리를 준비해줍니다. 양이 모자랄까 걱정했는데, 두 명이 밥...   \n",
       "1  ['#1 당근은 가늘게 채썰어 주세요', '#2 버섯도 얇게 편 썰어주세요', '#...   \n",
       "2  ['#1 오렌지 소스의 물, 간장, 설탕, 식초, 미림, 전분을 섞어둔다.', '#...   \n",
       "3  ['#1 재료를 준비합니다.쥐포는 물에 5분정도 담가두세요.새우는 해동시켜 맛술 1...   \n",
       "4  ['#1 오겹살을 준비합니다.삼겹과 오겹의 차이는 껍질 유무입니다.우리는 껍질을 튀...   \n",
       "\n",
       "                                  recipe_ingredients  \n",
       "0  {'재료': ['전복8마리', '튀김가루2큰술', '물6큰술', '오이1/4개', ...  \n",
       "1  {'재료': ['대패삼겹살150g', '당근1/2개', '콩송이버섯1줌', '계란1...  \n",
       "2  {'재료': ['닭고기300g', '소금1/4t', '후추약간', '올리브오일1t'...  \n",
       "3  {'재료': ['쥐포2장', '새우5미', '밀가루1컵', '빵가루1컵', '물1컵...  \n",
       "4       {'재료': ['돼지고기800g', '소금1소끔씩', '올리브오일5-8스푼']}  "
      ]
     },
     "execution_count": 69,
     "metadata": {},
     "output_type": "execute_result"
    }
   ],
   "source": [
    "import random \n",
    "import numpy as np\n",
    "\n",
    "np.random.seed(77)\n",
    "toy = data[[\"recipe_title\", \"recipe_step\", \"recipe_ingredients\"]] # toy 데이터 만들기 표본 1000개\n",
    "toy.head()"
   ]
  },
  {
   "cell_type": "code",
   "execution_count": 8,
   "metadata": {},
   "outputs": [],
   "source": [
    "from konlpy.tag import Kkma, Komoran, Okt, Hannanum #Mecab은 윈도우에서 작동 불가능\n",
    "from gensim.models.doc2vec import TaggedDocument\n",
    "from tqdm import tqdm\n",
    "import re\n",
    "\n",
    "\n",
    "# kkma = Kkma()\n",
    "# komoran = Komoran()\n",
    "# hannanum = Hannanum()"
   ]
  },
  {
   "cell_type": "code",
   "execution_count": 70,
   "metadata": {},
   "outputs": [
    {
     "name": "stderr",
     "output_type": "stream",
     "text": [
      "100%|██████████| 1000/1000 [00:44<00:00, 22.56it/s]\n"
     ]
    }
   ],
   "source": [
    "okt = Okt()\n",
    "tagged_corpus_list = []\n",
    "cleaned_tagged_corpus_list = []\n",
    "\n",
    "for index, row in tqdm(toy.iterrows(), total=len(toy)):\n",
    "    cleaned_text = re.sub(r'[^A-Za-z0-9가-힣\\s]+', '', str(row['recipe_step']))\n",
    "    words = okt.morphs(cleaned_text)\n",
    "    tag = row['recipe_title']\n",
    "\n",
    "    # recipe_step의 길이가 0이 아니면 다음 작업을 수행합니다.\n",
    "    if len(words) != 0:\n",
    "        tagged_corpus_list.append(TaggedDocument(words=words, tags=[tag]))\n"
   ]
  },
  {
   "cell_type": "code",
   "execution_count": 38,
   "metadata": {},
   "outputs": [
    {
     "name": "stdout",
     "output_type": "stream",
     "text": [
      "Tag Size: 932 / "
     ]
    }
   ],
   "source": [
    "from gensim.models import doc2vec\n",
    "\n",
    "model = doc2vec.Doc2Vec(vector_size=300, alpha=0.025, min_alpha=0.025, workers=8, window=8)\n",
    "model.build_vocab(tagged_corpus_list) # Vocabulary 빌드\n",
    "\n",
    "print(f\"Tag Size: {len(model.dv.key_to_index)}\", end=' / ') # 수정된 부분: doctags 대신 key_to_index 사용\n",
    "\n",
    "model.train(tagged_corpus_list, total_examples=model.corpus_count, epochs=10) # Doc2Vec 학습\n",
    "model.save('recipe.doc2vec') # 모델 저장\n"
   ]
  },
  {
   "cell_type": "code",
   "execution_count": 80,
   "metadata": {},
   "outputs": [
    {
     "data": {
      "text/plain": [
       "[TaggedDocument(words=['1', '먼저', '전복', '8', '마리', '를', '준비', '해줍니다', '양', '이', '모자랄까', '걱정', '했는데', '두', '명', '이', '밥', '반찬', '으로', '먹기', '딱', '알맞은', '양', '이', '되더라구요', '2', '전', '복솔', '을', '이용', '해', '전복', '을', '깨끗이', '문질러', '씻어', '줍니다', '칫솔', '을', '이용', '해도', '되는데', '마침', '전', '복솔', '도', '함께', '보내주셔서', '이용', '해', '봤어요', '3', '숟가락', '을', '이용', '해', '전복', '살', '과', '껍데기', '를', '분리', '한', '후', '전복', '앞', '부분', '의', '빨간색', '이빨', '을', '칼', '로', '잘라', '냅니다', '4', '이제', '칼', '을', '이용', '해', '전복', '살', '과', '내장', '을', '분리', '해줍니다', '이', '때', '내장', '이', '터지지', '않도록', '주의', '해서', '분리', '해주셔야', '해', '요', '전복', '살', '은', '탕수육', '에', '쓸거구요', '전복', '내장', '은', '전복죽', '에', '쓸거예요', '5', '손질', '을', '마친', '전복', '살', '은', '칼집', '을', '내어', '주었구요', '키친', '타', '올로', '물기', '를', '꼼꼼히', '닦아주었어요', '또', '탕수육', '소스', '에', '쓸', '오이', '당근', '양파', '를', '썰어', '주었어요', '6', '튀김', '가루', '물', '을', '넣고', '잘', '섞어', '튀김', '반죽', '을', '만들어', '줍니다', '여기', '에', '손질', '한', '전복', '을', '넣어', '줍니다', '7', '후라이팬', '에', '포도', '씨유', '를', '넉넉히', '두르고', '튀김', '반죽', '입힌', '전복', '을', '앞뒤', '로', '노릇', '노릇', '하', '게', '튀겨', '냅니다', '기름', '이', '어찌나', '많이', '튀기던지', '나중', '에', '청소', '하기', '번거로웠던', '8', '냄비', '에', '물', '간장', '설탕', '을', '넣고', '끓여', '줍니다', '한소끔', '끓어', '오르면', '야채', '를', '넣어', '줍니다', '9', '녹말', '물', '을', '넣어', '농도', '를', '맞춘', '후', '식초', '를', '넣어', '새', '콤함', '을', '더', '해줍니다', '그리고', '한소끔', '더', '끓여주면', '탕수육', '소스', '가', '완성', '됩니다', '10', '제', '가', '원래', '옥수수', '전분', '을', '1', '큰', '술', '넣었거든요', '그', '래서', '인지', '너무', '걸쭉하게', '완성', '된', '소스', '좀', '더', '묽은', '소스', '를', '만들기', '원하시는', '분', '들', '은', '옥수수', '전분', '양', '을', '좀', '줄여주시면', '좋을듯', '해', '요', '11', '접시', '에', '깨끗이', '씻은', '쑥갓', '을', '올리고', '잘', '튀겨진', '전복', '을', '올려주었어요', '쑥갓', '은', '데코', '용이', '니', '없어도', '무방', '한', '12', '전복', '위', '에', '탕수육', '소스', '를', '부어', '열심히', '사진', '찍고', '난', '후'], tags=['전복 탕수육 만들기']),\n",
       " TaggedDocument(words=['1', '당근', '은', '가늘게', '채', '썰어', '주세요', '2', '버섯', '도', '얇게', '편', '썰어주세요', '3', '대패', '삼겹살', '에', '앞뒤', '로', '밀가루', '옷', '을', '입혀주세요', '4', '튀김', '반죽', '을', '만들어주세요', '밀가루', '2', 'T', '계란', '1', '소금', '한', '꼬집', '후추', '조금', '그리고', '얼음', '2', '개', '를', '넣고', '밀가루', '를', '풀어주세요', '5', '당근', '은', '소금', '한', '꼬집을', '넣어서', '볶아주세요', '6', '버섯', '도', '후추', '를', '조금', '뿌려', '볶아주세요', '7', '튀김', '반죽', '에', '밀가루', '옷', '을', '입힌', '대패', '삼겹살', '을', '앞뒤', '로', '튀김', '옷', '을', '입혀주세요', '8', '기름', '을', '충분히', '두른', '팬', '에', '굽듯이', '튀겨주세요', '9', '대패', '삼겹살', '이라서', '금방', '익어요', '튀김', '옷', '이', '노릇', '하게', '구워졌다면', '다', '익은거랍니다', '10', '다', '구워진', '대패', '삼겹살', '튀김', '은', '키친', '타월', '을', '이용', '해', '기름', '을', '빼주세요', '11', '대패', '삼겹살', '튀김', '과', '볶은', '당근', '볶은', '버섯', '을', '곁들여', '마늘', '소스', '에', '찍어', '드시면', '됩니다'], tags=['대패삼겹살튀김 독특한 요리']),\n",
       " TaggedDocument(words=['1', '오렌지', '소스', '의', '물', '간장', '설탕', '식초', '미림', '전분', '을', '섞어', '둔다', '2', '오렌지', '껍질', '을', '깨끗이', '씻어서', '강판', '에', '갈아놓음', '3', '닭고기', '는', '한', '입', '크기', '로', '썰어놓고', '4', '소금', '후추', '계란', '오일', '을', '넣고', '조물조물', '섞는다', '계란', '은', '풀어서', '2', 'T', '넣어도', '되고', '흰자', '만', '넣어도', '됨', '5', '비닐', '팩', '에', '밀가루', '와', '전분', '가루', '를', '넣고', '잘', '섞은', '뒤', '닭고기', '도', '넣고', '흔들어', '가루', '를', '골고루', '묻힌다', '6', '요렇게', '되면', '됩니다', '7', '냄비', '에', '오일', '을', '붓고', '오일이', '달궈지면', '닭고기', '를', '하나', '씩', '넣고', '튀긴다', '첫', '번째', '배치', '8', '두번째', '배치', '들', '9', '한번', '튀기고', '싶으면', '한번', '만', '튀겨도', '되고', '나', '는', '굳이', '두', '번', '튀겨', '줌', '요게', '1', '차', '튀김', '10', '2', '차', '튀김', '11', '생강', '마늘', '다진', '파', '건고', '추는', '오일', '1', 'T', '를', '두른', '뒤', '볶는다', '건고', '추는', '주로', '부수', '어', '넣는데', '오늘', '은', '통째', '로', '넣어', '봄', '12', '향', '이', '올라오면', '섞어', '둔', '소스', '를', '붓고', '13', '소스', '가', '투명해지면', '오렌지', '제스트', '도', '넣고', '튀긴', '닭', '을', '넣어', '버무리', '면', '된다', '14', '요', '래', '요', '래', '15', '쌀밥', '과', '함께', '혹은', '볶음밥', '이나', '차우', '메인', '같은', '볶음', '면', '과', '함께', '먹으면', '딱', '개인', '적', '으로는', '오렌지', '치킨', '차우', '메인', '익힌', '채소', '요렇게', '가장', '좋음', '16', '반', '딱', '반', '딱', '윤기', '가', '흐르는', '치킨', '은', '파', '와', '깨', '를', '뿌려', '마무리', '17', '밥', '과', '함께면', '대략', '2', '인분', '정도', '닭', '만', '먹는다면', '1', '인분', '정도', '의', '양', '18', '왜', '치킨', '프랜차이즈', '에선', '오렌지', '치킨', '을', '개발', '하지', '않는지', '의문', '19', '곁들인', '밥', '은', '바', '스마', '티', '쌀', '로', '지었다', '쌀', '한', '컵', '에', '물', '한', '컵', '넣고', '압력', '기능', '을', '안', '쓰는', '김초밥', '코스', '로', '취사', '했더니', '완전', '폴폴', '날리는', '맛있는', '밥', '이', '됨', '20', '아', '하세요', '치킨', '들어갑니다'], tags=['팬더 익스프레스의 오렌지 치킨 만들기'])]"
      ]
     },
     "execution_count": 80,
     "metadata": {},
     "output_type": "execute_result"
    }
   ],
   "source": [
    "tagged_corpus_list[:3]"
   ]
  },
  {
   "cell_type": "code",
   "execution_count": 88,
   "metadata": {},
   "outputs": [
    {
     "ename": "TypeError",
     "evalue": "'builtin_function_or_method' object is not iterable",
     "output_type": "error",
     "traceback": [
      "\u001b[1;31m---------------------------------------------------------------------------\u001b[0m",
      "\u001b[1;31mTypeError\u001b[0m                                 Traceback (most recent call last)",
      "\u001b[1;32mc:\\Users\\HwijunKwon\\inisw\\recipe\\models\\embedding.ipynb Cell 7\u001b[0m line \u001b[0;36m1\n\u001b[1;32m----> <a href='vscode-notebook-cell:/c%3A/Users/HwijunKwon/inisw/recipe/models/embedding.ipynb#X40sZmlsZQ%3D%3D?line=0'>1</a>\u001b[0m \u001b[39mlist\u001b[39;49m(model\u001b[39m.\u001b[39;49mdv\u001b[39m.\u001b[39;49mkey_to_index\u001b[39m.\u001b[39;49mkeys)\n",
      "\u001b[1;31mTypeError\u001b[0m: 'builtin_function_or_method' object is not iterable"
     ]
    }
   ],
   "source": [
    "list(model.dv.key_to_index.keys)"
   ]
  },
  {
   "cell_type": "code",
   "execution_count": 90,
   "metadata": {},
   "outputs": [
    {
     "name": "stdout",
     "output_type": "stream",
     "text": [
      "[('(집에서 즐기는 술안주) 닭똥집튀김', 0.7849906086921692), ('오징어탕수육', 0.7761306166648865), ('야식이나 맥주안주로 스팸튀김 꼬치', 0.7730869054794312), ('집에서 닭튀김 :) 깐풍소스와 함께 먹어요 !', 0.7661173343658447), ('씹고 뜯고 맛보고! 역시 치킨은 만화치킨이지! 만화속닭다리치킨', 0.761171281337738), ('굴전', 0.7398727536201477), ('매콤한 핫 깐풍기', 0.736855685710907), ('두반장소스 활용 요리/ 매운 조기탕수', 0.731732964515686), ('이길수 밖에 없는 조합 \"마약 닭 다리\" 레시피', 0.7288693785667419), ('고구마롤 돈까스', 0.7259566187858582)]\n"
     ]
    }
   ],
   "source": [
    "similar_doc = model.dv.most_similar('전복 탕수육 만들기')\n",
    "print(similar_doc)"
   ]
  },
  {
   "cell_type": "code",
   "execution_count": 92,
   "metadata": {},
   "outputs": [
    {
     "name": "stdout",
     "output_type": "stream",
     "text": [
      "[('가지튀김/백종원레시피', 0.8012381792068481), ('고구마롤 돈까스', 0.7966592907905579), ('해피투게더 야간매점 이민우 마마밥', 0.7921081781387329), ('든든한 영양간식~ 달걀돈까스', 0.7920870780944824), ('진짜 오징어 튀김을 상큼한 소스와 함께! 크리미어니언오징어링', 0.7861824035644531), ('탕수육', 0.7842554450035095), ('닭가슴살 치킨까스', 0.7822151780128479), ('닭가슴살 치킨까스 만들기', 0.7818322777748108), ('술안주로 딱 좋은 스위트콘전 레시피!', 0.7778521776199341), ('겉바속촉 애호박새우튀김!', 0.7778517007827759)]\n"
     ]
    }
   ],
   "source": [
    "similar_doc_2 = model.dv.most_similar('대패삼겹살튀김 독특한 요리')\n",
    "print(similar_doc_2)"
   ]
  },
  {
   "cell_type": "markdown",
   "metadata": {},
   "source": [
    "### 해결해야할 과제\n",
    "\n",
    "\n",
    "1. 레시피에서 하는 요리에 대한 정의가 필요함\n",
    "  - 레시피 타이틀 전처리\n",
    "  - 레시피 태그 전처리 \n",
    "2. 레시피에 따라서 2인분, 3인분, 4인분 다양함"
   ]
  },
  {
   "cell_type": "code",
   "execution_count": 65,
   "metadata": {},
   "outputs": [
    {
     "data": {
      "text/plain": [
       "2인분       57219\n",
       "4인분       31408\n",
       "1인분       25937\n",
       "3인분       19687\n",
       "6인분 이상    16377\n",
       "5인분        3670\n",
       "Name: recipe_summary1, dtype: int64"
      ]
     },
     "execution_count": 65,
     "metadata": {},
     "output_type": "execute_result"
    }
   ],
   "source": [
    "data[\"recipe_summary1\"].value_counts()"
   ]
  },
  {
   "cell_type": "markdown",
   "metadata": {},
   "source": [
    "### 영양소를 고려한 임베딩"
   ]
  },
  {
   "cell_type": "code",
   "execution_count": 177,
   "metadata": {},
   "outputs": [],
   "source": [
    "toy = data[[\"recipe_title\", \"recipe_ingredients\"]].iloc[:1000].copy()"
   ]
  },
  {
   "cell_type": "code",
   "execution_count": 178,
   "metadata": {},
   "outputs": [],
   "source": [
    "# 식재료 칼럼 만들기 (20개)\n",
    "for i in range(1, 21):\n",
    "    toy.loc[:, f'ingredient{i}'] = None\n",
    "    toy.loc[:, f'quantity{i}'] = None\n",
    "    toy.loc[:, f'unit{i}'] = None\n"
   ]
  },
  {
   "cell_type": "code",
   "execution_count": 191,
   "metadata": {},
   "outputs": [
    {
     "name": "stderr",
     "output_type": "stream",
     "text": [
      "100%|██████████| 1000/1000 [00:03<00:00, 254.42it/s]"
     ]
    },
    {
     "name": "stdout",
     "output_type": "stream",
     "text": [
      "Row 34: ​고추가루1/2큰술\n",
      "Row 258: (소주or맛술)1큰술\n",
      "Row 302: ﻿대파조금\n",
      "Row 367: 18배멸치육수2T\n",
      "Row 424: ​간장2수저\n",
      "Row 598: \n",
      "Row 837: \n",
      "Row 892: \n",
      "Row 895: ​식용유1큰술\n"
     ]
    },
    {
     "name": "stderr",
     "output_type": "stream",
     "text": [
      "\n"
     ]
    }
   ],
   "source": [
    "import tqdm\n",
    "import re\n",
    "import ast\n",
    "non_matching_items =[]\n",
    "for idx, row in tqdm.tqdm(toy.iterrows(), total=toy.shape[0]):\n",
    "    ingredients_dict = ast.literal_eval(row[\"recipe_ingredients\"])\n",
    "    ingredient_count = 1\n",
    "    for category, items in ingredients_dict.items():\n",
    "        if items:  # 아이템이 존재하는 경우\n",
    "            for item in items:\n",
    "                # 숫자가 포함된 경우와 숫자가 없는 경우 모두 처리\n",
    "                match = re.match(r'([가-힣]+(\\([가-힣]+\\))?)([\\d.+/~-]*)([가-힣a-zA-Z]+|약간|조금)?', item)\n",
    "                if match:\n",
    "                    ingredient, _, quantity, unit = match.groups()\n",
    "                    \n",
    "                    toy.at[idx, f'ingredient{ingredient_count}'] = ingredient\n",
    "                    toy.at[idx, f'quantity{ingredient_count}'] = quantity if quantity else \"\"  # 숫자가 없는 경우 빈 문자열 할당\n",
    "                    toy.at[idx, f'unit{ingredient_count}'] = unit if unit else \"\"  # 단위가 없는 경우 빈 문자열 할당\n",
    "\n",
    "                    ingredient_count += 1\n",
    "                else:\n",
    "                    non_matching_items[idx] = item\n",
    "\n",
    "for idx, item in non_matching_items.items():\n",
    "    print(f'Row {idx}: {item}')\n",
    "\n"
   ]
  }
 ],
 "metadata": {
  "kernelspec": {
   "display_name": "Python 3",
   "language": "python",
   "name": "python3"
  },
  "language_info": {
   "codemirror_mode": {
    "name": "ipython",
    "version": 3
   },
   "file_extension": ".py",
   "mimetype": "text/x-python",
   "name": "python",
   "nbconvert_exporter": "python",
   "pygments_lexer": "ipython3",
   "version": "3.11.4"
  }
 },
 "nbformat": 4,
 "nbformat_minor": 2
}
