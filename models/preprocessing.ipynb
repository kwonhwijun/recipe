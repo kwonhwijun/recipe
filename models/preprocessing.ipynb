{
 "cells": [
  {
   "cell_type": "markdown",
   "metadata": {},
   "source": [
    "### recipe_ingredients 전처리\n",
    "1. 이상한 문자열 제거(uf2ff, u200b)\n",
    "2. 식재료 칼럼 만들기(ingrdient, quantity, unit)\n",
    "3. recipe_ingredients 칼럼을 식재료 칼럼으로 나누기\n",
    "   - (정규표현식: '([가-힣]+(\\([가-힣]+\\))?)([\\d.+/~-]*)([가-힣a-zA-Z]+|약간|조금)?')\n",
    "   - 1000개에 3초 (-> 11만개 330초 정도)\n",
    "4. 어떤 단위가 있는지 확인\n",
    "\n",
    "논의할 부분\n",
    "1. 개, 컵, 줄 등은 식재료에 따라서 용량이 달라지는 문제\n",
    "2. 용량이 없거나, 약간, 조금처럼 표현하는 것을 어떻게 처리할지 -> (일단은 median or 최빈값으로 대체)"
   ]
  },
  {
   "cell_type": "code",
   "execution_count": 4,
   "metadata": {},
   "outputs": [],
   "source": [
    "import pandas as pd\n",
    "data = pd.read_csv(r'C:\\Users\\HwijunKwon\\Downloads\\RecipeData.csv')\n",
    "toy = data[[\"recipe_title\", \"recipe_ingredients\"]].iloc[:1000].copy()"
   ]
  },
  {
   "cell_type": "code",
   "execution_count": 5,
   "metadata": {},
   "outputs": [],
   "source": [
    "# 1. 이상한 문자열 제거\n",
    "\n",
    "toy[\"recipe_ingredients\"] = toy[\"recipe_ingredients\"].apply(lambda x: x.replace('\\\\ufeff', '').replace('\\\\u200b', ''))\n"
   ]
  },
  {
   "cell_type": "code",
   "execution_count": 6,
   "metadata": {},
   "outputs": [],
   "source": [
    "# 2.식재료 칼럼 만들기 (20개)\n",
    "for i in range(1, 21):\n",
    "    toy.loc[:, f'ingredient{i}'] = None\n",
    "    toy.loc[:, f'quantity{i}'] = None\n",
    "    toy.loc[:, f'unit{i}'] = None\n"
   ]
  },
  {
   "cell_type": "code",
   "execution_count": 7,
   "metadata": {},
   "outputs": [
    {
     "data": {
      "text/plain": [
       "\"{'재료': ['건새우50g', '물1/4컵', '마늘종300g', '소금1/3큰술'], '양념재료': ['설탕2큰술', '간장4큰술', '식용유4큰술', '참기름2큰술', '물엿1+1/2큰술', '통깨1큰술']}\""
      ]
     },
     "execution_count": 7,
     "metadata": {},
     "output_type": "execute_result"
    }
   ],
   "source": [
    "toy[\"recipe_ingredients\"][1]"
   ]
  },
  {
   "cell_type": "code",
   "execution_count": 4,
   "metadata": {},
   "outputs": [
    {
     "name": "stderr",
     "output_type": "stream",
     "text": [
      "  0%|          | 0/1000 [00:00<?, ?it/s]"
     ]
    },
    {
     "name": "stderr",
     "output_type": "stream",
     "text": [
      "100%|██████████| 1000/1000 [00:04<00:00, 236.83it/s]"
     ]
    },
    {
     "name": "stdout",
     "output_type": "stream",
     "text": [
      "Row 258: (소주or맛술)1큰술\n",
      "Row 367: 18배멸치육수2T\n",
      "Row 598: \n",
      "Row 837: \n",
      "Row 892: \n"
     ]
    },
    {
     "name": "stderr",
     "output_type": "stream",
     "text": [
      "\n"
     ]
    }
   ],
   "source": [
    "# 3. 식재료 칼럼 쪼개기\n",
    "from tqdm import tqdm\n",
    "import ast\n",
    "import re\n",
    "\n",
    "# 패턴과 일치하지 않는 데이터를 저장할 딕셔너리\n",
    "non_matching_items = {}\n",
    "\n",
    "for idx, row in tqdm(toy.iterrows(), total=toy.shape[0]): #tqdm으로 진행상황 확인\n",
    "    ingredients_dict = ast.literal_eval(row[\"recipe_ingredients\"])  # row[\"recipe_ingredients\"] :{'재료': ['건새우50g', '물1/4컵', ...], '양념재료': ['설탕2큰술', '간장4큰술', ...}\"\n",
    "    ingredient_count = 1\n",
    "    for category, items in ingredients_dict.items():\n",
    "        if items:  # 아이템이 존재하는 경우\n",
    "            for item in items:\n",
    "                match = re.match(r'([가-힣]+(\\([가-힣]+\\))?)([\\d.+/~-]*)([가-힣a-zA-Z]+|약간|조금)?', item)\n",
    "                if match:\n",
    "                    ingredient, _, quantity, unit = match.groups()\n",
    "                    \n",
    "                    toy.at[idx, f'ingredient{ingredient_count}'] = ingredient\n",
    "                    toy.at[idx, f'quantity{ingredient_count}'] = quantity\n",
    "                    toy.at[idx, f'unit{ingredient_count}'] = unit\n",
    "\n",
    "                    ingredient_count += 1\n",
    "                else:\n",
    "                    # 패턴과 일치하지 않는 경우 딕셔너리에 추가\n",
    "                    non_matching_items[idx] = item\n",
    "\n",
    "# 패턴과 일치하지 않는 데이터 출력\n",
    "for idx, item in non_matching_items.items():\n",
    "    print(f'Row {idx}: {item}')\n"
   ]
  },
  {
   "cell_type": "code",
   "execution_count": 9,
   "metadata": {},
   "outputs": [
    {
     "data": {
      "text/html": [
       "<div>\n",
       "<style scoped>\n",
       "    .dataframe tbody tr th:only-of-type {\n",
       "        vertical-align: middle;\n",
       "    }\n",
       "\n",
       "    .dataframe tbody tr th {\n",
       "        vertical-align: top;\n",
       "    }\n",
       "\n",
       "    .dataframe thead th {\n",
       "        text-align: right;\n",
       "    }\n",
       "</style>\n",
       "<table border=\"1\" class=\"dataframe\">\n",
       "  <thead>\n",
       "    <tr style=\"text-align: right;\">\n",
       "      <th></th>\n",
       "      <th>recipe_title</th>\n",
       "      <th>recipe_ingredients</th>\n",
       "      <th>ingredient1</th>\n",
       "      <th>quantity1</th>\n",
       "      <th>unit1</th>\n",
       "      <th>ingredient2</th>\n",
       "      <th>quantity2</th>\n",
       "      <th>unit2</th>\n",
       "      <th>ingredient3</th>\n",
       "      <th>quantity3</th>\n",
       "      <th>...</th>\n",
       "      <th>unit17</th>\n",
       "      <th>ingredient18</th>\n",
       "      <th>quantity18</th>\n",
       "      <th>unit18</th>\n",
       "      <th>ingredient19</th>\n",
       "      <th>quantity19</th>\n",
       "      <th>unit19</th>\n",
       "      <th>ingredient20</th>\n",
       "      <th>quantity20</th>\n",
       "      <th>unit20</th>\n",
       "    </tr>\n",
       "  </thead>\n",
       "  <tbody>\n",
       "    <tr>\n",
       "      <th>0</th>\n",
       "      <td>비빔밥재료 애호박나물 애호박볶음 아삭거리게 볶는 방법</td>\n",
       "      <td>{'재료': ['애호박1개', '다진마늘0.5큰술', '소금0.5큰술', '참기름1...</td>\n",
       "      <td>애호박</td>\n",
       "      <td>1</td>\n",
       "      <td>개</td>\n",
       "      <td>다진마늘</td>\n",
       "      <td>0.5</td>\n",
       "      <td>큰술</td>\n",
       "      <td>소금</td>\n",
       "      <td>0.5</td>\n",
       "      <td>...</td>\n",
       "      <td>None</td>\n",
       "      <td>None</td>\n",
       "      <td>None</td>\n",
       "      <td>None</td>\n",
       "      <td>None</td>\n",
       "      <td>None</td>\n",
       "      <td>None</td>\n",
       "      <td>None</td>\n",
       "      <td>None</td>\n",
       "      <td>None</td>\n",
       "    </tr>\n",
       "    <tr>\n",
       "      <th>1</th>\n",
       "      <td>[마늘종볶음]단짠단짠 자꾸만 손이가요~</td>\n",
       "      <td>{'재료': ['건새우50g', '물1/4컵', '마늘종300g', '소금1/3큰술...</td>\n",
       "      <td>건새우</td>\n",
       "      <td>50</td>\n",
       "      <td>g</td>\n",
       "      <td>물</td>\n",
       "      <td>1/4</td>\n",
       "      <td>컵</td>\n",
       "      <td>마늘종</td>\n",
       "      <td>300</td>\n",
       "      <td>...</td>\n",
       "      <td>None</td>\n",
       "      <td>None</td>\n",
       "      <td>None</td>\n",
       "      <td>None</td>\n",
       "      <td>None</td>\n",
       "      <td>None</td>\n",
       "      <td>None</td>\n",
       "      <td>None</td>\n",
       "      <td>None</td>\n",
       "      <td>None</td>\n",
       "    </tr>\n",
       "    <tr>\n",
       "      <th>2</th>\n",
       "      <td>백종원의 부추 달걀 볶음</td>\n",
       "      <td>{'재료': ['부추1줌', '달걀4개', '식용유2큰술', '밥2공기'], '양념...</td>\n",
       "      <td>부추</td>\n",
       "      <td>1</td>\n",
       "      <td>줌</td>\n",
       "      <td>달걀</td>\n",
       "      <td>4</td>\n",
       "      <td>개</td>\n",
       "      <td>식용유</td>\n",
       "      <td>2</td>\n",
       "      <td>...</td>\n",
       "      <td>None</td>\n",
       "      <td>None</td>\n",
       "      <td>None</td>\n",
       "      <td>None</td>\n",
       "      <td>None</td>\n",
       "      <td>None</td>\n",
       "      <td>None</td>\n",
       "      <td>None</td>\n",
       "      <td>None</td>\n",
       "      <td>None</td>\n",
       "    </tr>\n",
       "  </tbody>\n",
       "</table>\n",
       "<p>3 rows × 62 columns</p>\n",
       "</div>"
      ],
      "text/plain": [
       "                    recipe_title  \\\n",
       "0  비빔밥재료 애호박나물 애호박볶음 아삭거리게 볶는 방법   \n",
       "1          [마늘종볶음]단짠단짠 자꾸만 손이가요~   \n",
       "2                  백종원의 부추 달걀 볶음   \n",
       "\n",
       "                                  recipe_ingredients ingredient1 quantity1  \\\n",
       "0  {'재료': ['애호박1개', '다진마늘0.5큰술', '소금0.5큰술', '참기름1...         애호박         1   \n",
       "1  {'재료': ['건새우50g', '물1/4컵', '마늘종300g', '소금1/3큰술...         건새우        50   \n",
       "2  {'재료': ['부추1줌', '달걀4개', '식용유2큰술', '밥2공기'], '양념...          부추         1   \n",
       "\n",
       "  unit1 ingredient2 quantity2 unit2 ingredient3 quantity3  ... unit17  \\\n",
       "0     개        다진마늘       0.5    큰술          소금       0.5  ...   None   \n",
       "1     g           물       1/4     컵         마늘종       300  ...   None   \n",
       "2     줌          달걀         4     개         식용유         2  ...   None   \n",
       "\n",
       "  ingredient18 quantity18 unit18 ingredient19 quantity19 unit19 ingredient20  \\\n",
       "0         None       None   None         None       None   None         None   \n",
       "1         None       None   None         None       None   None         None   \n",
       "2         None       None   None         None       None   None         None   \n",
       "\n",
       "  quantity20 unit20  \n",
       "0       None   None  \n",
       "1       None   None  \n",
       "2       None   None  \n",
       "\n",
       "[3 rows x 62 columns]"
      ]
     },
     "execution_count": 9,
     "metadata": {},
     "output_type": "execute_result"
    }
   ],
   "source": [
    "toy.head(3)"
   ]
  },
  {
   "cell_type": "code",
   "execution_count": 16,
   "metadata": {},
   "outputs": [],
   "source": [
    "# csv 파일로 저장\n",
    "toy.to_csv(\"data/toy.csv\", index=False)"
   ]
  },
  {
   "cell_type": "code",
   "execution_count": 10,
   "metadata": {},
   "outputs": [],
   "source": [
    "# 식재료 단위 집합\n",
    "combined_units = []\n",
    "for pair in zip(toy['unit1'], toy['unit2']) :\n",
    "    for unit in pair :\n",
    "        combined_units.append(unit)\n",
    "\n",
    "unique_units = list(set(combined_units))"
   ]
  },
  {
   "cell_type": "code",
   "execution_count": 11,
   "metadata": {},
   "outputs": [
    {
     "name": "stdout",
     "output_type": "stream",
     "text": [
      "개: 625번\n",
      "큰술: 94번\n",
      "g: 379번\n",
      "컵: 38번\n",
      "줌: 61번\n",
      "줄: 11번\n",
      "None: 219번\n",
      "통: 5번\n",
      "공기: 7번\n",
      "봉지: 31번\n",
      "모: 7번\n",
      "그람: 6번\n",
      "T: 60번\n",
      "Ts: 6번\n",
      "팩: 32번\n",
      "주먹: 13번\n",
      "t: 8번\n",
      "대접: 5번\n",
      "스푼: 37번\n",
      "쪽: 8번\n",
      "수저: 8번\n",
      "개정도: 7번\n",
      "g정도: 2번\n",
      "TS: 4번\n",
      "조각: 4번\n",
      "알: 8번\n",
      "대: 19번\n",
      "g가량: 1번\n",
      "티스푼: 1번\n",
      "송이: 14번\n",
      "줄기: 4번\n",
      "장: 114번\n",
      "그램: 9번\n",
      "웅큼: 3번\n",
      "캔: 11번\n",
      "숟갈: 6번\n",
      "봉: 16번\n",
      "바구니: 1번\n",
      "마리: 10번\n",
      "천원어치: 1번\n",
      "덩이: 1번\n",
      "근: 2번\n",
      "사발: 1번\n",
      "소주컵: 1번\n",
      "단: 7번\n",
      "밥숟가락: 2번\n",
      "뿌리: 7번\n",
      "통약간더: 1번\n",
      "토막: 3번\n",
      "묶음: 3번\n",
      "개반: 2번\n",
      "밥숟갈: 2번\n",
      "숟가락: 9번\n",
      "줌정도: 2번\n",
      "알정도: 1번\n",
      "장분량정도: 1번\n",
      "포기: 10번\n",
      "꼬집: 4번\n",
      "개또는반대: 1번\n",
      "넉넉히: 1번\n",
      "크술: 1번\n",
      "작은술: 4번\n",
      "잔: 1번\n",
      "ml: 3번\n",
      "타래: 1번\n",
      "g간장: 1번\n",
      "대접정도: 1번\n",
      "접시: 1번\n",
      "봉or: 1번\n",
      "개작으면: 1번\n",
      "소고기: 1번\n",
      "ts: 1번\n",
      "개작은것은: 1번\n",
      "분의: 1번\n",
      "cm: 2번\n",
      "톨: 1번\n",
      "g한봉지: 1번\n",
      "움큼: 1번\n",
      "종이컵: 6번\n",
      "덩어리: 1번\n",
      "kg: 1번\n",
      "G: 1번\n",
      "주먹정도: 1번\n",
      "줌반: 1번\n",
      "그릇: 3번\n",
      "키로: 2번\n",
      "식용유: 1번\n",
      "큰국그릇: 1번\n",
      "큰컵: 1번\n",
      "cm길이: 1번\n"
     ]
    }
   ],
   "source": [
    "from collections import Counter\n",
    "\n",
    "unit_counts = Counter(combined_units)\n",
    "for unit, count in unit_counts.items():\n",
    "    print(f\"{unit}: {count}번\")"
   ]
  },
  {
   "cell_type": "markdown",
   "metadata": {},
   "source": []
  }
 ],
 "metadata": {
  "kernelspec": {
   "display_name": "Python 3",
   "language": "python",
   "name": "python3"
  },
  "language_info": {
   "codemirror_mode": {
    "name": "ipython",
    "version": 3
   },
   "file_extension": ".py",
   "mimetype": "text/x-python",
   "name": "python",
   "nbconvert_exporter": "python",
   "pygments_lexer": "ipython3",
   "version": "3.11.1"
  }
 },
 "nbformat": 4,
 "nbformat_minor": 2
}
