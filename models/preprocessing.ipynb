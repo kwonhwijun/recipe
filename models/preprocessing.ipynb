{
 "cells": [
  {
   "cell_type": "markdown",
   "metadata": {},
   "source": [
    "### recipe_ingredients 전처리 (시험)\n",
    "1. 이상한 문자열 제거(uf2ff, u200b)\n",
    "2. 식재료 칼럼 만들기(ingrdient, quantity, unit)\n",
    "3. recipe_ingredients 칼럼을 식재료 칼럼으로 나누기\n",
    "   - (정규표현식: '([가-힣]+(\\([가-힣]+\\))?)([\\d.+/~-]*)([가-힣a-zA-Z]+|약간|조금)?')\n",
    "   - 1000개에 3초 (-> 11만개 330초 정도)\n",
    "4. 어떤 단위가 있는지 확인\n",
    "\n",
    "논의할 부분\n",
    "1. 개, 컵, 줄 등은 식재료에 따라서 용량이 달라지는 문제\n",
    "2. 용량이 없거나, 약간, 조금처럼 표현하는 것을 어떻게 처리할지 -> (일단은 median or 최빈값으로 대체)"
   ]
  },
  {
   "cell_type": "code",
   "execution_count": 67,
   "metadata": {},
   "outputs": [],
   "source": []
  },
  {
   "cell_type": "code",
   "execution_count": 68,
   "metadata": {},
   "outputs": [],
   "source": [
    "nutri = oracleTopd('select * from nutrient_filter_table where rownum <= 100')\n",
    "recipe = oracleTopd('select * from recipe_data_table where rownum <= 100')"
   ]
  },
  {
   "cell_type": "code",
   "execution_count": null,
   "metadata": {},
   "outputs": [],
   "source": [
    "data"
   ]
  },
  {
   "cell_type": "code",
   "execution_count": 71,
   "metadata": {},
   "outputs": [
    {
     "data": {
      "text/plain": [
       "Index(['RECIPE_URL', 'RECIPE_TITLE', 'RECIPE_SUMMARY1', 'RECIPE_SUMMARY2',\n",
       "       'RECIPE_SUMMARY3', 'RECIPE_INGREDIENTS', 'RECIPE_STEP', 'RECIPE_TAG',\n",
       "       'RECIPE_COMMENT', 'RECIPE_VIEW', 'RECIPE_CATEGORY_TYPE',\n",
       "       'RECIPE_CATEGORY_METHOD', 'RECIPE_CATEGORY_SITUATION'],\n",
       "      dtype='object')"
      ]
     },
     "execution_count": 71,
     "metadata": {},
     "output_type": "execute_result"
    }
   ],
   "source": [
    "toy.columns"
   ]
  },
  {
   "cell_type": "code",
   "execution_count": 65,
   "metadata": {},
   "outputs": [
    {
     "ename": "KeyError",
     "evalue": "'recipe_ingredients'",
     "output_type": "error",
     "traceback": [
      "\u001b[1;31m---------------------------------------------------------------------------\u001b[0m",
      "\u001b[1;31mKeyError\u001b[0m                                  Traceback (most recent call last)",
      "File \u001b[1;32mc:\\Users\\HwijunKwon\\AppData\\Local\\Programs\\Python\\Python311\\Lib\\site-packages\\pandas\\core\\indexes\\base.py:3803\u001b[0m, in \u001b[0;36mIndex.get_loc\u001b[1;34m(self, key, method, tolerance)\u001b[0m\n\u001b[0;32m   3802\u001b[0m \u001b[39mtry\u001b[39;00m:\n\u001b[1;32m-> 3803\u001b[0m     \u001b[39mreturn\u001b[39;00m \u001b[39mself\u001b[39;49m\u001b[39m.\u001b[39;49m_engine\u001b[39m.\u001b[39;49mget_loc(casted_key)\n\u001b[0;32m   3804\u001b[0m \u001b[39mexcept\u001b[39;00m \u001b[39mKeyError\u001b[39;00m \u001b[39mas\u001b[39;00m err:\n",
      "File \u001b[1;32mc:\\Users\\HwijunKwon\\AppData\\Local\\Programs\\Python\\Python311\\Lib\\site-packages\\pandas\\_libs\\index.pyx:138\u001b[0m, in \u001b[0;36mpandas._libs.index.IndexEngine.get_loc\u001b[1;34m()\u001b[0m\n",
      "File \u001b[1;32mc:\\Users\\HwijunKwon\\AppData\\Local\\Programs\\Python\\Python311\\Lib\\site-packages\\pandas\\_libs\\index.pyx:165\u001b[0m, in \u001b[0;36mpandas._libs.index.IndexEngine.get_loc\u001b[1;34m()\u001b[0m\n",
      "File \u001b[1;32mpandas\\_libs\\hashtable_class_helper.pxi:5745\u001b[0m, in \u001b[0;36mpandas._libs.hashtable.PyObjectHashTable.get_item\u001b[1;34m()\u001b[0m\n",
      "File \u001b[1;32mpandas\\_libs\\hashtable_class_helper.pxi:5753\u001b[0m, in \u001b[0;36mpandas._libs.hashtable.PyObjectHashTable.get_item\u001b[1;34m()\u001b[0m\n",
      "\u001b[1;31mKeyError\u001b[0m: 'recipe_ingredients'",
      "\nThe above exception was the direct cause of the following exception:\n",
      "\u001b[1;31mKeyError\u001b[0m                                  Traceback (most recent call last)",
      "\u001b[1;32mc:\\Users\\HwijunKwon\\inisw\\recipe\\models\\preprocessing.ipynb Cell 5\u001b[0m line \u001b[0;36m2\n\u001b[0;32m      <a href='vscode-notebook-cell:/c%3A/Users/HwijunKwon/inisw/recipe/models/preprocessing.ipynb#X12sZmlsZQ%3D%3D?line=0'>1</a>\u001b[0m \u001b[39m# 1. 이상한 문자열 제거\u001b[39;00m\n\u001b[1;32m----> <a href='vscode-notebook-cell:/c%3A/Users/HwijunKwon/inisw/recipe/models/preprocessing.ipynb#X12sZmlsZQ%3D%3D?line=1'>2</a>\u001b[0m toy[\u001b[39m\"\u001b[39m\u001b[39mrecipe_ingredients\u001b[39m\u001b[39m\"\u001b[39m] \u001b[39m=\u001b[39m toy[\u001b[39m\"\u001b[39;49m\u001b[39mrecipe_ingredients\u001b[39;49m\u001b[39m\"\u001b[39;49m]\u001b[39m.\u001b[39mapply(\u001b[39mlambda\u001b[39;00m x: x\u001b[39m.\u001b[39mreplace(\u001b[39m'\u001b[39m\u001b[39m\\\\\u001b[39;00m\u001b[39mufeff\u001b[39m\u001b[39m'\u001b[39m, \u001b[39m'\u001b[39m\u001b[39m'\u001b[39m)\u001b[39m.\u001b[39mreplace(\u001b[39m'\u001b[39m\u001b[39m\\\\\u001b[39;00m\u001b[39mu200b\u001b[39m\u001b[39m'\u001b[39m, \u001b[39m'\u001b[39m\u001b[39m'\u001b[39m))\n",
      "File \u001b[1;32mc:\\Users\\HwijunKwon\\AppData\\Local\\Programs\\Python\\Python311\\Lib\\site-packages\\pandas\\core\\frame.py:3805\u001b[0m, in \u001b[0;36mDataFrame.__getitem__\u001b[1;34m(self, key)\u001b[0m\n\u001b[0;32m   3803\u001b[0m \u001b[39mif\u001b[39;00m \u001b[39mself\u001b[39m\u001b[39m.\u001b[39mcolumns\u001b[39m.\u001b[39mnlevels \u001b[39m>\u001b[39m \u001b[39m1\u001b[39m:\n\u001b[0;32m   3804\u001b[0m     \u001b[39mreturn\u001b[39;00m \u001b[39mself\u001b[39m\u001b[39m.\u001b[39m_getitem_multilevel(key)\n\u001b[1;32m-> 3805\u001b[0m indexer \u001b[39m=\u001b[39m \u001b[39mself\u001b[39;49m\u001b[39m.\u001b[39;49mcolumns\u001b[39m.\u001b[39;49mget_loc(key)\n\u001b[0;32m   3806\u001b[0m \u001b[39mif\u001b[39;00m is_integer(indexer):\n\u001b[0;32m   3807\u001b[0m     indexer \u001b[39m=\u001b[39m [indexer]\n",
      "File \u001b[1;32mc:\\Users\\HwijunKwon\\AppData\\Local\\Programs\\Python\\Python311\\Lib\\site-packages\\pandas\\core\\indexes\\base.py:3805\u001b[0m, in \u001b[0;36mIndex.get_loc\u001b[1;34m(self, key, method, tolerance)\u001b[0m\n\u001b[0;32m   3803\u001b[0m     \u001b[39mreturn\u001b[39;00m \u001b[39mself\u001b[39m\u001b[39m.\u001b[39m_engine\u001b[39m.\u001b[39mget_loc(casted_key)\n\u001b[0;32m   3804\u001b[0m \u001b[39mexcept\u001b[39;00m \u001b[39mKeyError\u001b[39;00m \u001b[39mas\u001b[39;00m err:\n\u001b[1;32m-> 3805\u001b[0m     \u001b[39mraise\u001b[39;00m \u001b[39mKeyError\u001b[39;00m(key) \u001b[39mfrom\u001b[39;00m \u001b[39merr\u001b[39;00m\n\u001b[0;32m   3806\u001b[0m \u001b[39mexcept\u001b[39;00m \u001b[39mTypeError\u001b[39;00m:\n\u001b[0;32m   3807\u001b[0m     \u001b[39m# If we have a listlike key, _check_indexing_error will raise\u001b[39;00m\n\u001b[0;32m   3808\u001b[0m     \u001b[39m#  InvalidIndexError. Otherwise we fall through and re-raise\u001b[39;00m\n\u001b[0;32m   3809\u001b[0m     \u001b[39m#  the TypeError.\u001b[39;00m\n\u001b[0;32m   3810\u001b[0m     \u001b[39mself\u001b[39m\u001b[39m.\u001b[39m_check_indexing_error(key)\n",
      "\u001b[1;31mKeyError\u001b[0m: 'recipe_ingredients'"
     ]
    }
   ],
   "source": [
    "# 1. 이상한 문자열 제거\n",
    "toy[\"recipe_ingredients\"] = toy[\"recipe_ingredients\"].apply(lambda x: x.replace('\\\\ufeff', '').replace('\\\\u200b', ''))"
   ]
  },
  {
   "cell_type": "code",
   "execution_count": 21,
   "metadata": {},
   "outputs": [],
   "source": [
    "# 2.식재료 칼럼 만들기 (20개)\n",
    "for i in range(1, 21):\n",
    "    toy.loc[:, f'ingredient{i}'] = None\n",
    "    toy.loc[:, f'quantity{i}'] = None\n",
    "    toy.loc[:, f'unit{i}'] = None\n"
   ]
  },
  {
   "cell_type": "code",
   "execution_count": 22,
   "metadata": {},
   "outputs": [
    {
     "name": "stderr",
     "output_type": "stream",
     "text": [
      "100%|██████████| 100/100 [00:01<00:00, 88.40it/s]"
     ]
    },
    {
     "name": "stdout",
     "output_type": "stream",
     "text": [
      "Row 0: \n",
      "Row 17: \n",
      "Row 28: (오뚜기)올리고당3큰술\n",
      "Row 32: LA갈비1Kg\n"
     ]
    },
    {
     "name": "stderr",
     "output_type": "stream",
     "text": [
      "\n"
     ]
    }
   ],
   "source": [
    "# 3. 식재료 칼럼 쪼개기\n",
    "from tqdm import tqdm\n",
    "import ast\n",
    "import re\n",
    "\n",
    "# 패턴과 일치하지 않는 데이터를 저장할 딕셔너리\n",
    "non_matching_items = {}\n",
    "\n",
    "for idx, row in tqdm(toy.iterrows(), total=toy.shape[0]): #tqdm으로 진행상황 확인\n",
    "    ingredients_dict = ast.literal_eval(row[\"recipe_ingredients\"])  # row[\"recipe_ingredients\"] :{'재료': ['건새우50g', '물1/4컵', ...], '양념재료': ['설탕2큰술', '간장4큰술', ...}\"\n",
    "    ingredient_count = 1\n",
    "    for category, items in ingredients_dict.items():\n",
    "        if items:  # 아이템이 존재하는 경우\n",
    "            for item in items:\n",
    "                match = re.match(r'([가-힣]+(\\([가-힣]+\\))?)([\\d.+/~-]*)([가-힣a-zA-Z]+|약간|조금)?', item)\n",
    "                if match:\n",
    "                    ingredient, _, quantity, unit = match.groups()\n",
    "                    \n",
    "                    toy.at[idx, f'ingredient{ingredient_count}'] = ingredient\n",
    "                    toy.at[idx, f'quantity{ingredient_count}'] = quantity\n",
    "                    toy.at[idx, f'unit{ingredient_count}'] = unit\n",
    "\n",
    "                    ingredient_count += 1\n",
    "                else:\n",
    "                    # 패턴과 일치하지 않는 경우 딕셔너리에 추가\n",
    "                    non_matching_items[idx] = item\n",
    "\n",
    "# 패턴과 일치하지 않는 데이터 출력\n",
    "for idx, item in non_matching_items.items():\n",
    "    print(f'Row {idx}: {item}')\n"
   ]
  },
  {
   "cell_type": "code",
   "execution_count": 16,
   "metadata": {},
   "outputs": [],
   "source": [
    "# csv 파일로 저장\n",
    "toy.to_csv(\"data/toy.csv\", index=False)"
   ]
  },
  {
   "cell_type": "code",
   "execution_count": 10,
   "metadata": {},
   "outputs": [],
   "source": [
    "# 식재료 단위 집합\n",
    "combined_units = []\n",
    "for pair in zip(toy['unit1'], toy['unit2']) :\n",
    "    for unit in pair :\n",
    "        combined_units.append(unit)\n",
    "\n",
    "unique_units = list(set(combined_units))"
   ]
  },
  {
   "cell_type": "code",
   "execution_count": 11,
   "metadata": {},
   "outputs": [
    {
     "name": "stdout",
     "output_type": "stream",
     "text": [
      "개: 625번\n",
      "큰술: 94번\n",
      "g: 379번\n",
      "컵: 38번\n",
      "줌: 61번\n",
      "줄: 11번\n",
      "None: 219번\n",
      "통: 5번\n",
      "공기: 7번\n",
      "봉지: 31번\n",
      "모: 7번\n",
      "그람: 6번\n",
      "T: 60번\n",
      "Ts: 6번\n",
      "팩: 32번\n",
      "주먹: 13번\n",
      "t: 8번\n",
      "대접: 5번\n",
      "스푼: 37번\n",
      "쪽: 8번\n",
      "수저: 8번\n",
      "개정도: 7번\n",
      "g정도: 2번\n",
      "TS: 4번\n",
      "조각: 4번\n",
      "알: 8번\n",
      "대: 19번\n",
      "g가량: 1번\n",
      "티스푼: 1번\n",
      "송이: 14번\n",
      "줄기: 4번\n",
      "장: 114번\n",
      "그램: 9번\n",
      "웅큼: 3번\n",
      "캔: 11번\n",
      "숟갈: 6번\n",
      "봉: 16번\n",
      "바구니: 1번\n",
      "마리: 10번\n",
      "천원어치: 1번\n",
      "덩이: 1번\n",
      "근: 2번\n",
      "사발: 1번\n",
      "소주컵: 1번\n",
      "단: 7번\n",
      "밥숟가락: 2번\n",
      "뿌리: 7번\n",
      "통약간더: 1번\n",
      "토막: 3번\n",
      "묶음: 3번\n",
      "개반: 2번\n",
      "밥숟갈: 2번\n",
      "숟가락: 9번\n",
      "줌정도: 2번\n",
      "알정도: 1번\n",
      "장분량정도: 1번\n",
      "포기: 10번\n",
      "꼬집: 4번\n",
      "개또는반대: 1번\n",
      "넉넉히: 1번\n",
      "크술: 1번\n",
      "작은술: 4번\n",
      "잔: 1번\n",
      "ml: 3번\n",
      "타래: 1번\n",
      "g간장: 1번\n",
      "대접정도: 1번\n",
      "접시: 1번\n",
      "봉or: 1번\n",
      "개작으면: 1번\n",
      "소고기: 1번\n",
      "ts: 1번\n",
      "개작은것은: 1번\n",
      "분의: 1번\n",
      "cm: 2번\n",
      "톨: 1번\n",
      "g한봉지: 1번\n",
      "움큼: 1번\n",
      "종이컵: 6번\n",
      "덩어리: 1번\n",
      "kg: 1번\n",
      "G: 1번\n",
      "주먹정도: 1번\n",
      "줌반: 1번\n",
      "그릇: 3번\n",
      "키로: 2번\n",
      "식용유: 1번\n",
      "큰국그릇: 1번\n",
      "큰컵: 1번\n",
      "cm길이: 1번\n"
     ]
    }
   ],
   "source": [
    "from collections import Counter\n",
    "\n",
    "unit_counts = Counter(combined_units)\n",
    "for unit, count in unit_counts.items():\n",
    "    print(f\"{unit}: {count}번\")"
   ]
  }
 ],
 "metadata": {
  "kernelspec": {
   "display_name": "Python 3",
   "language": "python",
   "name": "python3"
  },
  "language_info": {
   "codemirror_mode": {
    "name": "ipython",
    "version": 3
   },
   "file_extension": ".py",
   "mimetype": "text/x-python",
   "name": "python",
   "nbconvert_exporter": "python",
   "pygments_lexer": "ipython3",
   "version": "3.11.1"
  }
 },
 "nbformat": 4,
 "nbformat_minor": 2
}
