{
 "cells": [
  {
   "cell_type": "code",
   "execution_count": 4,
   "metadata": {},
   "outputs": [],
   "source": [
    "import func\n",
    "import numpy as np\n",
    "def load_matrix(n=100): \n",
    "    raw = func.load_recipe(n)\n",
    "    recipe = func.recipe_preprocessing(raw)\n",
    "    data = func.split_ingredient(recipe)\n",
    "    matrix = func.recipe_food_matrix(data)\n",
    "    return matrix"
   ]
  },
  {
   "cell_type": "code",
   "execution_count": 5,
   "metadata": {},
   "outputs": [
    {
     "name": "stderr",
     "output_type": "stream",
     "text": [
      "100%|██████████| 100/100 [00:00<00:00, 408.37it/s]\n"
     ]
    },
    {
     "name": "stdout",
     "output_type": "stream",
     "text": [
      "Row 7: \n",
      "Row 78: (새송이)버섯\n"
     ]
    }
   ],
   "source": [
    "matrix = load_matrix(100)\n",
    "a, b, c= func.nutri_svd(method ='scipy', df = matrix, n =10)"
   ]
  },
  {
   "cell_type": "code",
   "execution_count": 6,
   "metadata": {},
   "outputs": [],
   "source": [
    "ab = a[:, :100].dot(np.diag(b[:100])) # 레시피에 식재료가 얼마나 중요한지지\n",
    "bc = c.T[:, :100].dot(np.diag(b[:100])) # 식재료에 레시피가 얼마나 중요한지 "
   ]
  },
  {
   "cell_type": "code",
   "execution_count": 8,
   "metadata": {},
   "outputs": [
    {
     "data": {
      "text/plain": [
       "<matplotlib.collections.PathCollection at 0x22f43b72790>"
      ]
     },
     "execution_count": 8,
     "metadata": {},
     "output_type": "execute_result"
    },
    {
     "data": {
      "image/png": "[encoded data removed]",
      "text/plain": [
       "<Figure size 640x480 with 1 Axes>"
      ]
     },
     "metadata": {},
     "output_type": "display_data"
    }
   ],
   "source": [
    "import matplotlib.pyplot as plt\n",
    "plt.scatter(ab[:, 0], ab[:, 1])\n",
    "plt.scatter(bc[:, 0], bc[:, 1])"
   ]
  },
  {
   "cell_type": "code",
   "execution_count": 42,
   "metadata": {},
   "outputs": [],
   "source": [
    "def slicefood(data):\n",
    "    # recipe_ingredients가 NA인 행 제거\n",
    "    toy = data.loc[data[\"recipe_ingredients\"].notna(), :]\n",
    "\n",
    "    # 문자열 전처리\n",
    "    toy[\"recipe_ingredients\"] = toy[\"recipe_ingredients\"].apply(lambda x: x.replace('\\\\ufeff', '').replace('\\\\u200b', ''))\n",
    "\n",
    "    # 새로운 칼럼 생성\n",
    "    for i in range(1, 21):\n",
    "        toy.loc[:, f'ingredient{i}'] = None\n",
    "        toy.loc[:, f'quantity{i}'] = None\n",
    "        toy.loc[:, f'unit{i}'] = None\n",
    "\n",
    "    # 패턴과 일치하지 않는 데이터를 저장할 딕셔너리\n",
    "    non_matching_items = {}\n",
    "\n",
    "    # 식재료 칼럼 쪼개기\n",
    "    for idx, row in tqdm(toy.iterrows(), total=toy.shape[0]):\n",
    "        ingredients_dict = ast.literal_eval(row[\"recipe_ingredients\"])\n",
    "        ingredient_count = 1\n",
    "        for category, items in ingredients_dict.items():\n",
    "            if items:\n",
    "                for item in items:\n",
    "                    match = re.match(r'([가-힣]+(\\([가-힣]+\\))?)([\\d.+/~-]*)([가-힣a-zA-Z]+|약간|조금)?', item)\n",
    "                    if match:\n",
    "                        ingredient, _, quantity, unit = match.groups()\n",
    "\n",
    "                        toy.at[idx, f'ingredient{ingredient_count}'] = ingredient\n",
    "                        toy.at[idx, f'quantity{ingredient_count}'] = quantity\n",
    "                        toy.at[idx, f'unit{ingredient_count}'] = unit\n",
    "\n",
    "                        ingredient_count += 1\n",
    "                    else:\n",
    "                        non_matching_items[idx] = item\n",
    "\n",
    "    # 패턴과 일치하지 않는 데이터 출력\n",
    "    if non_matching_items:\n",
    "        for idx, item in non_matching_items.items():\n",
    "            print(f'Row {idx}: {item}')\n",
    "\n",
    "    return toy"
   ]
  },
  {
   "cell_type": "code",
   "execution_count": 48,
   "metadata": {},
   "outputs": [],
   "source": [
    "def slicefood(data):\n",
    "    # recipe_ingredients가 NA인 행 제거\n",
    "    toy = data.loc[data[\"recipe_ingredients\"].notna(), :]\n",
    "\n",
    "    # 문자열 전처리\n",
    "    toy[\"recipe_ingredients\"] = toy[\"recipe_ingredients\"].apply(lambda x: x.replace('\\\\ufeff', '').replace('\\\\u200b', ''))\n",
    "\n",
    "    # 새로운 칼럼 생성\n",
    "    for i in range(1, 21):\n",
    "        toy.loc[:, f'ingredient{i}'] = None\n",
    "        toy.loc[:, f'quantity{i}'] = None\n",
    "        toy.loc[:, f'unit{i}'] = None\n",
    "\n",
    "    # 패턴과 일치하지 않는 데이터를 저장할 딕셔너리\n",
    "    temp_data = []\n",
    "    non_matching_items = {}\n",
    "\n",
    "    for idx, row in tqdm(toy.iterrows(), total=toy.shape[0]):\n",
    "        ingredients_dict = ast.literal_eval(row[\"recipe_ingredients\"])\n",
    "        ingredient_count = 1\n",
    "        temp_row = row.to_dict()  # 현재 행의 데이터를 딕셔너리로 변환\n",
    "\n",
    "    for category, items in ingredients_dict.items():\n",
    "        if items:\n",
    "            for item in items:\n",
    "                match = re.match(r'([가-힣]+(\\([가-힣]+\\))?)([\\d.+/~-]*)([가-힣a-zA-Z]+|약간|조금)?', item)\n",
    "                if match:\n",
    "                    ingredient, _, quantity, unit = match.groups()\n",
    "\n",
    "                    temp_row[f'ingredient{ingredient_count}'] = ingredient\n",
    "                    temp_row[f'quantity{ingredient_count}'] = quantity\n",
    "                    temp_row[f'unit{ingredient_count}'] = unit\n",
    "\n",
    "                    ingredient_count += 1\n",
    "                else:\n",
    "                    non_matching_items[idx] = item\n",
    "\n",
    "        temp_data.append(temp_row)\n",
    "\n",
    "    # 모든 데이터가 포함된 새로운 DataFrame 생성\n",
    "    new_toy = pd.DataFrame(temp_data)\n",
    "\n",
    "    # 패턴과 일치하지 않는 데이터 출력\n",
    "    if non_matching_items:\n",
    "        for idx, item in non_matching_items.items():\n",
    "            print(f'Row {idx}: {item}')\n",
    "\n",
    "    return new_toy"
   ]
  },
  {
   "cell_type": "code",
   "execution_count": 58,
   "metadata": {},
   "outputs": [
    {
     "name": "stderr",
     "output_type": "stream",
     "text": [
      "  0%|          | 0/1000 [00:00<?, ?it/s]"
     ]
    },
    {
     "name": "stderr",
     "output_type": "stream",
     "text": [
      "100%|██████████| 1000/1000 [00:00<00:00, 7039.40it/s]\n"
     ]
    }
   ],
   "source": [
    "toy = slicefood(data)"
   ]
  },
  {
   "cell_type": "code",
   "execution_count": 60,
   "metadata": {},
   "outputs": [
    {
     "data": {
      "text/html": [
       "<div>\n",
       "<style scoped>\n",
       "    .dataframe tbody tr th:only-of-type {\n",
       "        vertical-align: middle;\n",
       "    }\n",
       "\n",
       "    .dataframe tbody tr th {\n",
       "        vertical-align: top;\n",
       "    }\n",
       "\n",
       "    .dataframe thead th {\n",
       "        text-align: right;\n",
       "    }\n",
       "</style>\n",
       "<table border=\"1\" class=\"dataframe\">\n",
       "  <thead>\n",
       "    <tr style=\"text-align: right;\">\n",
       "      <th></th>\n",
       "      <th>recipe_url</th>\n",
       "      <th>recipe_title</th>\n",
       "      <th>recipe_summary1</th>\n",
       "      <th>recipe_summary2</th>\n",
       "      <th>recipe_summary3</th>\n",
       "      <th>recipe_ingredients</th>\n",
       "      <th>recipe_step</th>\n",
       "      <th>recipe_tag</th>\n",
       "      <th>recipe_comment</th>\n",
       "      <th>recipe_view</th>\n",
       "      <th>...</th>\n",
       "      <th>unit17</th>\n",
       "      <th>ingredient18</th>\n",
       "      <th>quantity18</th>\n",
       "      <th>unit18</th>\n",
       "      <th>ingredient19</th>\n",
       "      <th>quantity19</th>\n",
       "      <th>unit19</th>\n",
       "      <th>ingredient20</th>\n",
       "      <th>quantity20</th>\n",
       "      <th>unit20</th>\n",
       "    </tr>\n",
       "  </thead>\n",
       "  <tbody>\n",
       "    <tr>\n",
       "      <th>0</th>\n",
       "      <td>http://www.10000recipe.com/recipe/6896010</td>\n",
       "      <td>짭쪼름한 밥도둑 간장게장</td>\n",
       "      <td>2인분</td>\n",
       "      <td>15분 이내</td>\n",
       "      <td>아무나</td>\n",
       "      <td>{'재료': ['꽃게1kg', '진간장2C', '물3C', '통마늘7톨', '생강2...</td>\n",
       "      <td>['#1 꽃게는 치솔로 구석구석 깨끗하게 씻어 줍니다.', '#2 간장 소스에 넣을...</td>\n",
       "      <td>['한식', '게장', '간장게장', '꽃게', '꽃게장', '일품요리', '밑반찬']</td>\n",
       "      <td>11</td>\n",
       "      <td>12000</td>\n",
       "      <td>...</td>\n",
       "      <td>None</td>\n",
       "      <td>None</td>\n",
       "      <td>None</td>\n",
       "      <td>None</td>\n",
       "      <td>None</td>\n",
       "      <td>None</td>\n",
       "      <td>None</td>\n",
       "      <td>None</td>\n",
       "      <td>None</td>\n",
       "      <td>None</td>\n",
       "    </tr>\n",
       "  </tbody>\n",
       "</table>\n",
       "<p>1 rows × 73 columns</p>\n",
       "</div>"
      ],
      "text/plain": [
       "                                  recipe_url   recipe_title recipe_summary1  \\\n",
       "0  http://www.10000recipe.com/recipe/6896010  짭쪼름한 밥도둑 간장게장             2인분   \n",
       "\n",
       "  recipe_summary2 recipe_summary3  \\\n",
       "0          15분 이내             아무나   \n",
       "\n",
       "                                  recipe_ingredients  \\\n",
       "0  {'재료': ['꽃게1kg', '진간장2C', '물3C', '통마늘7톨', '생강2...   \n",
       "\n",
       "                                         recipe_step  \\\n",
       "0  ['#1 꽃게는 치솔로 구석구석 깨끗하게 씻어 줍니다.', '#2 간장 소스에 넣을...   \n",
       "\n",
       "                                         recipe_tag  recipe_comment  \\\n",
       "0  ['한식', '게장', '간장게장', '꽃게', '꽃게장', '일품요리', '밑반찬']              11   \n",
       "\n",
       "   recipe_view  ... unit17 ingredient18 quantity18 unit18 ingredient19  \\\n",
       "0        12000  ...   None         None       None   None         None   \n",
       "\n",
       "  quantity19 unit19 ingredient20 quantity20 unit20  \n",
       "0       None   None         None       None   None  \n",
       "\n",
       "[1 rows x 73 columns]"
      ]
     },
     "execution_count": 60,
     "metadata": {},
     "output_type": "execute_result"
    }
   ],
   "source": [
    "toy"
   ]
  },
  {
   "cell_type": "code",
   "execution_count": 37,
   "metadata": {},
   "outputs": [
    {
     "name": "stdout",
     "output_type": "stream",
     "text": [
      "Unexpected exception formatting exception. Falling back to standard exception\n"
     ]
    },
    {
     "name": "stderr",
     "output_type": "stream",
     "text": [
      "Traceback (most recent call last):\n",
      "  File \"C:\\Users\\HwijunKwon\\AppData\\Roaming\\Python\\Python311\\site-packages\\IPython\\core\\interactiveshell.py\", line 3442, in run_code\n",
      "    exec(code_obj, self.user_global_ns, self.user_ns)\n",
      "  File \"C:\\Users\\HwijunKwon\\AppData\\Local\\Temp\\ipykernel_8968\\2807693238.py\", line 4, in <module>\n",
      "    slicefood(data)\n",
      "  File \"c:\\Users\\HwijunKwon\\inisw\\recipe\\models\\embedding.py\", line 34, in slicefood\n",
      "NameError: name 'tqdm' is not defined\n",
      "\n",
      "During handling of the above exception, another exception occurred:\n",
      "\n",
      "Traceback (most recent call last):\n",
      "  File \"C:\\Users\\HwijunKwon\\AppData\\Roaming\\Python\\Python311\\site-packages\\IPython\\core\\interactiveshell.py\", line 2057, in showtraceback\n",
      "    stb = self.InteractiveTB.structured_traceback(\n",
      "          ^^^^^^^^^^^^^^^^^^^^^^^^^^^^^^^^^^^^^^^^\n",
      "  File \"C:\\Users\\HwijunKwon\\AppData\\Roaming\\Python\\Python311\\site-packages\\IPython\\core\\ultratb.py\", line 1118, in structured_traceback\n",
      "    return FormattedTB.structured_traceback(\n",
      "           ^^^^^^^^^^^^^^^^^^^^^^^^^^^^^^^^^\n",
      "  File \"C:\\Users\\HwijunKwon\\AppData\\Roaming\\Python\\Python311\\site-packages\\IPython\\core\\ultratb.py\", line 1012, in structured_traceback\n",
      "    return VerboseTB.structured_traceback(\n",
      "           ^^^^^^^^^^^^^^^^^^^^^^^^^^^^^^^\n",
      "  File \"C:\\Users\\HwijunKwon\\AppData\\Roaming\\Python\\Python311\\site-packages\\IPython\\core\\ultratb.py\", line 865, in structured_traceback\n",
      "    formatted_exception = self.format_exception_as_a_whole(etype, evalue, etb, number_of_lines_of_context,\n",
      "                          ^^^^^^^^^^^^^^^^^^^^^^^^^^^^^^^^^^^^^^^^^^^^^^^^^^^^^^^^^^^^^^^^^^^^^^^^^^^^^^^^\n",
      "  File \"C:\\Users\\HwijunKwon\\AppData\\Roaming\\Python\\Python311\\site-packages\\IPython\\core\\ultratb.py\", line 818, in format_exception_as_a_whole\n",
      "    frames.append(self.format_record(r))\n",
      "                  ^^^^^^^^^^^^^^^^^^^^^\n",
      "  File \"C:\\Users\\HwijunKwon\\AppData\\Roaming\\Python\\Python311\\site-packages\\IPython\\core\\ultratb.py\", line 736, in format_record\n",
      "    result += ''.join(_format_traceback_lines(frame_info.lines, Colors, self.has_colors, lvals))\n",
      "                                              ^^^^^^^^^^^^^^^^\n",
      "  File \"C:\\Users\\HwijunKwon\\AppData\\Roaming\\Python\\Python311\\site-packages\\stack_data\\utils.py\", line 144, in cached_property_wrapper\n",
      "    value = obj.__dict__[self.func.__name__] = self.func(obj)\n",
      "                                               ^^^^^^^^^^^^^^\n",
      "  File \"C:\\Users\\HwijunKwon\\AppData\\Roaming\\Python\\Python311\\site-packages\\stack_data\\core.py\", line 734, in lines\n",
      "    pieces = self.included_pieces\n",
      "             ^^^^^^^^^^^^^^^^^^^^\n",
      "  File \"C:\\Users\\HwijunKwon\\AppData\\Roaming\\Python\\Python311\\site-packages\\stack_data\\utils.py\", line 144, in cached_property_wrapper\n",
      "    value = obj.__dict__[self.func.__name__] = self.func(obj)\n",
      "                                               ^^^^^^^^^^^^^^\n",
      "  File \"C:\\Users\\HwijunKwon\\AppData\\Roaming\\Python\\Python311\\site-packages\\stack_data\\core.py\", line 681, in included_pieces\n",
      "    pos = scope_pieces.index(self.executing_piece)\n",
      "                             ^^^^^^^^^^^^^^^^^^^^\n",
      "  File \"C:\\Users\\HwijunKwon\\AppData\\Roaming\\Python\\Python311\\site-packages\\stack_data\\utils.py\", line 144, in cached_property_wrapper\n",
      "    value = obj.__dict__[self.func.__name__] = self.func(obj)\n",
      "                                               ^^^^^^^^^^^^^^\n",
      "  File \"C:\\Users\\HwijunKwon\\AppData\\Roaming\\Python\\Python311\\site-packages\\stack_data\\core.py\", line 660, in executing_piece\n",
      "    return only(\n",
      "           ^^^^^\n",
      "  File \"C:\\Users\\HwijunKwon\\AppData\\Roaming\\Python\\Python311\\site-packages\\executing\\executing.py\", line 190, in only\n",
      "    raise NotOneValueFound('Expected one value, found 0')\n",
      "executing.executing.NotOneValueFound: Expected one value, found 0\n"
     ]
    }
   ],
   "source": [
    "from tqdm import tqdm\n",
    "from embedding import slicefood\n",
    "\n",
    "slicefood(data)\n"
   ]
  },
  {
   "cell_type": "code",
   "execution_count": 26,
   "metadata": {},
   "outputs": [
    {
     "name": "stderr",
     "output_type": "stream",
     "text": [
      " 20%|██        | 20/100 [00:00<00:00, 194.91it/s]"
     ]
    },
    {
     "name": "stderr",
     "output_type": "stream",
     "text": [
      "100%|██████████| 100/100 [00:00<00:00, 232.92it/s]"
     ]
    },
    {
     "name": "stdout",
     "output_type": "stream",
     "text": [
      "Row 24: \n",
      "Row 41: \n",
      "Row 60: 3cm두께커다란식빵1장\n"
     ]
    },
    {
     "name": "stderr",
     "output_type": "stream",
     "text": [
      "\n"
     ]
    }
   ],
   "source": [
    "from tqdm import tqdm\n",
    "import ast\n",
    "import re\n",
    "toy = data[[\"recipe_title\", \"recipe_ingredients\"]].copy()\n",
    "# 문자열 전처리\n",
    "toy[\"recipe_ingredients\"] = toy[\"recipe_ingredients\"].apply(lambda x: x.replace('\\\\ufeff', '').replace('\\\\u200b', ''))\n",
    "# 새로운 칼럼 생성\n",
    "for i in range(1, 21):\n",
    "    toy.loc[:, f'ingredient{i}'] = None\n",
    "    toy.loc[:, f'quantity{i}'] = None\n",
    "    toy.loc[:, f'unit{i}'] = None\n",
    "# 3. 식재료 칼럼 쪼개기\n",
    "# 패턴과 일치하지 않는 데이터를 저장할 딕셔너리\n",
    "non_matching_items = {}\n",
    "\n",
    "for idx, row in tqdm(toy.iterrows(), total=toy.shape[0]): #tqdm으로 진행상황 확인\n",
    "    ingredients_dict = ast.literal_eval(row[\"recipe_ingredients\"])  # row[\"recipe_ingredients\"] :{'재료': ['건새우50g', '물1/4컵', ...], '양념재료': ['설탕2큰술', '간장4큰술', ...}\"\n",
    "    ingredient_count = 1\n",
    "    for category, items in ingredients_dict.items():\n",
    "        if items:  # 아이템이 존재하는 경우\n",
    "            for item in items:\n",
    "                match = re.match(r'([가-힣]+(\\([가-힣]+\\))?)([\\d.+/~-]*)([가-힣a-zA-Z]+|약간|조금)?', item)\n",
    "                if match:\n",
    "                    ingredient, _, quantity, unit = match.groups()\n",
    "                    \n",
    "                    toy.at[idx, f'ingredient{ingredient_count}'] = ingredient\n",
    "                    toy.at[idx, f'quantity{ingredient_count}'] = quantity\n",
    "                    toy.at[idx, f'unit{ingredient_count}'] = unit\n",
    "\n",
    "                    ingredient_count += 1\n",
    "                else:\n",
    "                    # 패턴과 일치하지 않는 경우 딕셔너리에 추가\n",
    "                    non_matching_items[idx] = item\n",
    "\n",
    "# 패턴과 일치하지 않는 데이터 출력\n",
    "for idx, item in non_matching_items.items():\n",
    "    print(f'Row {idx}: {item}')\n"
   ]
  },
  {
   "cell_type": "code",
   "execution_count": 2,
   "metadata": {},
   "outputs": [
    {
     "ename": "NameError",
     "evalue": "name 'data' is not defined",
     "output_type": "error",
     "traceback": [
      "\u001b[1;31m---------------------------------------------------------------------------\u001b[0m",
      "\u001b[1;31mNameError\u001b[0m                                 Traceback (most recent call last)",
      "\u001b[1;32mc:\\Users\\HwijunKwon\\inisw\\recipe\\models\\feastest.ipynb Cell 4\u001b[0m line \u001b[0;36m3\n\u001b[0;32m      <a href='vscode-notebook-cell:/c%3A/Users/HwijunKwon/inisw/recipe/models/feastest.ipynb#W3sZmlsZQ%3D%3D?line=0'>1</a>\u001b[0m \u001b[39mfrom\u001b[39;00m \u001b[39membedding\u001b[39;00m \u001b[39mimport\u001b[39;00m slicefood\n\u001b[1;32m----> <a href='vscode-notebook-cell:/c%3A/Users/HwijunKwon/inisw/recipe/models/feastest.ipynb#W3sZmlsZQ%3D%3D?line=2'>3</a>\u001b[0m slicefood(data)\n",
      "\u001b[1;31mNameError\u001b[0m: name 'data' is not defined"
     ]
    }
   ],
   "source": []
  },
  {
   "cell_type": "code",
   "execution_count": 35,
   "metadata": {},
   "outputs": [],
   "source": [
    "from embedding import convert_fraction_to_float, convert_unit_to_number\n",
    "import pandas as pd\n",
    "\n",
    "ingredient_columns = toy.filter(like='ingredient').drop(columns=['recipe_ingredients']) # 'ingredient'가 포함된 모든 열 선택\n",
    "all_ingredients = [item for sublist in ingredient_columns.values for item in sublist if pd.notna(item)] # 각 행의 ingredient 값을 하나의 리스트로 결합\n",
    "\n",
    "\n",
    "all_ingredients = set()\n",
    "for i in range(1, 21):  \n",
    "    all_ingredients.update(toy[f'ingredient{i}'].dropna().unique())\n",
    "\n",
    "recipe_ingredients_df = pd.DataFrame(columns=list(all_ingredients))\n",
    "\n",
    "\n",
    "\n",
    "recipe_rows = []\n",
    "for idx, row in toy.iterrows():\n",
    "    recipe_data = {ingredient: 0.0 for ingredient in all_ingredients}  # 모든 식재료를 None으로 초기화\n",
    "    for i in range(1, 21):  \n",
    "        ingredient = row[f'ingredient{i}']\n",
    "        quantity = row[f'quantity{i}']\n",
    "        unit = row[f'unit{i}']\n",
    "        if pd.notna(ingredient) and pd.notna(quantity):\n",
    "            quantity_float = convert_fraction_to_float(quantity)\n",
    "            if quantity_float is not None:\n",
    "                unit_number = convert_unit_to_number(unit) if pd.notna(unit) else 1\n",
    "                recipe_data[ingredient] = quantity_float * unit_number\n",
    "    recipe_rows.append(recipe_data)\n",
    "\n",
    "# 새로운 데이터프레임 생성 (모든 식재료를 열로 가짐)\n",
    "recipe_ingredients_df = pd.concat([pd.DataFrame([row]) for row in recipe_rows], ignore_index=True)\n",
    "\n",
    "recipe_ingredients_df = recipe_ingredients_df.astype('float64')\n",
    "\n"
   ]
  },
  {
   "cell_type": "code",
   "execution_count": 39,
   "metadata": {},
   "outputs": [
    {
     "data": {
      "text/plain": [
       "(100, 392)"
      ]
     },
     "execution_count": 39,
     "metadata": {},
     "output_type": "execute_result"
    }
   ],
   "source": [
    "recipe_ingredients_df.shape"
   ]
  },
  {
   "cell_type": "code",
   "execution_count": 36,
   "metadata": {},
   "outputs": [],
   "source": [
    "import numpy as np\n",
    "\n",
    "a, b, c= np.linalg.svd(recipe_ingredients_df, full_matrices= True)"
   ]
  }
 ],
 "metadata": {
  "kernelspec": {
   "display_name": "Python 3",
   "language": "python",
   "name": "python3"
  },
  "language_info": {
   "codemirror_mode": {
    "name": "ipython",
    "version": 3
   },
   "file_extension": ".py",
   "mimetype": "text/x-python",
   "name": "python",
   "nbconvert_exporter": "python",
   "pygments_lexer": "ipython3",
   "version": "3.11.1"
  }
 },
 "nbformat": 4,
 "nbformat_minor": 2
}
