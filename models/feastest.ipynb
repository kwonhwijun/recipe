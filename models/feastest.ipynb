{
 "cells": [
  {
   "cell_type": "code",
   "execution_count": 1,
   "metadata": {},
   "outputs": [
    {
     "name": "stderr",
     "output_type": "stream",
     "text": [
      "c:\\Users\\HwijunKwon\\github\\recipe\\models\\func.py:64: SettingWithCopyWarning: \n",
      "A value is trying to be set on a copy of a slice from a DataFrame\n",
      "\n",
      "See the caveats in the documentation: https://pandas.pydata.org/pandas-docs/stable/user_guide/indexing.html#returning-a-view-versus-a-copy\n",
      "  result.drop(del_idx, inplace=True)\n",
      "c:\\Users\\HwijunKwon\\github\\recipe\\models\\func.py:65: SettingWithCopyWarning: \n",
      "A value is trying to be set on a copy of a slice from a DataFrame\n",
      "\n",
      "See the caveats in the documentation: https://pandas.pydata.org/pandas-docs/stable/user_guide/indexing.html#returning-a-view-versus-a-copy\n",
      "  result.drop(title_idx, inplace=True)\n"
     ]
    }
   ],
   "source": [
    "import func\n",
    "raw = func.load_recipe(100000)\n",
    "recipe = func.recipe_preprocessing(raw)"
   ]
  },
  {
   "cell_type": "code",
   "execution_count": 2,
   "metadata": {},
   "outputs": [
    {
     "data": {
      "text/plain": [
       "(93978, 2)"
      ]
     },
     "execution_count": 2,
     "metadata": {},
     "output_type": "execute_result"
    }
   ],
   "source": [
    "recipe.shape"
   ]
  },
  {
   "cell_type": "code",
   "execution_count": null,
   "metadata": {},
   "outputs": [],
   "source": [
    "import func\n",
    "import numpy as np\n",
    "def load_matrix(n=10000): \n",
    "    raw = func.load_recipe(n)\n",
    "    recipe = func.recipe_preprocessing(raw)\n",
    "    data = func.split_ingredient(recipe)\n",
    "    matrix = func.recipe_food_matrix(data)\n",
    "    return matrix"
   ]
  },
  {
   "cell_type": "code",
   "execution_count": 8,
   "metadata": {},
   "outputs": [],
   "source": [
    "import func\n",
    "import numpy as np\n",
    "def load_matrix(n=100): \n",
    "    raw = func.load_recipe(n)\n",
    "    recipe = func.recipe_preprocessing(raw)\n",
    "    data = func.split_ingredient(recipe)\n",
    "    matrix = func.recipe_food_matrix(data)\n",
    "    return matrix"
   ]
  },
  {
   "cell_type": "code",
   "execution_count": 13,
   "metadata": {},
   "outputs": [
    {
     "name": "stderr",
     "output_type": "stream",
     "text": [
      "100%|██████████| 96/96 [00:00<00:00, 401.02it/s]\n"
     ]
    },
    {
     "name": "stdout",
     "output_type": "stream",
     "text": [
      "Row 29: \n",
      "Row 30: \n",
      "Row 40: \n"
     ]
    }
   ],
   "source": [
    "matrix = load_matrix(100)\n",
    "a, b, c= func.nutri_svd(method ='scipy', df = matrix, n =10)\n",
    "\n",
    "reduced_matrix = a.dot(np.diag(b)).dot(c)\n",
    "reduced_matrix_2 = func.nutri_svd(method = 'sklearn', df = matrix , n = 10 )"
   ]
  },
  {
   "cell_type": "code",
   "execution_count": 14,
   "metadata": {},
   "outputs": [
    {
     "data": {
      "text/plain": [
       "((96, 348), (96, 10))"
      ]
     },
     "execution_count": 14,
     "metadata": {},
     "output_type": "execute_result"
    }
   ],
   "source": [
    "reduced_matrix.shape, reduced_matrix_2.shape"
   ]
  },
  {
   "cell_type": "code",
   "execution_count": 12,
   "metadata": {},
   "outputs": [
    {
     "data": {
      "text/plain": [
       "array([[ 1.78601727e-03,  1.20380166e-14,  5.96816917e-03, ...,\n",
       "         4.01024956e+00,  1.28333325e-01,  7.80391028e-05],\n",
       "       [ 2.72588988e-03,  6.99304068e-16,  9.82592030e-04, ...,\n",
       "         4.23136120e-01,  1.14512647e-02,  8.14949170e-05],\n",
       "       [ 2.49835585e-03,  5.07579953e-16,  7.53683135e-04, ...,\n",
       "         3.20759572e-01,  8.37479444e-03,  7.75274306e-05],\n",
       "       ...,\n",
       "       [ 3.14035405e-05,  8.46970904e-18,  1.30688352e-05, ...,\n",
       "         4.98445025e-03,  1.24983330e-04,  1.40908473e-06],\n",
       "       [ 8.86941828e-18,  4.86567605e-30,  2.36538290e-19, ...,\n",
       "         5.68470659e-16,  1.90389091e-17,  5.97584916e-20],\n",
       "       [-1.91917558e-05,  6.62695853e-17, -2.36391123e-05, ...,\n",
       "        -1.60162187e-02, -5.03980841e-04, -8.84168730e-07]])"
      ]
     },
     "execution_count": 12,
     "metadata": {},
     "output_type": "execute_result"
    }
   ],
   "source": [
    "a.dot(np.diag(b)).dot(c)"
   ]
  },
  {
   "cell_type": "code",
   "execution_count": 11,
   "metadata": {},
   "outputs": [
    {
     "data": {
      "text/plain": [
       "array([[ 3.58603109e+01,  4.69477200e+01,  2.19507429e+02,\n",
       "        -2.60877671e+01,  5.01367674e+01, -3.77107543e+01,\n",
       "        -7.42053025e+00, -1.26856503e+02, -5.79919839e+01,\n",
       "         5.56158367e+01],\n",
       "       [ 1.71472736e+00,  7.99969627e+00,  1.52589819e+01,\n",
       "         1.22615828e+00,  8.40822705e+00, -2.89027317e+00,\n",
       "         6.18350294e+00, -2.16384216e+01,  3.18661057e+00,\n",
       "        -3.73934532e+00],\n",
       "       [ 1.60238676e+00,  7.32392426e+00,  9.64741646e+00,\n",
       "         1.47936310e+00,  1.95046133e+00,  8.38793835e-01,\n",
       "         3.24455102e+00, -1.78389810e+01,  3.92705509e+00,\n",
       "        -5.37143498e+00],\n",
       "       [ 1.72307005e+00,  7.53031116e+00,  1.03634755e+01,\n",
       "         1.40975148e+00,  1.58294499e+00,  1.03327517e+00,\n",
       "         3.25630445e+00, -1.82115825e+01,  3.74082874e+00,\n",
       "        -5.12880226e+00],\n",
       "       [ 1.31474533e+00,  1.39014750e+01,  4.31281474e+01,\n",
       "         8.00009448e+00,  3.20476967e+01,  2.60803761e+00,\n",
       "         8.61574883e+02,  6.90614085e+01, -7.67237564e+00,\n",
       "         1.80046654e+01],\n",
       "       [ 1.24540152e-01,  1.93241445e+00,  9.01712380e+00,\n",
       "        -5.56907435e-01,  1.95029809e+01, -1.13517911e+01,\n",
       "         2.31771379e+00, -2.37602940e+00,  3.95605176e-01,\n",
       "        -7.57058010e-02],\n",
       "       [ 1.46612685e-02,  3.11614835e-01,  2.50664468e+00,\n",
       "        -3.15639582e-01,  8.51331959e+00, -5.06544851e+00,\n",
       "        -5.76376199e-01,  1.49133524e+00,  1.18405986e-01,\n",
       "         6.49146648e-02],\n",
       "       [ 6.41765516e-02,  2.61933684e-01,  3.73987861e-01,\n",
       "         6.15974461e-02,  5.52208206e-02,  4.44529306e-02,\n",
       "         1.26703451e-01, -6.69164986e-01,  1.39344984e-01,\n",
       "        -1.67206133e-01],\n",
       "       [ 3.62181057e-03,  2.37162889e-02,  1.69482756e-02,\n",
       "         7.74707031e-03,  6.14068446e-04,  2.33527691e-03,\n",
       "         9.07000356e-05,  4.11239069e-03,  1.48100945e-02,\n",
       "        -2.80126784e-02],\n",
       "       [ 1.23046608e-02,  2.71032427e-02,  2.93846363e-02,\n",
       "         3.57540671e-02,  6.65044759e-03, -1.95511839e-04,\n",
       "         4.28903789e-03, -4.57766054e-02,  2.30018927e-02,\n",
       "        -6.84522170e-03],\n",
       "       [ 0.00000000e+00,  0.00000000e+00,  0.00000000e+00,\n",
       "         0.00000000e+00,  0.00000000e+00,  0.00000000e+00,\n",
       "         0.00000000e+00,  0.00000000e+00,  0.00000000e+00,\n",
       "         0.00000000e+00],\n",
       "       [ 8.38796041e-01,  3.72806790e+00,  5.19062781e+00,\n",
       "         9.21051270e-01,  7.99511816e-01,  6.26059173e-01,\n",
       "         1.93121569e+00, -9.70128024e+00,  2.09864416e+00,\n",
       "        -3.13707612e+00],\n",
       "       [ 3.93494239e+01,  5.70096912e+01,  2.14268569e+02,\n",
       "        -2.01751922e+01, -2.82399162e+01,  1.27789297e+01,\n",
       "         4.51503851e+00, -1.74494929e+02, -5.22349345e+01,\n",
       "         4.67802668e+01],\n",
       "       [ 8.26826698e-03,  7.37620901e-03,  1.40761775e-02,\n",
       "         1.68243108e-02,  8.88608765e-03,  8.74069659e-04,\n",
       "         1.37166854e-03, -1.19098525e-02,  4.30534147e-03,\n",
       "         3.74674092e-03],\n",
       "       [ 1.20064599e-01,  2.44137547e+00,  5.68540952e+00,\n",
       "         7.73669956e-02,  7.77654447e+00, -4.32399891e+00,\n",
       "         3.22644310e+00, -5.46075652e+00,  6.35828881e-01,\n",
       "        -1.36442937e+00],\n",
       "       [ 7.46746997e-01,  1.63340144e+01,  1.23240873e+02,\n",
       "        -1.50598529e+01,  4.07459629e+02, -2.42238174e+02,\n",
       "        -2.40203827e+01,  6.54075078e+01,  5.77798703e+00,\n",
       "         2.74400830e+00],\n",
       "       [ 1.80584862e+00,  1.42051188e+01,  8.52192200e+01,\n",
       "         6.19826955e+02, -8.74641644e+00, -6.12558876e+00,\n",
       "        -8.79276638e+00,  1.08400473e+01, -1.02955329e+00,\n",
       "         3.80797174e-01],\n",
       "       [ 2.38865190e-01,  8.49302074e+00,  8.40543163e+01,\n",
       "         6.86078542e+02, -1.12432822e+01, -8.04694590e+00,\n",
       "        -1.32963060e+01,  3.10465482e+01, -5.12375565e+00,\n",
       "         4.97118312e+00],\n",
       "       [ 9.87807823e-01,  9.41134593e+00,  4.17262557e+01,\n",
       "         9.43570657e+00,  4.47821815e+02,  7.79619237e+02,\n",
       "        -2.26463597e+01,  2.55115390e+01, -3.09393258e+00,\n",
       "         3.24738050e+00],\n",
       "       [ 1.35535573e-01,  1.35785413e+01,  3.77514492e+00,\n",
       "        -8.28118118e-01, -2.38899579e+00,  8.35280734e-01,\n",
       "        -5.86982338e-01,  5.26291257e+00,  2.25800905e+00,\n",
       "        -6.87540834e+00],\n",
       "       [ 9.31433415e-02,  1.39070416e+01,  2.72547830e+00,\n",
       "        -7.82948962e-01, -1.65845579e+00,  4.51098664e-01,\n",
       "        -6.86982260e-01,  6.25367931e+00,  3.00398399e+00,\n",
       "        -8.00831428e+00],\n",
       "       [ 6.59795864e-01,  1.34232433e+01,  1.09175112e+02,\n",
       "        -1.38081239e+01,  3.60957519e+02, -2.15031782e+02,\n",
       "        -2.45594894e+01,  5.96765476e+01,  3.10079912e+00,\n",
       "         5.25380755e+00],\n",
       "       [ 3.42350908e-02,  3.90396657e-01,  8.20904969e-01,\n",
       "         1.40189096e+00,  5.15861396e-02, -1.48041801e-02,\n",
       "         1.28527374e-01, -1.41136959e+00,  9.83057417e-01,\n",
       "        -2.16678385e-01],\n",
       "       [ 4.08169802e+01,  5.70160806e+01,  2.12960114e+02,\n",
       "        -1.80204935e+01, -2.78307009e+01,  1.25895041e+01,\n",
       "         4.41533656e+00, -1.73186247e+02, -5.03274306e+01,\n",
       "         4.57870033e+01],\n",
       "       [ 1.18820684e+01,  1.45558125e+01,  6.45053981e+01,\n",
       "        -7.59788526e+00, -1.01928344e+01,  3.47389333e+00,\n",
       "        -6.36215180e-01, -4.62474253e+01, -1.93257996e+01,\n",
       "         1.79432418e+01],\n",
       "       [ 1.85360625e-01,  2.96829284e+01,  5.96312527e+00,\n",
       "        -1.83585548e+00, -5.15615684e+00,  1.73389565e+00,\n",
       "        -1.65950309e+00,  1.70185419e+01,  7.17882138e+00,\n",
       "        -1.95933403e+01],\n",
       "       [ 2.03473384e+03, -1.55161706e+01, -4.04733190e+01,\n",
       "         3.73887116e+00,  4.76393404e+00, -1.99998405e+00,\n",
       "        -4.19941445e-01,  1.95938056e+01,  5.24966512e+00,\n",
       "        -4.56186046e+00],\n",
       "       [ 4.29814629e-04,  8.69870328e-03,  6.69551707e-03,\n",
       "         1.20042249e-03,  1.57358246e-04,  7.25678804e-04,\n",
       "         2.83288237e-03, -6.95514064e-03,  4.76045144e-03,\n",
       "        -1.59971839e-02],\n",
       "       [ 7.64386524e-03,  1.54825395e-01,  4.93501843e-02,\n",
       "         5.98222920e-03,  3.45536767e-02, -1.50767131e-02,\n",
       "         5.91262400e-03, -1.65967622e-01, -3.50874642e-02,\n",
       "         1.02488558e-01],\n",
       "       [ 2.77093731e+01,  1.22439097e+02,  4.95026933e+02,\n",
       "        -7.87438977e+01, -1.74173268e+02,  6.18271140e+01,\n",
       "        -4.33480047e+01,  3.16910642e+02,  5.35050600e+01,\n",
       "        -2.05303840e+01],\n",
       "       [ 1.18820625e+01,  1.45545817e+01,  6.45284227e+01,\n",
       "        -7.45773336e+00, -1.01959388e+01,  3.47201876e+00,\n",
       "        -6.38859200e-01, -4.62456309e+01, -1.93315751e+01,\n",
       "         1.79553405e+01],\n",
       "       [ 1.63943600e+00,  7.61392714e+00,  1.19830850e+01,\n",
       "         1.37348098e+00,  5.17707009e+00, -1.03927574e+00,\n",
       "         4.67286561e+00, -1.90891550e+01,  3.64283358e+00,\n",
       "        -4.59421313e+00],\n",
       "       [ 3.46914555e+00,  4.48586519e+01,  1.40513990e+01,\n",
       "         5.70904469e+00,  6.64638263e+00,  4.71880265e-01,\n",
       "         6.93233467e+00, -4.11802245e+01,  1.58981487e+01,\n",
       "        -3.48714969e+01],\n",
       "       [ 1.67916036e+00,  7.57769107e+00,  1.31141363e+01,\n",
       "         1.75445391e+00,  2.94515956e+00,  1.04338467e+00,\n",
       "         3.22147259e+01, -1.87513097e+01,  3.21434062e+00,\n",
       "        -3.44361206e+00],\n",
       "       [ 2.05629230e-01,  2.89048986e+01,  6.37106205e+00,\n",
       "        -1.62939409e+00, -5.01251666e+00,  1.70806768e+00,\n",
       "        -1.44589543e+00,  1.49151353e+01,  6.40613386e+00,\n",
       "        -1.75682226e+01],\n",
       "       [ 1.90600710e+00,  3.77798237e+01,  2.18245446e+01,\n",
       "        -2.81539055e-01,  4.86816121e+00, -1.72222953e+00,\n",
       "         5.44861970e+00, -9.20683992e+00,  1.11828902e+01,\n",
       "        -2.34859688e+01],\n",
       "       [ 0.00000000e+00,  0.00000000e+00,  0.00000000e+00,\n",
       "         0.00000000e+00,  0.00000000e+00,  0.00000000e+00,\n",
       "         0.00000000e+00,  0.00000000e+00,  0.00000000e+00,\n",
       "         0.00000000e+00],\n",
       "       [ 1.64154403e+00,  7.34592265e+00,  1.11377528e+01,\n",
       "         2.94460876e+00,  1.61815214e+00,  1.21265612e+00,\n",
       "         5.25440091e+00, -2.03787083e+01,  4.68367379e+00,\n",
       "        -4.84891597e+00],\n",
       "       [ 3.16634512e+00,  1.28328513e+01,  1.83872501e+01,\n",
       "         2.84174895e+00,  2.68107881e+00,  2.19228826e+00,\n",
       "         6.18712776e+00, -3.28587724e+01,  6.72127884e+00,\n",
       "        -7.82175015e+00],\n",
       "       [ 1.08899493e+00,  1.25771166e+02, -3.02428455e+01,\n",
       "         3.40433669e+00,  7.02168678e+00, -3.59758813e+00,\n",
       "        -1.30631181e+00,  4.46844511e+00, -3.01076858e+01,\n",
       "         1.29847242e+02],\n",
       "       [ 0.00000000e+00,  0.00000000e+00,  0.00000000e+00,\n",
       "         0.00000000e+00,  0.00000000e+00,  0.00000000e+00,\n",
       "         0.00000000e+00,  0.00000000e+00,  0.00000000e+00,\n",
       "         0.00000000e+00],\n",
       "       [ 3.88797584e-01,  2.34109527e+01,  6.69236838e+00,\n",
       "        -1.02313884e-01,  5.14996170e+00, -2.52633718e+00,\n",
       "         8.74900158e-01, -2.76105816e+01, -6.52412970e+00,\n",
       "         1.87792266e+01],\n",
       "       [ 2.91050279e+01,  9.12904073e+01,  1.80434886e+02,\n",
       "        -1.31626662e+01, -2.11092447e+01,  1.29456986e+01,\n",
       "         1.21475404e+01, -2.07865993e+02, -2.84118427e+01,\n",
       "        -5.28399374e+01],\n",
       "       [ 1.58276602e+01,  1.07902432e+02,  4.30546244e+02,\n",
       "        -7.11533822e+01, -1.63989366e+02,  5.83558787e+01,\n",
       "        -4.27114738e+01,  3.63127227e+02,  7.28281231e+01,\n",
       "        -3.85224226e+01],\n",
       "       [ 1.60524365e+00,  2.66953089e+01,  1.49629185e+02,\n",
       "        -1.73925266e+01,  4.96267774e+02, -2.94069132e+02,\n",
       "        -3.14798528e+01,  7.28160115e+01,  1.23220453e+01,\n",
       "        -9.68060863e+00],\n",
       "       [ 2.52861839e+01,  3.64401227e+01,  1.76929700e+02,\n",
       "        -2.13195199e+01, -2.93984304e+01,  1.00473107e+01,\n",
       "        -1.89243601e+00, -1.55197952e+02, -7.38946104e+01,\n",
       "         7.10259565e+01],\n",
       "       [ 2.71569880e-01,  4.41407591e+00,  1.67293680e+01,\n",
       "         4.92941215e-01,  1.92950153e+01, -8.83864412e+00,\n",
       "         9.22640762e+01, -4.91969198e+00, -5.77767781e-01,\n",
       "         2.29270179e+00],\n",
       "       [ 7.91117308e-01,  3.20230940e+00,  4.59271171e+00,\n",
       "         7.06424969e-01,  6.68628494e-01,  5.47792550e-01,\n",
       "         1.53972979e+00, -8.20547711e+00,  1.66609800e+00,\n",
       "        -1.96447367e+00],\n",
       "       [ 3.91554690e+00,  9.44064601e+02, -1.97411176e+02,\n",
       "         8.83890532e+00,  3.70819623e+00, -3.72378712e+00,\n",
       "        -8.35620647e+00,  5.90965771e+01,  3.94238702e+01,\n",
       "        -1.58681705e+02],\n",
       "       [ 0.00000000e+00,  0.00000000e+00,  0.00000000e+00,\n",
       "         0.00000000e+00,  0.00000000e+00,  0.00000000e+00,\n",
       "         0.00000000e+00,  0.00000000e+00,  0.00000000e+00,\n",
       "         0.00000000e+00],\n",
       "       [ 1.66470169e-02,  8.15990305e-02,  1.01768297e-01,\n",
       "         1.85592714e-02,  1.87885226e-02,  8.86523832e-03,\n",
       "         3.10399671e-02, -1.73104489e-01,  3.73212705e-02,\n",
       "        -4.69173934e-02],\n",
       "       [ 3.07164173e-02,  6.01030043e-01,  1.82729854e+00,\n",
       "         3.07708105e-01,  1.59490035e+00, -2.28875826e-01,\n",
       "         2.71458810e+01,  1.27840369e+00, -1.29917513e-01,\n",
       "         3.15211383e-01],\n",
       "       [ 9.03758267e-01,  4.19152302e+02, -1.27142628e+02,\n",
       "         6.19127920e+00,  5.82327919e+00, -5.00515845e+00,\n",
       "        -9.49974460e+00,  4.70901936e+01, -1.10533746e+02,\n",
       "         4.47825677e+02],\n",
       "       [ 8.05138735e-01,  3.43698039e+00,  5.62282551e+00,\n",
       "         6.56484684e-01,  3.28529950e+00, -9.43251796e-01,\n",
       "         1.48167422e+00, -8.51721683e+00,  1.89137732e+00,\n",
       "        -2.17445953e+00],\n",
       "       [ 1.26732248e+01,  1.77562459e+01,  6.91004770e+01,\n",
       "        -6.89201734e+00, -9.52095300e+00,  4.02035561e+00,\n",
       "         9.03380939e-01, -5.44527090e+01, -1.76616185e+01,\n",
       "         1.59818243e+01],\n",
       "       [ 2.02322971e-02,  5.07418746e-01,  6.20631069e-01,\n",
       "         1.74610678e-01,  9.63360147e-02,  9.54865297e-02,\n",
       "         4.08734648e-01, -3.00764695e+00,  1.07417017e+00,\n",
       "        -4.56631612e+00],\n",
       "       [ 4.21260070e+00,  1.06392131e+02,  3.97817110e+01,\n",
       "         5.58161939e+00,  2.57339724e+00,  7.31933778e+00,\n",
       "         3.98378388e+01, -1.83918558e+02,  5.52121129e+01,\n",
       "        -3.19376447e+02],\n",
       "       [ 0.00000000e+00,  0.00000000e+00,  0.00000000e+00,\n",
       "         0.00000000e+00,  0.00000000e+00,  0.00000000e+00,\n",
       "         0.00000000e+00,  0.00000000e+00,  0.00000000e+00,\n",
       "         0.00000000e+00],\n",
       "       [ 1.72304985e+00,  8.21562789e+00,  1.51789254e+01,\n",
       "         1.36568968e+00,  8.22931392e+00, -2.69893842e+00,\n",
       "         6.51890548e+00, -2.20554905e+01,  3.50909663e+00,\n",
       "        -4.43184694e+00],\n",
       "       [ 0.00000000e+00,  0.00000000e+00,  0.00000000e+00,\n",
       "         0.00000000e+00,  0.00000000e+00,  0.00000000e+00,\n",
       "         0.00000000e+00,  0.00000000e+00,  0.00000000e+00,\n",
       "         0.00000000e+00],\n",
       "       [ 4.29023566e+01,  7.46741612e+01,  2.55127549e+02,\n",
       "        -1.91100590e+01, -2.83591887e+01,  1.66495148e+01,\n",
       "         1.17914119e+01, -2.39201907e+02, -5.38683723e+01,\n",
       "         4.64157618e+01],\n",
       "       [ 2.19356276e+00,  6.78522888e+01,  1.47603902e+01,\n",
       "         1.50339077e+00, -3.29382099e-01,  3.06978522e+00,\n",
       "         8.89638650e+00, -6.89276320e+01,  1.74160591e+01,\n",
       "        -1.14702963e+02],\n",
       "       [ 3.17758130e-04,  1.63719163e-03,  3.08965653e-03,\n",
       "         7.85990022e-04,  5.40772985e-04,  2.03625503e-04,\n",
       "         6.45551834e-05, -1.21862966e-03,  3.29749066e-04,\n",
       "        -6.10068362e-04],\n",
       "       [ 1.51186879e+01,  2.78525000e+01,  8.48343223e+01,\n",
       "        -4.90335996e+00, -7.64701866e+00,  5.76622880e+00,\n",
       "         5.86746716e+00, -8.17707998e+01, -1.32465223e+01,\n",
       "         1.05606353e+01],\n",
       "       [ 1.84755165e+00,  1.18659181e+01,  2.32700149e+01,\n",
       "         4.54979914e+00,  4.09052463e+00,  3.35868434e+00,\n",
       "         1.08462689e+01, -1.19344461e+02,  5.66248731e+02,\n",
       "         1.56759848e+02],\n",
       "       [ 1.78024303e+00,  1.03581298e+01,  1.92066850e+01,\n",
       "         4.48861596e+00,  3.21051975e+00,  2.60233078e+00,\n",
       "         8.35978492e+00, -8.61921773e+01,  3.80907357e+02,\n",
       "         1.03586141e+02],\n",
       "       [ 0.00000000e+00,  0.00000000e+00,  0.00000000e+00,\n",
       "         0.00000000e+00,  0.00000000e+00,  0.00000000e+00,\n",
       "         0.00000000e+00,  0.00000000e+00,  0.00000000e+00,\n",
       "         0.00000000e+00],\n",
       "       [ 2.61753963e-01,  2.33493249e+01,  2.44641531e+00,\n",
       "         1.93270778e-01, -5.35488485e-01,  7.87298721e-01,\n",
       "         2.47696280e+00, -2.06348369e+01,  5.59496418e+00,\n",
       "        -4.27968034e+01],\n",
       "       [ 1.42381000e-02,  1.19730840e-01,  4.57545512e-01,\n",
       "        -3.29634039e-02, -6.30811387e-03,  3.69205952e-03,\n",
       "         1.38254796e-01, -6.23445049e-01, -1.37003724e-01,\n",
       "         1.27311827e-01],\n",
       "       [ 1.26657891e+01,  8.11137258e+01,  8.05802258e+01,\n",
       "        -1.02163109e+01, -1.75310041e+01,  6.84226275e+00,\n",
       "         1.27400890e+00, -7.20750827e+01, -7.23397430e+00,\n",
       "        -7.06582256e+01],\n",
       "       [ 6.98775319e-03,  2.26247330e-01,  1.38114768e-01,\n",
       "         3.49826183e-02,  1.05953251e-01, -2.15368643e-02,\n",
       "         6.55753160e-02, -5.03072518e-01,  2.06268383e-01,\n",
       "        -4.77458354e-01],\n",
       "       [ 0.00000000e+00,  0.00000000e+00,  0.00000000e+00,\n",
       "         0.00000000e+00,  0.00000000e+00,  0.00000000e+00,\n",
       "         0.00000000e+00,  0.00000000e+00,  0.00000000e+00,\n",
       "         0.00000000e+00],\n",
       "       [ 1.06804299e-03,  1.91432080e-02,  5.41916447e-02,\n",
       "        -1.24984812e-03,  6.76105301e-02, -3.79690665e-02,\n",
       "         3.10365510e-02, -4.12208376e-02,  4.60141169e-03,\n",
       "        -8.36053746e-03],\n",
       "       [ 2.41237442e+01,  3.54037617e+01,  1.40449135e+02,\n",
       "        -1.60163914e+01, -1.15990309e+01,  1.78250845e+00,\n",
       "         1.77543810e+00, -1.04947323e+02, -4.38726918e+01,\n",
       "         4.81665954e+01],\n",
       "       [ 1.44107209e+01,  1.66973387e+02,  5.11839469e+01,\n",
       "        -5.44276696e+00, -3.11213785e+00,  9.90630861e-01,\n",
       "         7.15090918e-01, -8.50207744e+01, -5.89752021e+01,\n",
       "         1.68995324e+02],\n",
       "       [ 2.80392561e+01,  4.85973118e+01,  1.82119647e+02,\n",
       "        -1.56214459e+01, -1.10248791e+01,  4.79478799e+00,\n",
       "         5.69547705e+00, -1.67776359e+02, -4.63223271e+01,\n",
       "         4.15859798e+01],\n",
       "       [ 3.95929054e+00,  1.73719529e+02,  8.13115299e+00,\n",
       "         5.77633491e+00,  6.15809170e+01, -2.92535450e+01,\n",
       "         7.75994583e+00, -8.61319011e+01,  4.81595969e+01,\n",
       "        -1.42809778e+02],\n",
       "       [ 1.85993159e-02,  5.25545326e-01,  6.80454566e-01,\n",
       "         9.74990438e-02,  6.47937091e-02,  8.53562018e-02,\n",
       "         1.07405579e+00, -1.35101132e+00,  5.05660941e-01,\n",
       "        -1.12392382e+00],\n",
       "       [ 2.28246522e-01,  3.89583039e+01,  1.03029555e+01,\n",
       "         5.87274472e-01, -8.00128437e+00,  2.72478685e+00,\n",
       "        -2.44961082e+00,  2.93840295e+01,  2.20854680e+01,\n",
       "        -5.60805398e+01],\n",
       "       [ 2.47803448e-03,  1.40790348e-02,  9.90550806e-03,\n",
       "         7.97982386e-03,  3.45978789e-04, -5.90203470e-04,\n",
       "         2.17483839e-03, -3.29068852e-03,  1.50102155e-02,\n",
       "        -1.26045834e-02],\n",
       "       [ 5.65163761e-01,  5.68934573e+01,  5.15738898e+00,\n",
       "         7.06913846e-02, -1.54364087e+00,  1.82713775e+00,\n",
       "         5.38368410e+00, -4.86147633e+01,  1.30236797e+01,\n",
       "        -1.02565134e+02],\n",
       "       [ 3.40005138e+00,  2.89194559e+01,  2.63124191e+01,\n",
       "         6.17417579e+00,  3.50677885e+00,  3.62251620e+00,\n",
       "         1.42872910e+01, -8.19306742e+01,  2.37058605e+01,\n",
       "        -9.97733658e+01],\n",
       "       [ 1.20437405e+01,  1.58606973e+01,  6.86384808e+01,\n",
       "        -8.06678294e+00, -1.03049388e+01,  3.39732638e+00,\n",
       "        -6.43334410e-01, -5.11768866e+01, -2.11692793e+01,\n",
       "         1.91631673e+01],\n",
       "       [ 2.14841667e-03,  3.37154934e-03,  5.59068318e-03,\n",
       "         1.27880373e-03,  4.43850473e-03,  3.80416728e-05,\n",
       "         2.97326282e-03, -6.00133596e-03,  3.76177176e-03,\n",
       "         4.99447697e-03],\n",
       "       [ 1.65838957e+00,  7.52494496e+00,  1.26776520e+01,\n",
       "         1.47280770e+00,  5.15900686e+00, -8.84981026e-01,\n",
       "         5.06101428e+00, -2.07530592e+01,  3.91675080e+00,\n",
       "        -4.58241828e+00],\n",
       "       [ 3.55111464e+00,  1.83930272e+01,  3.64808276e+01,\n",
       "         6.42940227e+00,  2.33444500e+01, -9.32223560e+00,\n",
       "         1.58836631e+01, -4.96291745e+01,  9.31988124e+00,\n",
       "        -8.84136523e+00],\n",
       "       [ 1.78671340e+00,  7.14121232e+01, -3.01407535e+00,\n",
       "         3.14463109e+00,  9.48012617e+00, -2.55867195e+00,\n",
       "         4.10562670e+00, -2.92258025e+01,  2.09221492e+01,\n",
       "        -6.26165657e+01],\n",
       "       [ 0.00000000e+00,  0.00000000e+00,  0.00000000e+00,\n",
       "         0.00000000e+00,  0.00000000e+00,  0.00000000e+00,\n",
       "         0.00000000e+00,  0.00000000e+00,  0.00000000e+00,\n",
       "         0.00000000e+00],\n",
       "       [ 2.22318032e-02,  9.03099986e-01,  5.43241212e-01,\n",
       "         1.17488533e-01,  4.26005042e-01, -9.01183845e-02,\n",
       "         2.72446427e-01, -2.04755737e+00,  8.69919358e-01,\n",
       "        -1.95542474e+00],\n",
       "       [ 1.18886055e+01,  1.45887995e+01,  6.45969442e+01,\n",
       "        -7.59746689e+00, -1.01906157e+01,  3.47653184e+00,\n",
       "        -6.10696158e-01, -4.63593022e+01, -1.93481961e+01,\n",
       "         1.79569611e+01],\n",
       "       [ 2.76889612e-04,  4.11938764e-03,  1.51591279e-02,\n",
       "        -2.21004226e-03, -4.71031799e-03,  1.75035400e-03,\n",
       "        -8.50997411e-04,  3.30140632e-03,  9.33530693e-04,\n",
       "        -3.81722283e-03],\n",
       "       [-2.53197368e-13,  5.86999436e-10, -3.83180132e-09,\n",
       "        -8.76332887e-10,  3.97950737e-09, -1.54580044e-10,\n",
       "         6.83128723e-10,  5.10661023e-09,  1.24630666e-09,\n",
       "         5.49902895e-10],\n",
       "       [ 9.00167364e-01,  3.41665631e+01,  8.11546529e-01,\n",
       "         1.29564266e+00,  1.08960673e+01, -5.00710143e+00,\n",
       "         1.54375998e+00, -1.26767761e+01,  9.42253667e+00,\n",
       "        -2.73398980e+01],\n",
       "       [ 7.85325121e-02,  6.66228841e-02,  1.31073544e-01,\n",
       "         1.71614080e-02,  8.71983299e-02, -2.48792310e-02,\n",
       "         4.28729702e-02, -3.10342696e-01,  8.29478348e-02,\n",
       "        -1.07820766e-01],\n",
       "       [ 2.62836368e-13,  4.55455819e-10, -1.13285133e-09,\n",
       "        -1.43687824e-09, -2.15008365e-10,  3.01574047e-09,\n",
       "         7.76123058e-10,  1.39488679e-08, -3.52893992e-08,\n",
       "         6.96646211e-09],\n",
       "       [ 9.93981911e+00, -2.62228298e-01, -9.35652898e-01,\n",
       "         9.18862351e-02,  1.25914314e-01, -5.31357822e-02,\n",
       "        -1.15912861e-02,  6.98925220e-01,  2.24720275e-01,\n",
       "        -2.03201946e-01]])"
      ]
     },
     "execution_count": 11,
     "metadata": {},
     "output_type": "execute_result"
    }
   ],
   "source": [
    "reduced_matrix"
   ]
  },
  {
   "cell_type": "code",
   "execution_count": 15,
   "metadata": {},
   "outputs": [],
   "source": [
    "ab = a[:, :100].dot(np.diag(b[:100])) # 레시피에 식재료가 얼마나 중요한지지\n",
    "bc = c.T[:, :100].dot(np.diag(b[:100])) # 식재료에 레시피가 얼마나 중요한지 "
   ]
  },
  {
   "cell_type": "code",
   "execution_count": 18,
   "metadata": {},
   "outputs": [
    {
     "data": {
      "text/plain": [
       "(348, 10)"
      ]
     },
     "execution_count": 18,
     "metadata": {},
     "output_type": "execute_result"
    }
   ],
   "source": [
    "c.T[:, :100].shape"
   ]
  },
  {
   "cell_type": "code",
   "execution_count": 17,
   "metadata": {},
   "outputs": [
    {
     "data": {
      "text/plain": [
       "(96, 349)"
      ]
     },
     "execution_count": 17,
     "metadata": {},
     "output_type": "execute_result"
    }
   ],
   "source": [
    "matrix.shape"
   ]
  },
  {
   "cell_type": "code",
   "execution_count": null,
   "metadata": {},
   "outputs": [],
   "source": []
  },
  {
   "cell_type": "code",
   "execution_count": 16,
   "metadata": {},
   "outputs": [
    {
     "data": {
      "text/plain": [
       "(348, 10)"
      ]
     },
     "execution_count": 16,
     "metadata": {},
     "output_type": "execute_result"
    }
   ],
   "source": [
    "bc.shape"
   ]
  },
  {
   "cell_type": "code",
   "execution_count": 4,
   "metadata": {},
   "outputs": [
    {
     "data": {
      "text/plain": [
       "<matplotlib.collections.PathCollection at 0x1d8fa8e8110>"
      ]
     },
     "execution_count": 4,
     "metadata": {},
     "output_type": "execute_result"
    },
    {
     "data": {
      "image/png": "[encoded data removed]",
      "text/plain": [
       "<Figure size 640x480 with 1 Axes>"
      ]
     },
     "metadata": {},
     "output_type": "display_data"
    }
   ],
   "source": [
    "\n",
    "import matplotlib.pyplot as plt\n",
    "plt.scatter(ab[:, 0], ab[:, 1])\n",
    "plt.scatter(bc[:, 0], bc[:, 1])"
   ]
  },
  {
   "cell_type": "code",
   "execution_count": 42,
   "metadata": {},
   "outputs": [],
   "source": [
    "def slicefood(data):\n",
    "    # recipe_ingredients가 NA인 행 제거\n",
    "    toy = data.loc[data[\"recipe_ingredients\"].notna(), :]\n",
    "\n",
    "    # 문자열 전처리\n",
    "    toy[\"recipe_ingredients\"] = toy[\"recipe_ingredients\"].apply(lambda x: x.replace('\\\\ufeff', '').replace('\\\\u200b', ''))\n",
    "\n",
    "    # 새로운 칼럼 생성\n",
    "    for i in range(1, 21):\n",
    "        toy.loc[:, f'ingredient{i}'] = None\n",
    "        toy.loc[:, f'quantity{i}'] = None\n",
    "        toy.loc[:, f'unit{i}'] = None\n",
    "\n",
    "    # 패턴과 일치하지 않는 데이터를 저장할 딕셔너리\n",
    "    non_matching_items = {}\n",
    "\n",
    "    # 식재료 칼럼 쪼개기\n",
    "    for idx, row in tqdm(toy.iterrows(), total=toy.shape[0]):\n",
    "        ingredients_dict = ast.literal_eval(row[\"recipe_ingredients\"])\n",
    "        ingredient_count = 1\n",
    "        for category, items in ingredients_dict.items():\n",
    "            if items:\n",
    "                for item in items:\n",
    "                    match = re.match(r'([가-힣]+(\\([가-힣]+\\))?)([\\d.+/~-]*)([가-힣a-zA-Z]+|약간|조금)?', item)\n",
    "                    if match:\n",
    "                        ingredient, _, quantity, unit = match.groups()\n",
    "\n",
    "                        toy.at[idx, f'ingredient{ingredient_count}'] = ingredient\n",
    "                        toy.at[idx, f'quantity{ingredient_count}'] = quantity\n",
    "                        toy.at[idx, f'unit{ingredient_count}'] = unit\n",
    "\n",
    "                        ingredient_count += 1\n",
    "                    else:\n",
    "                        non_matching_items[idx] = item\n",
    "\n",
    "    # 패턴과 일치하지 않는 데이터 출력\n",
    "    if non_matching_items:\n",
    "        for idx, item in non_matching_items.items():\n",
    "            print(f'Row {idx}: {item}')\n",
    "\n",
    "    return toy"
   ]
  },
  {
   "cell_type": "code",
   "execution_count": 48,
   "metadata": {},
   "outputs": [],
   "source": [
    "def slicefood(data):\n",
    "    # recipe_ingredients가 NA인 행 제거\n",
    "    toy = data.loc[data[\"recipe_ingredients\"].notna(), :]\n",
    "\n",
    "    # 문자열 전처리\n",
    "    toy[\"recipe_ingredients\"] = toy[\"recipe_ingredients\"].apply(lambda x: x.replace('\\\\ufeff', '').replace('\\\\u200b', ''))\n",
    "\n",
    "    # 새로운 칼럼 생성\n",
    "    for i in range(1, 21):\n",
    "        toy.loc[:, f'ingredient{i}'] = None\n",
    "        toy.loc[:, f'quantity{i}'] = None\n",
    "        toy.loc[:, f'unit{i}'] = None\n",
    "\n",
    "    # 패턴과 일치하지 않는 데이터를 저장할 딕셔너리\n",
    "    temp_data = []\n",
    "    non_matching_items = {}\n",
    "\n",
    "    for idx, row in tqdm(toy.iterrows(), total=toy.shape[0]):\n",
    "        ingredients_dict = ast.literal_eval(row[\"recipe_ingredients\"])\n",
    "        ingredient_count = 1\n",
    "        temp_row = row.to_dict()  # 현재 행의 데이터를 딕셔너리로 변환\n",
    "\n",
    "    for category, items in ingredients_dict.items():\n",
    "        if items:\n",
    "            for item in items:\n",
    "                match = re.match(r'([가-힣]+(\\([가-힣]+\\))?)([\\d.+/~-]*)([가-힣a-zA-Z]+|약간|조금)?', item)\n",
    "                if match:\n",
    "                    ingredient, _, quantity, unit = match.groups()\n",
    "\n",
    "                    temp_row[f'ingredient{ingredient_count}'] = ingredient\n",
    "                    temp_row[f'quantity{ingredient_count}'] = quantity\n",
    "                    temp_row[f'unit{ingredient_count}'] = unit\n",
    "\n",
    "                    ingredient_count += 1\n",
    "                else:\n",
    "                    non_matching_items[idx] = item\n",
    "\n",
    "        temp_data.append(temp_row)\n",
    "\n",
    "    # 모든 데이터가 포함된 새로운 DataFrame 생성\n",
    "    new_toy = pd.DataFrame(temp_data)\n",
    "\n",
    "    # 패턴과 일치하지 않는 데이터 출력\n",
    "    if non_matching_items:\n",
    "        for idx, item in non_matching_items.items():\n",
    "            print(f'Row {idx}: {item}')\n",
    "\n",
    "    return new_toy"
   ]
  },
  {
   "cell_type": "code",
   "execution_count": 58,
   "metadata": {},
   "outputs": [
    {
     "name": "stderr",
     "output_type": "stream",
     "text": [
      "  0%|          | 0/1000 [00:00<?, ?it/s]"
     ]
    },
    {
     "name": "stderr",
     "output_type": "stream",
     "text": [
      "100%|██████████| 1000/1000 [00:00<00:00, 7039.40it/s]\n"
     ]
    }
   ],
   "source": [
    "toy = slicefood(data)"
   ]
  },
  {
   "cell_type": "code",
   "execution_count": 60,
   "metadata": {},
   "outputs": [
    {
     "data": {
      "text/html": [
       "<div>\n",
       "<style scoped>\n",
       "    .dataframe tbody tr th:only-of-type {\n",
       "        vertical-align: middle;\n",
       "    }\n",
       "\n",
       "    .dataframe tbody tr th {\n",
       "        vertical-align: top;\n",
       "    }\n",
       "\n",
       "    .dataframe thead th {\n",
       "        text-align: right;\n",
       "    }\n",
       "</style>\n",
       "<table border=\"1\" class=\"dataframe\">\n",
       "  <thead>\n",
       "    <tr style=\"text-align: right;\">\n",
       "      <th></th>\n",
       "      <th>recipe_url</th>\n",
       "      <th>recipe_title</th>\n",
       "      <th>recipe_summary1</th>\n",
       "      <th>recipe_summary2</th>\n",
       "      <th>recipe_summary3</th>\n",
       "      <th>recipe_ingredients</th>\n",
       "      <th>recipe_step</th>\n",
       "      <th>recipe_tag</th>\n",
       "      <th>recipe_comment</th>\n",
       "      <th>recipe_view</th>\n",
       "      <th>...</th>\n",
       "      <th>unit17</th>\n",
       "      <th>ingredient18</th>\n",
       "      <th>quantity18</th>\n",
       "      <th>unit18</th>\n",
       "      <th>ingredient19</th>\n",
       "      <th>quantity19</th>\n",
       "      <th>unit19</th>\n",
       "      <th>ingredient20</th>\n",
       "      <th>quantity20</th>\n",
       "      <th>unit20</th>\n",
       "    </tr>\n",
       "  </thead>\n",
       "  <tbody>\n",
       "    <tr>\n",
       "      <th>0</th>\n",
       "      <td>http://www.10000recipe.com/recipe/6896010</td>\n",
       "      <td>짭쪼름한 밥도둑 간장게장</td>\n",
       "      <td>2인분</td>\n",
       "      <td>15분 이내</td>\n",
       "      <td>아무나</td>\n",
       "      <td>{'재료': ['꽃게1kg', '진간장2C', '물3C', '통마늘7톨', '생강2...</td>\n",
       "      <td>['#1 꽃게는 치솔로 구석구석 깨끗하게 씻어 줍니다.', '#2 간장 소스에 넣을...</td>\n",
       "      <td>['한식', '게장', '간장게장', '꽃게', '꽃게장', '일품요리', '밑반찬']</td>\n",
       "      <td>11</td>\n",
       "      <td>12000</td>\n",
       "      <td>...</td>\n",
       "      <td>None</td>\n",
       "      <td>None</td>\n",
       "      <td>None</td>\n",
       "      <td>None</td>\n",
       "      <td>None</td>\n",
       "      <td>None</td>\n",
       "      <td>None</td>\n",
       "      <td>None</td>\n",
       "      <td>None</td>\n",
       "      <td>None</td>\n",
       "    </tr>\n",
       "  </tbody>\n",
       "</table>\n",
       "<p>1 rows × 73 columns</p>\n",
       "</div>"
      ],
      "text/plain": [
       "                                  recipe_url   recipe_title recipe_summary1  \\\n",
       "0  http://www.10000recipe.com/recipe/6896010  짭쪼름한 밥도둑 간장게장             2인분   \n",
       "\n",
       "  recipe_summary2 recipe_summary3  \\\n",
       "0          15분 이내             아무나   \n",
       "\n",
       "                                  recipe_ingredients  \\\n",
       "0  {'재료': ['꽃게1kg', '진간장2C', '물3C', '통마늘7톨', '생강2...   \n",
       "\n",
       "                                         recipe_step  \\\n",
       "0  ['#1 꽃게는 치솔로 구석구석 깨끗하게 씻어 줍니다.', '#2 간장 소스에 넣을...   \n",
       "\n",
       "                                         recipe_tag  recipe_comment  \\\n",
       "0  ['한식', '게장', '간장게장', '꽃게', '꽃게장', '일품요리', '밑반찬']              11   \n",
       "\n",
       "   recipe_view  ... unit17 ingredient18 quantity18 unit18 ingredient19  \\\n",
       "0        12000  ...   None         None       None   None         None   \n",
       "\n",
       "  quantity19 unit19 ingredient20 quantity20 unit20  \n",
       "0       None   None         None       None   None  \n",
       "\n",
       "[1 rows x 73 columns]"
      ]
     },
     "execution_count": 60,
     "metadata": {},
     "output_type": "execute_result"
    }
   ],
   "source": [
    "toy"
   ]
  },
  {
   "cell_type": "code",
   "execution_count": 37,
   "metadata": {},
   "outputs": [
    {
     "name": "stdout",
     "output_type": "stream",
     "text": [
      "Unexpected exception formatting exception. Falling back to standard exception\n"
     ]
    },
    {
     "name": "stderr",
     "output_type": "stream",
     "text": [
      "Traceback (most recent call last):\n",
      "  File \"C:\\Users\\HwijunKwon\\AppData\\Roaming\\Python\\Python311\\site-packages\\IPython\\core\\interactiveshell.py\", line 3442, in run_code\n",
      "    exec(code_obj, self.user_global_ns, self.user_ns)\n",
      "  File \"C:\\Users\\HwijunKwon\\AppData\\Local\\Temp\\ipykernel_8968\\2807693238.py\", line 4, in <module>\n",
      "    slicefood(data)\n",
      "  File \"c:\\Users\\HwijunKwon\\inisw\\recipe\\models\\embedding.py\", line 34, in slicefood\n",
      "NameError: name 'tqdm' is not defined\n",
      "\n",
      "During handling of the above exception, another exception occurred:\n",
      "\n",
      "Traceback (most recent call last):\n",
      "  File \"C:\\Users\\HwijunKwon\\AppData\\Roaming\\Python\\Python311\\site-packages\\IPython\\core\\interactiveshell.py\", line 2057, in showtraceback\n",
      "    stb = self.InteractiveTB.structured_traceback(\n",
      "          ^^^^^^^^^^^^^^^^^^^^^^^^^^^^^^^^^^^^^^^^\n",
      "  File \"C:\\Users\\HwijunKwon\\AppData\\Roaming\\Python\\Python311\\site-packages\\IPython\\core\\ultratb.py\", line 1118, in structured_traceback\n",
      "    return FormattedTB.structured_traceback(\n",
      "           ^^^^^^^^^^^^^^^^^^^^^^^^^^^^^^^^^\n",
      "  File \"C:\\Users\\HwijunKwon\\AppData\\Roaming\\Python\\Python311\\site-packages\\IPython\\core\\ultratb.py\", line 1012, in structured_traceback\n",
      "    return VerboseTB.structured_traceback(\n",
      "           ^^^^^^^^^^^^^^^^^^^^^^^^^^^^^^^\n",
      "  File \"C:\\Users\\HwijunKwon\\AppData\\Roaming\\Python\\Python311\\site-packages\\IPython\\core\\ultratb.py\", line 865, in structured_traceback\n",
      "    formatted_exception = self.format_exception_as_a_whole(etype, evalue, etb, number_of_lines_of_context,\n",
      "                          ^^^^^^^^^^^^^^^^^^^^^^^^^^^^^^^^^^^^^^^^^^^^^^^^^^^^^^^^^^^^^^^^^^^^^^^^^^^^^^^^\n",
      "  File \"C:\\Users\\HwijunKwon\\AppData\\Roaming\\Python\\Python311\\site-packages\\IPython\\core\\ultratb.py\", line 818, in format_exception_as_a_whole\n",
      "    frames.append(self.format_record(r))\n",
      "                  ^^^^^^^^^^^^^^^^^^^^^\n",
      "  File \"C:\\Users\\HwijunKwon\\AppData\\Roaming\\Python\\Python311\\site-packages\\IPython\\core\\ultratb.py\", line 736, in format_record\n",
      "    result += ''.join(_format_traceback_lines(frame_info.lines, Colors, self.has_colors, lvals))\n",
      "                                              ^^^^^^^^^^^^^^^^\n",
      "  File \"C:\\Users\\HwijunKwon\\AppData\\Roaming\\Python\\Python311\\site-packages\\stack_data\\utils.py\", line 144, in cached_property_wrapper\n",
      "    value = obj.__dict__[self.func.__name__] = self.func(obj)\n",
      "                                               ^^^^^^^^^^^^^^\n",
      "  File \"C:\\Users\\HwijunKwon\\AppData\\Roaming\\Python\\Python311\\site-packages\\stack_data\\core.py\", line 734, in lines\n",
      "    pieces = self.included_pieces\n",
      "             ^^^^^^^^^^^^^^^^^^^^\n",
      "  File \"C:\\Users\\HwijunKwon\\AppData\\Roaming\\Python\\Python311\\site-packages\\stack_data\\utils.py\", line 144, in cached_property_wrapper\n",
      "    value = obj.__dict__[self.func.__name__] = self.func(obj)\n",
      "                                               ^^^^^^^^^^^^^^\n",
      "  File \"C:\\Users\\HwijunKwon\\AppData\\Roaming\\Python\\Python311\\site-packages\\stack_data\\core.py\", line 681, in included_pieces\n",
      "    pos = scope_pieces.index(self.executing_piece)\n",
      "                             ^^^^^^^^^^^^^^^^^^^^\n",
      "  File \"C:\\Users\\HwijunKwon\\AppData\\Roaming\\Python\\Python311\\site-packages\\stack_data\\utils.py\", line 144, in cached_property_wrapper\n",
      "    value = obj.__dict__[self.func.__name__] = self.func(obj)\n",
      "                                               ^^^^^^^^^^^^^^\n",
      "  File \"C:\\Users\\HwijunKwon\\AppData\\Roaming\\Python\\Python311\\site-packages\\stack_data\\core.py\", line 660, in executing_piece\n",
      "    return only(\n",
      "           ^^^^^\n",
      "  File \"C:\\Users\\HwijunKwon\\AppData\\Roaming\\Python\\Python311\\site-packages\\executing\\executing.py\", line 190, in only\n",
      "    raise NotOneValueFound('Expected one value, found 0')\n",
      "executing.executing.NotOneValueFound: Expected one value, found 0\n"
     ]
    }
   ],
   "source": [
    "from tqdm import tqdm\n",
    "from embedding import slicefood\n",
    "\n",
    "slicefood(data)\n"
   ]
  },
  {
   "cell_type": "code",
   "execution_count": 26,
   "metadata": {},
   "outputs": [
    {
     "name": "stderr",
     "output_type": "stream",
     "text": [
      " 20%|██        | 20/100 [00:00<00:00, 194.91it/s]"
     ]
    },
    {
     "name": "stderr",
     "output_type": "stream",
     "text": [
      "100%|██████████| 100/100 [00:00<00:00, 232.92it/s]"
     ]
    },
    {
     "name": "stdout",
     "output_type": "stream",
     "text": [
      "Row 24: \n",
      "Row 41: \n",
      "Row 60: 3cm두께커다란식빵1장\n"
     ]
    },
    {
     "name": "stderr",
     "output_type": "stream",
     "text": [
      "\n"
     ]
    }
   ],
   "source": [
    "from tqdm import tqdm\n",
    "import ast\n",
    "import re\n",
    "toy = data[[\"recipe_title\", \"recipe_ingredients\"]].copy()\n",
    "# 문자열 전처리\n",
    "toy[\"recipe_ingredients\"] = toy[\"recipe_ingredients\"].apply(lambda x: x.replace('\\\\ufeff', '').replace('\\\\u200b', ''))\n",
    "# 새로운 칼럼 생성\n",
    "for i in range(1, 21):\n",
    "    toy.loc[:, f'ingredient{i}'] = None\n",
    "    toy.loc[:, f'quantity{i}'] = None\n",
    "    toy.loc[:, f'unit{i}'] = None\n",
    "# 3. 식재료 칼럼 쪼개기\n",
    "# 패턴과 일치하지 않는 데이터를 저장할 딕셔너리\n",
    "non_matching_items = {}\n",
    "\n",
    "for idx, row in tqdm(toy.iterrows(), total=toy.shape[0]): #tqdm으로 진행상황 확인\n",
    "    ingredients_dict = ast.literal_eval(row[\"recipe_ingredients\"])  # row[\"recipe_ingredients\"] :{'재료': ['건새우50g', '물1/4컵', ...], '양념재료': ['설탕2큰술', '간장4큰술', ...}\"\n",
    "    ingredient_count = 1\n",
    "    for category, items in ingredients_dict.items():\n",
    "        if items:  # 아이템이 존재하는 경우\n",
    "            for item in items:\n",
    "                match = re.match(r'([가-힣]+(\\([가-힣]+\\))?)([\\d.+/~-]*)([가-힣a-zA-Z]+|약간|조금)?', item)\n",
    "                if match:\n",
    "                    ingredient, _, quantity, unit = match.groups()\n",
    "                    \n",
    "                    toy.at[idx, f'ingredient{ingredient_count}'] = ingredient\n",
    "                    toy.at[idx, f'quantity{ingredient_count}'] = quantity\n",
    "                    toy.at[idx, f'unit{ingredient_count}'] = unit\n",
    "\n",
    "                    ingredient_count += 1\n",
    "                else:\n",
    "                    # 패턴과 일치하지 않는 경우 딕셔너리에 추가\n",
    "                    non_matching_items[idx] = item\n",
    "\n",
    "# 패턴과 일치하지 않는 데이터 출력\n",
    "for idx, item in non_matching_items.items():\n",
    "    print(f'Row {idx}: {item}')\n"
   ]
  },
  {
   "cell_type": "code",
   "execution_count": 2,
   "metadata": {},
   "outputs": [
    {
     "ename": "NameError",
     "evalue": "name 'data' is not defined",
     "output_type": "error",
     "traceback": [
      "\u001b[1;31m---------------------------------------------------------------------------\u001b[0m",
      "\u001b[1;31mNameError\u001b[0m                                 Traceback (most recent call last)",
      "\u001b[1;32mc:\\Users\\HwijunKwon\\inisw\\recipe\\models\\feastest.ipynb Cell 4\u001b[0m line \u001b[0;36m3\n\u001b[0;32m      <a href='vscode-notebook-cell:/c%3A/Users/HwijunKwon/inisw/recipe/models/feastest.ipynb#W3sZmlsZQ%3D%3D?line=0'>1</a>\u001b[0m \u001b[39mfrom\u001b[39;00m \u001b[39membedding\u001b[39;00m \u001b[39mimport\u001b[39;00m slicefood\n\u001b[1;32m----> <a href='vscode-notebook-cell:/c%3A/Users/HwijunKwon/inisw/recipe/models/feastest.ipynb#W3sZmlsZQ%3D%3D?line=2'>3</a>\u001b[0m slicefood(data)\n",
      "\u001b[1;31mNameError\u001b[0m: name 'data' is not defined"
     ]
    }
   ],
   "source": []
  },
  {
   "cell_type": "code",
   "execution_count": 35,
   "metadata": {},
   "outputs": [],
   "source": [
    "from embedding import convert_fraction_to_float, convert_unit_to_number\n",
    "import pandas as pd\n",
    "\n",
    "ingredient_columns = toy.filter(like='ingredient').drop(columns=['recipe_ingredients']) # 'ingredient'가 포함된 모든 열 선택\n",
    "all_ingredients = [item for sublist in ingredient_columns.values for item in sublist if pd.notna(item)] # 각 행의 ingredient 값을 하나의 리스트로 결합\n",
    "\n",
    "\n",
    "all_ingredients = set()\n",
    "for i in range(1, 21):  \n",
    "    all_ingredients.update(toy[f'ingredient{i}'].dropna().unique())\n",
    "\n",
    "recipe_ingredients_df = pd.DataFrame(columns=list(all_ingredients))\n",
    "\n",
    "\n",
    "\n",
    "recipe_rows = []\n",
    "for idx, row in toy.iterrows():\n",
    "    recipe_data = {ingredient: 0.0 for ingredient in all_ingredients}  # 모든 식재료를 None으로 초기화\n",
    "    for i in range(1, 21):  \n",
    "        ingredient = row[f'ingredient{i}']\n",
    "        quantity = row[f'quantity{i}']\n",
    "        unit = row[f'unit{i}']\n",
    "        if pd.notna(ingredient) and pd.notna(quantity):\n",
    "            quantity_float = convert_fraction_to_float(quantity)\n",
    "            if quantity_float is not None:\n",
    "                unit_number = convert_unit_to_number(unit) if pd.notna(unit) else 1\n",
    "                recipe_data[ingredient] = quantity_float * unit_number\n",
    "    recipe_rows.append(recipe_data)\n",
    "\n",
    "# 새로운 데이터프레임 생성 (모든 식재료를 열로 가짐)\n",
    "recipe_ingredients_df = pd.concat([pd.DataFrame([row]) for row in recipe_rows], ignore_index=True)\n",
    "\n",
    "recipe_ingredients_df = recipe_ingredients_df.astype('float64')\n",
    "\n"
   ]
  },
  {
   "cell_type": "code",
   "execution_count": 39,
   "metadata": {},
   "outputs": [
    {
     "data": {
      "text/plain": [
       "(100, 392)"
      ]
     },
     "execution_count": 39,
     "metadata": {},
     "output_type": "execute_result"
    }
   ],
   "source": [
    "recipe_ingredients_df.shape"
   ]
  },
  {
   "cell_type": "code",
   "execution_count": 36,
   "metadata": {},
   "outputs": [],
   "source": [
    "import numpy as np\n",
    "\n",
    "a, b, c= np.linalg.svd(recipe_ingredients_df, full_matrices= True)"
   ]
  }
 ],
 "metadata": {
  "kernelspec": {
   "display_name": "Python 3",
   "language": "python",
   "name": "python3"
  },
  "language_info": {
   "codemirror_mode": {
    "name": "ipython",
    "version": 3
   },
   "file_extension": ".py",
   "mimetype": "text/x-python",
   "name": "python",
   "nbconvert_exporter": "python",
   "pygments_lexer": "ipython3",
   "version": "3.11.1"
  }
 },
 "nbformat": 4,
 "nbformat_minor": 2
}
