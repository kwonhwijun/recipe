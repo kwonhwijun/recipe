{
 "cells": [
  {
   "cell_type": "code",
   "execution_count": 17,
   "metadata": {},
   "outputs": [],
   "source": [
    "from oracle import oracleTopd\n",
    "\n",
    "data = oracleTopd('select * from recipe_data_table where rownum <= 100')\n"
   ]
  },
  {
   "cell_type": "code",
   "execution_count": 24,
   "metadata": {},
   "outputs": [],
   "source": [
    "from tqdm import tqdm"
   ]
  },
  {
   "cell_type": "code",
   "execution_count": 30,
   "metadata": {},
   "outputs": [
    {
     "name": "stdout",
     "output_type": "stream",
     "text": [
      "Unexpected exception formatting exception. Falling back to standard exception\n"
     ]
    },
    {
     "name": "stderr",
     "output_type": "stream",
     "text": [
      "Traceback (most recent call last):\n",
      "  File \"C:\\Users\\HwijunKwon\\AppData\\Roaming\\Python\\Python311\\site-packages\\IPython\\core\\interactiveshell.py\", line 3442, in run_code\n",
      "    exec(code_obj, self.user_global_ns, self.user_ns)\n",
      "  File \"C:\\Users\\HwijunKwon\\AppData\\Local\\Temp\\ipykernel_8968\\2149738528.py\", line 3, in <module>\n",
      "    toy = slicefood(data)\n",
      "          ^^^^^^^^^^^^^^^\n",
      "  File \"c:\\Users\\HwijunKwon\\inisw\\recipe\\models\\embedding.py\", line 34, in slicefood\n",
      "NameError: name 'tqdm' is not defined\n",
      "\n",
      "During handling of the above exception, another exception occurred:\n",
      "\n",
      "Traceback (most recent call last):\n",
      "  File \"C:\\Users\\HwijunKwon\\AppData\\Roaming\\Python\\Python311\\site-packages\\IPython\\core\\interactiveshell.py\", line 2057, in showtraceback\n",
      "    stb = self.InteractiveTB.structured_traceback(\n",
      "          ^^^^^^^^^^^^^^^^^^^^^^^^^^^^^^^^^^^^^^^^\n",
      "  File \"C:\\Users\\HwijunKwon\\AppData\\Roaming\\Python\\Python311\\site-packages\\IPython\\core\\ultratb.py\", line 1118, in structured_traceback\n",
      "    return FormattedTB.structured_traceback(\n",
      "           ^^^^^^^^^^^^^^^^^^^^^^^^^^^^^^^^^\n",
      "  File \"C:\\Users\\HwijunKwon\\AppData\\Roaming\\Python\\Python311\\site-packages\\IPython\\core\\ultratb.py\", line 1012, in structured_traceback\n",
      "    return VerboseTB.structured_traceback(\n",
      "           ^^^^^^^^^^^^^^^^^^^^^^^^^^^^^^^\n",
      "  File \"C:\\Users\\HwijunKwon\\AppData\\Roaming\\Python\\Python311\\site-packages\\IPython\\core\\ultratb.py\", line 865, in structured_traceback\n",
      "    formatted_exception = self.format_exception_as_a_whole(etype, evalue, etb, number_of_lines_of_context,\n",
      "                          ^^^^^^^^^^^^^^^^^^^^^^^^^^^^^^^^^^^^^^^^^^^^^^^^^^^^^^^^^^^^^^^^^^^^^^^^^^^^^^^^\n",
      "  File \"C:\\Users\\HwijunKwon\\AppData\\Roaming\\Python\\Python311\\site-packages\\IPython\\core\\ultratb.py\", line 818, in format_exception_as_a_whole\n",
      "    frames.append(self.format_record(r))\n",
      "                  ^^^^^^^^^^^^^^^^^^^^^\n",
      "  File \"C:\\Users\\HwijunKwon\\AppData\\Roaming\\Python\\Python311\\site-packages\\IPython\\core\\ultratb.py\", line 736, in format_record\n",
      "    result += ''.join(_format_traceback_lines(frame_info.lines, Colors, self.has_colors, lvals))\n",
      "                                              ^^^^^^^^^^^^^^^^\n",
      "  File \"C:\\Users\\HwijunKwon\\AppData\\Roaming\\Python\\Python311\\site-packages\\stack_data\\utils.py\", line 144, in cached_property_wrapper\n",
      "    value = obj.__dict__[self.func.__name__] = self.func(obj)\n",
      "                                               ^^^^^^^^^^^^^^\n",
      "  File \"C:\\Users\\HwijunKwon\\AppData\\Roaming\\Python\\Python311\\site-packages\\stack_data\\core.py\", line 734, in lines\n",
      "    pieces = self.included_pieces\n",
      "             ^^^^^^^^^^^^^^^^^^^^\n",
      "  File \"C:\\Users\\HwijunKwon\\AppData\\Roaming\\Python\\Python311\\site-packages\\stack_data\\utils.py\", line 144, in cached_property_wrapper\n",
      "    value = obj.__dict__[self.func.__name__] = self.func(obj)\n",
      "                                               ^^^^^^^^^^^^^^\n",
      "  File \"C:\\Users\\HwijunKwon\\AppData\\Roaming\\Python\\Python311\\site-packages\\stack_data\\core.py\", line 681, in included_pieces\n",
      "    pos = scope_pieces.index(self.executing_piece)\n",
      "                             ^^^^^^^^^^^^^^^^^^^^\n",
      "  File \"C:\\Users\\HwijunKwon\\AppData\\Roaming\\Python\\Python311\\site-packages\\stack_data\\utils.py\", line 144, in cached_property_wrapper\n",
      "    value = obj.__dict__[self.func.__name__] = self.func(obj)\n",
      "                                               ^^^^^^^^^^^^^^\n",
      "  File \"C:\\Users\\HwijunKwon\\AppData\\Roaming\\Python\\Python311\\site-packages\\stack_data\\core.py\", line 660, in executing_piece\n",
      "    return only(\n",
      "           ^^^^^\n",
      "  File \"C:\\Users\\HwijunKwon\\AppData\\Roaming\\Python\\Python311\\site-packages\\executing\\executing.py\", line 190, in only\n",
      "    raise NotOneValueFound('Expected one value, found 0')\n",
      "executing.executing.NotOneValueFound: Expected one value, found 0\n"
     ]
    }
   ],
   "source": [
    "from embedding import slicefood\n",
    "\n",
    "toy = slicefood(data)\n"
   ]
  },
  {
   "cell_type": "code",
   "execution_count": 26,
   "metadata": {},
   "outputs": [
    {
     "name": "stderr",
     "output_type": "stream",
     "text": [
      " 20%|██        | 20/100 [00:00<00:00, 194.91it/s]"
     ]
    },
    {
     "name": "stderr",
     "output_type": "stream",
     "text": [
      "100%|██████████| 100/100 [00:00<00:00, 232.92it/s]"
     ]
    },
    {
     "name": "stdout",
     "output_type": "stream",
     "text": [
      "Row 24: \n",
      "Row 41: \n",
      "Row 60: 3cm두께커다란식빵1장\n"
     ]
    },
    {
     "name": "stderr",
     "output_type": "stream",
     "text": [
      "\n"
     ]
    }
   ],
   "source": [
    "from tqdm import tqdm\n",
    "import ast\n",
    "import re\n",
    "toy = data[[\"recipe_title\", \"recipe_ingredients\"]].copy()\n",
    "# 문자열 전처리\n",
    "toy[\"recipe_ingredients\"] = toy[\"recipe_ingredients\"].apply(lambda x: x.replace('\\\\ufeff', '').replace('\\\\u200b', ''))\n",
    "# 새로운 칼럼 생성\n",
    "for i in range(1, 21):\n",
    "    toy.loc[:, f'ingredient{i}'] = None\n",
    "    toy.loc[:, f'quantity{i}'] = None\n",
    "    toy.loc[:, f'unit{i}'] = None\n",
    "# 3. 식재료 칼럼 쪼개기\n",
    "# 패턴과 일치하지 않는 데이터를 저장할 딕셔너리\n",
    "non_matching_items = {}\n",
    "\n",
    "for idx, row in tqdm(toy.iterrows(), total=toy.shape[0]): #tqdm으로 진행상황 확인\n",
    "    ingredients_dict = ast.literal_eval(row[\"recipe_ingredients\"])  # row[\"recipe_ingredients\"] :{'재료': ['건새우50g', '물1/4컵', ...], '양념재료': ['설탕2큰술', '간장4큰술', ...}\"\n",
    "    ingredient_count = 1\n",
    "    for category, items in ingredients_dict.items():\n",
    "        if items:  # 아이템이 존재하는 경우\n",
    "            for item in items:\n",
    "                match = re.match(r'([가-힣]+(\\([가-힣]+\\))?)([\\d.+/~-]*)([가-힣a-zA-Z]+|약간|조금)?', item)\n",
    "                if match:\n",
    "                    ingredient, _, quantity, unit = match.groups()\n",
    "                    \n",
    "                    toy.at[idx, f'ingredient{ingredient_count}'] = ingredient\n",
    "                    toy.at[idx, f'quantity{ingredient_count}'] = quantity\n",
    "                    toy.at[idx, f'unit{ingredient_count}'] = unit\n",
    "\n",
    "                    ingredient_count += 1\n",
    "                else:\n",
    "                    # 패턴과 일치하지 않는 경우 딕셔너리에 추가\n",
    "                    non_matching_items[idx] = item\n",
    "\n",
    "# 패턴과 일치하지 않는 데이터 출력\n",
    "for idx, item in non_matching_items.items():\n",
    "    print(f'Row {idx}: {item}')\n"
   ]
  },
  {
   "cell_type": "code",
   "execution_count": 2,
   "metadata": {},
   "outputs": [
    {
     "ename": "NameError",
     "evalue": "name 'data' is not defined",
     "output_type": "error",
     "traceback": [
      "\u001b[1;31m---------------------------------------------------------------------------\u001b[0m",
      "\u001b[1;31mNameError\u001b[0m                                 Traceback (most recent call last)",
      "\u001b[1;32mc:\\Users\\HwijunKwon\\inisw\\recipe\\models\\feastest.ipynb Cell 4\u001b[0m line \u001b[0;36m3\n\u001b[0;32m      <a href='vscode-notebook-cell:/c%3A/Users/HwijunKwon/inisw/recipe/models/feastest.ipynb#W3sZmlsZQ%3D%3D?line=0'>1</a>\u001b[0m \u001b[39mfrom\u001b[39;00m \u001b[39membedding\u001b[39;00m \u001b[39mimport\u001b[39;00m slicefood\n\u001b[1;32m----> <a href='vscode-notebook-cell:/c%3A/Users/HwijunKwon/inisw/recipe/models/feastest.ipynb#W3sZmlsZQ%3D%3D?line=2'>3</a>\u001b[0m slicefood(data)\n",
      "\u001b[1;31mNameError\u001b[0m: name 'data' is not defined"
     ]
    }
   ],
   "source": []
  },
  {
   "cell_type": "code",
   "execution_count": 35,
   "metadata": {},
   "outputs": [],
   "source": [
    "from embedding import convert_fraction_to_float, convert_unit_to_number\n",
    "import pandas as pd\n",
    "\n",
    "ingredient_columns = toy.filter(like='ingredient').drop(columns=['recipe_ingredients']) # 'ingredient'가 포함된 모든 열 선택\n",
    "all_ingredients = [item for sublist in ingredient_columns.values for item in sublist if pd.notna(item)] # 각 행의 ingredient 값을 하나의 리스트로 결합\n",
    "\n",
    "\n",
    "all_ingredients = set()\n",
    "for i in range(1, 21):  \n",
    "    all_ingredients.update(toy[f'ingredient{i}'].dropna().unique())\n",
    "\n",
    "recipe_ingredients_df = pd.DataFrame(columns=list(all_ingredients))\n",
    "\n",
    "\n",
    "\n",
    "recipe_rows = []\n",
    "for idx, row in toy.iterrows():\n",
    "    recipe_data = {ingredient: 0.0 for ingredient in all_ingredients}  # 모든 식재료를 None으로 초기화\n",
    "    for i in range(1, 21):  \n",
    "        ingredient = row[f'ingredient{i}']\n",
    "        quantity = row[f'quantity{i}']\n",
    "        unit = row[f'unit{i}']\n",
    "        if pd.notna(ingredient) and pd.notna(quantity):\n",
    "            quantity_float = convert_fraction_to_float(quantity)\n",
    "            if quantity_float is not None:\n",
    "                unit_number = convert_unit_to_number(unit) if pd.notna(unit) else 1\n",
    "                recipe_data[ingredient] = quantity_float * unit_number\n",
    "    recipe_rows.append(recipe_data)\n",
    "\n",
    "# 새로운 데이터프레임 생성 (모든 식재료를 열로 가짐)\n",
    "recipe_ingredients_df = pd.concat([pd.DataFrame([row]) for row in recipe_rows], ignore_index=True)\n",
    "\n",
    "recipe_ingredients_df = recipe_ingredients_df.astype('float64')\n",
    "\n"
   ]
  },
  {
   "cell_type": "code",
   "execution_count": 39,
   "metadata": {},
   "outputs": [
    {
     "data": {
      "text/plain": [
       "(100, 392)"
      ]
     },
     "execution_count": 39,
     "metadata": {},
     "output_type": "execute_result"
    }
   ],
   "source": [
    "recipe_ingredients_df.shape"
   ]
  },
  {
   "cell_type": "code",
   "execution_count": 36,
   "metadata": {},
   "outputs": [],
   "source": [
    "import numpy as np\n",
    "\n",
    "a, b, c= np.linalg.svd(recipe_ingredients_df, full_matrices= True)"
   ]
  }
 ],
 "metadata": {
  "kernelspec": {
   "display_name": "Python 3",
   "language": "python",
   "name": "python3"
  },
  "language_info": {
   "codemirror_mode": {
    "name": "ipython",
    "version": 3
   },
   "file_extension": ".py",
   "mimetype": "text/x-python",
   "name": "python",
   "nbconvert_exporter": "python",
   "pygments_lexer": "ipython3",
   "version": "3.11.1"
  }
 },
 "nbformat": 4,
 "nbformat_minor": 2
}
