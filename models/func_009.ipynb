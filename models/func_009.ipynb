{
 "cells": [
  {
   "cell_type": "code",
   "execution_count": 1,
   "metadata": {
    "collapsed": false,
    "ExecuteTime": {
     "end_time": "2023-11-28T08:36:02.896654400Z",
     "start_time": "2023-11-28T08:36:00.289688700Z"
    }
   },
   "outputs": [],
   "source": [
    "#func.py\n",
    "import oracledb as od\n",
    "import pandas as pd\n",
    "import numpy as np\n",
    "import config\n",
    "from tqdm import tqdm\n",
    "import ast\n",
    "import re\n",
    "from sklearn.decomposition import TruncatedSVD\n",
    "from sklearn.metrics.pairwise import cosine_similarity\n",
    "from scipy.sparse.linalg import svds\n",
    "from scipy.linalg import svd"
   ]
  },
  {
   "cell_type": "code",
   "execution_count": 2,
   "metadata": {
    "collapsed": true,
    "jupyter": {
     "outputs_hidden": true
    },
    "ExecuteTime": {
     "end_time": "2023-11-28T08:36:42.170876300Z",
     "start_time": "2023-11-28T08:36:08.331448900Z"
    }
   },
   "outputs": [
    {
     "data": {
      "text/plain": "                                       recipe_url  \\\n0       http://www.10000recipe.com/recipe/6879748   \n1       http://www.10000recipe.com/recipe/6922184   \n2       http://www.10000recipe.com/recipe/6907492   \n3       http://www.10000recipe.com/recipe/6833147   \n4       http://www.10000recipe.com/recipe/6909699   \n...                                           ...   \n166506  http://www.10000recipe.com/recipe/6929107   \n166507  http://www.10000recipe.com/recipe/6961108   \n166508  http://www.10000recipe.com/recipe/6964170   \n166509  http://www.10000recipe.com/recipe/6964163   \n166510  http://www.10000recipe.com/recipe/6964154   \n\n                        recipe_title recipe_summary1 recipe_summary2  \\\n0             순두부랑 잘어울리는 간장양념장 레시피 *             4인분          15분 이내   \n1                 다 쏟은 기력 되살려줄 낙지찜 ★             2인분          30분 이내   \n2                        수미네반찬 감자채볶음             2인분          15분 이내   \n3            계란오이볶음 :: 백주부레시피 , 오이반찬             4인분          10분 이내   \n4              삼겹살김밥 으로 푸짐한 도시락 만들기♡             4인분          30분 이내   \n...                              ...             ...             ...   \n166506            몽글 몽글 쉽게 만드는 \"계란찜\"             2인분          15분 이내   \n166507  새콤달콤한 아삭함이 매력적인 시원한 오이피클 레시피             4인분          20분 이내   \n166508               초 간단 오징어실채 무침~*             3인분           5분 이내   \n166509       새로운 비법양념으로 무친 대파김치청포묵무침             2인분          10분 이내   \n166510           참치캔 고추장 무침 만들어 보세요.             1인분           5분 이내   \n\n       recipe_summary3                                 recipe_ingredients  \\\n0                  아무나  {'재료': ['대파1/5대', '간장5T', '고춧가루1t', '소금2꼬집', '...   \n1                   중급  {'필수재료': ['콩나물200g', '낙지300g', '바지락200g', '양파1...   \n2                   초급  {'재료': ['감자큰거1개', '양파작은거1개', '스팸3조각', '청양고추1개'...   \n3                   초급  {'재료': ['계란5개', '오이1개', '청양고추2개(생략가능)', '파10cm...   \n4                   초급  {'재료': ['삼겹살200g', '느타리버섯50g', '깻잎9장', '김밥속재료1...   \n...                ...                                                ...   \n166506              초급  {'재료': ['계란6개', '간장1수저', '설탕1수저', '미림1수저', '물1...   \n166507             아무나  {'재료': ['오이1개', '소금1/2T'], '소스': ['물1종이컵', '설탕...   \n166508             아무나  {'재료': ['오징어실채110g'], '양념': ['간장2큰술', '참기름1.5큰...   \n166509             아무나  {'재료': ['청포묵1팩', '대파김치1/2컵', '김가루'], '양념': ['갈...   \n166510             아무나  {'재료': ['참치캔1캔', '다진마늘1/2Ts', '고추장2Ts', '설탕1/2...   \n\n                                              recipe_step  \\\n0       ['#1 재료를 준비해주세요 !', '#2 대파는 다져서 준비해주세요.부추가 있으면...   \n1       ['#1 양파는 채 썰고 미나리는 5cm 길이로 썰고 대파와 고추는 어슷 썬다.',...   \n2       ['#1 재료 씻고 깍고 꺼내 준비', '#2 양파어슷썰고', '#3 스팸 적당두께...   \n3       ['#1 청양고추와 대파를 송송 썰어둡니다. 파기름을 내려면 파가 필요한데 아무리 ...   \n4       ['#1 파 1뿌리를 파채썰어서 양념준비합니다.', '#2 고기 짝꿍 파절임만들기^...   \n...                                                   ...   \n166506  ['#1 계란 6개를 준비한다', '#2 설탕 1수저와 소금 1/2수저를 넣어준다'...   \n166507  ['#1 손에 소금 1/2T를 얹어 오이 표면을 골고루 비벼주세요. 소금으로 오이표...   \n166508  ['#1 오징어실채 탈탈 털어 볼에담고 가위로 한 두번 잘라준다', '#2 간장,고...   \n166509  ['#1 청포묵을 준비합니다', '#2 물을 끓입니다', '#3 청포묵을 썰어놓습니...   \n166510  ['#1 참치캔은 기름을 제거한다.', '#2 기름을 제거한 참치는 그릇에 담는다....   \n\n                                               recipe_tag  recipe_comment  \\\n0       ['순두부', '양념장', '간장양념장', '순두부 양념장', '순두부간장양념장',...             0.0   \n1       ['낙지찜', '낙지', '낙지레시피', '낙지찜 양념', '매콤', '저녁메뉴',...             0.0   \n2             ['감자채볶음', '감자', '수미네반찬', '초간단', '수미네반찬레시피']             0.0   \n3               ['집밥백선생', '백주부', '백주부레시피', '초간단', '다이어트']             0.0   \n4       ['삼겹살김밥', '간단요리', '도시락', '푸짐한한끼', '김밥만들기', '초보...             0.0   \n...                                                   ...             ...   \n166506                                                 []             0.0   \n166507  ['오이', '오이피클', '오이피클만들기', '오이피클만드는방법', '수제오이피클...             0.0   \n166508  ['간단밑반찬', '오징어실채', '마른반찬', '도시락반찬', '아이들반찬', '...             0.0   \n166509  ['대파김치청포묵무침', '청포묵무침', '청포묵', '묵무침', '묵요리', '한...             0.0   \n166510  ['참치캔', '참치캔 레시피', '참치캔 반찬', '참치캔 요리', '참치캔 무침...             0.0   \n\n        recipe_view recipe_category_type recipe_category_method  \\\n0            7937.0              양념/소스/잼                     기타   \n1            5858.0                 메인반찬                      찜   \n2            3143.0                  밑반찬                     볶음   \n3            7593.0                  밑반찬                     볶음   \n4            2962.0                밥/죽/떡                     기타   \n...             ...                  ...                    ...   \n166506       3714.0                  밑반찬                      찜   \n166507       1210.0                  밑반찬                     절임   \n166508        706.0                  밑반찬                     무침   \n166509        873.0                  밑반찬                     무침   \n166510        587.0                  밑반찬                     무침   \n\n       recipe_category_situation  row_cnt  \n0                             일상    94003  \n1                           손님접대    94004  \n2                           초스피드    94005  \n3                             일상    94006  \n4                            도시락    94007  \n...                          ...      ...  \n166506                        일상     9235  \n166507                        일상     9236  \n166508                        일상     9237  \n166509                        일상     9238  \n166510                        일상     9239  \n\n[166511 rows x 14 columns]",
      "text/html": "<div>\n<style scoped>\n    .dataframe tbody tr th:only-of-type {\n        vertical-align: middle;\n    }\n\n    .dataframe tbody tr th {\n        vertical-align: top;\n    }\n\n    .dataframe thead th {\n        text-align: right;\n    }\n</style>\n<table border=\"1\" class=\"dataframe\">\n  <thead>\n    <tr style=\"text-align: right;\">\n      <th></th>\n      <th>recipe_url</th>\n      <th>recipe_title</th>\n      <th>recipe_summary1</th>\n      <th>recipe_summary2</th>\n      <th>recipe_summary3</th>\n      <th>recipe_ingredients</th>\n      <th>recipe_step</th>\n      <th>recipe_tag</th>\n      <th>recipe_comment</th>\n      <th>recipe_view</th>\n      <th>recipe_category_type</th>\n      <th>recipe_category_method</th>\n      <th>recipe_category_situation</th>\n      <th>row_cnt</th>\n    </tr>\n  </thead>\n  <tbody>\n    <tr>\n      <th>0</th>\n      <td>http://www.10000recipe.com/recipe/6879748</td>\n      <td>순두부랑 잘어울리는 간장양념장 레시피 *</td>\n      <td>4인분</td>\n      <td>15분 이내</td>\n      <td>아무나</td>\n      <td>{'재료': ['대파1/5대', '간장5T', '고춧가루1t', '소금2꼬집', '...</td>\n      <td>['#1 재료를 준비해주세요 !', '#2 대파는 다져서 준비해주세요.부추가 있으면...</td>\n      <td>['순두부', '양념장', '간장양념장', '순두부 양념장', '순두부간장양념장',...</td>\n      <td>0.0</td>\n      <td>7937.0</td>\n      <td>양념/소스/잼</td>\n      <td>기타</td>\n      <td>일상</td>\n      <td>94003</td>\n    </tr>\n    <tr>\n      <th>1</th>\n      <td>http://www.10000recipe.com/recipe/6922184</td>\n      <td>다 쏟은 기력 되살려줄 낙지찜 ★</td>\n      <td>2인분</td>\n      <td>30분 이내</td>\n      <td>중급</td>\n      <td>{'필수재료': ['콩나물200g', '낙지300g', '바지락200g', '양파1...</td>\n      <td>['#1 양파는 채 썰고 미나리는 5cm 길이로 썰고 대파와 고추는 어슷 썬다.',...</td>\n      <td>['낙지찜', '낙지', '낙지레시피', '낙지찜 양념', '매콤', '저녁메뉴',...</td>\n      <td>0.0</td>\n      <td>5858.0</td>\n      <td>메인반찬</td>\n      <td>찜</td>\n      <td>손님접대</td>\n      <td>94004</td>\n    </tr>\n    <tr>\n      <th>2</th>\n      <td>http://www.10000recipe.com/recipe/6907492</td>\n      <td>수미네반찬 감자채볶음</td>\n      <td>2인분</td>\n      <td>15분 이내</td>\n      <td>초급</td>\n      <td>{'재료': ['감자큰거1개', '양파작은거1개', '스팸3조각', '청양고추1개'...</td>\n      <td>['#1 재료 씻고 깍고 꺼내 준비', '#2 양파어슷썰고', '#3 스팸 적당두께...</td>\n      <td>['감자채볶음', '감자', '수미네반찬', '초간단', '수미네반찬레시피']</td>\n      <td>0.0</td>\n      <td>3143.0</td>\n      <td>밑반찬</td>\n      <td>볶음</td>\n      <td>초스피드</td>\n      <td>94005</td>\n    </tr>\n    <tr>\n      <th>3</th>\n      <td>http://www.10000recipe.com/recipe/6833147</td>\n      <td>계란오이볶음 :: 백주부레시피 , 오이반찬</td>\n      <td>4인분</td>\n      <td>10분 이내</td>\n      <td>초급</td>\n      <td>{'재료': ['계란5개', '오이1개', '청양고추2개(생략가능)', '파10cm...</td>\n      <td>['#1 청양고추와 대파를 송송 썰어둡니다. 파기름을 내려면 파가 필요한데 아무리 ...</td>\n      <td>['집밥백선생', '백주부', '백주부레시피', '초간단', '다이어트']</td>\n      <td>0.0</td>\n      <td>7593.0</td>\n      <td>밑반찬</td>\n      <td>볶음</td>\n      <td>일상</td>\n      <td>94006</td>\n    </tr>\n    <tr>\n      <th>4</th>\n      <td>http://www.10000recipe.com/recipe/6909699</td>\n      <td>삼겹살김밥 으로 푸짐한 도시락 만들기♡</td>\n      <td>4인분</td>\n      <td>30분 이내</td>\n      <td>초급</td>\n      <td>{'재료': ['삼겹살200g', '느타리버섯50g', '깻잎9장', '김밥속재료1...</td>\n      <td>['#1 파 1뿌리를 파채썰어서 양념준비합니다.', '#2 고기 짝꿍 파절임만들기^...</td>\n      <td>['삼겹살김밥', '간단요리', '도시락', '푸짐한한끼', '김밥만들기', '초보...</td>\n      <td>0.0</td>\n      <td>2962.0</td>\n      <td>밥/죽/떡</td>\n      <td>기타</td>\n      <td>도시락</td>\n      <td>94007</td>\n    </tr>\n    <tr>\n      <th>...</th>\n      <td>...</td>\n      <td>...</td>\n      <td>...</td>\n      <td>...</td>\n      <td>...</td>\n      <td>...</td>\n      <td>...</td>\n      <td>...</td>\n      <td>...</td>\n      <td>...</td>\n      <td>...</td>\n      <td>...</td>\n      <td>...</td>\n      <td>...</td>\n    </tr>\n    <tr>\n      <th>166506</th>\n      <td>http://www.10000recipe.com/recipe/6929107</td>\n      <td>몽글 몽글 쉽게 만드는 \"계란찜\"</td>\n      <td>2인분</td>\n      <td>15분 이내</td>\n      <td>초급</td>\n      <td>{'재료': ['계란6개', '간장1수저', '설탕1수저', '미림1수저', '물1...</td>\n      <td>['#1 계란 6개를 준비한다', '#2 설탕 1수저와 소금 1/2수저를 넣어준다'...</td>\n      <td>[]</td>\n      <td>0.0</td>\n      <td>3714.0</td>\n      <td>밑반찬</td>\n      <td>찜</td>\n      <td>일상</td>\n      <td>9235</td>\n    </tr>\n    <tr>\n      <th>166507</th>\n      <td>http://www.10000recipe.com/recipe/6961108</td>\n      <td>새콤달콤한 아삭함이 매력적인 시원한 오이피클 레시피</td>\n      <td>4인분</td>\n      <td>20분 이내</td>\n      <td>아무나</td>\n      <td>{'재료': ['오이1개', '소금1/2T'], '소스': ['물1종이컵', '설탕...</td>\n      <td>['#1 손에 소금 1/2T를 얹어 오이 표면을 골고루 비벼주세요. 소금으로 오이표...</td>\n      <td>['오이', '오이피클', '오이피클만들기', '오이피클만드는방법', '수제오이피클...</td>\n      <td>0.0</td>\n      <td>1210.0</td>\n      <td>밑반찬</td>\n      <td>절임</td>\n      <td>일상</td>\n      <td>9236</td>\n    </tr>\n    <tr>\n      <th>166508</th>\n      <td>http://www.10000recipe.com/recipe/6964170</td>\n      <td>초 간단 오징어실채 무침~*</td>\n      <td>3인분</td>\n      <td>5분 이내</td>\n      <td>아무나</td>\n      <td>{'재료': ['오징어실채110g'], '양념': ['간장2큰술', '참기름1.5큰...</td>\n      <td>['#1 오징어실채 탈탈 털어 볼에담고 가위로 한 두번 잘라준다', '#2 간장,고...</td>\n      <td>['간단밑반찬', '오징어실채', '마른반찬', '도시락반찬', '아이들반찬', '...</td>\n      <td>0.0</td>\n      <td>706.0</td>\n      <td>밑반찬</td>\n      <td>무침</td>\n      <td>일상</td>\n      <td>9237</td>\n    </tr>\n    <tr>\n      <th>166509</th>\n      <td>http://www.10000recipe.com/recipe/6964163</td>\n      <td>새로운 비법양념으로 무친 대파김치청포묵무침</td>\n      <td>2인분</td>\n      <td>10분 이내</td>\n      <td>아무나</td>\n      <td>{'재료': ['청포묵1팩', '대파김치1/2컵', '김가루'], '양념': ['갈...</td>\n      <td>['#1 청포묵을 준비합니다', '#2 물을 끓입니다', '#3 청포묵을 썰어놓습니...</td>\n      <td>['대파김치청포묵무침', '청포묵무침', '청포묵', '묵무침', '묵요리', '한...</td>\n      <td>0.0</td>\n      <td>873.0</td>\n      <td>밑반찬</td>\n      <td>무침</td>\n      <td>일상</td>\n      <td>9238</td>\n    </tr>\n    <tr>\n      <th>166510</th>\n      <td>http://www.10000recipe.com/recipe/6964154</td>\n      <td>참치캔 고추장 무침 만들어 보세요.</td>\n      <td>1인분</td>\n      <td>5분 이내</td>\n      <td>아무나</td>\n      <td>{'재료': ['참치캔1캔', '다진마늘1/2Ts', '고추장2Ts', '설탕1/2...</td>\n      <td>['#1 참치캔은 기름을 제거한다.', '#2 기름을 제거한 참치는 그릇에 담는다....</td>\n      <td>['참치캔', '참치캔 레시피', '참치캔 반찬', '참치캔 요리', '참치캔 무침...</td>\n      <td>0.0</td>\n      <td>587.0</td>\n      <td>밑반찬</td>\n      <td>무침</td>\n      <td>일상</td>\n      <td>9239</td>\n    </tr>\n  </tbody>\n</table>\n<p>166511 rows × 14 columns</p>\n</div>"
     },
     "execution_count": 2,
     "metadata": {},
     "output_type": "execute_result"
    }
   ],
   "source": [
    "def load_recipe(n = 166511):\n",
    "    od.init_oracle_client(lib_dir=r\"C:\\Program Files\\Oracle\\instantclient_21_12\") # db connection\n",
    "    conn = od.connect(user = config.DB_CONFIG['user'], password = config.DB_CONFIG['password'],  dsn = config.DB_CONFIG['dsn'])\n",
    "    exe = conn.cursor()\n",
    "    exe.execute(f'select * from recipe_table where rownum <= {n}')\n",
    "    row = exe.fetchall() # row 불러오기\n",
    "    column_name = exe.description # column 불러오기\n",
    "    columns=[]\n",
    "    for i in column_name:\n",
    "        columns.append(i[0])\n",
    "    result = pd.DataFrame(row, columns=columns) # row, column을 pandas DataFrame으로 나타내기\n",
    "    result.rename(mapper=str.lower, axis='columns', inplace=True)\n",
    "    conn.close()\n",
    "    return result\n",
    "\n",
    "func = load_recipe()\n",
    "func"
   ]
  },
  {
   "cell_type": "code",
   "execution_count": 4,
   "metadata": {
    "ExecuteTime": {
     "end_time": "2023-11-28T08:37:26.410820600Z",
     "start_time": "2023-11-28T08:37:22.360797600Z"
    }
   },
   "outputs": [
    {
     "name": "stderr",
     "output_type": "stream",
     "text": [
      "C:\\Users\\glori\\AppData\\Local\\Temp\\ipykernel_14212\\3402541563.py:18: SettingWithCopyWarning: \n",
      "A value is trying to be set on a copy of a slice from a DataFrame\n",
      "\n",
      "See the caveats in the documentation: https://pandas.pydata.org/pandas-docs/stable/user_guide/indexing.html#returning-a-view-versus-a-copy\n",
      "  result.drop(del_idx, inplace=True)\n",
      "C:\\Users\\glori\\AppData\\Local\\Temp\\ipykernel_14212\\3402541563.py:19: SettingWithCopyWarning: \n",
      "A value is trying to be set on a copy of a slice from a DataFrame\n",
      "\n",
      "See the caveats in the documentation: https://pandas.pydata.org/pandas-docs/stable/user_guide/indexing.html#returning-a-view-versus-a-copy\n",
      "  result.drop(title_idx, inplace=True)\n"
     ]
    },
    {
     "data": {
      "text/plain": "                        recipe_title  \\\n0             순두부랑 잘어울리는 간장양념장 레시피 *   \n1                 다 쏟은 기력 되살려줄 낙지찜 ★   \n2                        수미네반찬 감자채볶음   \n3            계란오이볶음 :: 백주부레시피 , 오이반찬   \n4              삼겹살김밥 으로 푸짐한 도시락 만들기♡   \n...                              ...   \n166506            몽글 몽글 쉽게 만드는 \"계란찜\"   \n166507  새콤달콤한 아삭함이 매력적인 시원한 오이피클 레시피   \n166508               초 간단 오징어실채 무침~*   \n166509       새로운 비법양념으로 무친 대파김치청포묵무침   \n166510           참치캔 고추장 무침 만들어 보세요.   \n\n                                       recipe_ingredients  \n0       {'재료': ['대파1/5대', '간장5T', '고춧가루1t', '소금2꼬집', '...  \n1       {'필수재료': ['콩나물200g', '낙지300g', '바지락200g', '양파1...  \n2       {'재료': ['감자큰거1개', '양파작은거1개', '스팸3조각', '청양고추1개'...  \n3       {'재료': ['계란5개', '오이1개', '청양고추2개(생략가능)', '파10cm...  \n4       {'재료': ['삼겹살200g', '느타리버섯50g', '깻잎9장', '김밥속재료1...  \n...                                                   ...  \n166506  {'재료': ['계란6개', '간장1수저', '설탕1수저', '미림1수저', '물1...  \n166507  {'재료': ['오이1개', '소금1/2T'], '소스': ['물1종이컵', '설탕...  \n166508  {'재료': ['오징어실채110g'], '양념': ['간장2큰술', '참기름1.5큰...  \n166509  {'재료': ['청포묵1팩', '대파김치1/2컵', '김가루'], '양념': ['갈...  \n166510  {'재료': ['참치캔1캔', '다진마늘1/2Ts', '고추장2Ts', '설탕1/2...  \n\n[157258 rows x 2 columns]",
      "text/html": "<div>\n<style scoped>\n    .dataframe tbody tr th:only-of-type {\n        vertical-align: middle;\n    }\n\n    .dataframe tbody tr th {\n        vertical-align: top;\n    }\n\n    .dataframe thead th {\n        text-align: right;\n    }\n</style>\n<table border=\"1\" class=\"dataframe\">\n  <thead>\n    <tr style=\"text-align: right;\">\n      <th></th>\n      <th>recipe_title</th>\n      <th>recipe_ingredients</th>\n    </tr>\n  </thead>\n  <tbody>\n    <tr>\n      <th>0</th>\n      <td>순두부랑 잘어울리는 간장양념장 레시피 *</td>\n      <td>{'재료': ['대파1/5대', '간장5T', '고춧가루1t', '소금2꼬집', '...</td>\n    </tr>\n    <tr>\n      <th>1</th>\n      <td>다 쏟은 기력 되살려줄 낙지찜 ★</td>\n      <td>{'필수재료': ['콩나물200g', '낙지300g', '바지락200g', '양파1...</td>\n    </tr>\n    <tr>\n      <th>2</th>\n      <td>수미네반찬 감자채볶음</td>\n      <td>{'재료': ['감자큰거1개', '양파작은거1개', '스팸3조각', '청양고추1개'...</td>\n    </tr>\n    <tr>\n      <th>3</th>\n      <td>계란오이볶음 :: 백주부레시피 , 오이반찬</td>\n      <td>{'재료': ['계란5개', '오이1개', '청양고추2개(생략가능)', '파10cm...</td>\n    </tr>\n    <tr>\n      <th>4</th>\n      <td>삼겹살김밥 으로 푸짐한 도시락 만들기♡</td>\n      <td>{'재료': ['삼겹살200g', '느타리버섯50g', '깻잎9장', '김밥속재료1...</td>\n    </tr>\n    <tr>\n      <th>...</th>\n      <td>...</td>\n      <td>...</td>\n    </tr>\n    <tr>\n      <th>166506</th>\n      <td>몽글 몽글 쉽게 만드는 \"계란찜\"</td>\n      <td>{'재료': ['계란6개', '간장1수저', '설탕1수저', '미림1수저', '물1...</td>\n    </tr>\n    <tr>\n      <th>166507</th>\n      <td>새콤달콤한 아삭함이 매력적인 시원한 오이피클 레시피</td>\n      <td>{'재료': ['오이1개', '소금1/2T'], '소스': ['물1종이컵', '설탕...</td>\n    </tr>\n    <tr>\n      <th>166508</th>\n      <td>초 간단 오징어실채 무침~*</td>\n      <td>{'재료': ['오징어실채110g'], '양념': ['간장2큰술', '참기름1.5큰...</td>\n    </tr>\n    <tr>\n      <th>166509</th>\n      <td>새로운 비법양념으로 무친 대파김치청포묵무침</td>\n      <td>{'재료': ['청포묵1팩', '대파김치1/2컵', '김가루'], '양념': ['갈...</td>\n    </tr>\n    <tr>\n      <th>166510</th>\n      <td>참치캔 고추장 무침 만들어 보세요.</td>\n      <td>{'재료': ['참치캔1캔', '다진마늘1/2Ts', '고추장2Ts', '설탕1/2...</td>\n    </tr>\n  </tbody>\n</table>\n<p>157258 rows × 2 columns</p>\n</div>"
     },
     "execution_count": 4,
     "metadata": {},
     "output_type": "execute_result"
    }
   ],
   "source": [
    "def recipe_preprocessing(raw):\n",
    "    data = raw.loc[raw['recipe_ingredients'].notnull()].copy()  # None 값 제거\n",
    "\n",
    "    def clean_ingredients(ingredients):\n",
    "        if ingredients is not None:\n",
    "            ingredients = ingredients.replace('\\\\ufeff', '').replace('\\\\u200b', '')\n",
    "        return ingredients\n",
    "\n",
    "    def not_empty_ingredients(row):\n",
    "        return row['recipe_ingredients'].strip() != '{}' # 결측치 제거\n",
    "\n",
    "    data[\"recipe_ingredients\"] = data[\"recipe_ingredients\"].apply(clean_ingredients)\n",
    "    data = data[data.apply(not_empty_ingredients, axis=1)]\n",
    "    result = data[['recipe_title', 'recipe_ingredients']]\n",
    "\n",
    "    title_idx = result[result['recipe_title'].isnull()].index\n",
    "    del_idx = result[result['recipe_ingredients'].str.startswith('소시지')].index\n",
    "    result.drop(del_idx, inplace=True)\n",
    "    result.drop(title_idx, inplace=True)\n",
    "\n",
    "    return result\n",
    "\n",
    "func_pre = recipe_preprocessing(func)\n",
    "func_pre"
   ]
  },
  {
   "cell_type": "code",
   "execution_count": null,
   "metadata": {},
   "outputs": [],
   "source": []
  },
  {
   "cell_type": "code",
   "execution_count": 13,
   "outputs": [],
   "source": [
    "title_idx = func_pre[func_pre['recipe_title'].isnull()].index"
   ],
   "metadata": {
    "collapsed": false,
    "ExecuteTime": {
     "start_time": "2023-11-28T08:24:31.358985Z"
    }
   }
  },
  {
   "cell_type": "code",
   "execution_count": 8,
   "metadata": {
    "ExecuteTime": {
     "end_time": "2023-11-28T08:09:50.075906700Z",
     "start_time": "2023-11-28T08:09:49.868241600Z"
    }
   },
   "outputs": [],
   "source": [
    "del_idx = func_pre[func_pre['recipe_ingredients'].str.startswith('소시지')].index"
   ]
  },
  {
   "cell_type": "code",
   "execution_count": 19,
   "metadata": {
    "ExecuteTime": {
     "end_time": "2023-11-28T08:28:01.359325500Z",
     "start_time": "2023-11-28T08:28:01.279164500Z"
    }
   },
   "outputs": [],
   "source": [
    "func_pre.drop(del_idx, inplace=True)\n",
    "func_pre.drop(title_idx, inplace=True)"
   ]
  },
  {
   "cell_type": "code",
   "execution_count": 20,
   "outputs": [
    {
     "data": {
      "text/plain": "                           recipe_title  \\\n0                            만물상 5분 콩국수   \n1                아삭하고 깔끔한 오이소박이 비법 *^^*   \n2             탕수육...바삭한 탕수육에 특제 탕수육소스^^   \n3       잔멸치나 새우보다 칼슘이 최고! 견과류를 넣은 뱅어포조림   \n4                              한우 모듬 초밥   \n...                                 ...   \n166506                      일본식 닭조림 만들기   \n166507            블랙라벨스테이크 깨쟁이요리 럭셔리도시락   \n166508     특별한 별미 곤약조림 탱글탱글 짭쪼름 맛있는 밑반찬   \n166509                   오믈렛만드는법*브런치만들기   \n166510          누들 로제 떡볶이 만들기 (황금비율양념장)   \n\n                                       recipe_ingredients  \n0       {'재료': ['메주콩5소주잔', '옥수수알1소주잔', '물2컵', '중면1인분',...  \n1       {'재료': ['오이10개', '부추2/3단', '쪽파6줄기', '양파1개', '천...  \n2       {'재료': ['돼지고기안심400g', '양파1/2개', '표고버섯(목이버섯)4개'...  \n3       {'재료': ['뱅어포3장', '식용유1/2컵', '아몬드20알', '해바라기씨1큰...  \n4       {'재료': ['한우차돌박이1/2줌', '노란파프리카1/4개', '빨간파프리카1/4...  \n...                                                   ...  \n166506  {'재료': ['닭다리또는닭봉1팩', '감자2개', '당근1/2개', '표고버섯3개...  \n166507  {'재료': ['블랙라벨스테이크260g', '양파1/3', '그린빈4개', '방울토...  \n166508  {'재료': ['통곤약600g', '물900ml', '간장60ml', '매실액10m...  \n166509  {'계란 오믈렛 재료': ['계란2개', '소금약간', '소세지약간', '모짜렐라치...  \n166510  {'재료': ['누들떡500g', '긴소세지1개', '생크림200ml', '물500...  \n\n[157258 rows x 2 columns]",
      "text/html": "<div>\n<style scoped>\n    .dataframe tbody tr th:only-of-type {\n        vertical-align: middle;\n    }\n\n    .dataframe tbody tr th {\n        vertical-align: top;\n    }\n\n    .dataframe thead th {\n        text-align: right;\n    }\n</style>\n<table border=\"1\" class=\"dataframe\">\n  <thead>\n    <tr style=\"text-align: right;\">\n      <th></th>\n      <th>recipe_title</th>\n      <th>recipe_ingredients</th>\n    </tr>\n  </thead>\n  <tbody>\n    <tr>\n      <th>0</th>\n      <td>만물상 5분 콩국수</td>\n      <td>{'재료': ['메주콩5소주잔', '옥수수알1소주잔', '물2컵', '중면1인분',...</td>\n    </tr>\n    <tr>\n      <th>1</th>\n      <td>아삭하고 깔끔한 오이소박이 비법 *^^*</td>\n      <td>{'재료': ['오이10개', '부추2/3단', '쪽파6줄기', '양파1개', '천...</td>\n    </tr>\n    <tr>\n      <th>2</th>\n      <td>탕수육...바삭한 탕수육에 특제 탕수육소스^^</td>\n      <td>{'재료': ['돼지고기안심400g', '양파1/2개', '표고버섯(목이버섯)4개'...</td>\n    </tr>\n    <tr>\n      <th>3</th>\n      <td>잔멸치나 새우보다 칼슘이 최고! 견과류를 넣은 뱅어포조림</td>\n      <td>{'재료': ['뱅어포3장', '식용유1/2컵', '아몬드20알', '해바라기씨1큰...</td>\n    </tr>\n    <tr>\n      <th>4</th>\n      <td>한우 모듬 초밥</td>\n      <td>{'재료': ['한우차돌박이1/2줌', '노란파프리카1/4개', '빨간파프리카1/4...</td>\n    </tr>\n    <tr>\n      <th>...</th>\n      <td>...</td>\n      <td>...</td>\n    </tr>\n    <tr>\n      <th>166506</th>\n      <td>일본식 닭조림 만들기</td>\n      <td>{'재료': ['닭다리또는닭봉1팩', '감자2개', '당근1/2개', '표고버섯3개...</td>\n    </tr>\n    <tr>\n      <th>166507</th>\n      <td>블랙라벨스테이크 깨쟁이요리 럭셔리도시락</td>\n      <td>{'재료': ['블랙라벨스테이크260g', '양파1/3', '그린빈4개', '방울토...</td>\n    </tr>\n    <tr>\n      <th>166508</th>\n      <td>특별한 별미 곤약조림 탱글탱글 짭쪼름 맛있는 밑반찬</td>\n      <td>{'재료': ['통곤약600g', '물900ml', '간장60ml', '매실액10m...</td>\n    </tr>\n    <tr>\n      <th>166509</th>\n      <td>오믈렛만드는법*브런치만들기</td>\n      <td>{'계란 오믈렛 재료': ['계란2개', '소금약간', '소세지약간', '모짜렐라치...</td>\n    </tr>\n    <tr>\n      <th>166510</th>\n      <td>누들 로제 떡볶이 만들기 (황금비율양념장)</td>\n      <td>{'재료': ['누들떡500g', '긴소세지1개', '생크림200ml', '물500...</td>\n    </tr>\n  </tbody>\n</table>\n<p>157258 rows × 2 columns</p>\n</div>"
     },
     "execution_count": 20,
     "metadata": {},
     "output_type": "execute_result"
    }
   ],
   "source": [
    "func_pre\n",
    "#157263 > 157258"
   ],
   "metadata": {
    "collapsed": false,
    "ExecuteTime": {
     "end_time": "2023-11-28T08:28:03.689286Z",
     "start_time": "2023-11-28T08:28:03.654733500Z"
    }
   }
  },
  {
   "cell_type": "code",
   "execution_count": null,
   "outputs": [],
   "source": [],
   "metadata": {
    "collapsed": false
   }
  },
  {
   "cell_type": "code",
   "execution_count": null,
   "metadata": {
    "collapsed": false,
    "is_executing": true,
    "ExecuteTime": {
     "start_time": "2023-11-28T08:38:34.988633400Z"
    }
   },
   "outputs": [],
   "source": [
    "def split_ingredient(data):\n",
    "    for i in range(1, 75):\n",
    "        data.loc[:, f'ingredient{i}'] = None\n",
    "        data.loc[:, f'quantity{i}'] = None\n",
    "        data.loc[:, f'unit{i}'] = None\n",
    "\n",
    "\n",
    "    non_matching_items = {} # 패턴과 일치하지 않는 데이터를 저장할 딕셔너리\n",
    "\n",
    "    for idx, row in tqdm(data.iterrows(), total=data.shape[0]): #tqdm으로 진행상황 확인\n",
    "        if row['recipe_ingredients']:\n",
    "            ingredients_dict = ast.literal_eval(row[\"recipe_ingredients\"]) #딕셔너리 형태로 저장된 recipe_ingredients 불러오기\n",
    "            ingredient_count = 1\n",
    "            for category, items in ingredients_dict.items(): #category : 재료, 양념재료, items: 사과1개, 돼지고기600g\n",
    "                if items:  # 아이템이 존재하는 경우\n",
    "                    for item in items:\n",
    "                        match = re.match(r'([가-힣a-zA-Z]+(\\([가-힣a-zA-Z]+\\))?|\\d+[가-힣a-zA-Z]*|\\([가-힣a-zA-Z]+\\)[가-힣a-zA-Z]+)([\\d.+/~-]*)([가-힣a-zA-Z]+|약간|조금)?', item) # 정규식\n",
    "                        if match:\n",
    "                            ingredient, _, quantity, unit = match.groups()\n",
    "\n",
    "                            data.loc[idx, f'ingredient{ingredient_count}'] = ingredient\n",
    "                            data.loc[idx, f'quantity{ingredient_count}'] = quantity\n",
    "                            data.loc[idx, f'unit{ingredient_count}'] = unit\n",
    "\n",
    "                            ingredient_count += 1\n",
    "                        else:\n",
    "                            # 패턴과 일치하지 않는 경우 딕셔너리에 추가\n",
    "                            non_matching_items[idx] = item\n",
    "        else:\n",
    "            pass\n",
    "\n",
    "    # 패턴과 일치하지 않는 데이터 출력 X => 날려버리기!\n",
    "    for idx, item in non_matching_items.items():\n",
    "        print(f'Row {idx}: {item}')\n",
    "    #        recipe_ingre_pd_pre.drop([idx], axis=0, inplace=True)\n",
    "    return data\n",
    "\n",
    "func_pre_split = split_ingredient(func_pre[:78631])"
   ]
  },
  {
   "cell_type": "code",
   "execution_count": null,
   "metadata": {},
   "outputs": [],
   "source": []
  },
  {
   "cell_type": "code",
   "execution_count": null,
   "metadata": {
    "collapsed": false
   },
   "outputs": [],
   "source": [
    "func_pre_split"
   ]
  },
  {
   "cell_type": "code",
   "execution_count": null,
   "metadata": {
    "collapsed": false
   },
   "outputs": [],
   "source": [
    "for_del = func_pre_split[func_pre_split[('ingredient1')].isnull()].index"
   ]
  },
  {
   "cell_type": "code",
   "execution_count": null,
   "metadata": {
    "collapsed": false
   },
   "outputs": [],
   "source": [
    "func_pre_split.drop([{for_del}], axis=0, inplace=True)"
   ]
  },
  {
   "cell_type": "code",
   "execution_count": null,
   "metadata": {
    "collapsed": false
   },
   "outputs": [],
   "source": [
    "func_pre_split[func_pre_split[('unit1')].isnull()]"
   ]
  },
  {
   "cell_type": "code",
   "execution_count": null,
   "metadata": {
    "collapsed": false
   },
   "outputs": [],
   "source": []
  },
  {
   "cell_type": "code",
   "execution_count": null,
   "metadata": {
    "collapsed": false
   },
   "outputs": [],
   "source": [
    "recipe_ingre_pd_pre[recipe_ingre_pd_pre[('ingredient24')].notnull()]"
   ]
  },
  {
   "cell_type": "code",
   "execution_count": null,
   "metadata": {
    "collapsed": false
   },
   "outputs": [],
   "source": [
    "recipe_ingre_pd_pre_del = recipe_ingre_pd_pre.copy()\n",
    "recipe_ingre_pd_pre_del.drop([1853], axis = 0, inplace=True)\n",
    "recipe_ingre_pd_pre_del.drop(['recipe_ingredients', 'ingredient21', 'quantity21', 'unit21', 'ingredient22', 'quantity22', 'unit22', 'ingredient23', 'quantity23', 'unit23', 'ingredient24', 'quantity24', 'unit24', 'ingredient25', 'quantity25', 'unit25', 'ingredient26', 'quantity26', 'unit26', 'ingredient27', 'quantity27', 'unit27', 'ingredient28', 'quantity28', 'unit28', 'ingredient29', 'quantity29', 'unit29'], axis = 1, inplace = True)\n",
    "recipe_ingre_pd_pre_del"
   ]
  },
  {
   "cell_type": "code",
   "execution_count": null,
   "metadata": {
    "collapsed": false
   },
   "outputs": [],
   "source": [
    "#약간/적당량 다 빼기\n",
    "units = [recipe_ingre_pd_pre_del[f'ingredient{i}'] for i in range(1, 21)]\n",
    "\n",
    "combined_ingredients = []\n",
    "for unit_tuple in zip(*units):\n",
    "    for unit in unit_tuple:\n",
    "        if unit:  # 빈 값이 아닌 경우에만 추가\n",
    "            combined_units.append(unit)\n",
    "\n",
    "# 중복 제거\n",
    "unique_units = list(set(combined_units))\n",
    "\n",
    "from collections import Counter\n",
    "\n",
    "unit_counts = Counter(combined_units)\n",
    "for unit, count in unit_counts.items():\n",
    "    print(f\"{unit}: {count}번\")"
   ]
  }
 ],
 "metadata": {
  "kernelspec": {
   "display_name": "Python 3 (ipykernel)",
   "language": "python",
   "name": "python3"
  },
  "language_info": {
   "codemirror_mode": {
    "name": "ipython",
    "version": 3
   },
   "file_extension": ".py",
   "mimetype": "text/x-python",
   "name": "python",
   "nbconvert_exporter": "python",
   "pygments_lexer": "ipython3",
   "version": "3.12.0"
  }
 },
 "nbformat": 4,
 "nbformat_minor": 4
}
