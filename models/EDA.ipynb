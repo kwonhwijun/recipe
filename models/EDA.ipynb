{
 "cells": [
  {
   "cell_type": "code",
   "execution_count": null,
   "metadata": {},
   "outputs": [],
   "source": [
    "import func\n",
    "import svd\n",
    "import pandas as pd"
   ]
  },
  {
   "cell_type": "code",
   "execution_count": null,
   "metadata": {},
   "outputs": [],
   "source": [
    "def split_recipe(path = 'oracle', rows = 500):\n",
    "    if path == 'oracle':\n",
    "        data  = func.load_recipe(n = rows)\n",
    "        data2 = func.recipe_preprocessing(data)\n",
    "        data3 = func.split_ingredient(data2)\n",
    "        return data3\n",
    "\n",
    "    if path == 'csv' :\n",
    "        data = pd.read_csv(r'process_ingre.csv')\n",
    "        return data.iloc[:rows]\n",
    "\n",
    "# 데이터 불러오기\n",
    "recipe_raw = split_recipe(path = 'csv', rows = 150000)\n",
    "recipe = recipe_raw.copy()"
   ]
  },
  {
   "cell_type": "markdown",
   "metadata": {},
   "source": [
    "## 단위 EDA"
   ]
  },
  {
   "cell_type": "code",
   "execution_count": null,
   "metadata": {},
   "outputs": [],
   "source": [
    "# 단위 EDA\n",
    "unit_list = list()\n",
    "for idx, row in data.filter(like = 'unit').iterrows():\n",
    "    unit_list = unit_list + row.dropna().tolist()\n",
    "\n",
    "unit_count = pd.Series(unit_list).value_counts() #15만개 레시피 : 4분\n",
    "\n",
    "print(\"단위의 등장 횟수\" + f\"{len(unit_list)}\") # 120만번 \n",
    "print(\"단위의 개수:\" + f\"{len(set(unit_list))}\") # 3755 개 \n",
    "print(\"상위 20개의 단위가 차지하는 비율:\" + f\"{unit_count[:20].sum()/len(unit_list)*100} %\") # 86%"
   ]
  },
  {
   "cell_type": "code",
   "execution_count": null,
   "metadata": {},
   "outputs": [],
   "source": [
    "print(\"100번 이상 등장하는 단위\")\n",
    "print(unit_count[unit_count > 100]) # 100번 이상 등장한 단위 125개\n",
    "print(\"1번, 2번 등장하는 단위\")\n",
    "sum(unit_count == 1) ,sum(unit_count == 2)# 1번 등장하는 단위 504개 # 2번 등장하는 단위 86개"
   ]
  },
  {
   "cell_type": "markdown",
   "metadata": {},
   "source": [
    "### '개' EDA"
   ]
  },
  {
   "cell_type": "code",
   "execution_count": null,
   "metadata": {},
   "outputs": [],
   "source": [
    "# 단위가 \"개\"인 식재료\n",
    "\n",
    "food_gae = []\n",
    "for idx, row in recipe.iloc[:10000].iterrows(): \n",
    "    for i in range(len(row)):\n",
    "        if (row == \"개\")[i] and i >= 2:\n",
    "            food_gae.append(row[i-2])\n",
    "\n",
    "food_gae_counts = pd.Series(food_gae).value_counts() # 10000개에 1분 45초\n",
    "print(food_gae_counts[:50].sum() /food_gae_counts.sum()) # 상위 50개의 식재료가 차지하는 비중 75%"
   ]
  }
 ],
 "metadata": {
  "language_info": {
   "name": "python"
  }
 },
 "nbformat": 4,
 "nbformat_minor": 2
}
