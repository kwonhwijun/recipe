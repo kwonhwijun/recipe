{
 "cells": [
  {
   "cell_type": "code",
   "execution_count": 1,
   "metadata": {},
   "outputs": [],
   "source": [
    "import func\n",
    "import pandas as pd\n",
    "import numpy as np"
   ]
  },
  {
   "cell_type": "code",
   "execution_count": 2,
   "metadata": {},
   "outputs": [
    {
     "name": "stdout",
     "output_type": "stream",
     "text": [
      "load completed\n",
      "Preprocessing completed\n"
     ]
    },
    {
     "name": "stderr",
     "output_type": "stream",
     "text": [
      "100%|██████████| 932/932 [00:02<00:00, 368.86it/s]\n"
     ]
    },
    {
     "name": "stdout",
     "output_type": "stream",
     "text": [
      "Ingredient split completed\n"
     ]
    },
    {
     "name": "stderr",
     "output_type": "stream",
     "text": [
      "100%|██████████| 929/929 [00:00<00:00, 1726.04it/s]\n"
     ]
    },
    {
     "name": "stdout",
     "output_type": "stream",
     "text": [
      "Matrix creation completed\n",
      "recipe X food matrix is saved with the namematrix/Dec 05 15:41\n"
     ]
    }
   ],
   "source": [
    "matrix_raw = func.load_matrix_tiny(1000) # 1000개 실행시 55초 # 5000개 실행시 12분\n",
    "matrix = matrix_raw.copy()"
   ]
  },
  {
   "cell_type": "code",
   "execution_count": 159,
   "metadata": {},
   "outputs": [],
   "source": [
    "# 한번 쓰인 식재료(칼럼) 제외\n",
    "def not_only_one(df):\n",
    "    column_value_counts  = df.nunique(axis=0)\n",
    "    column_names = column_value_counts[column_value_counts >= 2].index\n",
    "    df_not_only_one_col = df[column_names].copy()\n",
    "    print(\"칼럼 수 변화: \" + f\"{df.shape[1]} -> {df_not_only_one_col.shape[1]}\")\n",
    "\n",
    "    df_not_only_one_row = df_not_only_one_col[df_not_only_one_col.nunique(axis =1) >= 2].copy()\n",
    "    print(\"행의 수 변화: \" + f\"{df_not_only_one_col.shape[0]} -> {df_not_only_one_row.shape[0]}\")\n",
    "    return  df_not_only_one_row"
   ]
  },
  {
   "cell_type": "code",
   "execution_count": 163,
   "metadata": {},
   "outputs": [
    {
     "data": {
      "text/plain": [
       "recipe_title    4770\n",
       "무우소                2\n",
       "냉동사각유부             2\n",
       "스파이스가루혹은강황가루       1\n",
       "습식맵쌀가루             2\n",
       "                ... \n",
       "토장                 2\n",
       "양파약간씩              1\n",
       "홍게간장또는간장           2\n",
       "고추장푹퍼서             1\n",
       "올리브약간              1\n",
       "Length: 5625, dtype: int64"
      ]
     },
     "execution_count": 163,
     "metadata": {},
     "output_type": "execute_result"
    }
   ],
   "source": [
    "matrix_test = matrix_raw.copy()\n",
    "matrix_test.nunique(axis=0)"
   ]
  },
  {
   "cell_type": "code",
   "execution_count": 160,
   "metadata": {},
   "outputs": [
    {
     "name": "stdout",
     "output_type": "stream",
     "text": [
      "칼럼 수 변화: 5625 -> 3819\n",
      "행의 수 변화: 4817 -> 4817\n"
     ]
    }
   ],
   "source": [
    "matrix_selected = not_only_one(matrix)"
   ]
  },
  {
   "cell_type": "code",
   "execution_count": 161,
   "metadata": {},
   "outputs": [],
   "source": [
    "def minmax_by_col(df):\n",
    "    if 'recipe_title' in df.columns :\n",
    "        df = df.drop('recipe_title', axis =1).copy()\n",
    "    else : \n",
    "        pass\n",
    "    for col in df.columns:\n",
    "        data = df[col]\n",
    "        min = data.min()\n",
    "        max = data.max()\n",
    "        df[col] = (data-min)/(max-min)\n",
    "    return df"
   ]
  },
  {
   "cell_type": "code",
   "execution_count": 162,
   "metadata": {},
   "outputs": [],
   "source": [
    "matrix_scaled = minmax_by_col(matrix_selected) # 5000개 레시피 : 1분 30초"
   ]
  },
  {
   "cell_type": "code",
   "execution_count": 164,
   "metadata": {},
   "outputs": [
    {
     "data": {
      "text/plain": [
       "((4817, 100), (100, 100), (3818, 100))"
      ]
     },
     "execution_count": 164,
     "metadata": {},
     "output_type": "execute_result"
    }
   ],
   "source": [
    "from scipy import linalg\n",
    "U, S, V = linalg.svd(matrix_scaled.values)\n",
    "(U[:,:100].shape, np.diag(S[:100]).shape, V[:, :100].shape)"
   ]
  },
  {
   "cell_type": "code",
   "execution_count": 165,
   "metadata": {},
   "outputs": [],
   "source": [
    "from scipy import linalg\n",
    "def matrix_decomposition(df, n = 10):\n",
    "    U, S, V = linalg.svd(df.values)\n",
    "    recipe_represented = U[:, :n]@np.diag(S[:n])\n",
    "    ingredient_represented = V[:, :n]@np.diag(S[:n])\n",
    "    print(f\"{df.shape[0]}개의 레시피, {df.shape[1]}개의 식재료 -> {n}차원으로 재표현 완료\")\n",
    "    return recipe_represented, ingredient_represented\n"
   ]
  },
  {
   "cell_type": "code",
   "execution_count": 166,
   "metadata": {},
   "outputs": [
    {
     "name": "stdout",
     "output_type": "stream",
     "text": [
      "4817개의 레시피, 3818개의 식재료 -> 100차원으로 재표현 완료\n"
     ]
    }
   ],
   "source": [
    "recipe2, ingred2 = matrix_decomposition(matrix_scaled, n = 100) #5000개 42초"
   ]
  },
  {
   "cell_type": "code",
   "execution_count": 178,
   "metadata": {},
   "outputs": [
    {
     "data": {
      "text/plain": [
       "(4817, 100)"
      ]
     },
     "execution_count": 178,
     "metadata": {},
     "output_type": "execute_result"
    }
   ],
   "source": [
    "recipe2.shape"
   ]
  },
  {
   "cell_type": "code",
   "execution_count": 176,
   "metadata": {},
   "outputs": [
    {
     "data": {
      "text/plain": [
       "0                                     호박 새우젓찌개 만드는 방법~★\n",
       "1                                          바글바글 전복 된장찌개\n",
       "2                     순두부찌개....오도독 씹히는 미더덕이 들어간 순두부찌개!!\n",
       "3                                         정통 바지락 순두부 찌개\n",
       "4                                           크림토마토 비프 스튜\n",
       "                             ...                       \n",
       "4812                    구수한 들깨수제비. 추운 날씨에 만두피로 간편하게 뚝딱.\n",
       "4813                                       대한민국 일품식 불고기\n",
       "4814                                           채소 단호박탕수\n",
       "4815                 집에서 만드는 인도식 마크니커리 진짜 맛있는 새우 마늘쫑 조합\n",
       "4816    #제쳘요리 #봄쭈꾸미요리 #쭈꾸미샤브샤브만들기 #시금치 #된장육수 #봄쭈꾸미로체력보강\n",
       "Name: recipe_title, Length: 4817, dtype: object"
      ]
     },
     "execution_count": 176,
     "metadata": {},
     "output_type": "execute_result"
    }
   ],
   "source": [
    "matrix['recipe_title']"
   ]
  },
  {
   "cell_type": "code",
   "execution_count": 182,
   "metadata": {},
   "outputs": [
    {
     "data": {
      "text/plain": [
       "array([2.38021629e-02, 1.39273075e-03, 1.36286865e-03, 7.99647046e-03,\n",
       "       3.85273144e-03, 1.43161656e-05, 2.58405005e-02, 6.03877721e-04,\n",
       "       7.83419399e-06, 3.47968757e-03, 6.20667439e-03, 7.38106511e-03,\n",
       "       5.57845595e-02, 4.16302132e-02, 6.61631860e-05, 3.44652438e-04,\n",
       "       8.62955355e-03, 6.27504977e-04, 1.81366826e-02, 1.63159338e-02,\n",
       "       1.97841694e-03, 3.24744090e-05, 4.40203072e-02, 3.65107047e-02,\n",
       "       2.96786087e-07, 1.06833374e-03, 3.46789749e-03, 3.01188483e-03,\n",
       "       1.04677808e-05, 1.69729385e-02, 2.58314541e-05, 6.98731242e-05,\n",
       "       2.16161461e-02, 4.36069588e-03, 1.44511991e-03, 1.38488406e-02,\n",
       "       2.27153491e-03, 1.77794952e-02, 1.70415563e-02, 2.38626965e-04,\n",
       "       1.68248756e-03, 1.58309122e-02, 6.07054189e-05, 2.67140315e-05,\n",
       "       2.66404060e-02, 1.33917177e-06, 1.13576013e-02, 2.30886708e-02,\n",
       "       1.53245953e-03, 4.98196950e-04, 4.48049027e-03, 5.15294821e-03,\n",
       "       2.97884061e-03, 4.83470237e-02, 3.79785258e-03, 7.89972490e-03,\n",
       "       3.82204421e-03, 3.00094895e-03, 2.28788751e-03, 5.10114294e-05,\n",
       "       2.65232362e-05, 5.41800637e-03, 5.01733175e-05, 3.36198236e-04,\n",
       "       7.42282709e-04, 3.12136409e-03, 2.39599601e-04, 3.82812078e-03,\n",
       "       1.01162006e-02, 1.27937108e-02, 2.20334148e-03, 4.31081824e-03,\n",
       "       6.03320383e-04, 4.29185377e-03, 2.95662679e-03, 2.06067115e-02,\n",
       "       2.95507240e-05, 3.77138731e-03, 4.41431600e-03, 6.73174293e-03,\n",
       "       6.62398638e-03, 2.07628080e-03, 2.33578821e-02, 1.56283967e-02,\n",
       "       1.12373114e-02, 7.74785062e-05, 2.21845885e-04, 7.01457175e-03,\n",
       "       7.37523200e-03, 3.25979422e-03, 5.18140072e-04, 5.53108933e-03,\n",
       "       8.86747207e-03, 8.84099926e-05, 6.19391596e-03, 1.02451851e-04,\n",
       "       2.91921976e-04, 2.28220660e-03, 2.15042973e-04, 4.67916840e-03])"
      ]
     },
     "execution_count": 182,
     "metadata": {},
     "output_type": "execute_result"
    }
   ],
   "source": [
    "ingred2[0]"
   ]
  },
  {
   "cell_type": "code",
   "execution_count": 179,
   "metadata": {},
   "outputs": [
    {
     "data": {
      "text/plain": [
       "array([ 1.37446151e-01, -1.80759359e-02, -4.64222517e-02,  1.67831930e-01,\n",
       "       -1.67992576e-01,  1.29932990e-02,  8.13904489e-02,  2.77335479e-02,\n",
       "        1.09208581e-02, -2.87024342e-03,  7.17130908e-02, -2.68172904e-01,\n",
       "       -6.10200575e-02,  1.32633881e-01, -2.51807605e-01,  2.20092742e-01,\n",
       "        2.98385756e-01,  7.89248033e-01,  2.00939108e-01,  4.82347834e-02,\n",
       "       -7.95425843e-02, -1.75949077e-03, -3.62729947e-02,  6.50802210e-02,\n",
       "        2.36172116e-02,  3.31652141e-02, -5.83397821e-04, -9.17423135e-03,\n",
       "       -4.73483977e-02,  1.27470140e-02, -2.30268427e-02,  1.92536869e-02,\n",
       "       -2.82789507e-02, -1.08268962e-02,  2.54609018e-02,  3.02203429e-03,\n",
       "        7.75765113e-03,  8.91112637e-03,  7.61401469e-03,  7.83174053e-03,\n",
       "        5.89637104e-03, -2.58535083e-02, -4.20440617e-04, -1.21986185e-02,\n",
       "        1.70762291e-02, -3.74474504e-03, -1.71043588e-02, -1.76492102e-02,\n",
       "        5.69355434e-03, -4.27672416e-03,  8.12306431e-04, -1.78094555e-03,\n",
       "        1.00217413e-03, -2.70057813e-03, -6.33032815e-04,  1.67641522e-02,\n",
       "       -1.01294654e-02, -1.35452613e-03, -7.95897960e-03,  3.70848176e-03,\n",
       "       -1.96894711e-03,  1.05431351e-02, -1.68368704e-02, -3.95242641e-04,\n",
       "        2.39013862e-02, -1.15460131e-02, -3.90439535e-03, -1.21190939e-03,\n",
       "       -2.40467703e-03,  7.07344098e-03, -8.06702761e-04,  2.14394421e-03,\n",
       "       -8.97870121e-03, -1.26306784e-02, -4.59308733e-03,  1.94058144e-03,\n",
       "        3.07087341e-02,  2.97698277e-02,  5.02219800e-03, -4.32193532e-04,\n",
       "       -3.72700866e-03,  5.83030324e-03,  5.40427184e-03,  1.16942709e-03,\n",
       "       -2.25978941e-02, -1.46187987e-02,  1.12684026e-02, -6.18430504e-03,\n",
       "        4.07461198e-03, -9.80339096e-03,  2.90046655e-02,  3.22853121e-04,\n",
       "        5.50981724e-03,  1.05941025e-03,  4.52601408e-03, -1.33238032e-03,\n",
       "       -9.78252374e-04,  1.52205997e-02,  4.56315176e-03,  1.55849425e-02])"
      ]
     },
     "execution_count": 179,
     "metadata": {},
     "output_type": "execute_result"
    }
   ],
   "source": [
    "recipe2[0]"
   ]
  }
 ],
 "metadata": {
  "kernelspec": {
   "display_name": "Python 3",
   "language": "python",
   "name": "python3"
  },
  "language_info": {
   "codemirror_mode": {
    "name": "ipython",
    "version": 3
   },
   "file_extension": ".py",
   "mimetype": "text/x-python",
   "name": "python",
   "nbconvert_exporter": "python",
   "pygments_lexer": "ipython3",
   "version": "3.11.1"
  }
 },
 "nbformat": 4,
 "nbformat_minor": 2
}
