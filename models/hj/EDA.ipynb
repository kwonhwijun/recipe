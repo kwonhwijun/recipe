{
 "cells": [
  {
   "cell_type": "code",
   "execution_count": 1,
   "metadata": {},
   "outputs": [],
   "source": [
    "import func\n",
    "import svd\n",
    "import pandas as pd"
   ]
  },
  {
   "cell_type": "code",
   "execution_count": 2,
   "metadata": {},
   "outputs": [
    {
     "name": "stderr",
     "output_type": "stream",
     "text": [
      "C:\\Users\\HwijunKwon\\AppData\\Local\\Temp\\ipykernel_34152\\10767288.py:9: DtypeWarning: Columns (68,71,74,77,80,83,86,89,90,92,93,95,96,98,99,101,102,103,104,105,106,107,108,109,110,111,112,113,114,115,116,117,118,119,120,121,122,123,124,125,126,127,128,129,130,131,132,133,134,135,136,137,138,139,140,141,142,143,144,145,146,147,148,149,150,151,152,153,154,155,156,157,158,159,160,161,162,163,164,165,166,167,168,169,170,171,172,173,174,175,176,177,178,180,181,182,183,184,185,186,187,188,189,190,192,193,195,196,197,198,199,200,201,202,203,204,205,207,208,210,211,213,214,216,217,218,219,220,222) have mixed types. Specify dtype option on import or set low_memory=False.\n",
      "  data = pd.read_csv(r'process_ingre.csv')\n"
     ]
    }
   ],
   "source": [
    "def split_recipe(path = 'oracle', rows = 500):\n",
    "    if path == 'oracle':\n",
    "        data  = func.load_recipe(n = rows)\n",
    "        data2 = func.recipe_preprocessing(data)\n",
    "        data3 = func.split_ingredient(data2)\n",
    "        return data3\n",
    "\n",
    "    if path == 'csv' :\n",
    "        data = pd.read_csv(r'process_ingre.csv')\n",
    "        return data.iloc[:rows]\n",
    "\n",
    "# 데이터 불러오기\n",
    "recipe_raw = split_recipe(path = 'csv', rows = 150000)\n",
    "recipe = recipe_raw.copy()"
   ]
  },
  {
   "cell_type": "markdown",
   "metadata": {},
   "source": [
    "## 단위 EDA"
   ]
  },
  {
   "cell_type": "code",
   "execution_count": 5,
   "metadata": {},
   "outputs": [
    {
     "name": "stdout",
     "output_type": "stream",
     "text": [
      "단위의 등장 횟수81347\n",
      "단위의 개수:639\n",
      "상위 20개의 단위가 차지하는 비율:87.28533320220782 %\n"
     ]
    }
   ],
   "source": [
    "# 단위 EDA\n",
    "unit_list = list()\n",
    "for idx, row in recipe.iloc[:10000].filter(like = 'unit').iterrows():\n",
    "    unit_list = unit_list + row.dropna().tolist()\n",
    "\n",
    "unit_count = pd.Series(unit_list).value_counts() #15만개 레시피 : 4분\n",
    "\n",
    "print(\"단위의 등장 횟수\" + f\"{len(unit_list)}\") # 120만번 \n",
    "print(\"단위의 개수:\" + f\"{len(set(unit_list))}\") # 3755 개 \n",
    "print(\"상위 20개의 단위가 차지하는 비율:\" + f\"{unit_count[:20].sum()/len(unit_list)*100} %\") # 86%"
   ]
  },
  {
   "cell_type": "code",
   "execution_count": 6,
   "metadata": {},
   "outputs": [
    {
     "name": "stdout",
     "output_type": "stream",
     "text": [
      "100번 이상 등장하는 단위\n",
      "개      13982\n",
      "큰술     12296\n",
      "T       8291\n",
      "g       7520\n",
      "약간      5391\n",
      "스푼      3775\n",
      "컵       3431\n",
      "숟가락     2119\n",
      "작은술     1846\n",
      "장       1693\n",
      "조금      1549\n",
      "적당량     1441\n",
      "줌       1435\n",
      "t       1426\n",
      "ml      1278\n",
      "대        973\n",
      "마리       843\n",
      "공기       593\n",
      "숟갈       576\n",
      "Ts       546\n",
      "꼬집       532\n",
      "모        450\n",
      "쪽        383\n",
      "봉지       381\n",
      "알        365\n",
      "수저       360\n",
      "팩        359\n",
      "조각       336\n",
      "인분       325\n",
      "종이컵      313\n",
      "티스푼      308\n",
      "뿌리       292\n",
      "줄        288\n",
      "봉        249\n",
      "ts       230\n",
      "TS       218\n",
      "캔        210\n",
      "톡톡       206\n",
      "kg       205\n",
      "그램       197\n",
      "단        188\n",
      "포기       181\n",
      "L        179\n",
      "통        167\n",
      "줄기       155\n",
      "톨        152\n",
      "토막       122\n",
      "주먹       115\n",
      "cm       114\n",
      "C        110\n",
      "dtype: int64\n",
      "1번, 2번 등장하는 단위\n"
     ]
    },
    {
     "data": {
      "text/plain": [
       "(363, 83)"
      ]
     },
     "execution_count": 6,
     "metadata": {},
     "output_type": "execute_result"
    }
   ],
   "source": [
    "print(\"100번 이상 등장하는 단위\")\n",
    "print(unit_count[unit_count > 100]) # 100번 이상 등장한 단위 125개\n",
    "print(\"1번, 2번 등장하는 단위\")\n",
    "sum(unit_count == 1) ,sum(unit_count == 2)# 1번 등장하는 단위 504개 # 2번 등장하는 단위 86개"
   ]
  },
  {
   "cell_type": "markdown",
   "metadata": {},
   "source": [
    "### '개' EDA"
   ]
  },
  {
   "cell_type": "code",
   "execution_count": null,
   "metadata": {},
   "outputs": [],
   "source": [
    "# 단위가 \"개\"인 식재료\n",
    "\n",
    "food_gae = []\n",
    "for idx, row in recipe.iloc[:10000].iterrows(): \n",
    "    for i in range(len(row)):\n",
    "        if (row == \"개\")[i] and i >= 2:\n",
    "            food_gae.append(row[i-2])\n",
    "\n",
    "food_gae_counts = pd.Series(food_gae).value_counts() # 10000개에 1분 45초\n",
    "print(food_gae_counts[:50].sum() /food_gae_counts.sum()) # 상위 50개의 식재료가 차지하는 비중 75%"
   ]
  },
  {
   "cell_type": "markdown",
   "metadata": {},
   "source": [
    "## 식재료 EDA"
   ]
  }
 ],
 "metadata": {
  "kernelspec": {
   "display_name": "Python 3",
   "language": "python",
   "name": "python3"
  },
  "language_info": {
   "codemirror_mode": {
    "name": "ipython",
    "version": 3
   },
   "file_extension": ".py",
   "mimetype": "text/x-python",
   "name": "python",
   "nbconvert_exporter": "python",
   "pygments_lexer": "ipython3",
   "version": "3.11.1"
  }
 },
 "nbformat": 4,
 "nbformat_minor": 2
}
