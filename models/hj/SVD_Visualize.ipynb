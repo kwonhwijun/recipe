{
 "cells": [
  {
   "cell_type": "code",
   "execution_count": 1,
   "metadata": {},
   "outputs": [
    {
     "name": "stderr",
     "output_type": "stream",
     "text": [
      "C:\\Users\\HwijunKwon\\AppData\\Local\\Temp\\ipykernel_40652\\2034638438.py:3: DtypeWarning: Columns (68,71,74,77,80,83,86,89,90,92,93,95,96,98,99,101,102,103,104,105,106,107,108,109,110,111,112,113,114,115,116,117,118,119,120,121,122,123,124,125,126,127,128,129,130,131,132,133,134,135,136,137,138,139,140,141,142,143,144,145,146,147,148,149,150,151,152,153,154,155,156,157,158,159,160,161,162,163,164,165,166,167,168,169,170,171,172,173,174,175,176,177,178,180,181,182,183,184,185,186,187,188,189,190,192,193,195,196,197,198,199,200,201,202,203,204,205,207,208,210,211,213,214,216,217,218,219,220,222) have mixed types. Specify dtype option on import or set low_memory=False.\n",
      "  recipe = pd.read_csv('process_ingre.csv')\n",
      "100%|██████████| 1000/1000 [00:00<00:00, 1274.13it/s]\n"
     ]
    }
   ],
   "source": [
    "import pandas as pd\n",
    "\n",
    "recipe = pd.read_csv('process_ingre.csv')\n",
    "\n",
    "import func\n",
    "test = recipe.iloc[:1000]\n",
    "matrix = func.recipe_food_matrix(test)\n",
    "matrix_raw = matrix.copy()"
   ]
  },
  {
   "cell_type": "code",
   "execution_count": 23,
   "metadata": {},
   "outputs": [
    {
     "name": "stdout",
     "output_type": "stream",
     "text": [
      "칼럼 수 변화: 1481 -> 1158\n",
      "행의 수 변화: 1000 -> 1000\n"
     ]
    }
   ],
   "source": [
    "def not_only_one(df):\n",
    "    column_value_counts  = df.nunique(axis=0)\n",
    "    column_names = column_value_counts[column_value_counts >= 2].index #2번 이상 등장한 식재료만 사용\n",
    "    df_not_only_one_col = df[column_names].copy()\n",
    "    print(\"칼럼 수 변화: \" + f\"{df.shape[1]} -> {df_not_only_one_col.shape[1]}\")\n",
    "\n",
    "    df_not_only_one_row = df_not_only_one_col[df_not_only_one_col.nunique(axis =1) >= 2].copy()\n",
    "    print(\"행의 수 변화: \" + f\"{df_not_only_one_col.shape[0]} -> {df_not_only_one_row.shape[0]}\") # 식재료가 2개 이상 등장\n",
    "    return  df_not_only_one_row\n",
    "\n",
    "matrix = not_only_one(matrix)"
   ]
  },
  {
   "cell_type": "code",
   "execution_count": 24,
   "metadata": {},
   "outputs": [],
   "source": [
    "def minmax_by_col(df):\n",
    "    if 'recipe_title' in df.columns :\n",
    "        df = df.drop('recipe_title', axis =1).copy()\n",
    "    else : \n",
    "        pass\n",
    "    for col in df.columns:\n",
    "        data = df[col]\n",
    "        min = data.min()\n",
    "        max = data.max()\n",
    "        df[col] = (data-min)/(max-min)\n",
    "    return df\n",
    "\n",
    "matrix = minmax_by_col(matrix)"
   ]
  },
  {
   "cell_type": "code",
   "execution_count": 48,
   "metadata": {},
   "outputs": [
    {
     "name": "stdout",
     "output_type": "stream",
     "text": [
      "1000개의 레시피, 1157개의 식재료 -> 100차원으로 재표현 완료\n"
     ]
    }
   ],
   "source": [
    "from scipy import linalg\n",
    "import numpy as np\n",
    "def matrix_decomposition(df, n = 100):\n",
    "    U, S, V = linalg.svd(df.values)\n",
    "    recipe_represented = U[:, :n]@np.diag(S[:n])\n",
    "    ingredient_represented = V[:, :n]@np.diag(S[:n])\n",
    "    print(f\"{df.shape[0]}개의 레시피, {df.shape[1]}개의 식재료 -> {n}차원으로 재표현 완료\")\n",
    "    return recipe_represented, ingredient_represented\n",
    "\n",
    "recipe_vec, ingre_vec = matrix_decomposition(matrix, n = 100)"
   ]
  },
  {
   "cell_type": "code",
   "execution_count": 38,
   "metadata": {},
   "outputs": [
    {
     "data": {
      "text/plain": [
       "1157"
      ]
     },
     "execution_count": 38,
     "metadata": {},
     "output_type": "execute_result"
    }
   ],
   "source": [
    "len(matrix.columns.tolist())"
   ]
  },
  {
   "cell_type": "code",
   "execution_count": 49,
   "metadata": {},
   "outputs": [],
   "source": [
    "ingre_dict = dict(zip(matrix.columns.tolist(), ingre_vec ))"
   ]
  },
  {
   "cell_type": "code",
   "execution_count": 53,
   "metadata": {},
   "outputs": [
    {
     "data": {
      "text/plain": [
       "dict"
      ]
     },
     "execution_count": 53,
     "metadata": {},
     "output_type": "execute_result"
    }
   ],
   "source": [
    "type(ingre_dict)"
   ]
  },
  {
   "cell_type": "code",
   "execution_count": 56,
   "metadata": {},
   "outputs": [],
   "source": [
    "import pickle\n",
    "with open(\"ingre_vec.pickle\", \"wb\") as file:\n",
    "    pickle.dump(ingre_dict , file)"
   ]
  },
  {
   "cell_type": "code",
   "execution_count": 40,
   "metadata": {},
   "outputs": [
    {
     "data": {
      "text/plain": [
       "(1157, 100)"
      ]
     },
     "execution_count": 40,
     "metadata": {},
     "output_type": "execute_result"
    }
   ],
   "source": [
    "ingre_vec.shape"
   ]
  }
 ],
 "metadata": {
  "kernelspec": {
   "display_name": "Python 3",
   "language": "python",
   "name": "python3"
  },
  "language_info": {
   "codemirror_mode": {
    "name": "ipython",
    "version": 3
   },
   "file_extension": ".py",
   "mimetype": "text/x-python",
   "name": "python",
   "nbconvert_exporter": "python",
   "pygments_lexer": "ipython3",
   "version": "3.11.1"
  }
 },
 "nbformat": 4,
 "nbformat_minor": 2
}
