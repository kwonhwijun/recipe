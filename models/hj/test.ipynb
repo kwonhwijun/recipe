{
 "cells": [
  {
   "cell_type": "code",
   "execution_count": 2,
   "metadata": {},
   "outputs": [
    {
     "name": "stderr",
     "output_type": "stream",
     "text": [
      "100%|██████████| 4825/4825 [00:17<00:00, 272.56it/s]\n",
      "100%|██████████| 4816/4816 [00:07<00:00, 670.77it/s]\n"
     ]
    },
    {
     "data": {
      "text/html": [
       "<div>\n",
       "<style scoped>\n",
       "    .dataframe tbody tr th:only-of-type {\n",
       "        vertical-align: middle;\n",
       "    }\n",
       "\n",
       "    .dataframe tbody tr th {\n",
       "        vertical-align: top;\n",
       "    }\n",
       "\n",
       "    .dataframe thead th {\n",
       "        text-align: right;\n",
       "    }\n",
       "</style>\n",
       "<table border=\"1\" class=\"dataframe\">\n",
       "  <thead>\n",
       "    <tr style=\"text-align: right;\">\n",
       "      <th></th>\n",
       "      <th>recipe_title</th>\n",
       "      <th>콘중간짜리</th>\n",
       "      <th>녹차가루</th>\n",
       "      <th>고춧가루(선택)</th>\n",
       "      <th>다진깨</th>\n",
       "      <th>광어스테이크용</th>\n",
       "      <th>강낭콩</th>\n",
       "      <th>미니단호박</th>\n",
       "      <th>청정원멸치국물내기티백</th>\n",
       "      <th>양상추원하는만큼</th>\n",
       "      <th>...</th>\n",
       "      <th>푸실리</th>\n",
       "      <th>초코파이</th>\n",
       "      <th>따뜻한밥</th>\n",
       "      <th>총각김치</th>\n",
       "      <th>요거트</th>\n",
       "      <th>홍고추(파프리카대신사용)</th>\n",
       "      <th>발사믹식초또는드레싱</th>\n",
       "      <th>가쓰오장국</th>\n",
       "      <th>맛술또는생강술</th>\n",
       "      <th>팽이</th>\n",
       "    </tr>\n",
       "  </thead>\n",
       "  <tbody>\n",
       "    <tr>\n",
       "      <th>0</th>\n",
       "      <td>호박 새우젓찌개 만드는 방법~★</td>\n",
       "      <td>0.0</td>\n",
       "      <td>0.0</td>\n",
       "      <td>0.0</td>\n",
       "      <td>0.0</td>\n",
       "      <td>0.0</td>\n",
       "      <td>0.0</td>\n",
       "      <td>0.0</td>\n",
       "      <td>0.0</td>\n",
       "      <td>0.0</td>\n",
       "      <td>...</td>\n",
       "      <td>0.0</td>\n",
       "      <td>0.0</td>\n",
       "      <td>0.0</td>\n",
       "      <td>0.0</td>\n",
       "      <td>0.0</td>\n",
       "      <td>0.0</td>\n",
       "      <td>0.0</td>\n",
       "      <td>0.0</td>\n",
       "      <td>0.0</td>\n",
       "      <td>0.0</td>\n",
       "    </tr>\n",
       "    <tr>\n",
       "      <th>1</th>\n",
       "      <td>바글바글 전복 된장찌개</td>\n",
       "      <td>0.0</td>\n",
       "      <td>0.0</td>\n",
       "      <td>0.0</td>\n",
       "      <td>0.0</td>\n",
       "      <td>0.0</td>\n",
       "      <td>0.0</td>\n",
       "      <td>0.0</td>\n",
       "      <td>0.0</td>\n",
       "      <td>0.0</td>\n",
       "      <td>...</td>\n",
       "      <td>0.0</td>\n",
       "      <td>0.0</td>\n",
       "      <td>0.0</td>\n",
       "      <td>0.0</td>\n",
       "      <td>0.0</td>\n",
       "      <td>0.0</td>\n",
       "      <td>0.0</td>\n",
       "      <td>0.0</td>\n",
       "      <td>0.0</td>\n",
       "      <td>0.0</td>\n",
       "    </tr>\n",
       "    <tr>\n",
       "      <th>2</th>\n",
       "      <td>순두부찌개....오도독 씹히는 미더덕이 들어간 순두부찌개!!</td>\n",
       "      <td>0.0</td>\n",
       "      <td>0.0</td>\n",
       "      <td>0.0</td>\n",
       "      <td>0.0</td>\n",
       "      <td>0.0</td>\n",
       "      <td>0.0</td>\n",
       "      <td>0.0</td>\n",
       "      <td>0.0</td>\n",
       "      <td>0.0</td>\n",
       "      <td>...</td>\n",
       "      <td>0.0</td>\n",
       "      <td>0.0</td>\n",
       "      <td>0.0</td>\n",
       "      <td>0.0</td>\n",
       "      <td>0.0</td>\n",
       "      <td>0.0</td>\n",
       "      <td>0.0</td>\n",
       "      <td>0.0</td>\n",
       "      <td>0.0</td>\n",
       "      <td>0.0</td>\n",
       "    </tr>\n",
       "    <tr>\n",
       "      <th>3</th>\n",
       "      <td>정통 바지락 순두부 찌개</td>\n",
       "      <td>0.0</td>\n",
       "      <td>0.0</td>\n",
       "      <td>0.0</td>\n",
       "      <td>0.0</td>\n",
       "      <td>0.0</td>\n",
       "      <td>0.0</td>\n",
       "      <td>0.0</td>\n",
       "      <td>0.0</td>\n",
       "      <td>0.0</td>\n",
       "      <td>...</td>\n",
       "      <td>0.0</td>\n",
       "      <td>0.0</td>\n",
       "      <td>0.0</td>\n",
       "      <td>0.0</td>\n",
       "      <td>0.0</td>\n",
       "      <td>0.0</td>\n",
       "      <td>0.0</td>\n",
       "      <td>0.0</td>\n",
       "      <td>0.0</td>\n",
       "      <td>0.0</td>\n",
       "    </tr>\n",
       "    <tr>\n",
       "      <th>4</th>\n",
       "      <td>크림토마토 비프 스튜</td>\n",
       "      <td>0.0</td>\n",
       "      <td>0.0</td>\n",
       "      <td>0.0</td>\n",
       "      <td>0.0</td>\n",
       "      <td>0.0</td>\n",
       "      <td>0.0</td>\n",
       "      <td>0.0</td>\n",
       "      <td>0.0</td>\n",
       "      <td>0.0</td>\n",
       "      <td>...</td>\n",
       "      <td>0.0</td>\n",
       "      <td>0.0</td>\n",
       "      <td>0.0</td>\n",
       "      <td>0.0</td>\n",
       "      <td>0.0</td>\n",
       "      <td>0.0</td>\n",
       "      <td>0.0</td>\n",
       "      <td>0.0</td>\n",
       "      <td>0.0</td>\n",
       "      <td>0.0</td>\n",
       "    </tr>\n",
       "  </tbody>\n",
       "</table>\n",
       "<p>5 rows × 5642 columns</p>\n",
       "</div>"
      ],
      "text/plain": [
       "                        recipe_title  콘중간짜리  녹차가루  고춧가루(선택)  다진깨  광어스테이크용  \\\n",
       "0                  호박 새우젓찌개 만드는 방법~★    0.0   0.0       0.0  0.0      0.0   \n",
       "1                       바글바글 전복 된장찌개    0.0   0.0       0.0  0.0      0.0   \n",
       "2  순두부찌개....오도독 씹히는 미더덕이 들어간 순두부찌개!!    0.0   0.0       0.0  0.0      0.0   \n",
       "3                      정통 바지락 순두부 찌개    0.0   0.0       0.0  0.0      0.0   \n",
       "4                        크림토마토 비프 스튜    0.0   0.0       0.0  0.0      0.0   \n",
       "\n",
       "   강낭콩  미니단호박  청정원멸치국물내기티백  양상추원하는만큼  ...  푸실리  초코파이  따뜻한밥  총각김치  요거트  \\\n",
       "0  0.0    0.0          0.0       0.0  ...  0.0   0.0   0.0   0.0  0.0   \n",
       "1  0.0    0.0          0.0       0.0  ...  0.0   0.0   0.0   0.0  0.0   \n",
       "2  0.0    0.0          0.0       0.0  ...  0.0   0.0   0.0   0.0  0.0   \n",
       "3  0.0    0.0          0.0       0.0  ...  0.0   0.0   0.0   0.0  0.0   \n",
       "4  0.0    0.0          0.0       0.0  ...  0.0   0.0   0.0   0.0  0.0   \n",
       "\n",
       "   홍고추(파프리카대신사용)  발사믹식초또는드레싱  가쓰오장국  맛술또는생강술   팽이  \n",
       "0            0.0         0.0    0.0      0.0  0.0  \n",
       "1            0.0         0.0    0.0      0.0  0.0  \n",
       "2            0.0         0.0    0.0      0.0  0.0  \n",
       "3            0.0         0.0    0.0      0.0  0.0  \n",
       "4            0.0         0.0    0.0      0.0  0.0  \n",
       "\n",
       "[5 rows x 5642 columns]"
      ]
     },
     "execution_count": 2,
     "metadata": {},
     "output_type": "execute_result"
    }
   ],
   "source": [
    "import func\n",
    "# 1000개의 42초\n",
    "raw = func.load_recipe_tiny(5000)\n",
    "data = func.recipe_preprocessing_tiny(raw)\n",
    "recipe = func.split_ingredient_tiny(data)\n",
    "matrix = func.recipe_food_matrix(recipe)\n",
    "matrix.head(5)"
   ]
  },
  {
   "cell_type": "code",
   "execution_count": 1,
   "metadata": {},
   "outputs": [],
   "source": [
    "import func\n",
    "def two_matrix(n):\n",
    "    raw = func.load_recipe(n)\n",
    "    data = func.recipe_preprocessing(raw)\n",
    "    data2 = func.split_ingredient(data)\n",
    "    ingred_matrix = func.recipe_food_matrix(data2)\n",
    "    print(\"ingred matrix completed\")\n",
    "\n",
    "    nutri = func.select_table('select * from nutrient_table')\n",
    "    nutri_matrix = func.recipe_nutri_tiny(data2, nutri)\n",
    "    print(\"nutrition matrix completed\")\n",
    "    return ingred_matrix, nutri_matrix"
   ]
  },
  {
   "cell_type": "code",
   "execution_count": 2,
   "metadata": {},
   "outputs": [
    {
     "name": "stderr",
     "output_type": "stream",
     "text": [
      "100%|██████████| 96/96 [00:00<00:00, 402.55it/s]\n",
      "100%|██████████| 96/96 [00:00<00:00, 341.06it/s]\n",
      "100%|██████████| 96/96 [00:00<00:00, 2498.52it/s]\n"
     ]
    },
    {
     "name": "stdout",
     "output_type": "stream",
     "text": [
      "ingred matrix completed\n",
      "nutrition matrix completed\n"
     ]
    }
   ],
   "source": [
    "raw = func.load_recipe(100)\n",
    "data = func.recipe_preprocessing(raw)\n",
    "data2 = func.split_ingredient(data)\n",
    "im, nm = two_matrix(100)"
   ]
  },
  {
   "cell_type": "markdown",
   "metadata": {},
   "source": [
    "### 정규화"
   ]
  },
  {
   "cell_type": "code",
   "execution_count": 4,
   "metadata": {},
   "outputs": [
    {
     "name": "stderr",
     "output_type": "stream",
     "text": [
      "C:\\Users\\HwijunKwon\\AppData\\Local\\Temp\\ipykernel_19408\\2081216683.py:1: FutureWarning: Dropping of nuisance columns in DataFrame reductions (with 'numeric_only=None') is deprecated; in a future version this will raise TypeError.  Select only valid columns before calling the reduction.\n",
      "  im.sum(axis=1)\n"
     ]
    },
    {
     "data": {
      "text/plain": [
       "0      501.500000\n",
       "1      185.833333\n",
       "2      242.500000\n",
       "3      314.000000\n",
       "4     1391.333333\n",
       "         ...     \n",
       "91     110.000000\n",
       "92     269.000000\n",
       "93     252.000000\n",
       "94     100.000000\n",
       "95     465.000000\n",
       "Length: 96, dtype: float64"
      ]
     },
     "execution_count": 4,
     "metadata": {},
     "output_type": "execute_result"
    }
   ],
   "source": [
    "im.sum(axis=1)"
   ]
  },
  {
   "cell_type": "code",
   "execution_count": 28,
   "metadata": {},
   "outputs": [],
   "source": [
    "import pandas as pd\n",
    "import numpy as np\n",
    "from sklearn.decomposition import TruncatedSVD\n",
    "import matplotlib.pyplot as plt\n",
    "\n",
    "TruncatedSVD()"
   ]
  },
  {
   "cell_type": "code",
   "execution_count": 30,
   "metadata": {},
   "outputs": [
    {
     "data": {
      "image/png": "[encoded data removed]",
      "text/plain": [
       "<Figure size 1000x600 with 1 Axes>"
      ]
     },
     "metadata": {},
     "output_type": "display_data"
    }
   ],
   "source": [
    "ingredients = im.drop('recipe_title', axis=1)\n",
    "svd = TruncatedSVD(n_components=2)  # 2차원으로 축소\n",
    "ingredients_reduced = svd.fit_transform(ingredients)\n",
    "plt.figure(figsize=(10, 6))\n",
    "plt.scatter(ingredients_reduced[:, 0], ingredients_reduced[:, 1])\n",
    "for i, txt in enumerate(im.recipe_title):\n",
    "    plt.annotate(txt, (ingredients_reduced[i, 0], ingredients_reduced[i, 1]))\n",
    "plt.xlabel('Component 1')\n",
    "plt.ylabel('Component 2')\n",
    "plt.title('SVD of Recipe Ingredients')\n",
    "plt.show()"
   ]
  },
  {
   "cell_type": "code",
   "execution_count": 32,
   "metadata": {},
   "outputs": [
    {
     "data": {
      "image/png": "[encoded data removed]",
      "text/plain": [
       "<Figure size 1000x600 with 1 Axes>"
      ]
     },
     "metadata": {},
     "output_type": "display_data"
    }
   ],
   "source": [
    "ingredients = nm.drop('recipe_title', axis=1)\n",
    "svd = TruncatedSVD(n_components=2)  # 2차원으로 축소\n",
    "ingredients_reduced = svd.fit_transform(ingredients)\n",
    "plt.figure(figsize=(10, 6))\n",
    "plt.scatter(ingredients_reduced[:, 0], ingredients_reduced[:, 1])\n",
    "for i, txt in enumerate(im.recipe_title):\n",
    "    plt.annotate(txt, (ingredients_reduced[i, 0], ingredients_reduced[i, 1]))\n",
    "plt.xlabel('Component 1')\n",
    "plt.ylabel('Component 2')\n",
    "plt.title('SVD of Recipe Nutrition')\n",
    "plt.show()"
   ]
  },
  {
   "cell_type": "code",
   "execution_count": 71,
   "metadata": {},
   "outputs": [
    {
     "name": "stderr",
     "output_type": "stream",
     "text": [
      "100%|██████████| 96/96 [00:00<00:00, 2239.01it/s]\n"
     ]
    }
   ],
   "source": [
    "ingred_matrix = func.recipe_food_matrix(data2)"
   ]
  },
  {
   "cell_type": "code",
   "execution_count": null,
   "metadata": {},
   "outputs": [],
   "source": [
    "ingred_matrix"
   ]
  },
  {
   "cell_type": "code",
   "execution_count": 70,
   "metadata": {},
   "outputs": [
    {
     "name": "stderr",
     "output_type": "stream",
     "text": [
      "c:\\Users\\HwijunKwon\\github\\recipe\\models\\func.py:199: SettingWithCopyWarning: \n",
      "A value is trying to be set on a copy of a slice from a DataFrame.\n",
      "Try using .loc[row_indexer,col_indexer] = value instead\n",
      "\n",
      "See the caveats in the documentation: https://pandas.pydata.org/pandas-docs/stable/user_guide/indexing.html#returning-a-view-versus-a-copy\n",
      "  new_recipe1[f'quantity{i}'] = pd.to_numeric(new_recipe1[f'quantity{i}'], errors='coerce').astype('float16')\n",
      "c:\\Users\\HwijunKwon\\github\\recipe\\models\\func.py:205: SettingWithCopyWarning: \n",
      "A value is trying to be set on a copy of a slice from a DataFrame.\n",
      "Try using .loc[row_indexer,col_indexer] = value instead\n",
      "\n",
      "See the caveats in the documentation: https://pandas.pydata.org/pandas-docs/stable/user_guide/indexing.html#returning-a-view-versus-a-copy\n",
      "  new_recipe1[f'multi{i}'] = None\n",
      "c:\\Users\\HwijunKwon\\github\\recipe\\models\\func.py:205: SettingWithCopyWarning: \n",
      "A value is trying to be set on a copy of a slice from a DataFrame.\n",
      "Try using .loc[row_indexer,col_indexer] = value instead\n",
      "\n",
      "See the caveats in the documentation: https://pandas.pydata.org/pandas-docs/stable/user_guide/indexing.html#returning-a-view-versus-a-copy\n",
      "  new_recipe1[f'multi{i}'] = None\n",
      "c:\\Users\\HwijunKwon\\github\\recipe\\models\\func.py:205: SettingWithCopyWarning: \n",
      "A value is trying to be set on a copy of a slice from a DataFrame.\n",
      "Try using .loc[row_indexer,col_indexer] = value instead\n",
      "\n",
      "See the caveats in the documentation: https://pandas.pydata.org/pandas-docs/stable/user_guide/indexing.html#returning-a-view-versus-a-copy\n",
      "  new_recipe1[f'multi{i}'] = None\n",
      "c:\\Users\\HwijunKwon\\github\\recipe\\models\\func.py:205: SettingWithCopyWarning: \n",
      "A value is trying to be set on a copy of a slice from a DataFrame.\n",
      "Try using .loc[row_indexer,col_indexer] = value instead\n",
      "\n",
      "See the caveats in the documentation: https://pandas.pydata.org/pandas-docs/stable/user_guide/indexing.html#returning-a-view-versus-a-copy\n",
      "  new_recipe1[f'multi{i}'] = None\n",
      "c:\\Users\\HwijunKwon\\github\\recipe\\models\\func.py:205: SettingWithCopyWarning: \n",
      "A value is trying to be set on a copy of a slice from a DataFrame.\n",
      "Try using .loc[row_indexer,col_indexer] = value instead\n",
      "\n",
      "See the caveats in the documentation: https://pandas.pydata.org/pandas-docs/stable/user_guide/indexing.html#returning-a-view-versus-a-copy\n",
      "  new_recipe1[f'multi{i}'] = None\n",
      "c:\\Users\\HwijunKwon\\github\\recipe\\models\\func.py:205: SettingWithCopyWarning: \n",
      "A value is trying to be set on a copy of a slice from a DataFrame.\n",
      "Try using .loc[row_indexer,col_indexer] = value instead\n",
      "\n",
      "See the caveats in the documentation: https://pandas.pydata.org/pandas-docs/stable/user_guide/indexing.html#returning-a-view-versus-a-copy\n",
      "  new_recipe1[f'multi{i}'] = None\n",
      "c:\\Users\\HwijunKwon\\github\\recipe\\models\\func.py:205: SettingWithCopyWarning: \n",
      "A value is trying to be set on a copy of a slice from a DataFrame.\n",
      "Try using .loc[row_indexer,col_indexer] = value instead\n",
      "\n",
      "See the caveats in the documentation: https://pandas.pydata.org/pandas-docs/stable/user_guide/indexing.html#returning-a-view-versus-a-copy\n",
      "  new_recipe1[f'multi{i}'] = None\n",
      "c:\\Users\\HwijunKwon\\github\\recipe\\models\\func.py:205: SettingWithCopyWarning: \n",
      "A value is trying to be set on a copy of a slice from a DataFrame.\n",
      "Try using .loc[row_indexer,col_indexer] = value instead\n",
      "\n",
      "See the caveats in the documentation: https://pandas.pydata.org/pandas-docs/stable/user_guide/indexing.html#returning-a-view-versus-a-copy\n",
      "  new_recipe1[f'multi{i}'] = None\n",
      "c:\\Users\\HwijunKwon\\github\\recipe\\models\\func.py:205: SettingWithCopyWarning: \n",
      "A value is trying to be set on a copy of a slice from a DataFrame.\n",
      "Try using .loc[row_indexer,col_indexer] = value instead\n",
      "\n",
      "See the caveats in the documentation: https://pandas.pydata.org/pandas-docs/stable/user_guide/indexing.html#returning-a-view-versus-a-copy\n",
      "  new_recipe1[f'multi{i}'] = None\n",
      "c:\\Users\\HwijunKwon\\github\\recipe\\models\\func.py:205: SettingWithCopyWarning: \n",
      "A value is trying to be set on a copy of a slice from a DataFrame.\n",
      "Try using .loc[row_indexer,col_indexer] = value instead\n",
      "\n",
      "See the caveats in the documentation: https://pandas.pydata.org/pandas-docs/stable/user_guide/indexing.html#returning-a-view-versus-a-copy\n",
      "  new_recipe1[f'multi{i}'] = None\n",
      "c:\\Users\\HwijunKwon\\github\\recipe\\models\\func.py:205: SettingWithCopyWarning: \n",
      "A value is trying to be set on a copy of a slice from a DataFrame.\n",
      "Try using .loc[row_indexer,col_indexer] = value instead\n",
      "\n",
      "See the caveats in the documentation: https://pandas.pydata.org/pandas-docs/stable/user_guide/indexing.html#returning-a-view-versus-a-copy\n",
      "  new_recipe1[f'multi{i}'] = None\n",
      "c:\\Users\\HwijunKwon\\github\\recipe\\models\\func.py:205: SettingWithCopyWarning: \n",
      "A value is trying to be set on a copy of a slice from a DataFrame.\n",
      "Try using .loc[row_indexer,col_indexer] = value instead\n",
      "\n",
      "See the caveats in the documentation: https://pandas.pydata.org/pandas-docs/stable/user_guide/indexing.html#returning-a-view-versus-a-copy\n",
      "  new_recipe1[f'multi{i}'] = None\n",
      "c:\\Users\\HwijunKwon\\github\\recipe\\models\\func.py:205: SettingWithCopyWarning: \n",
      "A value is trying to be set on a copy of a slice from a DataFrame.\n",
      "Try using .loc[row_indexer,col_indexer] = value instead\n",
      "\n",
      "See the caveats in the documentation: https://pandas.pydata.org/pandas-docs/stable/user_guide/indexing.html#returning-a-view-versus-a-copy\n",
      "  new_recipe1[f'multi{i}'] = None\n",
      "c:\\Users\\HwijunKwon\\github\\recipe\\models\\func.py:208: SettingWithCopyWarning: \n",
      "A value is trying to be set on a copy of a slice from a DataFrame.\n",
      "Try using .loc[row_indexer,col_indexer] = value instead\n",
      "\n",
      "See the caveats in the documentation: https://pandas.pydata.org/pandas-docs/stable/user_guide/indexing.html#returning-a-view-versus-a-copy\n",
      "  new_recipe1[f'multi{i}'] = new_recipe1[f'quantity{i}'] * new_recipe1[f'unit{i}']\n"
     ]
    },
    {
     "data": {
      "text/plain": [
       "(96, 26)"
      ]
     },
     "execution_count": 70,
     "metadata": {},
     "output_type": "execute_result"
    }
   ],
   "source": [
    "nutri = func.select_table('select * from nutrient_table')\n",
    "nutri_matrix = func.recipe_nutri(data2, nutri)\n",
    "nutri_matrix.shape"
   ]
  },
  {
   "cell_type": "code",
   "execution_count": 47,
   "metadata": {},
   "outputs": [],
   "source": [
    "import pandas as pd\n",
    "merged_matrix_outer = pd.merge(ingred_matrix, nutri_matrix, on= 'recipe_title', how = 'outer')\n",
    "merged_matrix_inner = pd.merge(ingred_matrix, nutri_matrix, on= 'recipe_title', how = 'inner')"
   ]
  },
  {
   "cell_type": "code",
   "execution_count": 52,
   "metadata": {},
   "outputs": [
    {
     "data": {
      "text/html": [
       "<div>\n",
       "<style scoped>\n",
       "    .dataframe tbody tr th:only-of-type {\n",
       "        vertical-align: middle;\n",
       "    }\n",
       "\n",
       "    .dataframe tbody tr th {\n",
       "        vertical-align: top;\n",
       "    }\n",
       "\n",
       "    .dataframe thead th {\n",
       "        text-align: right;\n",
       "    }\n",
       "</style>\n",
       "<table border=\"1\" class=\"dataframe\">\n",
       "  <thead>\n",
       "    <tr style=\"text-align: right;\">\n",
       "      <th></th>\n",
       "      <th>recipe_title</th>\n",
       "      <th>총합_에너지(kcal)</th>\n",
       "      <th>총합_수분(g)</th>\n",
       "      <th>총합_단백질(g)</th>\n",
       "      <th>총합_지방(g)</th>\n",
       "      <th>총합_회분(g)</th>\n",
       "      <th>총합_탄수화물(g)</th>\n",
       "      <th>총합_당류(g)</th>\n",
       "      <th>총합_식이섬유(g)</th>\n",
       "      <th>총합_칼슘(mg)</th>\n",
       "      <th>...</th>\n",
       "      <th>총합_베타카로틴(μg)</th>\n",
       "      <th>총합_티아민(mg)</th>\n",
       "      <th>총합_리보플라빈(mg)</th>\n",
       "      <th>총합_니아신(mg)</th>\n",
       "      <th>총합_비타민c(mg)</th>\n",
       "      <th>총합_비타민d(μg)</th>\n",
       "      <th>총합_콜레스테롤(mg)</th>\n",
       "      <th>총합_포화지방산(g)</th>\n",
       "      <th>총합_트랜스지방산(g)</th>\n",
       "      <th>총합_폐기율(%)</th>\n",
       "    </tr>\n",
       "  </thead>\n",
       "  <tbody>\n",
       "    <tr>\n",
       "      <th>20</th>\n",
       "      <td>냉이 된장찌개</td>\n",
       "      <td>9.8</td>\n",
       "      <td>16.84</td>\n",
       "      <td>1.018</td>\n",
       "      <td>0.100</td>\n",
       "      <td>0.204</td>\n",
       "      <td>1.838</td>\n",
       "      <td>0.000</td>\n",
       "      <td>1.62</td>\n",
       "      <td>38.4</td>\n",
       "      <td>...</td>\n",
       "      <td>331.0</td>\n",
       "      <td>0.000</td>\n",
       "      <td>0.064</td>\n",
       "      <td>0.080</td>\n",
       "      <td>7.16</td>\n",
       "      <td>0.00</td>\n",
       "      <td>0.00</td>\n",
       "      <td>0.020</td>\n",
       "      <td>0.000</td>\n",
       "      <td>0.0</td>\n",
       "    </tr>\n",
       "    <tr>\n",
       "      <th>326</th>\n",
       "      <td>냉이 된장찌개</td>\n",
       "      <td>91.6</td>\n",
       "      <td>101.66</td>\n",
       "      <td>9.170</td>\n",
       "      <td>2.567</td>\n",
       "      <td>5.241</td>\n",
       "      <td>11.368</td>\n",
       "      <td>0.123</td>\n",
       "      <td>9.54</td>\n",
       "      <td>226.2</td>\n",
       "      <td>...</td>\n",
       "      <td>1657.1</td>\n",
       "      <td>0.132</td>\n",
       "      <td>0.377</td>\n",
       "      <td>0.604</td>\n",
       "      <td>35.80</td>\n",
       "      <td>0.00</td>\n",
       "      <td>0.00</td>\n",
       "      <td>0.403</td>\n",
       "      <td>0.006</td>\n",
       "      <td>0.0</td>\n",
       "    </tr>\n",
       "    <tr>\n",
       "      <th>545</th>\n",
       "      <td>냉이 된장찌개</td>\n",
       "      <td>106.5</td>\n",
       "      <td>77.20</td>\n",
       "      <td>13.265</td>\n",
       "      <td>4.175</td>\n",
       "      <td>0.965</td>\n",
       "      <td>4.595</td>\n",
       "      <td>0.000</td>\n",
       "      <td>4.05</td>\n",
       "      <td>98.0</td>\n",
       "      <td>...</td>\n",
       "      <td>827.5</td>\n",
       "      <td>0.025</td>\n",
       "      <td>0.200</td>\n",
       "      <td>2.215</td>\n",
       "      <td>18.45</td>\n",
       "      <td>0.29</td>\n",
       "      <td>25.75</td>\n",
       "      <td>1.620</td>\n",
       "      <td>0.090</td>\n",
       "      <td>0.0</td>\n",
       "    </tr>\n",
       "  </tbody>\n",
       "</table>\n",
       "<p>3 rows × 26 columns</p>\n",
       "</div>"
      ],
      "text/plain": [
       "    recipe_title  총합_에너지(kcal)  총합_수분(g)  총합_단백질(g)  총합_지방(g)  총합_회분(g)  \\\n",
       "20       냉이 된장찌개           9.8     16.84      1.018     0.100     0.204   \n",
       "326      냉이 된장찌개          91.6    101.66      9.170     2.567     5.241   \n",
       "545      냉이 된장찌개         106.5     77.20     13.265     4.175     0.965   \n",
       "\n",
       "     총합_탄수화물(g)  총합_당류(g)  총합_식이섬유(g)  총합_칼슘(mg)  ...  총합_베타카로틴(μg)  \\\n",
       "20        1.838     0.000        1.62       38.4  ...         331.0   \n",
       "326      11.368     0.123        9.54      226.2  ...        1657.1   \n",
       "545       4.595     0.000        4.05       98.0  ...         827.5   \n",
       "\n",
       "     총합_티아민(mg)  총합_리보플라빈(mg)  총합_니아신(mg)  총합_비타민c(mg)  총합_비타민d(μg)  \\\n",
       "20        0.000         0.064       0.080         7.16         0.00   \n",
       "326       0.132         0.377       0.604        35.80         0.00   \n",
       "545       0.025         0.200       2.215        18.45         0.29   \n",
       "\n",
       "     총합_콜레스테롤(mg)  총합_포화지방산(g)  총합_트랜스지방산(g)  총합_폐기율(%)  \n",
       "20           0.00        0.020         0.000        0.0  \n",
       "326          0.00        0.403         0.006        0.0  \n",
       "545         25.75        1.620         0.090        0.0  \n",
       "\n",
       "[3 rows x 26 columns]"
      ]
     },
     "execution_count": 52,
     "metadata": {},
     "output_type": "execute_result"
    }
   ],
   "source": [
    "nutri_matrix[nutri_matrix['recipe_title'] == '냉이 된장찌개']"
   ]
  },
  {
   "cell_type": "code",
   "execution_count": 46,
   "metadata": {},
   "outputs": [
    {
     "data": {
      "text/plain": [
       "냉이 된장찌개        2\n",
       "청국장찌개          2\n",
       "방울토마토 마리네이드    1\n",
       "오꼬노미야끼         1\n",
       "돼지고기 김치찌개      1\n",
       "간편하게 끓인 문어죽    1\n",
       "고등어 조림         1\n",
       "통감자버터구이        1\n",
       "Name: recipe_title, dtype: int64"
      ]
     },
     "execution_count": 46,
     "metadata": {},
     "output_type": "execute_result"
    }
   ],
   "source": [
    "ingred_matrix['recipe_title'][ingred_matrix['recipe_title'].duplicated()].value_counts()"
   ]
  },
  {
   "cell_type": "code",
   "execution_count": 56,
   "metadata": {},
   "outputs": [
    {
     "data": {
      "text/plain": [
       "923"
      ]
     },
     "execution_count": 56,
     "metadata": {},
     "output_type": "execute_result"
    }
   ],
   "source": [
    "len(set(nutri_matrix['recipe_title']))"
   ]
  },
  {
   "cell_type": "code",
   "execution_count": 55,
   "metadata": {},
   "outputs": [
    {
     "data": {
      "text/plain": [
       "(933, 1746)"
      ]
     },
     "execution_count": 55,
     "metadata": {},
     "output_type": "execute_result"
    }
   ],
   "source": [
    "ingred_matrix.shape"
   ]
  },
  {
   "cell_type": "code",
   "execution_count": 48,
   "metadata": {},
   "outputs": [
    {
     "data": {
      "text/plain": [
       "((933, 1746), (933, 26))"
      ]
     },
     "execution_count": 48,
     "metadata": {},
     "output_type": "execute_result"
    }
   ],
   "source": [
    "ingred_matrix.shape, nutri_matrix.shape"
   ]
  },
  {
   "cell_type": "code",
   "execution_count": 49,
   "metadata": {},
   "outputs": [
    {
     "data": {
      "text/plain": [
       "((957, 1771), (957, 1771))"
      ]
     },
     "execution_count": 49,
     "metadata": {},
     "output_type": "execute_result"
    }
   ],
   "source": [
    "merged_matrix_outer.shape, merged_matrix_inner.shape"
   ]
  },
  {
   "cell_type": "code",
   "execution_count": 33,
   "metadata": {},
   "outputs": [
    {
     "data": {
      "text/plain": [
       "0"
      ]
     },
     "execution_count": 33,
     "metadata": {},
     "output_type": "execute_result"
    }
   ],
   "source": [
    "merged_matrix.isna().sum().sum()"
   ]
  },
  {
   "cell_type": "code",
   "execution_count": 21,
   "metadata": {},
   "outputs": [
    {
     "data": {
      "text/html": [
       "<div>\n",
       "<style scoped>\n",
       "    .dataframe tbody tr th:only-of-type {\n",
       "        vertical-align: middle;\n",
       "    }\n",
       "\n",
       "    .dataframe tbody tr th {\n",
       "        vertical-align: top;\n",
       "    }\n",
       "\n",
       "    .dataframe thead th {\n",
       "        text-align: right;\n",
       "    }\n",
       "</style>\n",
       "<table border=\"1\" class=\"dataframe\">\n",
       "  <thead>\n",
       "    <tr style=\"text-align: right;\">\n",
       "      <th></th>\n",
       "      <th>recipe_title</th>\n",
       "      <th>날치알</th>\n",
       "      <th>시금치</th>\n",
       "      <th>대파파란부분</th>\n",
       "      <th>공기밥</th>\n",
       "      <th>얼음많이</th>\n",
       "      <th>생쌀</th>\n",
       "      <th>묵은파김치있으면넣으세요</th>\n",
       "      <th>다진파조금</th>\n",
       "      <th>수삼</th>\n",
       "      <th>...</th>\n",
       "      <th>총합_베타카로틴(μg)</th>\n",
       "      <th>총합_티아민(mg)</th>\n",
       "      <th>총합_리보플라빈(mg)</th>\n",
       "      <th>총합_니아신(mg)</th>\n",
       "      <th>총합_비타민c(mg)</th>\n",
       "      <th>총합_비타민d(μg)</th>\n",
       "      <th>총합_콜레스테롤(mg)</th>\n",
       "      <th>총합_포화지방산(g)</th>\n",
       "      <th>총합_트랜스지방산(g)</th>\n",
       "      <th>총합_폐기율(%)</th>\n",
       "    </tr>\n",
       "  </thead>\n",
       "  <tbody>\n",
       "    <tr>\n",
       "      <th>954</th>\n",
       "      <td>토마토 아이스바</td>\n",
       "      <td>0.0</td>\n",
       "      <td>0.0</td>\n",
       "      <td>0.0</td>\n",
       "      <td>0.0</td>\n",
       "      <td>0.0</td>\n",
       "      <td>0.0</td>\n",
       "      <td>0.0</td>\n",
       "      <td>0.0</td>\n",
       "      <td>0.0</td>\n",
       "      <td>...</td>\n",
       "      <td>1144.0</td>\n",
       "      <td>0.02</td>\n",
       "      <td>0.467</td>\n",
       "      <td>0.775</td>\n",
       "      <td>35.0</td>\n",
       "      <td>0.0</td>\n",
       "      <td>0.0</td>\n",
       "      <td>0.043</td>\n",
       "      <td>0.00</td>\n",
       "      <td>0.0</td>\n",
       "    </tr>\n",
       "    <tr>\n",
       "      <th>955</th>\n",
       "      <td>&lt; 간식&gt; 감자칩 / 전자렌지</td>\n",
       "      <td>0.0</td>\n",
       "      <td>0.0</td>\n",
       "      <td>0.0</td>\n",
       "      <td>0.0</td>\n",
       "      <td>0.0</td>\n",
       "      <td>0.0</td>\n",
       "      <td>0.0</td>\n",
       "      <td>0.0</td>\n",
       "      <td>0.0</td>\n",
       "      <td>...</td>\n",
       "      <td>24.0</td>\n",
       "      <td>0.36</td>\n",
       "      <td>0.156</td>\n",
       "      <td>0.330</td>\n",
       "      <td>0.0</td>\n",
       "      <td>0.0</td>\n",
       "      <td>0.0</td>\n",
       "      <td>0.060</td>\n",
       "      <td>0.00</td>\n",
       "      <td>0.0</td>\n",
       "    </tr>\n",
       "    <tr>\n",
       "      <th>956</th>\n",
       "      <td>노오븐! 간단한 크렘브륄레 만들기 [NO BAKE] Creme brulee</td>\n",
       "      <td>0.0</td>\n",
       "      <td>0.0</td>\n",
       "      <td>0.0</td>\n",
       "      <td>0.0</td>\n",
       "      <td>0.0</td>\n",
       "      <td>0.0</td>\n",
       "      <td>0.0</td>\n",
       "      <td>0.0</td>\n",
       "      <td>0.0</td>\n",
       "      <td>...</td>\n",
       "      <td>0.0</td>\n",
       "      <td>0.06</td>\n",
       "      <td>0.486</td>\n",
       "      <td>0.900</td>\n",
       "      <td>2.4</td>\n",
       "      <td>0.0</td>\n",
       "      <td>29.1</td>\n",
       "      <td>6.510</td>\n",
       "      <td>0.42</td>\n",
       "      <td>0.0</td>\n",
       "    </tr>\n",
       "  </tbody>\n",
       "</table>\n",
       "<p>3 rows × 1771 columns</p>\n",
       "</div>"
      ],
      "text/plain": [
       "                                  recipe_title  날치알  시금치  대파파란부분  공기밥  얼음많이  \\\n",
       "954                                   토마토 아이스바  0.0  0.0     0.0  0.0   0.0   \n",
       "955                           < 간식> 감자칩 / 전자렌지  0.0  0.0     0.0  0.0   0.0   \n",
       "956  노오븐! 간단한 크렘브륄레 만들기 [NO BAKE] Creme brulee  0.0  0.0     0.0  0.0   0.0   \n",
       "\n",
       "      생쌀  묵은파김치있으면넣으세요  다진파조금   수삼  ...  총합_베타카로틴(μg)  총합_티아민(mg)  \\\n",
       "954  0.0           0.0    0.0  0.0  ...        1144.0        0.02   \n",
       "955  0.0           0.0    0.0  0.0  ...          24.0        0.36   \n",
       "956  0.0           0.0    0.0  0.0  ...           0.0        0.06   \n",
       "\n",
       "     총합_리보플라빈(mg)  총합_니아신(mg)  총합_비타민c(mg)  총합_비타민d(μg)  총합_콜레스테롤(mg)  \\\n",
       "954         0.467       0.775         35.0          0.0           0.0   \n",
       "955         0.156       0.330          0.0          0.0           0.0   \n",
       "956         0.486       0.900          2.4          0.0          29.1   \n",
       "\n",
       "     총합_포화지방산(g)  총합_트랜스지방산(g)  총합_폐기율(%)  \n",
       "954        0.043          0.00        0.0  \n",
       "955        0.060          0.00        0.0  \n",
       "956        6.510          0.42        0.0  \n",
       "\n",
       "[3 rows x 1771 columns]"
      ]
     },
     "execution_count": 21,
     "metadata": {},
     "output_type": "execute_result"
    }
   ],
   "source": [
    "merged_matrix.tail(3)"
   ]
  },
  {
   "cell_type": "code",
   "execution_count": null,
   "metadata": {},
   "outputs": [],
   "source": [
    "nutri_matrix.loc[:, 'recipe_title'][10]"
   ]
  },
  {
   "cell_type": "code",
   "execution_count": null,
   "metadata": {},
   "outputs": [],
   "source": [
    "nutri_matrix"
   ]
  },
  {
   "cell_type": "code",
   "execution_count": null,
   "metadata": {},
   "outputs": [],
   "source": [
    "nutri_matrix[nutri_matrix.iloc[:, 1:].sum(axis = 1) == 0.0]"
   ]
  },
  {
   "cell_type": "code",
   "execution_count": null,
   "metadata": {},
   "outputs": [],
   "source": [
    "ingred_matrix[ingred_matrix.iloc[:, 1:].sum(axis = 1) == 0.0]"
   ]
  },
  {
   "cell_type": "code",
   "execution_count": null,
   "metadata": {},
   "outputs": [],
   "source": [
    "nutri_matrix.isna().sum().sum()"
   ]
  },
  {
   "cell_type": "code",
   "execution_count": null,
   "metadata": {},
   "outputs": [],
   "source": [
    "data1.loc[1, 'recipe_title']"
   ]
  },
  {
   "cell_type": "code",
   "execution_count": null,
   "metadata": {},
   "outputs": [],
   "source": [
    "data2 = func.load_recipe_tiny(n = 100)"
   ]
  },
  {
   "cell_type": "code",
   "execution_count": null,
   "metadata": {},
   "outputs": [],
   "source": [
    "import pandas\n",
    "data1.equals(data2)"
   ]
  },
  {
   "cell_type": "code",
   "execution_count": null,
   "metadata": {},
   "outputs": [],
   "source": [
    "def load_recipe(n=1000):\n",
    "    od.init_oracle_client(lib_dir=r\"C:\\Program Files\\Oracle\\instantclient_21_12\") # DB 연결\n",
    "    conn = od.connect(user=config.DB_CONFIG['user'], password=config.DB_CONFIG['password'], dsn=config.DB_CONFIG['dsn'])\n",
    "    exe = conn.cursor()\n",
    "    exe.execute(f'SELECT * FROM (SELECT * FROM recipe_table ORDER BY row_cnt ASC) WHERE row_cnt <= {n}')\n",
    "    result = pd.DataFrame(exe.fetchall(), columns=[col[0].lower() for col in exe.description])  # row와 column 이름을 가져와 DataFrame 생성\n",
    "    conn.close()\n",
    "    return result"
   ]
  },
  {
   "cell_type": "code",
   "execution_count": null,
   "metadata": {},
   "outputs": [],
   "source": [
    "load_recipe(100)"
   ]
  },
  {
   "cell_type": "code",
   "execution_count": null,
   "metadata": {},
   "outputs": [],
   "source": [
    "a = 1, b = 2\n",
    "print((a, b))"
   ]
  },
  {
   "cell_type": "code",
   "execution_count": null,
   "metadata": {},
   "outputs": [],
   "source": [
    "func.not_matching(n=10000)"
   ]
  },
  {
   "cell_type": "code",
   "execution_count": null,
   "metadata": {},
   "outputs": [],
   "source": [
    "func.not_matching(n=10000)"
   ]
  },
  {
   "cell_type": "code",
   "execution_count": null,
   "metadata": {},
   "outputs": [],
   "source": [
    "raw = load_recipe(100000)\n",
    "b = recipe_preprocessing(raw)\n",
    "c = split_ingredient(b)"
   ]
  },
  {
   "cell_type": "code",
   "execution_count": null,
   "metadata": {},
   "outputs": [],
   "source": [
    "from func import recipe_food_matrix\n",
    "recipe_food_matrix(c)"
   ]
  },
  {
   "cell_type": "code",
   "execution_count": null,
   "metadata": {},
   "outputs": [],
   "source": [
    "import pandas as pd\n",
    "all_ingredients = set()\n",
    "for i in range(1, 21):  \n",
    "    all_ingredients.update(data[f'ingredient{i}'].dropna().unique())\n",
    "\n",
    "recipe_ingredients_df = pd.DataFrame(columns=list(all_ingredients))"
   ]
  },
  {
   "cell_type": "code",
   "execution_count": null,
   "metadata": {},
   "outputs": [],
   "source": [
    "def convert_fraction_to_float(quantity):\n",
    "    from fractions import Fraction\n",
    "    try:\n",
    "        return float(Fraction(quantity))\n",
    "    except ValueError:\n",
    "        return None \n",
    "def convert_unit_to_number(unit):\n",
    "    '''\n",
    "    단위에 따른 g 수 변환\n",
    "    '''\n",
    "    unit_conversion = {\n",
    "        'g': 1,\n",
    "        '개': 100,\n",
    "        '조금' :10\n",
    "    }\n",
    "    return unit_conversion.get(unit, 1)"
   ]
  },
  {
   "cell_type": "code",
   "execution_count": null,
   "metadata": {},
   "outputs": [],
   "source": [
    "data.shape"
   ]
  },
  {
   "cell_type": "code",
   "execution_count": null,
   "metadata": {},
   "outputs": [],
   "source": [
    "recipe_rows = []\n",
    "for idx, row in data.iterrows():\n",
    "    recipe_data = {ingredient: 0.0 for ingredient in all_ingredients}  # 모든 식재료를 None으로 초기화\n",
    "    for i in range(1, 21):  \n",
    "        ingredient = row[f'ingredient{i}']\n",
    "        quantity = row[f'quantity{i}']\n",
    "        unit = row[f'unit{i}']\n",
    "        if pd.notna(ingredient) and pd.notna(quantity):\n",
    "            quantity_float = convert_fraction_to_float(quantity) # 양이 분수일 경우 숫자로 변환 \n",
    "            if quantity_float is not None:\n",
    "                unit_number = convert_unit_to_number(unit) if pd.notna(unit) else 1\n",
    "                recipe_data[ingredient] = quantity_float * unit_number\n",
    "                recipe_data['recipe_title'] = row['recipe_title']\n",
    "    recipe_rows.append(recipe_data)\n"
   ]
  },
  {
   "cell_type": "code",
   "execution_count": null,
   "metadata": {},
   "outputs": [],
   "source": [
    "['a', 'b', 'c'].append('d')"
   ]
  },
  {
   "cell_type": "code",
   "execution_count": null,
   "metadata": {},
   "outputs": [],
   "source": [
    "recipe_rows[2]['recipe_title']"
   ]
  },
  {
   "cell_type": "code",
   "execution_count": null,
   "metadata": {},
   "outputs": [],
   "source": [
    "recipe_rows[0]"
   ]
  },
  {
   "cell_type": "code",
   "execution_count": null,
   "metadata": {},
   "outputs": [],
   "source": [
    "recipe_ingredients_df = pd.concat([pd.DataFrame([row]) for row in recipe_rows], ignore_index=True)\n",
    "recipe_ingredients_df = recipe_ingredients_df.astype('float64')"
   ]
  },
  {
   "cell_type": "code",
   "execution_count": null,
   "metadata": {},
   "outputs": [],
   "source": [
    "df = pd.DataFrame(data['recipe_title'], columns=['recipe_title'])\n",
    "df"
   ]
  },
  {
   "cell_type": "code",
   "execution_count": null,
   "metadata": {},
   "outputs": [],
   "source": [
    "list(all_ingredients)"
   ]
  },
  {
   "cell_type": "code",
   "execution_count": null,
   "metadata": {},
   "outputs": [],
   "source": [
    "df.columns.extend(list(all_ingredients))\n",
    "df.shape"
   ]
  },
  {
   "cell_type": "code",
   "execution_count": null,
   "metadata": {},
   "outputs": [],
   "source": [
    "import numpy as np"
   ]
  },
  {
   "cell_type": "code",
   "execution_count": null,
   "metadata": {},
   "outputs": [],
   "source": [
    "df[list(all_ingredients)] = np.nan"
   ]
  },
  {
   "cell_type": "code",
   "execution_count": null,
   "metadata": {},
   "outputs": [],
   "source": [
    "import oracledb as od\n",
    "import pandas as pd\n",
    "import numpy as np\n",
    "import config\n",
    "from tqdm import tqdm\n",
    "import ast\n",
    "import re\n",
    "from sklearn.decomposition import TruncatedSVD\n",
    "from sklearn.metrics.pairwise import cosine_similarity\n",
    "from scipy.sparse.linalg import svds\n",
    "from scipy.linalg import svd\n",
    "def recipe_food_matrix(data):\n",
    "    def convert_fraction_to_float(quantity):\n",
    "        from fractions import Fraction\n",
    "        try:\n",
    "            return float(Fraction(quantity))\n",
    "        except ValueError:\n",
    "            return None \n",
    "    def convert_unit_to_number(unit):\n",
    "        '''\n",
    "        단위에 따른 g 수 변환\n",
    "        '''\n",
    "        unit_conversion = {\n",
    "            'g': 1,\n",
    "            '개': 100,\n",
    "            '조금' :10\n",
    "        }\n",
    "        return unit_conversion.get(unit, 1)\n",
    "    all_ingredients = set()\n",
    "    for i in range(1, 21):  \n",
    "        all_ingredients.update(data[f'ingredient{i}'].dropna().unique())\n",
    "\n",
    "    recipe_ingredients_df = pd.DataFrame(columns=list(all_ingredients))\n",
    "\n",
    "    recipe_rows = []\n",
    "    for idx, row in data.iterrows():\n",
    "        recipe_data = {ingredient: 0.0 for ingredient in all_ingredients}  # 모든 식재료를 None으로 초기화\n",
    "        for i in range(1, 21):  \n",
    "            ingredient = row[f'ingredient{i}']\n",
    "            quantity = row[f'quantity{i}']\n",
    "            unit = row[f'unit{i}']\n",
    "            if pd.notna(ingredient) and pd.notna(quantity):\n",
    "                quantity_float = convert_fraction_to_float(quantity)\n",
    "                if quantity_float is not None:\n",
    "                    unit_number = convert_unit_to_number(unit) if pd.notna(unit) else 1\n",
    "                    recipe_data[ingredient] = quantity_float * unit_number\n",
    "        recipe_rows.append(recipe_data)\n",
    "\n",
    "    # 새로운 데이터프레임 생성 (모든 식재료를 열로 가짐)\n",
    "    recipe_ingredients_df = pd.concat([pd.DataFrame([row]) for row in recipe_rows], ignore_index=True)\n",
    "    recipe_ingredients_df = recipe_ingredients_df.astype('float64')\n",
    "    recipe_ingredients_df['recipe_title'] = data['recipe_title']\n",
    "    \n",
    "    return recipe_ingredients_df"
   ]
  },
  {
   "cell_type": "code",
   "execution_count": null,
   "metadata": {},
   "outputs": [],
   "source": [
    "data = recipe_food_matrix(recipe)"
   ]
  },
  {
   "cell_type": "code",
   "execution_count": null,
   "metadata": {},
   "outputs": [],
   "source": [
    "recipe['recipe_title'].isna().sum(), recipe_food_matrix(recipe)['recipe_title'].isna().sum()"
   ]
  },
  {
   "cell_type": "code",
   "execution_count": null,
   "metadata": {},
   "outputs": [],
   "source": [
    "import func\n",
    "import numpy as np\n",
    "def load_matrix(n=100): \n",
    "    raw = func.load_recipe(n)\n",
    "    recipe = func.recipe_preprocessing(raw)\n",
    "    data = func.split_ingredient(recipe)\n",
    "    matrix = func.recipe_food_matrix(data)\n",
    "    return matrix\n",
    "\n",
    "matrix = load_matrix(100)\n",
    "a, b, c= func.nutri_svd(method ='scipy', df = matrix, n =10)\n",
    "ab = a.dot(np.diag(b))\n",
    "bc = \n",
    "matrix_small = func.nutri_svd(method = 'sklearn', df = matrix, n =10)"
   ]
  },
  {
   "cell_type": "code",
   "execution_count": null,
   "metadata": {},
   "outputs": [],
   "source": [
    "matrix_small.shape"
   ]
  },
  {
   "cell_type": "code",
   "execution_count": null,
   "metadata": {},
   "outputs": [],
   "source": []
  },
  {
   "cell_type": "code",
   "execution_count": null,
   "metadata": {},
   "outputs": [],
   "source": [
    "np.linalg.norm(b, axis=0)"
   ]
  },
  {
   "cell_type": "code",
   "execution_count": null,
   "metadata": {},
   "outputs": [],
   "source": [
    "b = b / np.linalg.norm(b, axis=0)"
   ]
  },
  {
   "cell_type": "code",
   "execution_count": null,
   "metadata": {},
   "outputs": [],
   "source": [
    "np.dot(a, np.diag(b)).dot(c).shape"
   ]
  },
  {
   "cell_type": "code",
   "execution_count": null,
   "metadata": {},
   "outputs": [],
   "source": [
    "import numpy as np\n",
    "import pandas as pd\n",
    "ex = np.array(\n",
    "    [[1, 0, 0, 1],\n",
    "     [2, 1, 0, 1],\n",
    "     [0, 2, 1, 0]]\n",
    ")\n",
    "\n",
    "U, S, V = func.nutri_svd(method = 'scipy', df = pd.DataFrame(ex), n =2)\n",
    "result = U[:, :2].dot(np.diag(S[:2])) # 2개 만사용\n",
    "result2 = result.dot(result.T)/(np.linalg.norm(result, axis =1)*np.linalg.norm(result.T, axis = 0))"
   ]
  },
  {
   "cell_type": "code",
   "execution_count": null,
   "metadata": {},
   "outputs": [],
   "source": [
    "result.dot(result.T) #"
   ]
  },
  {
   "cell_type": "code",
   "execution_count": null,
   "metadata": {},
   "outputs": [],
   "source": [
    "np.linalg.norm(result, axis =1), np.linalg.norm(result.T, axis = 0)"
   ]
  },
  {
   "cell_type": "code",
   "execution_count": null,
   "metadata": {},
   "outputs": [],
   "source": []
  },
  {
   "cell_type": "code",
   "execution_count": null,
   "metadata": {},
   "outputs": [],
   "source": [
    "ex = np.array(\n",
    "    [[1, 0, 0, 1],\n",
    "     [2, 1, 0, 1],\n",
    "     [0, 2, 1, 0]]\n",
    ")\n",
    "from scipy.linalg import svd\n",
    "a, b, c= svd(ex)\n",
    "ab = np.dot(a, np.diag(b)) # 3x3\n",
    "bc = "
   ]
  },
  {
   "cell_type": "code",
   "execution_count": null,
   "metadata": {},
   "outputs": [],
   "source": [
    "a= nutri_svd(matrix, 10 )"
   ]
  },
  {
   "cell_type": "code",
   "execution_count": null,
   "metadata": {},
   "outputs": [],
   "source": [
    "result = nutri_svd(matrix, 10 )\n",
    "recipe_cos(matrix, result, 1 )"
   ]
  },
  {
   "cell_type": "code",
   "execution_count": null,
   "metadata": {},
   "outputs": [],
   "source": [
    "def nutri_svd(df, n): # df = 입력할 테이블, n = 차원수\n",
    "\n",
    "\n",
    "    nutrients_df = df.drop(columns=['recipe_title'])\n",
    "    matrix = nutrients_df.to_numpy()\n",
    "\n",
    "    svd = TruncatedSVD(n_components=n)\n",
    "    result = svd.fit_transform(matrix)\n",
    "    return result"
   ]
  },
  {
   "cell_type": "code",
   "execution_count": null,
   "metadata": {},
   "outputs": [],
   "source": [
    "from sklearn.decomposition import TruncatedSVD"
   ]
  },
  {
   "cell_type": "code",
   "execution_count": null,
   "metadata": {},
   "outputs": [],
   "source": [
    "def nutri_svd(df, n): # df = 입력할 테이블, n = 차원수\n",
    "    nutrients_df = df.copy()\n",
    "    matrix = nutrients_df.to_numpy()\n",
    "\n",
    "    svd = TruncatedSVD(n_components=n)\n",
    "    result = svd.fit_trans"
   ]
  },
  {
   "cell_type": "code",
   "execution_count": null,
   "metadata": {},
   "outputs": [],
   "source": [
    "nutri_svd(matrix, 10)"
   ]
  },
  {
   "cell_type": "code",
   "execution_count": null,
   "metadata": {},
   "outputs": [],
   "source": [
    "target = '후추'\n",
    "matrix_2 = matrix.loc[matrix[:, 1] != target]\n"
   ]
  },
  {
   "cell_type": "code",
   "execution_count": null,
   "metadata": {},
   "outputs": [],
   "source": [
    "matrix.head(3)"
   ]
  },
  {
   "cell_type": "code",
   "execution_count": null,
   "metadata": {},
   "outputs": [],
   "source": [
    "input = matrix.iloc[:,:-1].to_numpy()\n",
    "import numpy as np\n",
    "from scipy.linalg import svd"
   ]
  },
  {
   "cell_type": "code",
   "execution_count": null,
   "metadata": {},
   "outputs": [],
   "source": [
    "a, b, c= svd(input)\n",
    "ab = a[:, :100].dot(np.diag(b[:100])) # 레시피에 식재료가 얼마나 중요한지지\n",
    "bc = c.T[:, :100].dot(np.diag(b[:100]))"
   ]
  },
  {
   "cell_type": "code",
   "execution_count": null,
   "metadata": {},
   "outputs": [],
   "source": [
    "input = matrix.iloc[:,:-1].to_numpy()\n",
    "\n",
    "from scipy.linalg import svd\n",
    "len(svd(input)) # 3\n",
    "\n",
    "a, b, c= svd(input)\n",
    "ab = a[:, :100].dot(np.diag(b[:100])) # 레시피에 식재료가 얼마나 중요한지지\n",
    "bc = c.T[:, :100].dot(np.diag(b[:100])) # 식재료에 레시피가 얼마나 중요한지 "
   ]
  },
  {
   "cell_type": "code",
   "execution_count": null,
   "metadata": {},
   "outputs": [],
   "source": [
    "from sklearn.metrics.pairwise import cosine_similarity"
   ]
  },
  {
   "cell_type": "code",
   "execution_count": null,
   "metadata": {},
   "outputs": [],
   "source": [
    "ab.shape, bc.shape"
   ]
  },
  {
   "cell_type": "code",
   "execution_count": null,
   "metadata": {},
   "outputs": [],
   "source": [
    "import matplotlib.pyplot as plt\n",
    "plt.scatter(ab[:, 0])\n",
    "plt.scatter(bc[:, 0], bc[:, 1])"
   ]
  },
  {
   "cell_type": "code",
   "execution_count": null,
   "metadata": {},
   "outputs": [],
   "source": [
    "ab[0] - bc[0]"
   ]
  },
  {
   "cell_type": "code",
   "execution_count": null,
   "metadata": {},
   "outputs": [],
   "source": [
    "result = a[:, :100].dot(np.diag(b[:100]))"
   ]
  },
  {
   "cell_type": "code",
   "execution_count": null,
   "metadata": {},
   "outputs": [],
   "source": [
    "result2 = result.dot(result.T)/(np.linalg.norm(result, axis =1)*np.linalg.norm(result.T, axis = 0))"
   ]
  },
  {
   "cell_type": "code",
   "execution_count": null,
   "metadata": {},
   "outputs": [],
   "source": [
    "result2[1].argsort()\n"
   ]
  },
  {
   "cell_type": "code",
   "execution_count": null,
   "metadata": {},
   "outputs": [],
   "source": [
    "matrix.iloc[46]"
   ]
  },
  {
   "cell_type": "code",
   "execution_count": null,
   "metadata": {},
   "outputs": [],
   "source": [
    "ab = a[:, :100].dot(np.diag(b[:100]))\n",
    "bc = c.T[:, :100].dot(np.diag(b[:100]))"
   ]
  },
  {
   "cell_type": "code",
   "execution_count": null,
   "metadata": {},
   "outputs": [],
   "source": [
    "matrix.iloc[8]"
   ]
  }
 ],
 "metadata": {
  "kernelspec": {
   "display_name": "Python 3",
   "language": "python",
   "name": "python3"
  },
  "language_info": {
   "codemirror_mode": {
    "name": "ipython",
    "version": 3
   },
   "file_extension": ".py",
   "mimetype": "text/x-python",
   "name": "python",
   "nbconvert_exporter": "python",
   "pygments_lexer": "ipython3",
   "version": "3.11.1"
  }
 },
 "nbformat": 4,
 "nbformat_minor": 2
}
