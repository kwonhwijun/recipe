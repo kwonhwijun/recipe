{
 "cells": [
  {
   "cell_type": "markdown",
   "metadata": {},
   "source": [
    "### Data Loading\n"
   ]
  },
  {
   "cell_type": "code",
   "execution_count": 1,
   "metadata": {},
   "outputs": [],
   "source": [
    "import pandas as pd\n",
    "from oracle import oracleTopd\n",
    "query = ''\n",
    "data = oracleTopd('')"
   ]
  },
  {
   "cell_type": "markdown",
   "metadata": {},
   "source": [
    "### Doc2Vec으로 임베딩하기\n",
    "\n",
    "- 전처리 없이 샘플 10000개 임베딩\n",
    "- 1. recipe_step을 형태소 분석기로 전처리\n",
    "- 2. gensim doc2vec으로 유사도 분석"
   ]
  },
  {
   "cell_type": "code",
   "execution_count": 2,
   "metadata": {},
   "outputs": [
    {
     "data": {
      "text/plain": [
       "Index(['recipe_url', 'recipe_title', 'recipe_summary1', 'recipe_summary2',\n",
       "       'recipe_summary3', 'recipe_ingredients', 'recipe_step', 'recipe_tag',\n",
       "       'recipe_comment', 'recipe_view', 'recipe_category_type',\n",
       "       'recipe_category_method', 'recipe_category_situation'],\n",
       "      dtype='object')"
      ]
     },
     "execution_count": 2,
     "metadata": {},
     "output_type": "execute_result"
    }
   ],
   "source": [
    "data.columns"
   ]
  },
  {
   "cell_type": "code",
   "execution_count": 3,
   "metadata": {},
   "outputs": [],
   "source": [
    "import random \n",
    "import numpy as np\n",
    "\n",
    "np.random.seed(77)\n",
    "toy = data[[\"recipe_title\", \"recipe_step\", \"recipe_ingredients\"]].sample(1000) # toy 데이터 만들기 표본 1000개"
   ]
  },
  {
   "cell_type": "code",
   "execution_count": 4,
   "metadata": {},
   "outputs": [
    {
     "data": {
      "text/plain": [
       "0         {'재료': ['애호박1개', '다진마늘0.5큰술', '소금0.5큰술', '참기름1...\n",
       "1         {'재료': ['건새우50g', '물1/4컵', '마늘종300g', '소금1/3큰술...\n",
       "2         {'재료': ['부추1줌', '달걀4개', '식용유2큰술', '밥2공기'], '양념...\n",
       "3         {'재료': ['베이컨5~6줄', '양파1/2개', '미니새송이버섯7개', '다진마...\n",
       "4         {'재료': ['깻잎', '대파', '다진마늘1T', '국간장1T', '참기름1T'...\n",
       "                                ...                        \n",
       "168835                                                   {}\n",
       "168836                                                   {}\n",
       "168837                                                   {}\n",
       "168838                                                   {}\n",
       "168839                                                   {}\n",
       "Name: recipe_ingredients, Length: 168840, dtype: object"
      ]
     },
     "execution_count": 4,
     "metadata": {},
     "output_type": "execute_result"
    }
   ],
   "source": [
    "data[\"recipe_ingredients\"]"
   ]
  },
  {
   "cell_type": "code",
   "execution_count": 5,
   "metadata": {},
   "outputs": [
    {
     "data": {
      "text/html": [
       "<div>\n",
       "<style scoped>\n",
       "    .dataframe tbody tr th:only-of-type {\n",
       "        vertical-align: middle;\n",
       "    }\n",
       "\n",
       "    .dataframe tbody tr th {\n",
       "        vertical-align: top;\n",
       "    }\n",
       "\n",
       "    .dataframe thead th {\n",
       "        text-align: right;\n",
       "    }\n",
       "</style>\n",
       "<table border=\"1\" class=\"dataframe\">\n",
       "  <thead>\n",
       "    <tr style=\"text-align: right;\">\n",
       "      <th></th>\n",
       "      <th>recipe_title</th>\n",
       "      <th>recipe_step</th>\n",
       "      <th>recipe_ingredients</th>\n",
       "    </tr>\n",
       "  </thead>\n",
       "  <tbody>\n",
       "    <tr>\n",
       "      <th>25036</th>\n",
       "      <td>떡잡채- 수미네반찬 10회</td>\n",
       "      <td>['#1 소고기(150g)은 양조간장(1큰술), 설탕(1작은술), 마늘(1큰술), ...</td>\n",
       "      <td>{'떡잡채재료': ['소고기150g', '양조간장1큰술', '설탕1작은술', '마늘...</td>\n",
       "    </tr>\n",
       "    <tr>\n",
       "      <th>26159</th>\n",
       "      <td>오징어볶음과 오징어덮밥으로도 간단하게~</td>\n",
       "      <td>['#1 오징어를 지난번 다리를 다 먹어버렸어요.그래서 오늘은 이렇게 몸통만 2마리...</td>\n",
       "      <td>{'재료': ['오징어몸통2마리', '양파1개', '당근1/4개', '청량고추1개'...</td>\n",
       "    </tr>\n",
       "    <tr>\n",
       "      <th>20386</th>\n",
       "      <td>순정 느타리버섯으로 만드는 버섯 겉절이</td>\n",
       "      <td>['#1 순정 느타리버섯은 적당한 크기로 손으로 찢어 준다.', '#2 찢은 버섯은...</td>\n",
       "      <td>{'재료': ['느타리버섯100g', '소금1/2Ts', '양파1/4개', '고춧가...</td>\n",
       "    </tr>\n",
       "    <tr>\n",
       "      <th>113414</th>\n",
       "      <td>[크림 파스타] 정통 카르보나라(까르보나라)</td>\n",
       "      <td>['#1 그릇에 계란과 계란 노른자, 치킨 스톡, 페코리노 로마노, 후추를 넣고 섞...</td>\n",
       "      <td>{'재료': ['스파게티120g', '베이컨3줄', '계란1개', '계란노른자2개'...</td>\n",
       "    </tr>\n",
       "    <tr>\n",
       "      <th>21341</th>\n",
       "      <td>새우계란찜</td>\n",
       "      <td>['#1 새우는 머리를 떼고 몸통 부분의 껍질을 벗겨줍니다. 그리고 새우 등쪽과 배...</td>\n",
       "      <td>{'재료': ['순두부', '새우3~4마리', '계란2개', '양파', '당근', ...</td>\n",
       "    </tr>\n",
       "    <tr>\n",
       "      <th>...</th>\n",
       "      <td>...</td>\n",
       "      <td>...</td>\n",
       "      <td>...</td>\n",
       "    </tr>\n",
       "    <tr>\n",
       "      <th>94272</th>\n",
       "      <td>굴소스 어묵볶음</td>\n",
       "      <td>['#1 파프리카는 먹기 좋은 크기로 썰어주세요.', '#2 달군 팬에 식용유 두르...</td>\n",
       "      <td>{'재료': ['요리어묵200g', '파프리카약간', '양파약간'], '양념': [...</td>\n",
       "    </tr>\n",
       "    <tr>\n",
       "      <th>168638</th>\n",
       "      <td>겨울을 더 건강하게! 겨울제철 음식 최고의 궁합♡</td>\n",
       "      <td>[]</td>\n",
       "      <td>{}</td>\n",
       "    </tr>\n",
       "    <tr>\n",
       "      <th>143248</th>\n",
       "      <td>달콤한 애플 군만두</td>\n",
       "      <td>['#1 사과는 깨끗이 씻어 껍질채 잘게 썰어 준비해주세요~', '#2 작은 냄비나...</td>\n",
       "      <td>{'재료': ['사과1개', '버터15g', '흑설탕1숟갈', '계피가루1/4작은술...</td>\n",
       "    </tr>\n",
       "    <tr>\n",
       "      <th>43233</th>\n",
       "      <td>시래기된장국</td>\n",
       "      <td>['#1 엄마가 삶아주신 무청시래기입니다', '#2 집에가져와서 작에 썰어줘요반은 ...</td>\n",
       "      <td>{'재료': ['무청시래기', '대파', '다진마늘'], '양념': ['된장1T',...</td>\n",
       "    </tr>\n",
       "    <tr>\n",
       "      <th>73643</th>\n",
       "      <td>소고기 하이라이스 만드는 법 완전 간단해요~^^</td>\n",
       "      <td>['#1 달군 팬에 식용유를 두르고 채썬 양파를 볶아줍니다.양파1/2개, 식용유1큰...</td>\n",
       "      <td>{'재료': ['소고기불고기감250g', '양파1/2개', '물3컵', '하이라이스...</td>\n",
       "    </tr>\n",
       "  </tbody>\n",
       "</table>\n",
       "<p>1000 rows × 3 columns</p>\n",
       "</div>"
      ],
      "text/plain": [
       "                       recipe_title  \\\n",
       "25036                떡잡채- 수미네반찬 10회   \n",
       "26159         오징어볶음과 오징어덮밥으로도 간단하게~   \n",
       "20386         순정 느타리버섯으로 만드는 버섯 겉절이   \n",
       "113414     [크림 파스타] 정통 카르보나라(까르보나라)   \n",
       "21341                         새우계란찜   \n",
       "...                             ...   \n",
       "94272                      굴소스 어묵볶음   \n",
       "168638  겨울을 더 건강하게! 겨울제철 음식 최고의 궁합♡   \n",
       "143248                   달콤한 애플 군만두   \n",
       "43233                        시래기된장국   \n",
       "73643    소고기 하이라이스 만드는 법 완전 간단해요~^^   \n",
       "\n",
       "                                              recipe_step  \\\n",
       "25036   ['#1 소고기(150g)은 양조간장(1큰술), 설탕(1작은술), 마늘(1큰술), ...   \n",
       "26159   ['#1 오징어를 지난번 다리를 다 먹어버렸어요.그래서 오늘은 이렇게 몸통만 2마리...   \n",
       "20386   ['#1 순정 느타리버섯은 적당한 크기로 손으로 찢어 준다.', '#2 찢은 버섯은...   \n",
       "113414  ['#1 그릇에 계란과 계란 노른자, 치킨 스톡, 페코리노 로마노, 후추를 넣고 섞...   \n",
       "21341   ['#1 새우는 머리를 떼고 몸통 부분의 껍질을 벗겨줍니다. 그리고 새우 등쪽과 배...   \n",
       "...                                                   ...   \n",
       "94272   ['#1 파프리카는 먹기 좋은 크기로 썰어주세요.', '#2 달군 팬에 식용유 두르...   \n",
       "168638                                                 []   \n",
       "143248  ['#1 사과는 깨끗이 씻어 껍질채 잘게 썰어 준비해주세요~', '#2 작은 냄비나...   \n",
       "43233   ['#1 엄마가 삶아주신 무청시래기입니다', '#2 집에가져와서 작에 썰어줘요반은 ...   \n",
       "73643   ['#1 달군 팬에 식용유를 두르고 채썬 양파를 볶아줍니다.양파1/2개, 식용유1큰...   \n",
       "\n",
       "                                       recipe_ingredients  \n",
       "25036   {'떡잡채재료': ['소고기150g', '양조간장1큰술', '설탕1작은술', '마늘...  \n",
       "26159   {'재료': ['오징어몸통2마리', '양파1개', '당근1/4개', '청량고추1개'...  \n",
       "20386   {'재료': ['느타리버섯100g', '소금1/2Ts', '양파1/4개', '고춧가...  \n",
       "113414  {'재료': ['스파게티120g', '베이컨3줄', '계란1개', '계란노른자2개'...  \n",
       "21341   {'재료': ['순두부', '새우3~4마리', '계란2개', '양파', '당근', ...  \n",
       "...                                                   ...  \n",
       "94272   {'재료': ['요리어묵200g', '파프리카약간', '양파약간'], '양념': [...  \n",
       "168638                                                 {}  \n",
       "143248  {'재료': ['사과1개', '버터15g', '흑설탕1숟갈', '계피가루1/4작은술...  \n",
       "43233   {'재료': ['무청시래기', '대파', '다진마늘'], '양념': ['된장1T',...  \n",
       "73643   {'재료': ['소고기불고기감250g', '양파1/2개', '물3컵', '하이라이스...  \n",
       "\n",
       "[1000 rows x 3 columns]"
      ]
     },
     "execution_count": 5,
     "metadata": {},
     "output_type": "execute_result"
    }
   ],
   "source": [
    "toy #레시피 타이틀, 레시피 스텝으로 구성"
   ]
  },
  {
   "cell_type": "code",
   "execution_count": 6,
   "metadata": {},
   "outputs": [],
   "source": [
    "from konlpy.tag import Kkma, Komoran, Okt, Hannanum #Mecab은 윈도우에서 작동 불가능\n",
    "from gensim.models.doc2vec import TaggedDocument\n",
    "from tqdm import tqdm\n",
    "\n",
    "okt = Okt()\n",
    "# kkma = Kkma()\n",
    "# komoran = Komoran()\n",
    "# hannanum = Hannanum()"
   ]
  },
  {
   "cell_type": "code",
   "execution_count": 7,
   "metadata": {},
   "outputs": [
    {
     "name": "stderr",
     "output_type": "stream",
     "text": [
      "100%|██████████| 1000/1000 [00:43<00:00, 23.07it/s]\n"
     ]
    }
   ],
   "source": [
    "import re\n",
    "tagged_corpus_list = []\n",
    "cleaned_tagged_corpus_list = []\n",
    "\n",
    "for index, row in tqdm(toy.iterrows(), total=len(toy)):\n",
    "  cleaned_text = re.sub(r'[^A-Za-z0-9가-힣\\s]+', '', row['recipe_step'])\n",
    "  words = okt.morphs(cleaned_text)\n",
    "  tag = row['recipe_title']\n",
    "  tagged_corpus_list.append(TaggedDocument(words=words, tags=[tag]))\n"
   ]
  },
  {
   "cell_type": "code",
   "execution_count": 8,
   "metadata": {},
   "outputs": [
    {
     "data": {
      "text/plain": [
       "TaggedDocument(words=['1', '재료', '를', '준비', '해주세요', '2', '시금치', '두', '단', '씻어서', '데칠', '준비', '해', '뒀네요', '시금치', '는', '다듬어서', '깨끗하게', '씻어서', '데', '쳐주세요', '3', '끓는', '물', '에', '소금', '넣고', '데', '쳐주면', '시금치', '가', '파릇파릇하게', '데', '쳐진답니다', '데친', '다음', '찬물', '에', '헹궈', '서', '소금', '참기름', '통깨', '마늘', '넣고', '무쳐주면', '되네요', '4', '평소', '에는', '계란', '지단', '얇게', '해서', '채', '썰어서', '넣어', '줬는데', '오늘', '은', '두', '툼', '하', '게', '부쳐', '봤어요', '5', '당근', '도', '채', '썰어서', '소금', '간', '해서', '볶아', '줬어요', '6', '햄', '도', '살짝', '볶아주고', '7', '우엉', '이', '있으면', '좋은데', '없어서', '대신', '어묵', '볶음', '넣어', '줬어요', '어묵', '볶다가', '간장', '물엿', '2', '개', '씩', '넣고', '볶아', '줬어요', '8', '김밥', '재료', '준비', '끝', '9', '밥', '에', '소금', '참기름', '통깨', '로', '간', '해줬고요', '10', '김위', '에', '밥', '얇게', '깔고', '재료', '순서대로', '쭉', '올려서', '돌돌', '말아주면', '되네요', '김발', '사용', '해도', '좋고', '저', '는', '그냥', '마는', '게', '편해서', '김발', '없이', '말', '아', '줬어요', '11', '참기름', '발라', '서', '잘라주기만', '하면', '되죠', '12', '언제', '먹어도', '질리', '지', '않는', '김밥', '완성', '김밥', '이랑', '잘', '어울리는', '유부', '된장국', '도', '함께', '준비', '했어요', '13', '집밥', '백선생', '김밥', '편', '에', '나온', '유부', '된장국', '레시피', '대로', '끓였고요', '된장', '으로', '미소', '된장국', '느낌', '나게', '하려면', '이렇게', '된장', '을', '채', '에', '걸러서', '하면', '미소', '된장국', '느낌', '이', '난대', '요', '14', '시판', '된장', '두', '수저', '에', '물', '넣고', '진', '간장', '한', '수', '저', '맛술', '3', '수저', '넣고', '끓여', '줬어요', '15', '끓으면', '유부', '와', '쪽파', '넣고', '한번', '더', '끓여주면', '끝', '간단하죠'], tags=['김밥 맛있게 싸는법~'])"
      ]
     },
     "execution_count": 8,
     "metadata": {},
     "output_type": "execute_result"
    }
   ],
   "source": [
    "tagged_corpus_list[10]"
   ]
  },
  {
   "cell_type": "code",
   "execution_count": 9,
   "metadata": {},
   "outputs": [
    {
     "name": "stdout",
     "output_type": "stream",
     "text": [
      "Tag Size: 998 / "
     ]
    }
   ],
   "source": [
    "from gensim.models import doc2vec\n",
    "\n",
    "model = doc2vec.Doc2Vec(vector_size=300, alpha=0.025, min_alpha=0.025, workers=8, window=8)\n",
    "\n",
    "# Vocabulary 빌드\n",
    "model.build_vocab(tagged_corpus_list)\n",
    "\n",
    "# 수정된 부분: doctags 대신 key_to_index 사용\n",
    "print(f\"Tag Size: {len(model.dv.key_to_index)}\", end=' / ')\n",
    "\n",
    "# Doc2Vec 학습\n",
    "model.train(tagged_corpus_list, total_examples=model.corpus_count, epochs=10)\n",
    "\n",
    "# 모델 저장\n",
    "model.save('recipe.doc2vec')\n"
   ]
  },
  {
   "cell_type": "code",
   "execution_count": 63,
   "metadata": {},
   "outputs": [
    {
     "name": "stdout",
     "output_type": "stream",
     "text": [
      "[('흔한 물김치가 아닌 겉절이로 맛있게 돌나물오이김치', 0.7805804014205933), ('꼬마김밥', 0.7715111374855042), ('오징어볶음과 오징어덮밥으로도 간단하게~', 0.7562265396118164), ('가성비도 맛도 좋은 노브랜드 비빔냉면', 0.7396169304847717), ('꽁치 통조림으로 만든 꽁치 김치찜..', 0.7355816960334778), ('초 간단 소고기 볶음밥', 0.7337271571159363), ('한그릇요리 매콤 연어덮밥', 0.7315800189971924), ('스팸 치즈 컵밥..', 0.7225807309150696), ('아삭 건강한 깍두기 담그는법~', 0.7224217653274536), ('가지요리 : 간단하면서 고급스런 토마토가지볶음', 0.7109076380729675)]\n"
     ]
    }
   ],
   "source": [
    "similar_doc = model.dv.most_similar('김밥 맛있게 싸는법~')\n",
    "print(similar_doc)"
   ]
  },
  {
   "cell_type": "code",
   "execution_count": 64,
   "metadata": {},
   "outputs": [
    {
     "name": "stdout",
     "output_type": "stream",
     "text": [
      "[('너무너무 간단하고 맛난 감자나물 비빔밥', 0.8792570233345032), ('한그릇요리 뚝배기 치즈밥 만들기', 0.8714075684547424), ('묵은지와 고등어 통조림으로 만든 묵은지 고등어조림', 0.8679327368736267), ('스파게티 떡볶이', 0.8428436517715454), ('곤약감자조림', 0.8392762541770935), ('영양많은 밑반찬 호두 간장 마늘조림', 0.8392329812049866), ('육수없이 끓이는 부대찌개', 0.8387001156806946), ('콩나물몰무침...콩나물&모자반 무침(겨울제철반찬)', 0.8284345865249634), ('볼어묵조림, 진하고 매운 볼어묵볶음 레시피 역대급이다', 0.8228673934936523), ('김치참치죽 끓이기', 0.8180534243583679)]\n"
     ]
    }
   ],
   "source": [
    "similar_doc_2 = model.dv.most_similar('달콤한 애플 군만두')\n",
    "print(similar_doc_2)"
   ]
  },
  {
   "cell_type": "markdown",
   "metadata": {},
   "source": [
    "### 해결해야할 과제\n",
    "\n",
    "\n",
    "1. 레시피에서 하는 요리에 대한 정의가 필요함\n",
    "  - 레시피 타이틀 전처리\n",
    "  - 레시피 태그 전처리 \n",
    "2. 레시피에 따라서 2인분, 3인분, 4인분 다양함"
   ]
  },
  {
   "cell_type": "code",
   "execution_count": 65,
   "metadata": {},
   "outputs": [
    {
     "data": {
      "text/plain": [
       "2인분       57219\n",
       "4인분       31408\n",
       "1인분       25937\n",
       "3인분       19687\n",
       "6인분 이상    16377\n",
       "5인분        3670\n",
       "Name: recipe_summary1, dtype: int64"
      ]
     },
     "execution_count": 65,
     "metadata": {},
     "output_type": "execute_result"
    }
   ],
   "source": [
    "data[\"recipe_summary1\"].value_counts()"
   ]
  },
  {
   "cell_type": "markdown",
   "metadata": {},
   "source": [
    "### 영양소를 고려한 임베딩"
   ]
  },
  {
   "cell_type": "code",
   "execution_count": 177,
   "metadata": {},
   "outputs": [],
   "source": [
    "toy = data[[\"recipe_title\", \"recipe_ingredients\"]].iloc[:1000].copy()"
   ]
  },
  {
   "cell_type": "code",
   "execution_count": 178,
   "metadata": {},
   "outputs": [],
   "source": [
    "# 식재료 칼럼 만들기 (20개)\n",
    "for i in range(1, 21):\n",
    "    toy.loc[:, f'ingredient{i}'] = None\n",
    "    toy.loc[:, f'quantity{i}'] = None\n",
    "    toy.loc[:, f'unit{i}'] = None\n"
   ]
  },
  {
   "cell_type": "code",
   "execution_count": 191,
   "metadata": {},
   "outputs": [
    {
     "name": "stderr",
     "output_type": "stream",
     "text": [
      "100%|██████████| 1000/1000 [00:03<00:00, 254.42it/s]"
     ]
    },
    {
     "name": "stdout",
     "output_type": "stream",
     "text": [
      "Row 34: ​고추가루1/2큰술\n",
      "Row 258: (소주or맛술)1큰술\n",
      "Row 302: ﻿대파조금\n",
      "Row 367: 18배멸치육수2T\n",
      "Row 424: ​간장2수저\n",
      "Row 598: \n",
      "Row 837: \n",
      "Row 892: \n",
      "Row 895: ​식용유1큰술\n"
     ]
    },
    {
     "name": "stderr",
     "output_type": "stream",
     "text": [
      "\n"
     ]
    }
   ],
   "source": [
    "import tqdm\n",
    "import re\n",
    "import ast\n",
    "non_matching_items =[]\n",
    "for idx, row in tqdm.tqdm(toy.iterrows(), total=toy.shape[0]):\n",
    "    ingredients_dict = ast.literal_eval(row[\"recipe_ingredients\"])\n",
    "    ingredient_count = 1\n",
    "    for category, items in ingredients_dict.items():\n",
    "        if items:  # 아이템이 존재하는 경우\n",
    "            for item in items:\n",
    "                # 숫자가 포함된 경우와 숫자가 없는 경우 모두 처리\n",
    "                match = re.match(r'([가-힣]+(\\([가-힣]+\\))?)([\\d.+/~-]*)([가-힣a-zA-Z]+|약간|조금)?', item)\n",
    "                if match:\n",
    "                    ingredient, _, quantity, unit = match.groups()\n",
    "                    \n",
    "                    toy.at[idx, f'ingredient{ingredient_count}'] = ingredient\n",
    "                    toy.at[idx, f'quantity{ingredient_count}'] = quantity if quantity else \"\"  # 숫자가 없는 경우 빈 문자열 할당\n",
    "                    toy.at[idx, f'unit{ingredient_count}'] = unit if unit else \"\"  # 단위가 없는 경우 빈 문자열 할당\n",
    "\n",
    "                    ingredient_count += 1\n",
    "                else:\n",
    "                    non_matching_items[idx] = item\n",
    "\n",
    "for idx, item in non_matching_items.items():\n",
    "    print(f'Row {idx}: {item}')\n",
    "\n"
   ]
  }
 ],
 "metadata": {
  "kernelspec": {
   "display_name": "Python 3",
   "language": "python",
   "name": "python3"
  },
  "language_info": {
   "codemirror_mode": {
    "name": "ipython",
    "version": 3
   },
   "file_extension": ".py",
   "mimetype": "text/x-python",
   "name": "python",
   "nbconvert_exporter": "python",
   "pygments_lexer": "ipython3",
   "version": "3.11.1"
  }
 },
 "nbformat": 4,
 "nbformat_minor": 2
}
