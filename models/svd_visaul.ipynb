{
 "cells": [
  {
   "cell_type": "code",
   "execution_count": null,
   "metadata": {},
   "outputs": [],
   "source": [
    "import func\n",
    "import svd\n",
    "import pandas as pd"
   ]
  },
  {
   "cell_type": "code",
   "execution_count": null,
   "metadata": {},
   "outputs": [],
   "source": [
    "def split_recipe(path = 'oracle', rows = 500):\n",
    "    if path == 'oracle':\n",
    "        data  = func.load_recipe(n = rows)\n",
    "        data2 = func.recipe_preprocessing(data)\n",
    "        data3 = func.split_ingredient(data2)\n",
    "        return data3\n",
    "\n",
    "    if path == 'csv' :\n",
    "        data = pd.read_csv(r'process_ingre.csv')\n",
    "        return data.iloc[:rows]\n"
   ]
  },
  {
   "cell_type": "code",
   "execution_count": null,
   "metadata": {},
   "outputs": [],
   "source": [
    "data = split_recipe(path = 'csv', rows = 150000)"
   ]
  },
  {
   "cell_type": "code",
   "execution_count": null,
   "metadata": {},
   "outputs": [],
   "source": [
    "unit_list = list()\n",
    "for idx, row in data.filter(like = 'unit').iterrows():\n",
    "    unit_list = unit_list + row.dropna().tolist()\n",
    "\n",
    "unit_count = pd.Series(unit_list).value_counts() #15만개 레시피 : 4분"
   ]
  },
  {
   "cell_type": "code",
   "execution_count": null,
   "metadata": {},
   "outputs": [],
   "source": [
    "print(\"단위의 등장 횟수\" + f\"{len(unit_list)}\") # 120만번 \n",
    "print(\"단위의 개수:\" + f\"{len(set(unit_list))}\") # 3755 개 \n",
    "print(\"상위 20개의 단위가 차지하는 비율:\" + f\"{unit_count[:20].sum()/len(unit_list)*100} %\") # 86%"
   ]
  },
  {
   "cell_type": "code",
   "execution_count": null,
   "metadata": {},
   "outputs": [],
   "source": [
    "print(\"100번 이상 등장하는 단위\")\n",
    "print(unit_count[unit_count > 100]) # 100번 이상 등장한 단위 125개\n",
    "print(\"1번, 2번 등장하는 단위\")\n",
    "sum(unit_count == 1) ,sum(unit_count == 2)# 1번 등장하는 단위 504개 # 2번 등장하는 단위 86개"
   ]
  },
  {
   "cell_type": "markdown",
   "metadata": {},
   "source": [
    "### 단위가 개인 식재료 전처리 하기"
   ]
  },
  {
   "cell_type": "code",
   "execution_count": null,
   "metadata": {},
   "outputs": [],
   "source": [
    "food_gae = []\n",
    "for idx, row in data.iloc[:10000].iterrows(): # 10000개에 1분 45초\n",
    "    for i in range(len(row)):\n",
    "        if (row == \"개\")[i] and i >= 2:\n",
    "            food_gae.append(row[i-2])\n",
    "\n",
    "\n",
    "food_gae_counts = pd.Series(food_gae).value_counts()"
   ]
  },
  {
   "cell_type": "code",
   "execution_count": null,
   "metadata": {},
   "outputs": [],
   "source": [
    "print(food_gae_counts[:50].sum() /food_gae_counts.sum()) # 상위 50개의 식재료가 차지하는 비중 75%"
   ]
  },
  {
   "cell_type": "code",
   "execution_count": null,
   "metadata": {},
   "outputs": [],
   "source": [
    "data.index = range(len(data))\n",
    "ingredient_df = data.filter(like = 'ingredient').copy() # 인덱스 리셋\n",
    "recipe_num, ingred_num = ingredient_df.shape\n",
    "\n",
    "unqiue_ingre = set()\n",
    "\n",
    "for i in range(ingred_num):\n",
    "    ingre = ingredient_df.iloc[:, i].dropna()\n",
    "    unqiue_ingre.update(ingre)"
   ]
  },
  {
   "cell_type": "markdown",
   "metadata": {},
   "source": [
    "### 식재료 무게 가져오기"
   ]
  },
  {
   "cell_type": "code",
   "execution_count": null,
   "metadata": {},
   "outputs": [],
   "source": [
    "ingre_weight = pd.read_csv(r'data\\ingre_weight.csv')\n",
    "\n",
    "def weight2gram(ingre_weight):\n",
    "    import datetime\n",
    "    now = datetime.datetime.now().strftime('%Y-%m-%d_%H%M')\n",
    "    def average_gram(무게):\n",
    "        if \"~\" in 무게 :\n",
    "            min, max = 무게.split(\"~\")\n",
    "            min = min.replace(\"g\", \"\")\n",
    "            max = max.replace(\"g\", \"\")\n",
    "            return (int(min)+int(max))/2\n",
    "        else:\n",
    "            return int(무게.replace(\"g\", \"\"))\n",
    "    ingre_weight[\"g\"] = ingre_weight[\"무게\"].apply(average_gram)\n",
    "    ingre_weight.to_csv(\"data/ingre_weight_\" + f\"{now}\" +\".csv\")\n",
    "    return ingre_weight\n",
    "\n",
    "ingre_gram = weight2gram(ingre_weight)"
   ]
  },
  {
   "cell_type": "code",
   "execution_count": null,
   "metadata": {},
   "outputs": [],
   "source": [
    "ingre_gram[[\"품목\", \"g\"]]"
   ]
  },
  {
   "cell_type": "markdown",
   "metadata": {},
   "source": [
    "### 단위가 개이면 무게를 넣어주기"
   ]
  },
  {
   "cell_type": "code",
   "execution_count": 206,
   "metadata": {},
   "outputs": [
    {
     "data": {
      "text/plain": [
       "quantity3       NaN\n",
       "quantity4       NaN\n",
       "quantity8       NaN\n",
       "ingredient9     NaN\n",
       "quantity9       NaN\n",
       "               ... \n",
       "quantity73      NaN\n",
       "unit73          NaN\n",
       "ingredient74    NaN\n",
       "quantity74      NaN\n",
       "unit74          NaN\n",
       "Name: 0, Length: 201, dtype: object"
      ]
     },
     "execution_count": 206,
     "metadata": {},
     "output_type": "execute_result"
    }
   ],
   "source": [
    "data.iloc[0][data.iloc[0].isna()]"
   ]
  },
  {
   "cell_type": "code",
   "execution_count": 202,
   "metadata": {},
   "outputs": [
    {
     "ename": "KeyboardInterrupt",
     "evalue": "",
     "output_type": "error",
     "traceback": [
      "\u001b[1;31m---------------------------------------------------------------------------\u001b[0m",
      "\u001b[1;31mKeyboardInterrupt\u001b[0m                         Traceback (most recent call last)",
      "\u001b[1;32mc:\\Users\\kwon\\github\\recipe-1\\models\\svd_visaul.ipynb Cell 15\u001b[0m line \u001b[0;36m3\n\u001b[0;32m      <a href='vscode-notebook-cell:/c%3A/Users/kwon/github/recipe-1/models/svd_visaul.ipynb#X40sZmlsZQ%3D%3D?line=0'>1</a>\u001b[0m \u001b[39mfor\u001b[39;00m idx, row \u001b[39min\u001b[39;00m data\u001b[39m.\u001b[39miloc[:\u001b[39m10000\u001b[39m]\u001b[39m.\u001b[39miterrows(): \u001b[39m# 10000개에 1분 45초\u001b[39;00m\n\u001b[0;32m      <a href='vscode-notebook-cell:/c%3A/Users/kwon/github/recipe-1/models/svd_visaul.ipynb#X40sZmlsZQ%3D%3D?line=1'>2</a>\u001b[0m     \u001b[39mfor\u001b[39;00m i \u001b[39min\u001b[39;00m \u001b[39mrange\u001b[39m(\u001b[39mlen\u001b[39m(row)):\n\u001b[1;32m----> <a href='vscode-notebook-cell:/c%3A/Users/kwon/github/recipe-1/models/svd_visaul.ipynb#X40sZmlsZQ%3D%3D?line=2'>3</a>\u001b[0m         \u001b[39mif\u001b[39;00m (row \u001b[39m==\u001b[39;49m \u001b[39m\"\u001b[39;49m\u001b[39m개\u001b[39;49m\u001b[39m\"\u001b[39;49m)[i] \u001b[39mand\u001b[39;00m i \u001b[39m>\u001b[39m\u001b[39m=\u001b[39m \u001b[39m2\u001b[39m:\n\u001b[0;32m      <a href='vscode-notebook-cell:/c%3A/Users/kwon/github/recipe-1/models/svd_visaul.ipynb#X40sZmlsZQ%3D%3D?line=3'>4</a>\u001b[0m             food_gae\u001b[39m.\u001b[39mappend(row[i\u001b[39m-\u001b[39m\u001b[39m2\u001b[39m])\n",
      "File \u001b[1;32m~\\AppData\\Roaming\\Python\\Python311\\site-packages\\pandas\\core\\ops\\common.py:81\u001b[0m, in \u001b[0;36m_unpack_zerodim_and_defer.<locals>.new_method\u001b[1;34m(self, other)\u001b[0m\n\u001b[0;32m     77\u001b[0m             \u001b[39mreturn\u001b[39;00m \u001b[39mNotImplemented\u001b[39m\n\u001b[0;32m     79\u001b[0m other \u001b[39m=\u001b[39m item_from_zerodim(other)\n\u001b[1;32m---> 81\u001b[0m \u001b[39mreturn\u001b[39;00m method(\u001b[39mself\u001b[39;49m, other)\n",
      "File \u001b[1;32m~\\AppData\\Roaming\\Python\\Python311\\site-packages\\pandas\\core\\arraylike.py:40\u001b[0m, in \u001b[0;36mOpsMixin.__eq__\u001b[1;34m(self, other)\u001b[0m\n\u001b[0;32m     38\u001b[0m \u001b[39m@unpack_zerodim_and_defer\u001b[39m(\u001b[39m\"\u001b[39m\u001b[39m__eq__\u001b[39m\u001b[39m\"\u001b[39m)\n\u001b[0;32m     39\u001b[0m \u001b[39mdef\u001b[39;00m \u001b[39m__eq__\u001b[39m(\u001b[39mself\u001b[39m, other):\n\u001b[1;32m---> 40\u001b[0m     \u001b[39mreturn\u001b[39;00m \u001b[39mself\u001b[39;49m\u001b[39m.\u001b[39;49m_cmp_method(other, operator\u001b[39m.\u001b[39;49meq)\n",
      "File \u001b[1;32m~\\AppData\\Roaming\\Python\\Python311\\site-packages\\pandas\\core\\series.py:6096\u001b[0m, in \u001b[0;36mSeries._cmp_method\u001b[1;34m(self, other, op)\u001b[0m\n\u001b[0;32m   6093\u001b[0m rvalues \u001b[39m=\u001b[39m extract_array(other, extract_numpy\u001b[39m=\u001b[39m\u001b[39mTrue\u001b[39;00m, extract_range\u001b[39m=\u001b[39m\u001b[39mTrue\u001b[39;00m)\n\u001b[0;32m   6095\u001b[0m \u001b[39mwith\u001b[39;00m np\u001b[39m.\u001b[39merrstate(\u001b[39mall\u001b[39m\u001b[39m=\u001b[39m\u001b[39m\"\u001b[39m\u001b[39mignore\u001b[39m\u001b[39m\"\u001b[39m):\n\u001b[1;32m-> 6096\u001b[0m     res_values \u001b[39m=\u001b[39m ops\u001b[39m.\u001b[39;49mcomparison_op(lvalues, rvalues, op)\n\u001b[0;32m   6098\u001b[0m \u001b[39mreturn\u001b[39;00m \u001b[39mself\u001b[39m\u001b[39m.\u001b[39m_construct_result(res_values, name\u001b[39m=\u001b[39mres_name)\n",
      "File \u001b[1;32m~\\AppData\\Roaming\\Python\\Python311\\site-packages\\pandas\\core\\ops\\array_ops.py:293\u001b[0m, in \u001b[0;36mcomparison_op\u001b[1;34m(left, right, op)\u001b[0m\n\u001b[0;32m    290\u001b[0m     \u001b[39mreturn\u001b[39;00m invalid_comparison(lvalues, rvalues, op)\n\u001b[0;32m    292\u001b[0m \u001b[39melif\u001b[39;00m is_object_dtype(lvalues\u001b[39m.\u001b[39mdtype) \u001b[39mor\u001b[39;00m \u001b[39misinstance\u001b[39m(rvalues, \u001b[39mstr\u001b[39m):\n\u001b[1;32m--> 293\u001b[0m     res_values \u001b[39m=\u001b[39m comp_method_OBJECT_ARRAY(op, lvalues, rvalues)\n\u001b[0;32m    295\u001b[0m \u001b[39melse\u001b[39;00m:\n\u001b[0;32m    296\u001b[0m     res_values \u001b[39m=\u001b[39m _na_arithmetic_op(lvalues, rvalues, op, is_cmp\u001b[39m=\u001b[39m\u001b[39mTrue\u001b[39;00m)\n",
      "File \u001b[1;32m~\\AppData\\Roaming\\Python\\Python311\\site-packages\\pandas\\core\\ops\\array_ops.py:82\u001b[0m, in \u001b[0;36mcomp_method_OBJECT_ARRAY\u001b[1;34m(op, x, y)\u001b[0m\n\u001b[0;32m     80\u001b[0m     result \u001b[39m=\u001b[39m libops\u001b[39m.\u001b[39mvec_compare(x\u001b[39m.\u001b[39mravel(), y\u001b[39m.\u001b[39mravel(), op)\n\u001b[0;32m     81\u001b[0m \u001b[39melse\u001b[39;00m:\n\u001b[1;32m---> 82\u001b[0m     result \u001b[39m=\u001b[39m libops\u001b[39m.\u001b[39mscalar_compare(x\u001b[39m.\u001b[39mravel(), y, op)\n\u001b[0;32m     83\u001b[0m \u001b[39mreturn\u001b[39;00m result\u001b[39m.\u001b[39mreshape(x\u001b[39m.\u001b[39mshape)\n",
      "\u001b[1;31mKeyboardInterrupt\u001b[0m: "
     ]
    }
   ],
   "source": [
    "for idx, row in data.iloc[:10000].iterrows(): # 10000개에 1분 45초\n",
    "    for i in range(len(row)):\n",
    "        if (row == \"개\")[i] and i >= 2:\n",
    "            food_gae.append(row[i-2])"
   ]
  },
  {
   "cell_type": "code",
   "execution_count": null,
   "metadata": {},
   "outputs": [],
   "source": []
  },
  {
   "cell_type": "markdown",
   "metadata": {},
   "source": [
    "### 매트릭스 변환 하기"
   ]
  },
  {
   "cell_type": "code",
   "execution_count": 200,
   "metadata": {},
   "outputs": [],
   "source": [
    "matrix = pd.DataFrame(columns = list(unqiue_ingre))"
   ]
  },
  {
   "cell_type": "code",
   "execution_count": null,
   "metadata": {},
   "outputs": [],
   "source": [
    "\n",
    "\n",
    "\n",
    "\n",
    "\n",
    "recipe_ingre = data.iloc[0].dropna().filter(like='ingredient')\n",
    "ingre_data = {ingre : 0.0 for ingre in unqiue_ingre}\n",
    " \n",
    "ingre_data['대추'] = 10\n",
    "\n",
    "ingre_data"
   ]
  },
  {
   "cell_type": "code",
   "execution_count": null,
   "metadata": {},
   "outputs": [],
   "source": [
    ") \n",
    "ingredient_df = data.filter(like = 'ingredient').copy()\n",
    "\n",
    "unqiue_ingre = set()\n",
    "for i in range(ingred_num):\n",
    "    ingre = ingredient_df.loc[:, i].dropna()\n",
    "    unqiue_ingre.update(ingre)"
   ]
  }
 ],
 "metadata": {
  "kernelspec": {
   "display_name": "Python 3",
   "language": "python",
   "name": "python3"
  },
  "language_info": {
   "codemirror_mode": {
    "name": "ipython",
    "version": 3
   },
   "file_extension": ".py",
   "mimetype": "text/x-python",
   "name": "python",
   "nbconvert_exporter": "python",
   "pygments_lexer": "ipython3",
   "version": "3.11.4"
  }
 },
 "nbformat": 4,
 "nbformat_minor": 2
}
