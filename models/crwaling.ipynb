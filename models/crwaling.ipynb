{
 "cells": [
  {
   "cell_type": "markdown",
   "metadata": {},
   "source": [
    "### 약 이름 뽑아오기"
   ]
  },
  {
   "cell_type": "code",
   "execution_count": 4,
   "metadata": {},
   "outputs": [],
   "source": [
    "import datetime\n",
    "import pandas as pd\n",
    "\n",
    "def save_df(df):\n",
    "    now = datetime.datetime.now()\n",
    "    format = \"%m %d%H:%M\"\n",
    "    filename = now.strftime(format)\n",
    "    df.to_csv(\"matrix/matrix_\" + filename + \".csv\")\n",
    "\n",
    "import pandas as pd\n",
    "test = pd.DataFrame()\n",
    "save_df(test)"
   ]
  },
  {
   "cell_type": "code",
   "execution_count": 10,
   "metadata": {},
   "outputs": [],
   "source": [
    "import datetime\n",
    "import codecs\n",
    "import urllib\n",
    "import requests\n",
    "import json\n",
    "from bs4 import BeautifulSoup\n",
    "import pandas as pd\n",
    "\n",
    "def cur_timestamp(): # 현재 시간을 타임스탬프로 만들어주는 함수\n",
    "    now = datetime.datetime.now()\n",
    "    timestamp = int(now.timestamp()*1000)\n",
    "    return str(timestamp)\n",
    "\n",
    "def convert_to_utf8(string): # 한글을 url에 입력하게 변경해줌\n",
    "    return urllib.parse.quote(string)\n",
    "\n",
    "def get_response(url):\n",
    "    headers = {\n",
    "    'Accept': 'application/json, text/javascript, */*; q=0.01',\n",
    "    'Accept-Encoding': 'gzip, deflate, br',\n",
    "    'Accept-Language': 'ko-KR,ko;q=0.9,en-US;q=0.8,en;q=0.7',\n",
    "    'Connection': 'keep-alive',\n",
    "    'Cookie': 'ASPSESSIONIDQQCTSAQD=DPKPMKCCGAOKCEILBBICOKFF; _gid=GA1.2.68717777.1701659617; _ga_D05L6BYNX0=GS1.1.1701659616.1.1.1701660707.60.0.0; _ga=GA1.1.1789168813.1701659617',\n",
    "    'Host': 'www.health.kr',\n",
    "    'Referer': 'https://www.health.kr/interaction/food.asp',\n",
    "    'Sec-Fetch-Dest': 'empty',\n",
    "    'Sec-Fetch-Mode': 'cors',\n",
    "    'Sec-Fetch-Site': 'same-origin',\n",
    "    'User-Agent': 'Mozilla/5.0 (Windows NT 10.0; Win64; x64) AppleWebKit/537.36 (KHTML, like Gecko) Chrome/119.0.0.0 Safari/537.36',\n",
    "    'X-Requested-With': 'XMLHttpRequest',\n",
    "    'sec-ch-ua': '\"Google Chrome\";v=\"119\", \"Chromium\";v=\"119\", \"Not?A_Brand\";v=\"24\"',\n",
    "    'sec-ch-ua-mobile': '?0',\n",
    "    'sec-ch-ua-platform': '\"Windows\"'}\n",
    "    response = requests.get(url, headers=headers)\n",
    "    \n",
    "    return json.loads(response.text)\n",
    "\n",
    "\n",
    "def search_med(name):\n",
    "    time = cur_timestamp()\n",
    "    search_name = convert_to_utf8(name)\n",
    "    url = f'https://www.health.kr/interaction/ajax/ajax_food_list.asp?search_word={search_name}&_={time}'\n",
    "    try :\n",
    "        resp = get_response(url)\n",
    "        return pd.DataFrame(resp)\n",
    "    except json.JSONDecodeError:\n",
    "        # JSON 디코딩 오류 발생 시\n",
    "        print(f\"Error: {name}\")\n",
    "        return \"Error\"\n",
    "# search_med('비아그라') - dcode, dname, dename, dtype, dsunb,info_count, ingr_mg\n",
    "\n",
    "def search_ingd(dcode):\n",
    "    # target : https://www.health.kr/interaction/ajax/ajax_food_ingd.asp?drug_code=A11ABBBBB2544&_=1701671995366'\n",
    "    time = cur_timestamp()\n",
    "    url = f'https://www.health.kr/interaction/ajax/ajax_food_ingd.asp?drug_code={dcode}&_={time}'\n",
    "    resp = get_response(url)\n",
    "    df = pd.DataFrame(resp)\n",
    "    df['dcode'] = dcode\n",
    "    return df\n",
    "# search_ingd('A11ABBBBB2544') : ingd_code, ingd_name\n",
    "\n",
    "\n",
    "def search_info(ingd_code):\n",
    "    time = cur_timestamp()\n",
    "    url = f'https://www.health.kr/interaction/ajax/ajax_food_sunblist.asp?icode={ingd_code}&_={time}'\n",
    "    resp = get_response(url)\n",
    "    df = pd.DataFrame(resp)\n",
    "    df['ingd_code'] = ingd_code\n",
    "    return df\n"
   ]
  },
  {
   "cell_type": "markdown",
   "metadata": {},
   "source": [
    "### 약이름 목록 만들기"
   ]
  },
  {
   "cell_type": "markdown",
   "metadata": {},
   "source": [
    "1. 비아로 시작하는 약이름 목록 추출 df1\n",
    "2. 추출한 약이름에서 성분과 내용 뽑아서 합치기 df2"
   ]
  },
  {
   "cell_type": "code",
   "execution_count": 18,
   "metadata": {},
   "outputs": [
    {
     "data": {
      "text/plain": [
       "True"
      ]
     },
     "execution_count": 18,
     "metadata": {},
     "output_type": "execute_result"
    }
   ],
   "source": [
    "info_list = pd.DataFrame()\n",
    "type(info_list) != str"
   ]
  },
  {
   "cell_type": "code",
   "execution_count": 19,
   "metadata": {},
   "outputs": [],
   "source": [
    "### 1. 약이름 목록 추출\n",
    "from tqdm import tqdm\n",
    "\n",
    "def make_csv(key_list):\n",
    "    med_list = pd.DataFrame()\n",
    "    ingd_list = pd.DataFrame()\n",
    "    info_list = pd.DataFrame()\n",
    "    \n",
    "    for i in key_list:\n",
    "        print(\"key: \" + f\"{i}\")\n",
    "        result = search_med(i)\n",
    "        if type(result) != str:\n",
    "            df1 = result[['dcode', 'dname']].copy()\n",
    "        else :\n",
    "            df1 = pd.DataFrame(columns=['dcode', 'dname'])\n",
    "        med_list = pd.concat([med_list, df1], ignore_index=True).drop_duplicates(subset='dcode', keep = 'first')\n",
    "    med_list.to_csv('data/med_list.csv')\n",
    "    print(\"약 데이터 생성 완료. 총: \" + f\"{med_list.shape[0]}\" + \"개\")\n",
    "\n",
    "    for idx, row in tqdm(med_list.iterrows(), total = med_list.shape[0]):\n",
    "        df = search_ingd(row.dcode)\n",
    "        ingd_list = pd.concat([ingd_list, df], ignore_index= True).drop_duplicates(subset = ['ingd_code', 'dcode'], keep = 'first')\n",
    "    ingd_list.to_csv('data/ingd_list.csv')\n",
    "    print(\"성분 데이터 생성 완료. 총 \" + f\"{ingd_list.shape[0]}\" + \"개\")\n",
    "\n",
    "    for idx, row in tqdm(ingd_list.iterrows(), total = ingd_list.shape[0]):\n",
    "        df2 = search_info(row.ingd_code)\n",
    "        info_list = pd.concat([info_list, df2], ignore_index= True).drop_duplicates(subset=['sunb_name', 'contents_origin', 'ingd_code'], keep = 'first')\n",
    "    info_list.to_csv('data/info_list.csv')\n",
    "    print(\"상호작용 데이터 생성 완료. 총 \" + f\"{info_list.shape[0]}개\")   \n",
    "   \n"
   ]
  },
  {
   "cell_type": "code",
   "execution_count": 21,
   "metadata": {},
   "outputs": [
    {
     "name": "stdout",
     "output_type": "stream",
     "text": [
      "key: 가\n",
      "key: 나\n",
      "key: 다\n",
      "key: 라\n",
      "key: 마\n",
      "key: 바\n",
      "key: 아\n",
      "key: 사\n",
      "key: 자\n",
      "key: 카\n",
      "key: 타\n",
      "key: 파\n",
      "key: 하\n",
      "약 데이터 생성 완료. 총: 40606개\n"
     ]
    },
    {
     "name": "stderr",
     "output_type": "stream",
     "text": [
      "100%|██████████| 40606/40606 [36:15<00:00, 18.66it/s]  \n"
     ]
    },
    {
     "name": "stdout",
     "output_type": "stream",
     "text": [
      "성분 데이터 생성 완료. 총 98448개\n"
     ]
    },
    {
     "name": "stderr",
     "output_type": "stream",
     "text": [
      "100%|██████████| 98448/98448 [1:41:00<00:00, 16.24it/s]   "
     ]
    },
    {
     "name": "stdout",
     "output_type": "stream",
     "text": [
      "상호작용 데이터 생성 완료. 총 15414개\n"
     ]
    },
    {
     "name": "stderr",
     "output_type": "stream",
     "text": [
      "\n"
     ]
    }
   ],
   "source": [
    "search_list = ['가','나', '다', '라', '마', '바', '아', '사', '자', '카', '타', '파', '하']\n",
    "make_csv(search_list)"
   ]
  },
  {
   "cell_type": "code",
   "execution_count": 24,
   "metadata": {},
   "outputs": [
    {
     "data": {
      "text/html": [
       "<div>\n",
       "<style scoped>\n",
       "    .dataframe tbody tr th:only-of-type {\n",
       "        vertical-align: middle;\n",
       "    }\n",
       "\n",
       "    .dataframe tbody tr th {\n",
       "        vertical-align: top;\n",
       "    }\n",
       "\n",
       "    .dataframe thead th {\n",
       "        text-align: right;\n",
       "    }\n",
       "</style>\n",
       "<table border=\"1\" class=\"dataframe\">\n",
       "  <thead>\n",
       "    <tr style=\"text-align: right;\">\n",
       "      <th></th>\n",
       "      <th>Unnamed: 0</th>\n",
       "      <th>dcode</th>\n",
       "      <th>dname</th>\n",
       "    </tr>\n",
       "  </thead>\n",
       "  <tbody>\n",
       "    <tr>\n",
       "      <th>315</th>\n",
       "      <td>315</td>\n",
       "      <td>A11APPPPP1623</td>\n",
       "      <td>건위황정</td>\n",
       "    </tr>\n",
       "  </tbody>\n",
       "</table>\n",
       "</div>"
      ],
      "text/plain": [
       "     Unnamed: 0          dcode dname\n",
       "315         315  A11APPPPP1623  건위황정"
      ]
     },
     "execution_count": 24,
     "metadata": {},
     "output_type": "execute_result"
    }
   ],
   "source": [
    "med_list = pd.read_csv('data/med_list.csv')\n",
    "ingd_list = pd.read_csv('data/ingd_list.csv')\n",
    "info_list = pd.read_csv('data/info_list.csv')\n",
    "\n",
    "ingd_list[ingd_list.ingd_code == 'I003757']\n",
    "med_list[med_list.dcode == 'A11APPPPP1623']"
   ]
  },
  {
   "cell_type": "code",
   "execution_count": 58,
   "metadata": {},
   "outputs": [
    {
     "data": {
      "text/plain": [
       "[9                          식전 30분~1시간에 복용하는 것이 가장 좋아요. \n",
       " 10    음주와 흡연을 삼가세요. 알코올과 니코틴은 위벽을 자극하여 위궤양, 가슴쓰림, 위산...\n",
       " 11    {{카페인}} 복용시 주의하세요. 카페인은 하부식도괄약근을 느슨하게 하여 위산역류 ...\n",
       " 12    마늘, 양파 등 자극성이 강한 식품은 위장장애를 유발하여 약효를 상쇄시킬 수 있으니...\n",
       " 13     이 약은 비타민 B의 고갈을 일으킬 수 있어요. 보충제의 복용이 도움을 줄 수 있어요.\n",
       " 14       이 약은 식품이나 칼슘 보충제로부터의 칼슘 흡수를 저해하므로 골다공증에 주의하세요.\n",
       " 15                 캡슐을 열고 오렌지쥬스와 같은 산성쥬스와 함께 복용할 수 있어요.\n",
       " 16                          캡슐을 개봉하여 약 알맹이를 씹어 먹으면 안돼요.\n",
       " Name: contents_origin, dtype: object,\n",
       " 17                   공복(식사 1시간 이전 또는 식사 2시간 이후)에 복용하세요.\n",
       " 18    음주와 흡연을 삼가세요. 알코올과 니코틴은 위벽을 자극하여 위궤양, 가슴쓰림, 위산...\n",
       " 19    {{카페인}} 복용시 주의하세요. 카페인은 하부식도괄약근을 느슨하게 하여 위산역류 ...\n",
       " 20    마늘, 양파 등 자극성이 강한 식품은 위장장애를 유발하여 약효를 상쇄시킬 수 있으니...\n",
       " 21            철분 보충제를 복용시 이 약과 최소 2시간의 시간 간격을 두고 복용하세요.\n",
       " Name: contents_origin, dtype: object]"
      ]
     },
     "execution_count": 58,
     "metadata": {},
     "output_type": "execute_result"
    }
   ],
   "source": [
    "def load_relation(med_name):\n",
    "    med_code = med_list[med_list.dname == med_name].dcode.iloc[0]\n",
    "    ingd_df = ingd_list[ingd_list.dcode == med_code]\n",
    "    result = []\n",
    "    for idx, row in ingd_df.iterrows():\n",
    "        result.append(info_list[info_list.ingd_code == row.ingd_code].contents_origin)\n",
    "    return  result\n",
    "\n",
    "load_relation('가나플럭스정20/1100mg') "
   ]
  },
  {
   "cell_type": "code",
   "execution_count": null,
   "metadata": {},
   "outputs": [],
   "source": [
    "# 약 10000개에 10분"
   ]
  },
  {
   "cell_type": "code",
   "execution_count": 14,
   "metadata": {},
   "outputs": [
    {
     "data": {
      "text/plain": [
       "((2231, 7), (8316, 7))"
      ]
     },
     "execution_count": 14,
     "metadata": {},
     "output_type": "execute_result"
    }
   ],
   "source": [
    "df0 =pd.DataFrame()\n",
    "df1 = search_med('가')\n",
    "df2 = search_med('나')\n",
    "(df1.shape, df2.shape)"
   ]
  },
  {
   "cell_type": "code",
   "execution_count": 17,
   "metadata": {},
   "outputs": [
    {
     "data": {
      "text/plain": [
       "((2231, 7), (10217, 7))"
      ]
     },
     "execution_count": 17,
     "metadata": {},
     "output_type": "execute_result"
    }
   ],
   "source": [
    "a = pd.concat([df0, df1], ignore_index=True).drop_duplicates(subset=['dcode'], keep = 'first')\n",
    "b = pd.concat([a, df2], ignore_index=True).drop_duplicates(subset=['dcode'], keep = 'first')\n",
    "a.shape, b.shape"
   ]
  },
  {
   "cell_type": "code",
   "execution_count": 18,
   "metadata": {},
   "outputs": [
    {
     "data": {
      "text/html": [
       "<div>\n",
       "<style scoped>\n",
       "    .dataframe tbody tr th:only-of-type {\n",
       "        vertical-align: middle;\n",
       "    }\n",
       "\n",
       "    .dataframe tbody tr th {\n",
       "        vertical-align: top;\n",
       "    }\n",
       "\n",
       "    .dataframe thead th {\n",
       "        text-align: right;\n",
       "    }\n",
       "</style>\n",
       "<table border=\"1\" class=\"dataframe\">\n",
       "  <thead>\n",
       "    <tr style=\"text-align: right;\">\n",
       "      <th></th>\n",
       "      <th>dcode</th>\n",
       "      <th>dname</th>\n",
       "    </tr>\n",
       "  </thead>\n",
       "  <tbody>\n",
       "    <tr>\n",
       "      <th>0</th>\n",
       "      <td>A11AKP08C0036</td>\n",
       "      <td>10%포도당가엔에이케이주1</td>\n",
       "    </tr>\n",
       "    <tr>\n",
       "      <th>1</th>\n",
       "      <td>A11AKP08C0038</td>\n",
       "      <td>10%포도당가엔에이케이주2</td>\n",
       "    </tr>\n",
       "    <tr>\n",
       "      <th>2</th>\n",
       "      <td>A11APPPPP0629</td>\n",
       "      <td>10%포도당가엔에이케이주3</td>\n",
       "    </tr>\n",
       "    <tr>\n",
       "      <th>3</th>\n",
       "      <td>A11AOOOOO2364</td>\n",
       "      <td>5%포도당가엔에이케이주1</td>\n",
       "    </tr>\n",
       "    <tr>\n",
       "      <th>4</th>\n",
       "      <td>A11AOOOOO2365</td>\n",
       "      <td>5%포도당가엔에이케이주2(1000mL/백)</td>\n",
       "    </tr>\n",
       "    <tr>\n",
       "      <th>...</th>\n",
       "      <td>...</td>\n",
       "      <td>...</td>\n",
       "    </tr>\n",
       "    <tr>\n",
       "      <th>2226</th>\n",
       "      <td>2020110300013</td>\n",
       "      <td>히알본플러스원스주</td>\n",
       "    </tr>\n",
       "    <tr>\n",
       "      <th>2227</th>\n",
       "      <td>2020110300014</td>\n",
       "      <td>히알식스주</td>\n",
       "    </tr>\n",
       "    <tr>\n",
       "      <th>2228</th>\n",
       "      <td>2020110300015</td>\n",
       "      <td>히알탄원주</td>\n",
       "    </tr>\n",
       "    <tr>\n",
       "      <th>2229</th>\n",
       "      <td>2019071200008</td>\n",
       "      <td>힐스본정</td>\n",
       "    </tr>\n",
       "    <tr>\n",
       "      <th>2230</th>\n",
       "      <td>2010050600001</td>\n",
       "      <td>SKC에어가스의료용산소</td>\n",
       "    </tr>\n",
       "  </tbody>\n",
       "</table>\n",
       "<p>2231 rows × 2 columns</p>\n",
       "</div>"
      ],
      "text/plain": [
       "              dcode                    dname\n",
       "0     A11AKP08C0036           10%포도당가엔에이케이주1\n",
       "1     A11AKP08C0038           10%포도당가엔에이케이주2\n",
       "2     A11APPPPP0629           10%포도당가엔에이케이주3\n",
       "3     A11AOOOOO2364            5%포도당가엔에이케이주1\n",
       "4     A11AOOOOO2365  5%포도당가엔에이케이주2(1000mL/백)\n",
       "...             ...                      ...\n",
       "2226  2020110300013                히알본플러스원스주\n",
       "2227  2020110300014                    히알식스주\n",
       "2228  2020110300015                    히알탄원주\n",
       "2229  2019071200008                     힐스본정\n",
       "2230  2010050600001             SKC에어가스의료용산소\n",
       "\n",
       "[2231 rows x 2 columns]"
      ]
     },
     "execution_count": 18,
     "metadata": {},
     "output_type": "execute_result"
    }
   ],
   "source": [
    "search_med('가')[['dcode', 'dname']]"
   ]
  }
 ],
 "metadata": {
  "kernelspec": {
   "display_name": "Python 3",
   "language": "python",
   "name": "python3"
  },
  "language_info": {
   "codemirror_mode": {
    "name": "ipython",
    "version": 3
   },
   "file_extension": ".py",
   "mimetype": "text/x-python",
   "name": "python",
   "nbconvert_exporter": "python",
   "pygments_lexer": "ipython3",
   "version": "3.11.1"
  }
 },
 "nbformat": 4,
 "nbformat_minor": 2
}
