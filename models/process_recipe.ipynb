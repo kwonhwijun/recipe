{
 "cells": [
  {
   "cell_type": "code",
   "execution_count": 14,
   "metadata": {},
   "outputs": [],
   "source": [
    "import sys\n",
    "import numpy as np\n",
    "import pandas as pd\n",
    "sys.path.append(r'C:\\Users\\kwon\\github\\recipe-1\\models')\n",
    "import db\n",
    "\n",
    "final = db.oracle2df('FINAL_RECIPE')\n",
    " # 10행까지 테스트"
   ]
  },
  {
   "cell_type": "code",
   "execution_count": 133,
   "metadata": {},
   "outputs": [],
   "source": [
    "test = final.iloc[:100].copy()"
   ]
  },
  {
   "cell_type": "code",
   "execution_count": 134,
   "metadata": {},
   "outputs": [],
   "source": [
    "test.filter(like ='quantity').applymap(type).stack().unique()\n",
    "\n",
    "for col in test.filter(like ='quantity').columns :\n",
    "    test[col] = test[col].astype(float)"
   ]
  },
  {
   "cell_type": "code",
   "execution_count": 145,
   "metadata": {},
   "outputs": [],
   "source": [
    "def abs_unit_change(unit):\n",
    "        abs_df = pd.read_csv('absolute_unit.csv', delimiter= ' ')\n",
    "        abs_dict = dict(zip(abs_df[\"단위\"], abs_df[\"무게(g)\"]))\n",
    "        return abs_dict[unit]\n",
    "\n",
    "def abs_unit_dict():\n",
    "        abs_df = pd.read_csv('absolute_unit.csv', delimiter= ' ')\n",
    "        return list(abs_df[\"단위\"])\n",
    "\n",
    "def relative_unit_dict():\n",
    "        df = pd.read_csv(r'models\\hj\\change_unit\\단위데이터.csv')\n",
    "        rel_dict = {}\n",
    "        for i in range(len(df)):\n",
    "            if df.loc[i, \"식재료\"] not in rel_dict:\n",
    "                rel_dict[df.loc[i, \"식재료\"]] = {df.loc[i, \"단위\"]: df.loc[i, \"무게\"]}\n",
    "            else:\n",
    "                if df.loc[i, \"단위\"] not in rel_dict[df.loc[i, \"식재료\"]]:\n",
    "                    rel_dict[df.loc[i, \"식재료\"]].update({df.loc[i, \"단위\"]: df.loc[i, \"무게\"]})\n",
    "        return rel_dict \n",
    "\n",
    "def relative_unit_change(ingre, unit):\n",
    "    output = relative_unit[ingre][unit]\n",
    "    if '~' in output :\n",
    "        min, max = output.split('~')\n",
    "        return (int(min)+int(max))/2\n",
    "    else :\n",
    "        return float(output)\n",
    "\n",
    "abs_unit = abs_unit_dict()\n",
    "relative_unit = relative_unit_dict() # 상대단위 딕셔너리 생성\n",
    "# relative_unit_change('달걀', '개') : 55"
   ]
  },
  {
   "cell_type": "code",
   "execution_count": 152,
   "metadata": {},
   "outputs": [
    {
     "data": {
      "text/plain": [
       "0.0"
      ]
     },
     "execution_count": 152,
     "metadata": {},
     "output_type": "execute_result"
    }
   ],
   "source": [
    "test[test =='300g'].sum().sum()"
   ]
  },
  {
   "cell_type": "code",
   "execution_count": 147,
   "metadata": {},
   "outputs": [
    {
     "name": "stderr",
     "output_type": "stream",
     "text": [
      "14it [00:00, 2307.28it/s]:00<?, ?it/s]\n",
      "  0%|          | 0/23 [00:00<?, ?it/s]\n"
     ]
    },
    {
     "ename": "ValueError",
     "evalue": "invalid literal for int() with base 10: '300g'",
     "output_type": "error",
     "traceback": [
      "\u001b[1;31m---------------------------------------------------------------------------\u001b[0m",
      "\u001b[1;31mValueError\u001b[0m                                Traceback (most recent call last)",
      "Cell \u001b[1;32mIn[147], line 41\u001b[0m\n\u001b[0;32m     38\u001b[0m                     음식이아예없음[ingred] \u001b[38;5;241m=\u001b[39m [unit]\n\u001b[0;32m     39\u001b[0m     \u001b[38;5;28;01mreturn\u001b[39;00m df\n\u001b[1;32m---> 41\u001b[0m \u001b[43mparse_unit\u001b[49m\u001b[43m(\u001b[49m\u001b[43mtest\u001b[49m\u001b[43m)\u001b[49m\n\u001b[0;32m     42\u001b[0m 음식이아예없음\n",
      "Cell \u001b[1;32mIn[147], line 28\u001b[0m, in \u001b[0;36mparse_unit\u001b[1;34m(data)\u001b[0m\n\u001b[0;32m     26\u001b[0m \u001b[38;5;28;01melif\u001b[39;00m ingred \u001b[38;5;129;01min\u001b[39;00m relative_unit: \u001b[38;5;66;03m#상대단위\u001b[39;00m\n\u001b[0;32m     27\u001b[0m     \u001b[38;5;28;01mif\u001b[39;00m unit \u001b[38;5;129;01min\u001b[39;00m relative_unit[ingred]:\n\u001b[1;32m---> 28\u001b[0m         data\u001b[38;5;241m.\u001b[39mloc[j, \u001b[38;5;124mf\u001b[39m\u001b[38;5;124m'\u001b[39m\u001b[38;5;124munit\u001b[39m\u001b[38;5;132;01m{\u001b[39;00mj\u001b[38;5;132;01m}\u001b[39;00m\u001b[38;5;124m'\u001b[39m] \u001b[38;5;241m=\u001b[39m \u001b[38;5;28mfloat\u001b[39m(quant) \u001b[38;5;241m*\u001b[39m \u001b[43mrelative_unit_change\u001b[49m\u001b[43m(\u001b[49m\u001b[43mingred\u001b[49m\u001b[43m,\u001b[49m\u001b[43m \u001b[49m\u001b[43munit\u001b[49m\u001b[43m)\u001b[49m\n\u001b[0;32m     29\u001b[0m         \u001b[38;5;66;03m#print(f\"{ingredient, unit}이 {dic_test[ingredient][unit]}으로 변환됨\")\u001b[39;00m\n\u001b[0;32m     30\u001b[0m     \u001b[38;5;28;01melse\u001b[39;00m :\n\u001b[0;32m     31\u001b[0m         \u001b[38;5;28mprint\u001b[39m(\u001b[38;5;124mf\u001b[39m\u001b[38;5;124m\"\u001b[39m\u001b[38;5;124m \u001b[39m\u001b[38;5;132;01m{\u001b[39;00mingred,\u001b[38;5;250m \u001b[39munit\u001b[38;5;132;01m}\u001b[39;00m\u001b[38;5;124m\"\u001b[39m)\n",
      "Cell \u001b[1;32mIn[145], line 25\u001b[0m, in \u001b[0;36mrelative_unit_change\u001b[1;34m(ingre, unit)\u001b[0m\n\u001b[0;32m     23\u001b[0m \u001b[38;5;28;01mif\u001b[39;00m \u001b[38;5;124m'\u001b[39m\u001b[38;5;124m~\u001b[39m\u001b[38;5;124m'\u001b[39m \u001b[38;5;129;01min\u001b[39;00m output :\n\u001b[0;32m     24\u001b[0m     \u001b[38;5;28mmin\u001b[39m, \u001b[38;5;28mmax\u001b[39m \u001b[38;5;241m=\u001b[39m output\u001b[38;5;241m.\u001b[39msplit(\u001b[38;5;124m'\u001b[39m\u001b[38;5;124m~\u001b[39m\u001b[38;5;124m'\u001b[39m)\n\u001b[1;32m---> 25\u001b[0m     \u001b[38;5;28;01mreturn\u001b[39;00m (\u001b[38;5;28mint\u001b[39m(\u001b[38;5;28mmin\u001b[39m)\u001b[38;5;241m+\u001b[39m\u001b[38;5;28;43mint\u001b[39;49m\u001b[43m(\u001b[49m\u001b[38;5;28;43mmax\u001b[39;49m\u001b[43m)\u001b[49m)\u001b[38;5;241m/\u001b[39m\u001b[38;5;241m2\u001b[39m\n\u001b[0;32m     26\u001b[0m \u001b[38;5;28;01melse\u001b[39;00m :\n\u001b[0;32m     27\u001b[0m     \u001b[38;5;28;01mreturn\u001b[39;00m \u001b[38;5;28mfloat\u001b[39m(output)\n",
      "\u001b[1;31mValueError\u001b[0m: invalid literal for int() with base 10: '300g'"
     ]
    }
   ],
   "source": [
    "음식은있지만단위가없음 = []\n",
    "음식이아예없음 = {}\n",
    "from tqdm import tqdm\n",
    "def parse_unit(data):\n",
    "    df = data.copy() \n",
    "    len_unit = df.filter(like = 'unit').shape[1] # 유닛의 개수\n",
    "    \n",
    "    exception_list = []\n",
    "    for i in tqdm(range(1, len_unit)):\n",
    "        ingredients, quantity, units_col  = df[f'ingredient{i}'], df[f'quantity{i}'], df[f'unit{i}']\n",
    "        \n",
    "        gram_columns = pd.DataFrame(columns=[f'gram{i}']) # 새로운 그램 칼럼 생성하기\n",
    "        data = pd.concat([data, gram_columns], axis=1)\n",
    "\n",
    "        for j, (ingred, quant,  unit) in tqdm(enumerate(zip(ingredients, quantity, units_col))):\n",
    "            #1. 단위가 숫자인 경우\n",
    "            if type(unit) in (float, int) : \n",
    "                data.loc[j, f'unit{j}'] = float(quant) * float(unit)\n",
    "\n",
    "            #2. 단위가 절대단위인 경우 \n",
    "            elif unit in abs_unit : #절대단위 \n",
    "                data.loc[j, f'unit{j}'] = float(quant)* abs_unit_change(unit)\n",
    "                #print(f\"{ingredient, unit}이 {absolute_unit(unit)}으로 변환됨\")\n",
    "               \n",
    "            #3. 단위가 상대단위인 경우\n",
    "            elif ingred in relative_unit: #상대단위\n",
    "                if unit in relative_unit[ingred]:\n",
    "                    data.loc[j, f'unit{j}'] = float(quant) * relative_unit_change(ingred, unit)\n",
    "                    #print(f\"{ingredient, unit}이 {dic_test[ingredient][unit]}으로 변환됨\")\n",
    "                else :\n",
    "                    print(f\" {ingred, unit}\")\n",
    "                    음식은있지만단위가없음.append([ingred, unit])\n",
    "            elif ingred == 'nan' : pass\n",
    "            else : \n",
    "                if ingred in 음식이아예없음:\n",
    "                    음식이아예없음[ingred].append(unit)\n",
    "                else :\n",
    "                    음식이아예없음[ingred] = [unit]\n",
    "    return df\n",
    "\n",
    "parse_unit(test)\n",
    "음식이아예없음"
   ]
  },
  {
   "cell_type": "code",
   "execution_count": 119,
   "metadata": {},
   "outputs": [
    {
     "data": {
      "text/plain": [
       "(10, 86)"
      ]
     },
     "execution_count": 119,
     "metadata": {},
     "output_type": "execute_result"
    }
   ],
   "source": [
    "test.shape"
   ]
  },
  {
   "cell_type": "code",
   "execution_count": 116,
   "metadata": {},
   "outputs": [
    {
     "ename": "TypeError",
     "evalue": "'module' object is not callable",
     "output_type": "error",
     "traceback": [
      "\u001b[1;31m---------------------------------------------------------------------------\u001b[0m",
      "\u001b[1;31mTypeError\u001b[0m                                 Traceback (most recent call last)",
      "Cell \u001b[1;32mIn[116], line 1\u001b[0m\n\u001b[1;32m----> 1\u001b[0m \u001b[43mparse_unit\u001b[49m\u001b[43m(\u001b[49m\u001b[43mtest\u001b[49m\u001b[43m)\u001b[49m\n",
      "Cell \u001b[1;32mIn[115], line 9\u001b[0m, in \u001b[0;36mparse_unit\u001b[1;34m(data)\u001b[0m\n\u001b[0;32m      6\u001b[0m len_unit \u001b[38;5;241m=\u001b[39m df\u001b[38;5;241m.\u001b[39mfilter(like \u001b[38;5;241m=\u001b[39m \u001b[38;5;124m'\u001b[39m\u001b[38;5;124munit\u001b[39m\u001b[38;5;124m'\u001b[39m)\u001b[38;5;241m.\u001b[39mshape[\u001b[38;5;241m1\u001b[39m] \u001b[38;5;66;03m# 유닛의 개수\u001b[39;00m\n\u001b[0;32m      8\u001b[0m exception_list \u001b[38;5;241m=\u001b[39m []\n\u001b[1;32m----> 9\u001b[0m \u001b[38;5;28;01mfor\u001b[39;00m i \u001b[38;5;129;01min\u001b[39;00m \u001b[43mtqdm\u001b[49m\u001b[43m(\u001b[49m\u001b[38;5;28;43mrange\u001b[39;49m\u001b[43m(\u001b[49m\u001b[38;5;241;43m1\u001b[39;49m\u001b[43m,\u001b[49m\u001b[43m \u001b[49m\u001b[43mlen_unit\u001b[49m\u001b[43m)\u001b[49m\u001b[43m)\u001b[49m:\n\u001b[0;32m     10\u001b[0m     ingredients, quantity, units_col  \u001b[38;5;241m=\u001b[39m df[\u001b[38;5;124mf\u001b[39m\u001b[38;5;124m'\u001b[39m\u001b[38;5;124mingredient\u001b[39m\u001b[38;5;132;01m{\u001b[39;00mi\u001b[38;5;132;01m}\u001b[39;00m\u001b[38;5;124m'\u001b[39m], df[\u001b[38;5;124mf\u001b[39m\u001b[38;5;124m'\u001b[39m\u001b[38;5;124mquantity\u001b[39m\u001b[38;5;132;01m{\u001b[39;00mi\u001b[38;5;132;01m}\u001b[39;00m\u001b[38;5;124m'\u001b[39m], df[\u001b[38;5;124mf\u001b[39m\u001b[38;5;124m'\u001b[39m\u001b[38;5;124munit\u001b[39m\u001b[38;5;132;01m{\u001b[39;00mi\u001b[38;5;132;01m}\u001b[39;00m\u001b[38;5;124m'\u001b[39m]\n\u001b[0;32m     12\u001b[0m     gram_columns \u001b[38;5;241m=\u001b[39m pd\u001b[38;5;241m.\u001b[39mDataFrame(columns\u001b[38;5;241m=\u001b[39m[\u001b[38;5;124mf\u001b[39m\u001b[38;5;124m'\u001b[39m\u001b[38;5;124mgram\u001b[39m\u001b[38;5;132;01m{\u001b[39;00mi\u001b[38;5;132;01m}\u001b[39;00m\u001b[38;5;124m'\u001b[39m]) \u001b[38;5;66;03m# 새로운 그램 칼럼 생성하기\u001b[39;00m\n",
      "\u001b[1;31mTypeError\u001b[0m: 'module' object is not callable"
     ]
    }
   ],
   "source": []
  },
  {
   "cell_type": "code",
   "execution_count": null,
   "metadata": {},
   "outputs": [],
   "source": []
  },
  {
   "cell_type": "code",
   "execution_count": null,
   "metadata": {},
   "outputs": [],
   "source": []
  },
  {
   "cell_type": "code",
   "execution_count": null,
   "metadata": {},
   "outputs": [],
   "source": []
  },
  {
   "cell_type": "code",
   "execution_count": null,
   "metadata": {},
   "outputs": [],
   "source": []
  }
 ],
 "metadata": {
  "kernelspec": {
   "display_name": "Python 3",
   "language": "python",
   "name": "python3"
  },
  "language_info": {
   "codemirror_mode": {
    "name": "ipython",
    "version": 3
   },
   "file_extension": ".py",
   "mimetype": "text/x-python",
   "name": "python",
   "nbconvert_exporter": "python",
   "pygments_lexer": "ipython3",
   "version": "3.11.4"
  }
 },
 "nbformat": 4,
 "nbformat_minor": 2
}
