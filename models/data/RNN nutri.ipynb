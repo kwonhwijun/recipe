{
 "cells": [
  {
   "cell_type": "code",
   "execution_count": 197,
   "id": "5d3f87b7",
   "metadata": {},
   "outputs": [
    {
     "data": {
      "text/html": [
       "<div>\n",
       "<style scoped>\n",
       "    .dataframe tbody tr th:only-of-type {\n",
       "        vertical-align: middle;\n",
       "    }\n",
       "\n",
       "    .dataframe tbody tr th {\n",
       "        vertical-align: top;\n",
       "    }\n",
       "\n",
       "    .dataframe thead th {\n",
       "        text-align: right;\n",
       "    }\n",
       "</style>\n",
       "<table border=\"1\" class=\"dataframe\">\n",
       "  <thead>\n",
       "    <tr style=\"text-align: right;\">\n",
       "      <th></th>\n",
       "      <th>recipe_title</th>\n",
       "      <th>총합_에너지</th>\n",
       "      <th>총합_수분</th>\n",
       "      <th>총합_단백질</th>\n",
       "      <th>총합_지방</th>\n",
       "      <th>총합_회분</th>\n",
       "      <th>총합_탄수화물</th>\n",
       "      <th>총합_당류</th>\n",
       "      <th>총합_식이섬유</th>\n",
       "      <th>총합_칼슘</th>\n",
       "      <th>...</th>\n",
       "      <th>총합_베타카로틴</th>\n",
       "      <th>총합_티아민</th>\n",
       "      <th>총합_리보플라빈</th>\n",
       "      <th>총합_니아신</th>\n",
       "      <th>총합_비타민c</th>\n",
       "      <th>총합_비타민d</th>\n",
       "      <th>총합_콜레스테롤</th>\n",
       "      <th>총합_포화지방산</th>\n",
       "      <th>총합_트랜스지방산</th>\n",
       "      <th>총합_폐기율</th>\n",
       "    </tr>\n",
       "  </thead>\n",
       "  <tbody>\n",
       "    <tr>\n",
       "      <th>0</th>\n",
       "      <td>참치 김치찌개</td>\n",
       "      <td>338.4</td>\n",
       "      <td>184.102</td>\n",
       "      <td>30.828</td>\n",
       "      <td>8.184</td>\n",
       "      <td>5.102</td>\n",
       "      <td>34.224</td>\n",
       "      <td>1.26</td>\n",
       "      <td>0.0</td>\n",
       "      <td>7.325</td>\n",
       "      <td>...</td>\n",
       "      <td>0.0</td>\n",
       "      <td>0.078</td>\n",
       "      <td>0.006</td>\n",
       "      <td>0.168</td>\n",
       "      <td>2.28</td>\n",
       "      <td>0.0</td>\n",
       "      <td>0.0</td>\n",
       "      <td>0.012</td>\n",
       "      <td>0.0</td>\n",
       "      <td>7.2</td>\n",
       "    </tr>\n",
       "    <tr>\n",
       "      <th>1</th>\n",
       "      <td>청국장찌개</td>\n",
       "      <td>6910.0</td>\n",
       "      <td>35.0</td>\n",
       "      <td>91.7</td>\n",
       "      <td>719.7</td>\n",
       "      <td>14.9</td>\n",
       "      <td>138.6</td>\n",
       "      <td>39.7</td>\n",
       "      <td>96.0</td>\n",
       "      <td>700.0</td>\n",
       "      <td>...</td>\n",
       "      <td>290.0</td>\n",
       "      <td>6.6</td>\n",
       "      <td>1.3</td>\n",
       "      <td>11.7</td>\n",
       "      <td>11.0</td>\n",
       "      <td>0.0</td>\n",
       "      <td>0.0</td>\n",
       "      <td>61.8</td>\n",
       "      <td>0.0</td>\n",
       "      <td>470.0</td>\n",
       "    </tr>\n",
       "    <tr>\n",
       "      <th>2</th>\n",
       "      <td>김치나베돈가스 - 밥 반찬으로 좋아요</td>\n",
       "      <td>0.0</td>\n",
       "      <td>0.0</td>\n",
       "      <td>0.0</td>\n",
       "      <td>0.0</td>\n",
       "      <td>0.0</td>\n",
       "      <td>0.0</td>\n",
       "      <td>0.0</td>\n",
       "      <td>0.0</td>\n",
       "      <td>0.0</td>\n",
       "      <td>...</td>\n",
       "      <td>0.0</td>\n",
       "      <td>0.0</td>\n",
       "      <td>0.0</td>\n",
       "      <td>0.0</td>\n",
       "      <td>0.0</td>\n",
       "      <td>0.0</td>\n",
       "      <td>0.0</td>\n",
       "      <td>0.0</td>\n",
       "      <td>0.0</td>\n",
       "      <td>0.0</td>\n",
       "    </tr>\n",
       "    <tr>\n",
       "      <th>3</th>\n",
       "      <td>에그베이컨감자전</td>\n",
       "      <td>223.95</td>\n",
       "      <td>13.23</td>\n",
       "      <td>2.935</td>\n",
       "      <td>1.273</td>\n",
       "      <td>4.02</td>\n",
       "      <td>53.55</td>\n",
       "      <td>44.444</td>\n",
       "      <td>5.715</td>\n",
       "      <td>39.3</td>\n",
       "      <td>...</td>\n",
       "      <td>1104.45</td>\n",
       "      <td>0.086</td>\n",
       "      <td>0.34</td>\n",
       "      <td>1.395</td>\n",
       "      <td>0.0</td>\n",
       "      <td>0.0</td>\n",
       "      <td>0.0</td>\n",
       "      <td>0.222</td>\n",
       "      <td>0.008</td>\n",
       "      <td>0.0</td>\n",
       "    </tr>\n",
       "    <tr>\n",
       "      <th>4</th>\n",
       "      <td>말복 _ 돼지목살 콩나물불고기 푸짐푸짐하게</td>\n",
       "      <td>57.0</td>\n",
       "      <td>0.255</td>\n",
       "      <td>0.018</td>\n",
       "      <td>0.003</td>\n",
       "      <td>0.03</td>\n",
       "      <td>14.696</td>\n",
       "      <td>13.927</td>\n",
       "      <td>0.0</td>\n",
       "      <td>7.2</td>\n",
       "      <td>...</td>\n",
       "      <td>0.0</td>\n",
       "      <td>0.0</td>\n",
       "      <td>0.0</td>\n",
       "      <td>0.0</td>\n",
       "      <td>0.0</td>\n",
       "      <td>0.0</td>\n",
       "      <td>0.0</td>\n",
       "      <td>0.0</td>\n",
       "      <td>0.0</td>\n",
       "      <td>0.0</td>\n",
       "    </tr>\n",
       "    <tr>\n",
       "      <th>...</th>\n",
       "      <td>...</td>\n",
       "      <td>...</td>\n",
       "      <td>...</td>\n",
       "      <td>...</td>\n",
       "      <td>...</td>\n",
       "      <td>...</td>\n",
       "      <td>...</td>\n",
       "      <td>...</td>\n",
       "      <td>...</td>\n",
       "      <td>...</td>\n",
       "      <td>...</td>\n",
       "      <td>...</td>\n",
       "      <td>...</td>\n",
       "      <td>...</td>\n",
       "      <td>...</td>\n",
       "      <td>...</td>\n",
       "      <td>...</td>\n",
       "      <td>...</td>\n",
       "      <td>...</td>\n",
       "      <td>...</td>\n",
       "      <td>...</td>\n",
       "    </tr>\n",
       "    <tr>\n",
       "      <th>928</th>\n",
       "      <td>동지팥죽 끓이는 법/팥칼국수/red bean porridge/팥 통째로 사용/새알심...</td>\n",
       "      <td>0.0</td>\n",
       "      <td>0.0</td>\n",
       "      <td>0.0</td>\n",
       "      <td>0.0</td>\n",
       "      <td>0.0</td>\n",
       "      <td>0.0</td>\n",
       "      <td>0.0</td>\n",
       "      <td>0.0</td>\n",
       "      <td>0.0</td>\n",
       "      <td>...</td>\n",
       "      <td>0.0</td>\n",
       "      <td>0.0</td>\n",
       "      <td>0.0</td>\n",
       "      <td>0.0</td>\n",
       "      <td>0.0</td>\n",
       "      <td>0.0</td>\n",
       "      <td>0.0</td>\n",
       "      <td>0.0</td>\n",
       "      <td>0.0</td>\n",
       "      <td>0.0</td>\n",
       "    </tr>\n",
       "    <tr>\n",
       "      <th>929</th>\n",
       "      <td>TV요리) 된장라면 구수~~~~~허다!</td>\n",
       "      <td>0.0</td>\n",
       "      <td>0.0</td>\n",
       "      <td>0.0</td>\n",
       "      <td>0.0</td>\n",
       "      <td>0.0</td>\n",
       "      <td>0.0</td>\n",
       "      <td>0.0</td>\n",
       "      <td>0.0</td>\n",
       "      <td>0.0</td>\n",
       "      <td>...</td>\n",
       "      <td>0.0</td>\n",
       "      <td>0.0</td>\n",
       "      <td>0.0</td>\n",
       "      <td>0.0</td>\n",
       "      <td>0.0</td>\n",
       "      <td>0.0</td>\n",
       "      <td>0.0</td>\n",
       "      <td>0.0</td>\n",
       "      <td>0.0</td>\n",
       "      <td>0.0</td>\n",
       "    </tr>\n",
       "    <tr>\n",
       "      <th>930</th>\n",
       "      <td>짜장덮밥 짜장밥 만드는법 한그릇 냉파요리</td>\n",
       "      <td>253.55</td>\n",
       "      <td>267.63</td>\n",
       "      <td>4.12</td>\n",
       "      <td>15.168</td>\n",
       "      <td>2.96</td>\n",
       "      <td>25.121</td>\n",
       "      <td>1.93</td>\n",
       "      <td>12.9</td>\n",
       "      <td>109.45</td>\n",
       "      <td>...</td>\n",
       "      <td>1.65</td>\n",
       "      <td>0.05</td>\n",
       "      <td>0.224</td>\n",
       "      <td>0.35</td>\n",
       "      <td>20.4</td>\n",
       "      <td>0.0</td>\n",
       "      <td>0.0</td>\n",
       "      <td>2.258</td>\n",
       "      <td>0.044</td>\n",
       "      <td>0.0</td>\n",
       "    </tr>\n",
       "    <tr>\n",
       "      <th>931</th>\n",
       "      <td>뚝배기밥 면역력 쑥쑥~!</td>\n",
       "      <td>0.0</td>\n",
       "      <td>0.0</td>\n",
       "      <td>0.0</td>\n",
       "      <td>0.0</td>\n",
       "      <td>0.0</td>\n",
       "      <td>0.0</td>\n",
       "      <td>0.0</td>\n",
       "      <td>0.0</td>\n",
       "      <td>0.0</td>\n",
       "      <td>...</td>\n",
       "      <td>0.0</td>\n",
       "      <td>0.0</td>\n",
       "      <td>0.0</td>\n",
       "      <td>0.0</td>\n",
       "      <td>0.0</td>\n",
       "      <td>0.0</td>\n",
       "      <td>0.0</td>\n",
       "      <td>0.0</td>\n",
       "      <td>0.0</td>\n",
       "      <td>0.0</td>\n",
       "    </tr>\n",
       "    <tr>\n",
       "      <th>932</th>\n",
       "      <td>구수한 콩비지찌개</td>\n",
       "      <td>65.0</td>\n",
       "      <td>87.4</td>\n",
       "      <td>3.08</td>\n",
       "      <td>3.32</td>\n",
       "      <td>0.67</td>\n",
       "      <td>5.53</td>\n",
       "      <td>4.12</td>\n",
       "      <td>0.0</td>\n",
       "      <td>113.0</td>\n",
       "      <td>...</td>\n",
       "      <td>0.0</td>\n",
       "      <td>0.02</td>\n",
       "      <td>0.162</td>\n",
       "      <td>0.3</td>\n",
       "      <td>0.8</td>\n",
       "      <td>0.0</td>\n",
       "      <td>9.7</td>\n",
       "      <td>2.17</td>\n",
       "      <td>0.14</td>\n",
       "      <td>0.0</td>\n",
       "    </tr>\n",
       "  </tbody>\n",
       "</table>\n",
       "<p>933 rows × 26 columns</p>\n",
       "</div>"
      ],
      "text/plain": [
       "                                          recipe_title  총합_에너지    총합_수분  \\\n",
       "0                                              참치 김치찌개   338.4  184.102   \n",
       "1                                                청국장찌개  6910.0     35.0   \n",
       "2                                 김치나베돈가스 - 밥 반찬으로 좋아요     0.0      0.0   \n",
       "3                                             에그베이컨감자전  223.95    13.23   \n",
       "4                              말복 _ 돼지목살 콩나물불고기 푸짐푸짐하게    57.0    0.255   \n",
       "..                                                 ...     ...      ...   \n",
       "928  동지팥죽 끓이는 법/팥칼국수/red bean porridge/팥 통째로 사용/새알심...     0.0      0.0   \n",
       "929                              TV요리) 된장라면 구수~~~~~허다!     0.0      0.0   \n",
       "930                             짜장덮밥 짜장밥 만드는법 한그릇 냉파요리  253.55   267.63   \n",
       "931                                      뚝배기밥 면역력 쑥쑥~!     0.0      0.0   \n",
       "932                                          구수한 콩비지찌개    65.0     87.4   \n",
       "\n",
       "     총합_단백질   총합_지방  총합_회분 총합_탄수화물   총합_당류 총합_식이섬유   총합_칼슘  ... 총합_베타카로틴  \\\n",
       "0    30.828   8.184  5.102  34.224    1.26     0.0   7.325  ...      0.0   \n",
       "1      91.7   719.7   14.9   138.6    39.7    96.0   700.0  ...    290.0   \n",
       "2       0.0     0.0    0.0     0.0     0.0     0.0     0.0  ...      0.0   \n",
       "3     2.935   1.273   4.02   53.55  44.444   5.715    39.3  ...  1104.45   \n",
       "4     0.018   0.003   0.03  14.696  13.927     0.0     7.2  ...      0.0   \n",
       "..      ...     ...    ...     ...     ...     ...     ...  ...      ...   \n",
       "928     0.0     0.0    0.0     0.0     0.0     0.0     0.0  ...      0.0   \n",
       "929     0.0     0.0    0.0     0.0     0.0     0.0     0.0  ...      0.0   \n",
       "930    4.12  15.168   2.96  25.121    1.93    12.9  109.45  ...     1.65   \n",
       "931     0.0     0.0    0.0     0.0     0.0     0.0     0.0  ...      0.0   \n",
       "932    3.08    3.32   0.67    5.53    4.12     0.0   113.0  ...      0.0   \n",
       "\n",
       "    총합_티아민 총합_리보플라빈 총합_니아신 총합_비타민c 총합_비타민d 총합_콜레스테롤 총합_포화지방산 총합_트랜스지방산 총합_폐기율  \n",
       "0    0.078    0.006  0.168    2.28     0.0      0.0    0.012       0.0    7.2  \n",
       "1      6.6      1.3   11.7    11.0     0.0      0.0     61.8       0.0  470.0  \n",
       "2      0.0      0.0    0.0     0.0     0.0      0.0      0.0       0.0    0.0  \n",
       "3    0.086     0.34  1.395     0.0     0.0      0.0    0.222     0.008    0.0  \n",
       "4      0.0      0.0    0.0     0.0     0.0      0.0      0.0       0.0    0.0  \n",
       "..     ...      ...    ...     ...     ...      ...      ...       ...    ...  \n",
       "928    0.0      0.0    0.0     0.0     0.0      0.0      0.0       0.0    0.0  \n",
       "929    0.0      0.0    0.0     0.0     0.0      0.0      0.0       0.0    0.0  \n",
       "930   0.05    0.224   0.35    20.4     0.0      0.0    2.258     0.044    0.0  \n",
       "931    0.0      0.0    0.0     0.0     0.0      0.0      0.0       0.0    0.0  \n",
       "932   0.02    0.162    0.3     0.8     0.0      9.7     2.17      0.14    0.0  \n",
       "\n",
       "[933 rows x 26 columns]"
      ]
     },
     "execution_count": 197,
     "metadata": {},
     "output_type": "execute_result"
    }
   ],
   "source": [
    "def oracleTopd(query):    \n",
    "    import oracledb as od\n",
    "    import pandas as pd\n",
    "\n",
    "    # db connection\n",
    "    od.init_oracle_client(lib_dir=r\"C:\\Program Files\\Oracle\\instantclient_21_12\")\n",
    "    conn = od.connect(user = 'admin', password = 'INISW2inisw2',\n",
    "                      dsn = 'inisw2_high')\n",
    "    exe = conn.cursor()\n",
    "    exe.execute(query)\n",
    "    \n",
    "    row = exe.fetchall() # row 불러오기\n",
    "\n",
    "    column_name = exe.description # column 불러오기\n",
    "    columns=[]\n",
    "    \n",
    "    for i in column_name:\n",
    "        columns.append(i[0])\n",
    "    \n",
    "    # row, column을 pandas DataFrame으로 나타내기\n",
    "    result = pd.DataFrame(row, columns=columns)\n",
    "    result.rename(mapper=str.lower, axis='columns', inplace=True)\n",
    "    \n",
    "    # dtype clob을 string으로 변환\n",
    "    for clob in result.columns:\n",
    "        if result[clob].dtype == object:\n",
    "            result[clob] = result[clob].astype(\"string\")\n",
    "    \n",
    "    conn.close()\n",
    "    \n",
    "    return result\n",
    "\n",
    "query = 'select * from recipe_nutrient'\n",
    "df = oracleTopd(query)\n",
    "df"
   ]
  },
  {
   "cell_type": "code",
   "execution_count": 198,
   "id": "4732589d",
   "metadata": {},
   "outputs": [
    {
     "data": {
      "text/plain": [
       "array([['338.4', '184.102', '30.828', ..., '0.012', '0.0', '7.2'],\n",
       "       ['6910.0', '35.0', '91.7', ..., '61.8', '0.0', '470.0'],\n",
       "       ['0.0', '0.0', '0.0', ..., '0.0', '0.0', '0.0'],\n",
       "       ...,\n",
       "       ['253.55', '267.63', '4.12', ..., '2.258', '0.044', '0.0'],\n",
       "       ['0.0', '0.0', '0.0', ..., '0.0', '0.0', '0.0'],\n",
       "       ['65.0', '87.4', '3.08', ..., '2.17', '0.14', '0.0']], dtype=object)"
      ]
     },
     "execution_count": 198,
     "metadata": {},
     "output_type": "execute_result"
    }
   ],
   "source": [
    "nutrients_df = df.drop(columns=['recipe_title'])\n",
    "matrix = nutrients_df.to_numpy()\n",
    "matrix"
   ]
  },
  {
   "cell_type": "code",
   "execution_count": 199,
   "id": "a37912d9",
   "metadata": {},
   "outputs": [
    {
     "data": {
      "text/plain": [
       "(933, 25)"
      ]
     },
     "execution_count": 199,
     "metadata": {},
     "output_type": "execute_result"
    }
   ],
   "source": [
    "matrix.shape"
   ]
  },
  {
   "cell_type": "code",
   "execution_count": 200,
   "id": "45995775",
   "metadata": {},
   "outputs": [],
   "source": [
    "matrix1 = matrix.copy()"
   ]
  },
  {
   "cell_type": "code",
   "execution_count": 201,
   "id": "5e9f6865",
   "metadata": {},
   "outputs": [
    {
     "name": "stdout",
     "output_type": "stream",
     "text": [
      "tensor([[3.3840e+02, 1.8410e+02, 3.0828e+01,  ..., 1.2000e-02, 0.0000e+00,\n",
      "         7.2000e+00],\n",
      "        [6.9100e+03, 3.5000e+01, 9.1700e+01,  ..., 6.1800e+01, 0.0000e+00,\n",
      "         4.7000e+02],\n",
      "        [0.0000e+00, 0.0000e+00, 0.0000e+00,  ..., 0.0000e+00, 0.0000e+00,\n",
      "         0.0000e+00],\n",
      "        ...,\n",
      "        [2.5355e+02, 2.6763e+02, 4.1200e+00,  ..., 2.2580e+00, 4.4000e-02,\n",
      "         0.0000e+00],\n",
      "        [0.0000e+00, 0.0000e+00, 0.0000e+00,  ..., 0.0000e+00, 0.0000e+00,\n",
      "         0.0000e+00],\n",
      "        [6.5000e+01, 8.7400e+01, 3.0800e+00,  ..., 2.1700e+00, 1.4000e-01,\n",
      "         0.0000e+00]])\n"
     ]
    }
   ],
   "source": [
    "matrix1 = matrix1.astype(np.float32)\n",
    "matrix1 = torch.tensor(matrix1)\n",
    "\n",
    "# 결과 확인\n",
    "print(matrix1)"
   ]
  },
  {
   "cell_type": "code",
   "execution_count": 202,
   "id": "ceef4f4c",
   "metadata": {},
   "outputs": [
    {
     "data": {
      "text/plain": [
       "torch.Size([933, 25])"
      ]
     },
     "execution_count": 202,
     "metadata": {},
     "output_type": "execute_result"
    }
   ],
   "source": [
    "matrix1.shape"
   ]
  },
  {
   "cell_type": "code",
   "execution_count": 203,
   "id": "c5d0f3d3",
   "metadata": {},
   "outputs": [],
   "source": [
    "matrix2 = matrix1[:30]"
   ]
  },
  {
   "cell_type": "code",
   "execution_count": 204,
   "id": "b8fb8c48",
   "metadata": {},
   "outputs": [
    {
     "data": {
      "text/plain": [
       "torch.Size([30, 25])"
      ]
     },
     "execution_count": 204,
     "metadata": {},
     "output_type": "execute_result"
    }
   ],
   "source": [
    "matrix2.shape"
   ]
  },
  {
   "cell_type": "code",
   "execution_count": 205,
   "id": "7323a580",
   "metadata": {},
   "outputs": [
    {
     "data": {
      "text/plain": [
       "torch.Size([1, 30, 25])"
      ]
     },
     "execution_count": 205,
     "metadata": {},
     "output_type": "execute_result"
    }
   ],
   "source": [
    "# 차원 추가하여 shape 변경\n",
    "matrix2 = torch.unsqueeze(matrix2, dim=0)\n",
    "\n",
    "# 결과 확인\n",
    "matrix2.shape"
   ]
  },
  {
   "cell_type": "code",
   "execution_count": 206,
   "id": "8e1532ef",
   "metadata": {
    "scrolled": true
   },
   "outputs": [
    {
     "data": {
      "text/plain": [
       "torch.Size([100])"
      ]
     },
     "execution_count": 206,
     "metadata": {},
     "output_type": "execute_result"
    }
   ],
   "source": [
    "# target = torch.randn(output_size)\n",
    "# target.shape"
   ]
  },
  {
   "cell_type": "code",
   "execution_count": 208,
   "id": "090d91d5",
   "metadata": {},
   "outputs": [
    {
     "data": {
      "text/plain": [
       "torch.Size([30, 100])"
      ]
     },
     "execution_count": 208,
     "metadata": {},
     "output_type": "execute_result"
    }
   ],
   "source": [
    "# 원-핫 벡터 생성\n",
    "one_hot_vector = torch.eye(30, 100)\n",
    "\n",
    "one_hot_vector.shape"
   ]
  },
  {
   "cell_type": "code",
   "execution_count": 209,
   "id": "275d9dab",
   "metadata": {
    "scrolled": true
   },
   "outputs": [
    {
     "data": {
      "text/plain": [
       "tensor([1., 0., 0., 0., 0., 0., 0., 0., 0., 0., 0., 0., 0., 0., 0., 0., 0., 0.,\n",
       "        0., 0., 0., 0., 0., 0., 0., 0., 0., 0., 0., 0., 0., 0., 0., 0., 0., 0.,\n",
       "        0., 0., 0., 0., 0., 0., 0., 0., 0., 0., 0., 0., 0., 0., 0., 0., 0., 0.,\n",
       "        0., 0., 0., 0., 0., 0., 0., 0., 0., 0., 0., 0., 0., 0., 0., 0., 0., 0.,\n",
       "        0., 0., 0., 0., 0., 0., 0., 0., 0., 0., 0., 0., 0., 0., 0., 0., 0., 0.,\n",
       "        0., 0., 0., 0., 0., 0., 0., 0., 0., 0.])"
      ]
     },
     "execution_count": 209,
     "metadata": {},
     "output_type": "execute_result"
    }
   ],
   "source": [
    "one_hot_vector[0]"
   ]
  },
  {
   "cell_type": "code",
   "execution_count": null,
   "id": "4ea31d33",
   "metadata": {},
   "outputs": [],
   "source": []
  },
  {
   "cell_type": "code",
   "execution_count": 210,
   "id": "7735713a",
   "metadata": {
    "scrolled": true
   },
   "outputs": [
    {
     "name": "stdout",
     "output_type": "stream",
     "text": [
      "Epoch [1/10], Loss: 0.0754\n",
      "Epoch [2/10], Loss: 0.0584\n",
      "Epoch [3/10], Loss: 0.0458\n",
      "Epoch [4/10], Loss: 0.0364\n",
      "Epoch [5/10], Loss: 0.0294\n",
      "Epoch [6/10], Loss: 0.0237\n",
      "Epoch [7/10], Loss: 0.0192\n",
      "Epoch [8/10], Loss: 0.0155\n",
      "Epoch [9/10], Loss: 0.0125\n",
      "Epoch [10/10], Loss: 0.0101\n"
     ]
    },
    {
     "name": "stderr",
     "output_type": "stream",
     "text": [
      "C:\\Users\\USER\\anaconda3\\lib\\site-packages\\torch\\nn\\modules\\loss.py:536: UserWarning: Using a target size (torch.Size([100])) that is different to the input size (torch.Size([1, 100])). This will likely lead to incorrect results due to broadcasting. Please ensure they have the same size.\n",
      "  return F.mse_loss(input, target, reduction=self.reduction)\n"
     ]
    }
   ],
   "source": [
    "import torch\n",
    "import torch.nn as nn\n",
    "import torch.optim as optim\n",
    "\n",
    "# 하이퍼파라미터 정의\n",
    "input_size = 25\n",
    "hidden_size = 50\n",
    "output_size = 100\n",
    "# seq_length = 3\n",
    "# batch_size = 2\n",
    "learning_rate = 0.001\n",
    "num_epochs = 10\n",
    "\n",
    "# 모델 생성\n",
    "class SimpleRNN(nn.Module):\n",
    "    def __init__(self, input_size, hidden_size, output_size):\n",
    "        super(SimpleRNN, self).__init__()\n",
    "        self.hidden_size = hidden_size\n",
    "        self.rnn = nn.RNN(input_size, hidden_size, batch_first=True)\n",
    "        self.fc = nn.Linear(hidden_size, output_size)\n",
    "\n",
    "    def forward(self, x):\n",
    "        out, _ = self.rnn(x)\n",
    "        out = self.fc(out[:, -1, :])  # 마지막 시퀀스 출력에 대해 선형 레이어 적용\n",
    "        return out\n",
    "\n",
    "model = SimpleRNN(input_size, hidden_size, output_size)\n",
    "\n",
    "# 손실 함수 및 옵티마이저 정의\n",
    "criterion = nn.MSELoss()\n",
    "optimizer = optim.Adam(model.parameters(), lr=learning_rate)\n",
    "\n",
    "# 더미 입력 데이터와 목표값 생성\n",
    "# input_data = torch.randn(batch_size, seq_length, input_size)\n",
    "# target = torch.randn(output_size)\n",
    "\n",
    "# 모델 학습\n",
    "for epoch in range(num_epochs):\n",
    "    optimizer.zero_grad()  # 그래디언트 초기화\n",
    "\n",
    "    output = model(matrix2)  # 순방향 전파\n",
    "    loss = criterion(output, one_hot_vector[0])  # 손실 계산\n",
    "    loss.backward()  # 역전파 실행\n",
    "    optimizer.step()  # 옵티마이저로 모델 파라미터 업데이트\n",
    "\n",
    "    print(f'Epoch [{epoch+1}/{num_epochs}], Loss: {loss.item():.4f}')"
   ]
  }
 ],
 "metadata": {
  "kernelspec": {
   "display_name": "Python 3 (ipykernel)",
   "language": "python",
   "name": "python3"
  },
  "language_info": {
   "codemirror_mode": {
    "name": "ipython",
    "version": 3
   },
   "file_extension": ".py",
   "mimetype": "text/x-python",
   "name": "python",
   "nbconvert_exporter": "python",
   "pygments_lexer": "ipython3",
   "version": "3.9.12"
  }
 },
 "nbformat": 4,
 "nbformat_minor": 5
}
