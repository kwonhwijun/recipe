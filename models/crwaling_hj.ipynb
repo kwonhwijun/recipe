{
 "cells": [
  {
   "cell_type": "markdown",
   "metadata": {},
   "source": [
    "### 약 이름 뽑아오기"
   ]
  },
  {
   "cell_type": "code",
   "execution_count": 196,
   "metadata": {},
   "outputs": [],
   "source": [
    "import datetime\n",
    "import codecs\n",
    "import urllib\n",
    "import requests\n",
    "import json\n",
    "from bs4 import BeautifulSoup\n",
    "import pandas as pd\n",
    "\n",
    "def cur_timestamp(): # 현재 시간을 타임스탬프로 만들어주는 함수\n",
    "    now = datetime.datetime.now()\n",
    "    timestamp = int(now.timestamp()*1000)\n",
    "    return str(timestamp)\n",
    "\n",
    "def convert_to_utf8(string): # 한글을 url에 입력하게 변경해줌\n",
    "    return urllib.parse.quote(string)\n",
    "\n",
    "def get_response(url):\n",
    "    headers = {\n",
    "    'Accept': 'application/json, text/javascript, */*; q=0.01',\n",
    "    'Accept-Encoding': 'gzip, deflate, br',\n",
    "    'Accept-Language': 'ko-KR,ko;q=0.9,en-US;q=0.8,en;q=0.7',\n",
    "    'Connection': 'keep-alive',\n",
    "    'Cookie': 'ASPSESSIONIDQQCTSAQD=DPKPMKCCGAOKCEILBBICOKFF; _gid=GA1.2.68717777.1701659617; _ga_D05L6BYNX0=GS1.1.1701659616.1.1.1701660707.60.0.0; _ga=GA1.1.1789168813.1701659617',\n",
    "    'Host': 'www.health.kr',\n",
    "    'Referer': 'https://www.health.kr/interaction/food.asp',\n",
    "    'Sec-Fetch-Dest': 'empty',\n",
    "    'Sec-Fetch-Mode': 'cors',\n",
    "    'Sec-Fetch-Site': 'same-origin',\n",
    "    'User-Agent': 'Mozilla/5.0 (Windows NT 10.0; Win64; x64) AppleWebKit/537.36 (KHTML, like Gecko) Chrome/119.0.0.0 Safari/537.36',\n",
    "    'X-Requested-With': 'XMLHttpRequest',\n",
    "    'sec-ch-ua': '\"Google Chrome\";v=\"119\", \"Chromium\";v=\"119\", \"Not?A_Brand\";v=\"24\"',\n",
    "    'sec-ch-ua-mobile': '?0',\n",
    "    'sec-ch-ua-platform': '\"Windows\"'}\n",
    "    response = requests.get(url, headers=headers)\n",
    "    return json.loads(response.text)\n",
    "\n",
    "def search_med(name):\n",
    "    time = cur_timestamp()\n",
    "    search_name = convert_to_utf8(name)\n",
    "    url = f'https://www.health.kr/interaction/ajax/ajax_food_list.asp?search_word={search_name}&_={time}'\n",
    "    resp = get_response(url)\n",
    "    return pd.DataFrame(resp)\n",
    "# search_med('비아그라') - dcode, dname, dename, dtype, dsunb,info_count, ingr_mg\n",
    "\n",
    "def search_ingd(dcode):\n",
    "    # target : https://www.health.kr/interaction/ajax/ajax_food_ingd.asp?drug_code=A11ABBBBB2544&_=1701671995366'\n",
    "    time = cur_timestamp()\n",
    "    url = f'https://www.health.kr/interaction/ajax/ajax_food_ingd.asp?drug_code={dcode}&_={time}'\n",
    "    resp = get_response(url)\n",
    "    return pd.DataFrame(resp)\n",
    "# search_ingd('A11ABBBBB2544') : ingd_code, ingd_name\n",
    "\n",
    "\n",
    "def search_info(ingd_code):\n",
    "    time = cur_timestamp()\n",
    "    url = f'https://www.health.kr/interaction/ajax/ajax_food_sunblist.asp?icode={ingd_code}&_={time}'\n",
    "    resp = get_response(url)\n",
    "    return pd.DataFrame(resp)\n"
   ]
  },
  {
   "cell_type": "code",
   "execution_count": 161,
   "metadata": {},
   "outputs": [
    {
     "name": "stdout",
     "output_type": "stream",
     "text": [
      "200\n"
     ]
    }
   ],
   "source": [
    "med_list = search_med('비아그라정')"
   ]
  },
  {
   "cell_type": "code",
   "execution_count": 162,
   "metadata": {},
   "outputs": [
    {
     "data": {
      "text/html": [
       "<div>\n",
       "<style scoped>\n",
       "    .dataframe tbody tr th:only-of-type {\n",
       "        vertical-align: middle;\n",
       "    }\n",
       "\n",
       "    .dataframe tbody tr th {\n",
       "        vertical-align: top;\n",
       "    }\n",
       "\n",
       "    .dataframe thead th {\n",
       "        text-align: right;\n",
       "    }\n",
       "</style>\n",
       "<table border=\"1\" class=\"dataframe\">\n",
       "  <thead>\n",
       "    <tr style=\"text-align: right;\">\n",
       "      <th></th>\n",
       "      <th>dcode</th>\n",
       "      <th>dname</th>\n",
       "      <th>dename</th>\n",
       "      <th>dtype</th>\n",
       "      <th>dsunb</th>\n",
       "      <th>info_count</th>\n",
       "      <th>ingr_mg</th>\n",
       "    </tr>\n",
       "  </thead>\n",
       "  <tbody>\n",
       "    <tr>\n",
       "      <th>0</th>\n",
       "      <td>A11ABBBBB2544</td>\n",
       "      <td>비아그라정100mg</td>\n",
       "      <td>Viagra Tab. 100mg</td>\n",
       "      <td>D</td>\n",
       "      <td>Sildenafil Citrate 140.45mg</td>\n",
       "      <td>2</td>\n",
       "      <td>Sildenafil Citrate 140.45mg</td>\n",
       "    </tr>\n",
       "    <tr>\n",
       "      <th>1</th>\n",
       "      <td>A11ABBBBB0960</td>\n",
       "      <td>비아그라정25mg</td>\n",
       "      <td>Viagra Tab. 25mg</td>\n",
       "      <td>D</td>\n",
       "      <td>Sildenafil Citrate 35.112mg</td>\n",
       "      <td>2</td>\n",
       "      <td>Sildenafil Citrate 35.112mg</td>\n",
       "    </tr>\n",
       "    <tr>\n",
       "      <th>2</th>\n",
       "      <td>A11ABBBBB0961</td>\n",
       "      <td>비아그라정50mg</td>\n",
       "      <td>Viagra Tab. 50mg</td>\n",
       "      <td>D</td>\n",
       "      <td>Sildenafil Citrate 70.225mg</td>\n",
       "      <td>2</td>\n",
       "      <td>Sildenafil Citrate 70.225mg</td>\n",
       "    </tr>\n",
       "  </tbody>\n",
       "</table>\n",
       "</div>"
      ],
      "text/plain": [
       "           dcode       dname             dename dtype  \\\n",
       "0  A11ABBBBB2544  비아그라정100mg  Viagra Tab. 100mg     D   \n",
       "1  A11ABBBBB0960   비아그라정25mg   Viagra Tab. 25mg     D   \n",
       "2  A11ABBBBB0961   비아그라정50mg   Viagra Tab. 50mg     D   \n",
       "\n",
       "                         dsunb  info_count                      ingr_mg  \n",
       "0  Sildenafil Citrate 140.45mg           2  Sildenafil Citrate 140.45mg  \n",
       "1  Sildenafil Citrate 35.112mg           2  Sildenafil Citrate 35.112mg  \n",
       "2  Sildenafil Citrate 70.225mg           2  Sildenafil Citrate 70.225mg  "
      ]
     },
     "execution_count": 162,
     "metadata": {},
     "output_type": "execute_result"
    }
   ],
   "source": [
    "med_list"
   ]
  },
  {
   "cell_type": "code",
   "execution_count": 163,
   "metadata": {},
   "outputs": [
    {
     "name": "stdout",
     "output_type": "stream",
     "text": [
      "200\n",
      "200\n",
      "                       sunb_name  \\\n",
      "0  실데나필시트르산염(Sildenafil Citrate)   \n",
      "1  실데나필시트르산염(Sildenafil Citrate)   \n",
      "\n",
      "                                     contents_origin  \n",
      "0  식사와 관계없이 복용할 수 있어요. 하지만 고지방식이 후 이 약을 복용시, 약물발현...  \n",
      "1              음주를 피하세요. 음주시 심한 현기증과 두통을 유발할 수 있어요.   \n",
      "200\n",
      "200\n",
      "                       sunb_name  \\\n",
      "0  실데나필시트르산염(Sildenafil Citrate)   \n",
      "1  실데나필시트르산염(Sildenafil Citrate)   \n",
      "\n",
      "                                     contents_origin  \n",
      "0  식사와 관계없이 복용할 수 있어요. 하지만 고지방식이 후 이 약을 복용시, 약물발현...  \n",
      "1              음주를 피하세요. 음주시 심한 현기증과 두통을 유발할 수 있어요.   \n",
      "200\n",
      "200\n",
      "                       sunb_name  \\\n",
      "0  실데나필시트르산염(Sildenafil Citrate)   \n",
      "1  실데나필시트르산염(Sildenafil Citrate)   \n",
      "\n",
      "                                     contents_origin  \n",
      "0  식사와 관계없이 복용할 수 있어요. 하지만 고지방식이 후 이 약을 복용시, 약물발현...  \n",
      "1              음주를 피하세요. 음주시 심한 현기증과 두통을 유발할 수 있어요.   \n"
     ]
    }
   ],
   "source": [
    "for idx, row in med_list.iterrows():\n",
    "    y1 = search_ingd(row.dcode)\n",
    "    for idx, row in y1.iterrows():\n",
    "        print(search_info(row.ingd_code))"
   ]
  },
  {
   "cell_type": "code",
   "execution_count": 150,
   "metadata": {},
   "outputs": [
    {
     "name": "stdout",
     "output_type": "stream",
     "text": [
      "200\n"
     ]
    }
   ],
   "source": [
    "med_list = search_med('비아')"
   ]
  },
  {
   "cell_type": "code",
   "execution_count": 157,
   "metadata": {},
   "outputs": [
    {
     "name": "stdout",
     "output_type": "stream",
     "text": [
      "200\n"
     ]
    },
    {
     "data": {
      "text/html": [
       "<div>\n",
       "<style scoped>\n",
       "    .dataframe tbody tr th:only-of-type {\n",
       "        vertical-align: middle;\n",
       "    }\n",
       "\n",
       "    .dataframe tbody tr th {\n",
       "        vertical-align: top;\n",
       "    }\n",
       "\n",
       "    .dataframe thead th {\n",
       "        text-align: right;\n",
       "    }\n",
       "</style>\n",
       "<table border=\"1\" class=\"dataframe\">\n",
       "  <thead>\n",
       "    <tr style=\"text-align: right;\">\n",
       "      <th></th>\n",
       "    </tr>\n",
       "  </thead>\n",
       "  <tbody>\n",
       "  </tbody>\n",
       "</table>\n",
       "</div>"
      ],
      "text/plain": [
       "Empty DataFrame\n",
       "Columns: []\n",
       "Index: []"
      ]
     },
     "execution_count": 157,
     "metadata": {},
     "output_type": "execute_result"
    }
   ],
   "source": [
    "ingd = search_ingd('비아그라정100mg')\n"
   ]
  },
  {
   "cell_type": "markdown",
   "metadata": {},
   "source": [
    "### 약이름 목록 만들기"
   ]
  },
  {
   "cell_type": "markdown",
   "metadata": {},
   "source": [
    "1. 비아로 시작하는 약이름 목록 추출 df1\n",
    "2. 추출한 약이름에서 성분과 내용 뽑아서 합치기 df2"
   ]
  },
  {
   "cell_type": "code",
   "execution_count": 198,
   "metadata": {},
   "outputs": [],
   "source": [
    "### 1. 약이름 목록 추출\n",
    "\n",
    "df1 = search_med('비아')"
   ]
  },
  {
   "cell_type": "code",
   "execution_count": 199,
   "metadata": {},
   "outputs": [],
   "source": [
    "medlist = df1[['dcode', 'dname']].copy()\n",
    "medlist.to_csv('data/med_list.csv')"
   ]
  },
  {
   "cell_type": "code",
   "execution_count": 200,
   "metadata": {},
   "outputs": [],
   "source": [
    "ingd_list = pd.DataFrame()\n",
    "for idx, row in medlist.iterrows():\n",
    "    df = search_ingd(row.dcode)\n",
    "    ingd_list = pd.concat([ingd_list, df], ignore_index= True).drop_duplicates(subset = 'ingd_code', keep = 'first')"
   ]
  },
  {
   "cell_type": "code",
   "execution_count": 201,
   "metadata": {},
   "outputs": [],
   "source": [
    "ingd_list.to_csv('data/ingd_list.csv')"
   ]
  },
  {
   "cell_type": "code",
   "execution_count": 202,
   "metadata": {},
   "outputs": [],
   "source": [
    "info_list = pd.DataFrame()\n",
    "\n",
    "for idx, row in ingd_list.iloc[:20].iterrows():\n",
    "    df2 = search_info(row.ingd_code)\n",
    "    info_list = pd.concat([info_list, df2], ignore_index= True).drop_duplicates(subset=['sunb_name', 'contents_origin'], keep = 'first')"
   ]
  },
  {
   "cell_type": "code",
   "execution_count": 205,
   "metadata": {},
   "outputs": [],
   "source": [
    "info_list.to_csv('data/info_list.csv')"
   ]
  },
  {
   "cell_type": "code",
   "execution_count": null,
   "metadata": {},
   "outputs": [],
   "source": []
  }
 ],
 "metadata": {
  "kernelspec": {
   "display_name": "Python 3",
   "language": "python",
   "name": "python3"
  },
  "language_info": {
   "codemirror_mode": {
    "name": "ipython",
    "version": 3
   },
   "file_extension": ".py",
   "mimetype": "text/x-python",
   "name": "python",
   "nbconvert_exporter": "python",
   "pygments_lexer": "ipython3",
   "version": "3.11.1"
  }
 },
 "nbformat": 4,
 "nbformat_minor": 2
}
